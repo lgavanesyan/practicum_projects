{
 "cells": [
  {
   "cell_type": "markdown",
   "metadata": {},
   "source": [
    "# Проект 11: Прогноз вероятности оттока пользователей для фитнес-центров"
   ]
  },
  {
   "cell_type": "markdown",
   "metadata": {},
   "source": [
    "Сеть фитнес-центров «Культурист-датасаентист» разрабатывает стратегию взаимодействия с клиентами на основе аналитических данных.\n",
    "\n",
    "#### Описание данных\n",
    "    \n",
    "- Gender — пол\n",
    "- Near_Location — проживание или работа в районе, где находится фитнес-центр\n",
    "- Partner — сотрудник компании-партнёра клуба (сотрудничество с компаниями, чьи сотрудники могут получать скидки на абонемент — в таком случае фитнес-центр хранит информацию о работодателе клиента)\n",
    "- Promo_friends — факт первоначальной записи в рамках акции «приведи друга» (использовал промо-код от знакомого при оплате первого абонемента)\n",
    "- Phone — наличие контактного телефона\n",
    "- Age — возраст\n",
    "- Lifetime — время с момента первого обращения в фитнес-центр (в месяцах)\n",
    "- Contract_period — длительность текущего действующего абонемента (месяц, 6 месяцев, год)\n",
    "- Month_to_end_contract — срок до окончания текущего действующего абонемента (в месяцах)\n",
    "- Group_visits — факт посещения групповых занятий\n",
    "- Avg_class_frequency_total — средняя частота посещений в неделю за все время с начала действия абонемента\n",
    "- Avg_class_frequency_current_month — средняя частота посещений в неделю за предыдущий месяц\n",
    "- Avg_additional_charges_total — суммарная выручка от других услуг фитнес-центра: кафе, спорттовары, косметический и массажный салон\n",
    "- Churn — факт оттока в текущем месяце\n",
    "\n",
    "\n",
    "#### Задача\n",
    "- Cпрогнозировать вероятность оттока (на уровне следующего месяца) для каждого клиента\n",
    "- Cформировать типичные портреты клиентов: выделить несколько наиболее ярких групп и охарактеризовать их основные свойства\n",
    "- Проанализировать основные признаки, наиболее сильно влияющие на отток\n",
    "- Сформулировать основные выводы и разработать рекомендации по повышению качества работы с клиентами:\n",
    "    1) выделить целевые группы клиентов\n",
    "    2) предложить меры по снижению оттока\n",
    "    3) определить другие особенности взаимодействия с клиентами."
   ]
  },
  {
   "cell_type": "markdown",
   "metadata": {},
   "source": [
    "## Содержание\n",
    "1. [Подготовка данных](#data)\n",
    "2. [Исследовательский анализ данных](#eda)\n",
    "3. [Построение модели прогнозирования оттока пользователей](#model)\n",
    "4. [Кластеризация пользователей](#cluster)\n",
    "5. [Выводы и рекомендации](#results)"
   ]
  },
  {
   "cell_type": "markdown",
   "metadata": {},
   "source": [
    "## Подготовка данных <a name=\"data\"></a>"
   ]
  },
  {
   "cell_type": "code",
   "execution_count": 1,
   "metadata": {},
   "outputs": [
    {
     "name": "stdout",
     "output_type": "stream",
     "text": [
      "Collecting simple-colors\n",
      "  Downloading simple_colors-0.1.5-py3-none-any.whl (2.8 kB)\n",
      "Installing collected packages: simple-colors\n",
      "Successfully installed simple-colors-0.1.5\n"
     ]
    }
   ],
   "source": [
    "!pip install simple-colors"
   ]
  },
  {
   "cell_type": "code",
   "execution_count": 2,
   "metadata": {},
   "outputs": [],
   "source": [
    "import pandas as pd\n",
    "import numpy as np\n",
    "import matplotlib.pyplot as plt\n",
    "from simple_colors import *\n",
    "import seaborn as sns\n",
    "from sklearn.model_selection import train_test_split\n",
    "from sklearn.linear_model import LogisticRegression\n",
    "from sklearn.ensemble import RandomForestClassifier\n",
    "from sklearn.metrics import accuracy_score, precision_score, recall_score\n",
    "from sklearn.preprocessing import StandardScaler\n",
    "from sklearn.cluster import KMeans\n",
    "from scipy.cluster.hierarchy import dendrogram, linkage \n",
    "\n",
    "pd.set_option('display.float_format', '{:,.2f}'.format)\n",
    "\n",
    "import warnings\n",
    "warnings.filterwarnings('ignore')\n",
    "\n",
    "pd.options.display.max_colwidth = 100 "
   ]
  },
  {
   "cell_type": "code",
   "execution_count": 3,
   "metadata": {},
   "outputs": [],
   "source": [
    "# открываем файл\n",
    "try:\n",
    "    data = pd.read_csv('/datasets/gym_churn.csv') # Yandex путь\n",
    "    \n",
    "except:\n",
    "    data = pd.read_csv('gym_churn.csv') # личный путь"
   ]
  },
  {
   "cell_type": "code",
   "execution_count": 4,
   "metadata": {},
   "outputs": [],
   "source": [
    "# зададим имя датафрейма\n",
    "data.name = 'data'"
   ]
  },
  {
   "cell_type": "code",
   "execution_count": 5,
   "metadata": {},
   "outputs": [],
   "source": [
    "# зададим функцию для изучения данных\n",
    "def prelim_analysis(df):\n",
    "    print(blue(f'Таблица {df.name}', ['bold', 'underlined']))\n",
    "    display(df.head())\n",
    "    print(f'\\nОбщая информация')\n",
    "    display(df.info())\n",
    "    print(f'Явные дубликаты: {df.duplicated().sum()}\\n')\n",
    "    print(f'Пропуски:\\n{df.isna().sum()}\\n')"
   ]
  },
  {
   "cell_type": "code",
   "execution_count": 6,
   "metadata": {
    "scrolled": false
   },
   "outputs": [
    {
     "name": "stdout",
     "output_type": "stream",
     "text": [
      "\u001b[1;4;34mТаблица data\u001b[0m\n"
     ]
    },
    {
     "data": {
      "text/html": [
       "<div>\n",
       "<style scoped>\n",
       "    .dataframe tbody tr th:only-of-type {\n",
       "        vertical-align: middle;\n",
       "    }\n",
       "\n",
       "    .dataframe tbody tr th {\n",
       "        vertical-align: top;\n",
       "    }\n",
       "\n",
       "    .dataframe thead th {\n",
       "        text-align: right;\n",
       "    }\n",
       "</style>\n",
       "<table border=\"1\" class=\"dataframe\">\n",
       "  <thead>\n",
       "    <tr style=\"text-align: right;\">\n",
       "      <th></th>\n",
       "      <th>gender</th>\n",
       "      <th>Near_Location</th>\n",
       "      <th>Partner</th>\n",
       "      <th>Promo_friends</th>\n",
       "      <th>Phone</th>\n",
       "      <th>Contract_period</th>\n",
       "      <th>Group_visits</th>\n",
       "      <th>Age</th>\n",
       "      <th>Avg_additional_charges_total</th>\n",
       "      <th>Month_to_end_contract</th>\n",
       "      <th>Lifetime</th>\n",
       "      <th>Avg_class_frequency_total</th>\n",
       "      <th>Avg_class_frequency_current_month</th>\n",
       "      <th>Churn</th>\n",
       "    </tr>\n",
       "  </thead>\n",
       "  <tbody>\n",
       "    <tr>\n",
       "      <th>0</th>\n",
       "      <td>1</td>\n",
       "      <td>1</td>\n",
       "      <td>1</td>\n",
       "      <td>1</td>\n",
       "      <td>0</td>\n",
       "      <td>6</td>\n",
       "      <td>1</td>\n",
       "      <td>29</td>\n",
       "      <td>14.23</td>\n",
       "      <td>5.00</td>\n",
       "      <td>3</td>\n",
       "      <td>0.02</td>\n",
       "      <td>0.00</td>\n",
       "      <td>0</td>\n",
       "    </tr>\n",
       "    <tr>\n",
       "      <th>1</th>\n",
       "      <td>0</td>\n",
       "      <td>1</td>\n",
       "      <td>0</td>\n",
       "      <td>0</td>\n",
       "      <td>1</td>\n",
       "      <td>12</td>\n",
       "      <td>1</td>\n",
       "      <td>31</td>\n",
       "      <td>113.20</td>\n",
       "      <td>12.00</td>\n",
       "      <td>7</td>\n",
       "      <td>1.92</td>\n",
       "      <td>1.91</td>\n",
       "      <td>0</td>\n",
       "    </tr>\n",
       "    <tr>\n",
       "      <th>2</th>\n",
       "      <td>0</td>\n",
       "      <td>1</td>\n",
       "      <td>1</td>\n",
       "      <td>0</td>\n",
       "      <td>1</td>\n",
       "      <td>1</td>\n",
       "      <td>0</td>\n",
       "      <td>28</td>\n",
       "      <td>129.45</td>\n",
       "      <td>1.00</td>\n",
       "      <td>2</td>\n",
       "      <td>1.86</td>\n",
       "      <td>1.74</td>\n",
       "      <td>0</td>\n",
       "    </tr>\n",
       "    <tr>\n",
       "      <th>3</th>\n",
       "      <td>0</td>\n",
       "      <td>1</td>\n",
       "      <td>1</td>\n",
       "      <td>1</td>\n",
       "      <td>1</td>\n",
       "      <td>12</td>\n",
       "      <td>1</td>\n",
       "      <td>33</td>\n",
       "      <td>62.67</td>\n",
       "      <td>12.00</td>\n",
       "      <td>2</td>\n",
       "      <td>3.21</td>\n",
       "      <td>3.36</td>\n",
       "      <td>0</td>\n",
       "    </tr>\n",
       "    <tr>\n",
       "      <th>4</th>\n",
       "      <td>1</td>\n",
       "      <td>1</td>\n",
       "      <td>1</td>\n",
       "      <td>1</td>\n",
       "      <td>1</td>\n",
       "      <td>1</td>\n",
       "      <td>0</td>\n",
       "      <td>26</td>\n",
       "      <td>198.36</td>\n",
       "      <td>1.00</td>\n",
       "      <td>3</td>\n",
       "      <td>1.11</td>\n",
       "      <td>1.12</td>\n",
       "      <td>0</td>\n",
       "    </tr>\n",
       "  </tbody>\n",
       "</table>\n",
       "</div>"
      ],
      "text/plain": [
       "   gender  Near_Location  Partner  Promo_friends  Phone  Contract_period  \\\n",
       "0       1              1        1              1      0                6   \n",
       "1       0              1        0              0      1               12   \n",
       "2       0              1        1              0      1                1   \n",
       "3       0              1        1              1      1               12   \n",
       "4       1              1        1              1      1                1   \n",
       "\n",
       "   Group_visits  Age  Avg_additional_charges_total  Month_to_end_contract  \\\n",
       "0             1   29                         14.23                   5.00   \n",
       "1             1   31                        113.20                  12.00   \n",
       "2             0   28                        129.45                   1.00   \n",
       "3             1   33                         62.67                  12.00   \n",
       "4             0   26                        198.36                   1.00   \n",
       "\n",
       "   Lifetime  Avg_class_frequency_total  Avg_class_frequency_current_month  \\\n",
       "0         3                       0.02                               0.00   \n",
       "1         7                       1.92                               1.91   \n",
       "2         2                       1.86                               1.74   \n",
       "3         2                       3.21                               3.36   \n",
       "4         3                       1.11                               1.12   \n",
       "\n",
       "   Churn  \n",
       "0      0  \n",
       "1      0  \n",
       "2      0  \n",
       "3      0  \n",
       "4      0  "
      ]
     },
     "metadata": {},
     "output_type": "display_data"
    },
    {
     "name": "stdout",
     "output_type": "stream",
     "text": [
      "\n",
      "Общая информация\n",
      "<class 'pandas.core.frame.DataFrame'>\n",
      "RangeIndex: 4000 entries, 0 to 3999\n",
      "Data columns (total 14 columns):\n",
      " #   Column                             Non-Null Count  Dtype  \n",
      "---  ------                             --------------  -----  \n",
      " 0   gender                             4000 non-null   int64  \n",
      " 1   Near_Location                      4000 non-null   int64  \n",
      " 2   Partner                            4000 non-null   int64  \n",
      " 3   Promo_friends                      4000 non-null   int64  \n",
      " 4   Phone                              4000 non-null   int64  \n",
      " 5   Contract_period                    4000 non-null   int64  \n",
      " 6   Group_visits                       4000 non-null   int64  \n",
      " 7   Age                                4000 non-null   int64  \n",
      " 8   Avg_additional_charges_total       4000 non-null   float64\n",
      " 9   Month_to_end_contract              4000 non-null   float64\n",
      " 10  Lifetime                           4000 non-null   int64  \n",
      " 11  Avg_class_frequency_total          4000 non-null   float64\n",
      " 12  Avg_class_frequency_current_month  4000 non-null   float64\n",
      " 13  Churn                              4000 non-null   int64  \n",
      "dtypes: float64(4), int64(10)\n",
      "memory usage: 437.6 KB\n"
     ]
    },
    {
     "data": {
      "text/plain": [
       "None"
      ]
     },
     "metadata": {},
     "output_type": "display_data"
    },
    {
     "name": "stdout",
     "output_type": "stream",
     "text": [
      "Явные дубликаты: 0\n",
      "\n",
      "Пропуски:\n",
      "gender                               0\n",
      "Near_Location                        0\n",
      "Partner                              0\n",
      "Promo_friends                        0\n",
      "Phone                                0\n",
      "Contract_period                      0\n",
      "Group_visits                         0\n",
      "Age                                  0\n",
      "Avg_additional_charges_total         0\n",
      "Month_to_end_contract                0\n",
      "Lifetime                             0\n",
      "Avg_class_frequency_total            0\n",
      "Avg_class_frequency_current_month    0\n",
      "Churn                                0\n",
      "dtype: int64\n",
      "\n"
     ]
    }
   ],
   "source": [
    "# проведем предварительный анализ\n",
    "prelim_analysis(data)"
   ]
  },
  {
   "cell_type": "markdown",
   "metadata": {},
   "source": [
    "- Приведем названия столбцов к единому виду\n",
    "- Явных дубликатов в данных нет, пропусков тоже"
   ]
  },
  {
   "cell_type": "code",
   "execution_count": 7,
   "metadata": {},
   "outputs": [],
   "source": [
    "# приведем названия столбцов к единому виду\n",
    "data.columns = data.columns.str.lower()"
   ]
  },
  {
   "cell_type": "markdown",
   "metadata": {},
   "source": [
    "- Подготовку данных закончили, теперь можно переходить к исследовательскому анализу данных"
   ]
  },
  {
   "cell_type": "markdown",
   "metadata": {},
   "source": [
    "## Исследовательский анализ данных <a name=\"eda\"></a>"
   ]
  },
  {
   "cell_type": "markdown",
   "metadata": {},
   "source": [
    "- Нам предстоит работать с датасетом с 4000 наблюдений, 1 целевой переменной и 13 признаками\n",
    "- При подготовке данных убедились, что пропусков нигде нет, поэтому оставляем все признаки как есть\n"
   ]
  },
  {
   "cell_type": "code",
   "execution_count": 8,
   "metadata": {},
   "outputs": [
    {
     "name": "stdout",
     "output_type": "stream",
     "text": [
      "\u001b[1;30mУникальные значения: \n",
      "\u001b[0m\n",
      "gender [1 0]\n",
      "near_location [1 0]\n",
      "partner [1 0]\n",
      "promo_friends [1 0]\n",
      "phone [0 1]\n",
      "contract_period [ 6 12  1]\n",
      "group_visits [1 0]\n",
      "age [29 31 28 33 26 34 32 30 23 27 35 25 36 24 21 37 22 19 20 38 39 18 41]\n",
      "avg_additional_charges_total [ 14.22747042 113.20293765 129.44847933 ...  78.25054157  61.91265691\n",
      " 178.86181361]\n",
      "month_to_end_contract [ 5. 12.  1.  6.  3. 10. 11.  9.  4.  7.  8.  2.]\n",
      "lifetime [ 3  7  2  0  1 11  4  8 14  6  5 15 12 21 10 20  9 13 17 16 24 22 31 26\n",
      " 23 18 19 27 29]\n",
      "avg_class_frequency_total [0.02039795 1.92293606 1.85909835 ... 2.78614636 1.63010814 1.10183221]\n",
      "avg_class_frequency_current_month [0.         1.91024352 1.73650189 ... 2.8314395  1.59623664 1.03526976]\n",
      "churn [0 1]\n"
     ]
    }
   ],
   "source": [
    "# посмотрим на уникальные значения столбцов\n",
    "print(black(f'Уникальные значения: \\n', 'bold'))\n",
    "for col in data.columns:\n",
    "    print(col, data[col].unique())"
   ]
  },
  {
   "cell_type": "markdown",
   "metadata": {},
   "source": [
    "- Все признаки - числовые, из них 6 - бинарные (gender, near_location, partner,\tpromo_friends, phone, group_visits)\n",
    "- Целевая переменная churn также бинарная"
   ]
  },
  {
   "cell_type": "code",
   "execution_count": 9,
   "metadata": {},
   "outputs": [
    {
     "name": "stdout",
     "output_type": "stream",
     "text": [
      "\u001b[1;30mОписательная статистика: \n",
      "\u001b[0m\n"
     ]
    },
    {
     "data": {
      "text/html": [
       "<div>\n",
       "<style scoped>\n",
       "    .dataframe tbody tr th:only-of-type {\n",
       "        vertical-align: middle;\n",
       "    }\n",
       "\n",
       "    .dataframe tbody tr th {\n",
       "        vertical-align: top;\n",
       "    }\n",
       "\n",
       "    .dataframe thead th {\n",
       "        text-align: right;\n",
       "    }\n",
       "</style>\n",
       "<table border=\"1\" class=\"dataframe\">\n",
       "  <thead>\n",
       "    <tr style=\"text-align: right;\">\n",
       "      <th></th>\n",
       "      <th>gender</th>\n",
       "      <th>near_location</th>\n",
       "      <th>partner</th>\n",
       "      <th>promo_friends</th>\n",
       "      <th>phone</th>\n",
       "      <th>contract_period</th>\n",
       "      <th>group_visits</th>\n",
       "      <th>age</th>\n",
       "      <th>avg_additional_charges_total</th>\n",
       "      <th>month_to_end_contract</th>\n",
       "      <th>lifetime</th>\n",
       "      <th>avg_class_frequency_total</th>\n",
       "      <th>avg_class_frequency_current_month</th>\n",
       "      <th>churn</th>\n",
       "    </tr>\n",
       "  </thead>\n",
       "  <tbody>\n",
       "    <tr>\n",
       "      <th>count</th>\n",
       "      <td>4,000.00</td>\n",
       "      <td>4,000.00</td>\n",
       "      <td>4,000.00</td>\n",
       "      <td>4,000.00</td>\n",
       "      <td>4,000.00</td>\n",
       "      <td>4,000.00</td>\n",
       "      <td>4,000.00</td>\n",
       "      <td>4,000.00</td>\n",
       "      <td>4,000.00</td>\n",
       "      <td>4,000.00</td>\n",
       "      <td>4,000.00</td>\n",
       "      <td>4,000.00</td>\n",
       "      <td>4,000.00</td>\n",
       "      <td>4,000.00</td>\n",
       "    </tr>\n",
       "    <tr>\n",
       "      <th>mean</th>\n",
       "      <td>0.51</td>\n",
       "      <td>0.85</td>\n",
       "      <td>0.49</td>\n",
       "      <td>0.31</td>\n",
       "      <td>0.90</td>\n",
       "      <td>4.68</td>\n",
       "      <td>0.41</td>\n",
       "      <td>29.18</td>\n",
       "      <td>146.94</td>\n",
       "      <td>4.32</td>\n",
       "      <td>3.72</td>\n",
       "      <td>1.88</td>\n",
       "      <td>1.77</td>\n",
       "      <td>0.27</td>\n",
       "    </tr>\n",
       "    <tr>\n",
       "      <th>std</th>\n",
       "      <td>0.50</td>\n",
       "      <td>0.36</td>\n",
       "      <td>0.50</td>\n",
       "      <td>0.46</td>\n",
       "      <td>0.30</td>\n",
       "      <td>4.55</td>\n",
       "      <td>0.49</td>\n",
       "      <td>3.26</td>\n",
       "      <td>96.36</td>\n",
       "      <td>4.19</td>\n",
       "      <td>3.75</td>\n",
       "      <td>0.97</td>\n",
       "      <td>1.05</td>\n",
       "      <td>0.44</td>\n",
       "    </tr>\n",
       "    <tr>\n",
       "      <th>min</th>\n",
       "      <td>0.00</td>\n",
       "      <td>0.00</td>\n",
       "      <td>0.00</td>\n",
       "      <td>0.00</td>\n",
       "      <td>0.00</td>\n",
       "      <td>1.00</td>\n",
       "      <td>0.00</td>\n",
       "      <td>18.00</td>\n",
       "      <td>0.15</td>\n",
       "      <td>1.00</td>\n",
       "      <td>0.00</td>\n",
       "      <td>0.00</td>\n",
       "      <td>0.00</td>\n",
       "      <td>0.00</td>\n",
       "    </tr>\n",
       "    <tr>\n",
       "      <th>25%</th>\n",
       "      <td>0.00</td>\n",
       "      <td>1.00</td>\n",
       "      <td>0.00</td>\n",
       "      <td>0.00</td>\n",
       "      <td>1.00</td>\n",
       "      <td>1.00</td>\n",
       "      <td>0.00</td>\n",
       "      <td>27.00</td>\n",
       "      <td>68.87</td>\n",
       "      <td>1.00</td>\n",
       "      <td>1.00</td>\n",
       "      <td>1.18</td>\n",
       "      <td>0.96</td>\n",
       "      <td>0.00</td>\n",
       "    </tr>\n",
       "    <tr>\n",
       "      <th>50%</th>\n",
       "      <td>1.00</td>\n",
       "      <td>1.00</td>\n",
       "      <td>0.00</td>\n",
       "      <td>0.00</td>\n",
       "      <td>1.00</td>\n",
       "      <td>1.00</td>\n",
       "      <td>0.00</td>\n",
       "      <td>29.00</td>\n",
       "      <td>136.22</td>\n",
       "      <td>1.00</td>\n",
       "      <td>3.00</td>\n",
       "      <td>1.83</td>\n",
       "      <td>1.72</td>\n",
       "      <td>0.00</td>\n",
       "    </tr>\n",
       "    <tr>\n",
       "      <th>75%</th>\n",
       "      <td>1.00</td>\n",
       "      <td>1.00</td>\n",
       "      <td>1.00</td>\n",
       "      <td>1.00</td>\n",
       "      <td>1.00</td>\n",
       "      <td>6.00</td>\n",
       "      <td>1.00</td>\n",
       "      <td>31.00</td>\n",
       "      <td>210.95</td>\n",
       "      <td>6.00</td>\n",
       "      <td>5.00</td>\n",
       "      <td>2.54</td>\n",
       "      <td>2.51</td>\n",
       "      <td>1.00</td>\n",
       "    </tr>\n",
       "    <tr>\n",
       "      <th>max</th>\n",
       "      <td>1.00</td>\n",
       "      <td>1.00</td>\n",
       "      <td>1.00</td>\n",
       "      <td>1.00</td>\n",
       "      <td>1.00</td>\n",
       "      <td>12.00</td>\n",
       "      <td>1.00</td>\n",
       "      <td>41.00</td>\n",
       "      <td>552.59</td>\n",
       "      <td>12.00</td>\n",
       "      <td>31.00</td>\n",
       "      <td>6.02</td>\n",
       "      <td>6.15</td>\n",
       "      <td>1.00</td>\n",
       "    </tr>\n",
       "  </tbody>\n",
       "</table>\n",
       "</div>"
      ],
      "text/plain": [
       "        gender  near_location  partner  promo_friends    phone  \\\n",
       "count 4,000.00       4,000.00 4,000.00       4,000.00 4,000.00   \n",
       "mean      0.51           0.85     0.49           0.31     0.90   \n",
       "std       0.50           0.36     0.50           0.46     0.30   \n",
       "min       0.00           0.00     0.00           0.00     0.00   \n",
       "25%       0.00           1.00     0.00           0.00     1.00   \n",
       "50%       1.00           1.00     0.00           0.00     1.00   \n",
       "75%       1.00           1.00     1.00           1.00     1.00   \n",
       "max       1.00           1.00     1.00           1.00     1.00   \n",
       "\n",
       "       contract_period  group_visits      age  avg_additional_charges_total  \\\n",
       "count         4,000.00      4,000.00 4,000.00                      4,000.00   \n",
       "mean              4.68          0.41    29.18                        146.94   \n",
       "std               4.55          0.49     3.26                         96.36   \n",
       "min               1.00          0.00    18.00                          0.15   \n",
       "25%               1.00          0.00    27.00                         68.87   \n",
       "50%               1.00          0.00    29.00                        136.22   \n",
       "75%               6.00          1.00    31.00                        210.95   \n",
       "max              12.00          1.00    41.00                        552.59   \n",
       "\n",
       "       month_to_end_contract  lifetime  avg_class_frequency_total  \\\n",
       "count               4,000.00  4,000.00                   4,000.00   \n",
       "mean                    4.32      3.72                       1.88   \n",
       "std                     4.19      3.75                       0.97   \n",
       "min                     1.00      0.00                       0.00   \n",
       "25%                     1.00      1.00                       1.18   \n",
       "50%                     1.00      3.00                       1.83   \n",
       "75%                     6.00      5.00                       2.54   \n",
       "max                    12.00     31.00                       6.02   \n",
       "\n",
       "       avg_class_frequency_current_month    churn  \n",
       "count                           4,000.00 4,000.00  \n",
       "mean                                1.77     0.27  \n",
       "std                                 1.05     0.44  \n",
       "min                                 0.00     0.00  \n",
       "25%                                 0.96     0.00  \n",
       "50%                                 1.72     0.00  \n",
       "75%                                 2.51     1.00  \n",
       "max                                 6.15     1.00  "
      ]
     },
     "execution_count": 9,
     "metadata": {},
     "output_type": "execute_result"
    }
   ],
   "source": [
    "# изучим датасет с помощью метода describe\n",
    "print(black(f'Описательная статистика: \\n', 'bold'))\n",
    "data.describe()"
   ]
  },
  {
   "cell_type": "markdown",
   "metadata": {},
   "source": [
    "- Каких-то однозначных выводов из таблицы сделать не можем, посмотрим на статистику признаков в разрезе значений целевой переменной "
   ]
  },
  {
   "cell_type": "code",
   "execution_count": 10,
   "metadata": {},
   "outputs": [
    {
     "name": "stdout",
     "output_type": "stream",
     "text": [
      "\u001b[1;30mКоличество ушедших (1) и оставшихся пользователей (0): \n",
      "\u001b[0m\n"
     ]
    },
    {
     "data": {
      "text/html": [
       "<div>\n",
       "<style scoped>\n",
       "    .dataframe tbody tr th:only-of-type {\n",
       "        vertical-align: middle;\n",
       "    }\n",
       "\n",
       "    .dataframe tbody tr th {\n",
       "        vertical-align: top;\n",
       "    }\n",
       "\n",
       "    .dataframe thead th {\n",
       "        text-align: right;\n",
       "    }\n",
       "</style>\n",
       "<table border=\"1\" class=\"dataframe\">\n",
       "  <thead>\n",
       "    <tr style=\"text-align: right;\">\n",
       "      <th></th>\n",
       "      <th>count</th>\n",
       "      <th>share</th>\n",
       "    </tr>\n",
       "    <tr>\n",
       "      <th>churn</th>\n",
       "      <th></th>\n",
       "      <th></th>\n",
       "    </tr>\n",
       "  </thead>\n",
       "  <tbody>\n",
       "    <tr>\n",
       "      <th>0</th>\n",
       "      <td>2939</td>\n",
       "      <td>0.73</td>\n",
       "    </tr>\n",
       "    <tr>\n",
       "      <th>1</th>\n",
       "      <td>1061</td>\n",
       "      <td>0.27</td>\n",
       "    </tr>\n",
       "  </tbody>\n",
       "</table>\n",
       "</div>"
      ],
      "text/plain": [
       "       count  share\n",
       "churn              \n",
       "0       2939   0.73\n",
       "1       1061   0.27"
      ]
     },
     "metadata": {},
     "output_type": "display_data"
    },
    {
     "name": "stdout",
     "output_type": "stream",
     "text": [
      "\u001b[1;30mСредние значения признаков в разрезе разных значений целевой переменной: \n",
      "\u001b[0m\n"
     ]
    },
    {
     "data": {
      "text/html": [
       "<div>\n",
       "<style scoped>\n",
       "    .dataframe tbody tr th:only-of-type {\n",
       "        vertical-align: middle;\n",
       "    }\n",
       "\n",
       "    .dataframe tbody tr th {\n",
       "        vertical-align: top;\n",
       "    }\n",
       "\n",
       "    .dataframe thead th {\n",
       "        text-align: right;\n",
       "    }\n",
       "</style>\n",
       "<table border=\"1\" class=\"dataframe\">\n",
       "  <thead>\n",
       "    <tr style=\"text-align: right;\">\n",
       "      <th></th>\n",
       "      <th>gender</th>\n",
       "      <th>near_location</th>\n",
       "      <th>partner</th>\n",
       "      <th>promo_friends</th>\n",
       "      <th>phone</th>\n",
       "      <th>contract_period</th>\n",
       "      <th>group_visits</th>\n",
       "      <th>age</th>\n",
       "      <th>avg_additional_charges_total</th>\n",
       "      <th>month_to_end_contract</th>\n",
       "      <th>lifetime</th>\n",
       "      <th>avg_class_frequency_total</th>\n",
       "      <th>avg_class_frequency_current_month</th>\n",
       "    </tr>\n",
       "    <tr>\n",
       "      <th>churn</th>\n",
       "      <th></th>\n",
       "      <th></th>\n",
       "      <th></th>\n",
       "      <th></th>\n",
       "      <th></th>\n",
       "      <th></th>\n",
       "      <th></th>\n",
       "      <th></th>\n",
       "      <th></th>\n",
       "      <th></th>\n",
       "      <th></th>\n",
       "      <th></th>\n",
       "      <th></th>\n",
       "    </tr>\n",
       "  </thead>\n",
       "  <tbody>\n",
       "    <tr>\n",
       "      <th>0</th>\n",
       "      <td>0.51</td>\n",
       "      <td>0.87</td>\n",
       "      <td>0.53</td>\n",
       "      <td>0.35</td>\n",
       "      <td>0.90</td>\n",
       "      <td>5.75</td>\n",
       "      <td>0.46</td>\n",
       "      <td>29.98</td>\n",
       "      <td>158.45</td>\n",
       "      <td>5.28</td>\n",
       "      <td>4.71</td>\n",
       "      <td>2.02</td>\n",
       "      <td>2.03</td>\n",
       "    </tr>\n",
       "    <tr>\n",
       "      <th>1</th>\n",
       "      <td>0.51</td>\n",
       "      <td>0.77</td>\n",
       "      <td>0.36</td>\n",
       "      <td>0.18</td>\n",
       "      <td>0.90</td>\n",
       "      <td>1.73</td>\n",
       "      <td>0.27</td>\n",
       "      <td>26.99</td>\n",
       "      <td>115.08</td>\n",
       "      <td>1.66</td>\n",
       "      <td>0.99</td>\n",
       "      <td>1.47</td>\n",
       "      <td>1.04</td>\n",
       "    </tr>\n",
       "  </tbody>\n",
       "</table>\n",
       "</div>"
      ],
      "text/plain": [
       "       gender  near_location  partner  promo_friends  phone  contract_period  \\\n",
       "churn                                                                          \n",
       "0        0.51           0.87     0.53           0.35   0.90             5.75   \n",
       "1        0.51           0.77     0.36           0.18   0.90             1.73   \n",
       "\n",
       "       group_visits   age  avg_additional_charges_total  \\\n",
       "churn                                                     \n",
       "0              0.46 29.98                        158.45   \n",
       "1              0.27 26.99                        115.08   \n",
       "\n",
       "       month_to_end_contract  lifetime  avg_class_frequency_total  \\\n",
       "churn                                                               \n",
       "0                       5.28      4.71                       2.02   \n",
       "1                       1.66      0.99                       1.47   \n",
       "\n",
       "       avg_class_frequency_current_month  \n",
       "churn                                     \n",
       "0                                   2.03  \n",
       "1                                   1.04  "
      ]
     },
     "execution_count": 10,
     "metadata": {},
     "output_type": "execute_result"
    }
   ],
   "source": [
    "# сколько пользователей ушло/осталось в текущем месяце\n",
    "print(black(f'Количество ушедших (1) и оставшихся пользователей (0): \\n','bold'))\n",
    "pivot = data.pivot_table(\n",
    "    index = 'churn', \n",
    "    values = 'gender', \n",
    "    aggfunc = 'count'\n",
    ")\n",
    "pivot['share'] = pivot['gender']/pivot['gender'].sum()\n",
    "pivot.style.format({'share': \"{:.2%}\"})\n",
    "pivot.columns=['count', 'share']\n",
    "display(pivot)\n",
    "\n",
    "# посмотрим на данные в разрезе разных значений целевой переменной\n",
    "\n",
    "print(black(f'Средние значения признаков в разрезе разных значений целевой переменной: \\n', 'bold'))\n",
    "data.groupby('churn').mean()"
   ]
  },
  {
   "cell_type": "markdown",
   "metadata": {},
   "source": [
    "- Классы не сбалансированы - оставшихся пользователей более чем в 2.5 раза больше, чем ушедших\n",
    "- Средние значения всех признаков, кроме пола и факта наличия телефона, выше, чем у ушедших\n",
    "- В среднем уходят люди моложе (средний возраст - почти 27), остаются те, кому почти 30\n",
    "- Видно, что у тех, кто остается, средняя продолжительность контракта больше (5.75 против 1.73 месяцев), они вдважды чаще посещают фитнес центр в неделю"
   ]
  },
  {
   "cell_type": "code",
   "execution_count": 11,
   "metadata": {
    "scrolled": false
   },
   "outputs": [
    {
     "data": {
      "image/png": "[encoded data removed]",
      "text/plain": [
       "<Figure size 1080x3240 with 13 Axes>"
      ]
     },
     "metadata": {
      "needs_background": "light"
     },
     "output_type": "display_data"
    }
   ],
   "source": [
    "# посмотрим на распределение признаков в зависимости от разных значений целевой переменной\n",
    "\n",
    "plt.figure(figsize=(15, 45))\n",
    "plt.subplots_adjust(hspace=0.5)\n",
    "plt.suptitle('Гистограммы распределения признаков', fontsize=16, y=0.9)\n",
    "\n",
    "for n, col in enumerate(data.drop('churn', axis=1).columns):\n",
    "    ax = plt.subplot(7, 2, n + 1)\n",
    "    ax2 = data.query('churn==0').plot(\n",
    "        kind='hist',\n",
    "        y=col,\n",
    "        bins=15,\n",
    "        label='churn=0',\n",
    "        ax=ax\n",
    "    )\n",
    "    data.query('churn==1').plot(\n",
    "        kind='hist',\n",
    "        y=col,\n",
    "        bins=15,\n",
    "        label='churn=1',\n",
    "        ax=ax2,\n",
    "    )\n",
    "    ax.set_title(col)\n",
    "    ax.set_ylabel('')"
   ]
  },
  {
   "cell_type": "markdown",
   "metadata": {},
   "source": [
    "- Часть числовых признаков распределена близко к нормальному (age, avg_class_frequency_total, avg_class_frequency_current_month (для оставшихся клиентов), распределение avg_additional_charges_total, lifetime и avg_class_frequency_current_month (для ушедших клиентов) похоже на Пуассона\n",
    "- Наблюдаются различия в распределении признаков для оставшися и ушедших клиентов, что позволяет построить модель предсказания оттока"
   ]
  },
  {
   "cell_type": "code",
   "execution_count": 12,
   "metadata": {},
   "outputs": [
    {
     "data": {
      "image/png": "[encoded data removed]",
      "text/plain": [
       "<Figure size 1080x720 with 2 Axes>"
      ]
     },
     "metadata": {
      "needs_background": "light"
     },
     "output_type": "display_data"
    }
   ],
   "source": [
    "# построим матрицу корреляций\n",
    "cm = data.corr()\n",
    "fig, ax = plt.subplots(figsize=(15, 10))\n",
    "\n",
    "#нарисуем тепловую карту \n",
    "sns.heatmap(cm, annot=True, square=True).set(title='Матрица корреляций')\n",
    "\n",
    "plt.show()"
   ]
  },
  {
   "cell_type": "markdown",
   "metadata": {},
   "source": [
    "- По матрице корреляций видно, что большая часть признаков не коррелирована, только 2 пары признаков очень сильно скоррелированы - avg_class_frequency_total и avg_class_frequency_current_month, month_to_end_contract и contract_period, что вполне ожидаемо ибо средняя посещаемость в текущем месяце отражается также в общей средней посещаемости, а количество месяцев до окончания контракта зависит от его срока"
   ]
  },
  {
   "cell_type": "markdown",
   "metadata": {},
   "source": [
    "## Построение модели прогнозирования оттока пользователей <a name=\"model\"></a>"
   ]
  },
  {
   "cell_type": "markdown",
   "metadata": {},
   "source": [
    "- Построим модель бинарной классификации пользователей, где целевой признак — факт оттока пользователя в следующем месяце, воспользуемся алгоритмами логистической регрессии и случайного леса, сравним метрики accuracy, precision и recall\n",
    "    - Сначала оставим все признаки, посмотрим на результаты автоматического прогноза с трешхолдом = 0.5 (ситуация, когда половина клиентов уходит в отток) и кастомного с трешхолдом = 0.7 (принимая во внимание факт несбалансированности классов - доля churn=0 составляет 73%, доля churn=1 - 27%, наша чтобы правильно отнести клиента к более редкому классу, нужно повысить порог вероятности для модели). Далее проделаем аналогичные шаги, убирая по одному признаку в паре скоррелированных\n",
    "    - При модели прогноза оттока клиентов c точки зрения бизнеса нам нужно минимизировать количество false positive ситуаций, когда клиент на самом деле остается, а мы его обозначили как уходящего - потому что, цель - удержать клиента, что означает какие-то дополнительные затраты со стороны компании для этого удержания => с точки зрения метрик, нас больше всего интересует метрика precision. Конечно ситуация, когда мы пропускаем клиента, который уйдет, из-за неверного прогноза, тоже плохая, но тут уже встает вопрос сравнения потерь для компании в случае потери клиента vs затрат на его удержание"
   ]
  },
  {
   "cell_type": "code",
   "execution_count": 13,
   "metadata": {},
   "outputs": [],
   "source": [
    "# подготовим функции\n",
    "\n",
    "# функция для вывода метрик\n",
    "def print_metrics(y_true, y_pred, title='Метрики классификации'):\n",
    "    print(f'{title}')\n",
    "    print('\\tAccuracy: {:.3f}'.format(accuracy_score(y_true, y_pred)))\n",
    "    print('\\tPrecision: {:.3f}'.format(precision_score(y_true, y_pred)))\n",
    "    print('\\tRecall: {:.3f}'.format(recall_score(y_true, y_pred)))\n",
    "\n",
    "# функция для прогона моделей\n",
    "def run_models(X):\n",
    "    y = data['churn']\n",
    "    # разделим модель на обучающую и валидационную выборку\n",
    "    X_train, X_test, y_train, y_test = train_test_split(X, y, test_size=0.2, random_state=0)\n",
    "    # проведем стандартизацию признаков\n",
    "    scaler = StandardScaler()\n",
    "    scaler.fit(X_train)\n",
    "    X_train_st = scaler.transform(X_train)\n",
    "    X_test_st = scaler.transform(X_test)\n",
    "\n",
    "    # зададим модель логистической регрессии\n",
    "    lr_model = LogisticRegression(random_state=0)\n",
    "    lr_model.fit(X_train_st, y_train)\n",
    "    lr_predictions = lr_model.predict(X_test_st)\n",
    "    lr_probabilities = lr_model.predict_proba(X_test_st)[:, 1]\n",
    "\n",
    "    # зададим модель на основе алгоритма случайного леса\n",
    "    rf_model = RandomForestClassifier(n_estimators = 100, random_state=0)\n",
    "    rf_model.fit(X_train, y_train)\n",
    "    rf_predictions = rf_model.predict(X_test)\n",
    "    rf_probabilities = rf_model.predict_proba(X_test)[:, 1]\n",
    "\n",
    "    title = 'Автоматический прогноз'\n",
    "    print(black(f'{title.center(100)}\\n', 'bold'))\n",
    "\n",
    "    print_metrics(\n",
    "        y_test,\n",
    "        lr_predictions,\n",
    "        title='Метрики для модели логистической регрессии:'\n",
    "    )\n",
    "\n",
    "    print_metrics(\n",
    "        y_test,\n",
    "        rf_predictions,\n",
    "        title='Метрики для модели случайного леса:'\n",
    "    )\n",
    "\n",
    "    # изменим трешхолд\n",
    "    threshold = 0.7\n",
    "    custom_lr_predictions = [0 if i < threshold else 1 for i in lr_probabilities]\n",
    "    custom_rf_predictions = [0 if i < threshold else 1 for i in rf_probabilities]\n",
    "\n",
    "    title = 'Custom прогноз'\n",
    "    print(black(f'{title.center(100)}\\n', 'bold'))\n",
    "\n",
    "    print_metrics(\n",
    "        y_test,\n",
    "        custom_lr_predictions,\n",
    "        title='Метрики для модели логистической регрессии:'\n",
    "    )\n",
    "\n",
    "    print_metrics(\n",
    "        y_test,\n",
    "        custom_rf_predictions,\n",
    "        title='Метрики для модели случайного леса:'\n",
    "    )"
   ]
  },
  {
   "cell_type": "markdown",
   "metadata": {},
   "source": [
    "1.1 Оставляем пока мультиколлинеарность"
   ]
  },
  {
   "cell_type": "code",
   "execution_count": 14,
   "metadata": {
    "scrolled": true
   },
   "outputs": [
    {
     "name": "stdout",
     "output_type": "stream",
     "text": [
      "\u001b[1;30m                                       Автоматический прогноз                                       \n",
      "\u001b[0m\n",
      "Метрики для модели логистической регрессии:\n",
      "\tAccuracy: 0.922\n",
      "\tPrecision: 0.854\n",
      "\tRecall: 0.828\n",
      "Метрики для модели случайного леса:\n",
      "\tAccuracy: 0.916\n",
      "\tPrecision: 0.839\n",
      "\tRecall: 0.818\n",
      "\u001b[1;30m                                           Custom прогноз                                           \n",
      "\u001b[0m\n",
      "Метрики для модели логистической регрессии:\n",
      "\tAccuracy: 0.935\n",
      "\tPrecision: 0.951\n",
      "\tRecall: 0.778\n",
      "Метрики для модели случайного леса:\n",
      "\tAccuracy: 0.897\n",
      "\tPrecision: 0.908\n",
      "\tRecall: 0.652\n"
     ]
    }
   ],
   "source": [
    "# зададим матрицу признаков\n",
    "X = data.drop('churn', axis = 1)\n",
    "\n",
    "run_models(X)"
   ]
  },
  {
   "cell_type": "markdown",
   "metadata": {},
   "source": [
    "- Логистическая регрессия в обоих случаях дает лучший результат\n",
    "- Повышение трешхолда позволяет добиться более высокой метрики precision\n",
    "- Лучшая модель - логистическая регрессия, custom прогноз"
   ]
  },
  {
   "cell_type": "markdown",
   "metadata": {},
   "source": [
    "2.1.1 Уберем из каждой пары скореллированных признаков по одному - avg_class_frequency_total и month_to_end_contract"
   ]
  },
  {
   "cell_type": "code",
   "execution_count": 15,
   "metadata": {},
   "outputs": [
    {
     "name": "stdout",
     "output_type": "stream",
     "text": [
      "\u001b[1;30m                                       Автоматический прогноз                                       \n",
      "\u001b[0m\n",
      "Метрики для модели логистической регрессии:\n",
      "\tAccuracy: 0.902\n",
      "\tPrecision: 0.791\n",
      "\tRecall: 0.823\n",
      "Метрики для модели случайного леса:\n",
      "\tAccuracy: 0.896\n",
      "\tPrecision: 0.814\n",
      "\tRecall: 0.753\n",
      "\u001b[1;30m                                           Custom прогноз                                           \n",
      "\u001b[0m\n",
      "Метрики для модели логистической регрессии:\n",
      "\tAccuracy: 0.900\n",
      "\tPrecision: 0.878\n",
      "\tRecall: 0.692\n",
      "Метрики для модели случайного леса:\n",
      "\tAccuracy: 0.882\n",
      "\tPrecision: 0.866\n",
      "\tRecall: 0.621\n"
     ]
    }
   ],
   "source": [
    "X = data.drop(['churn', 'avg_class_frequency_total', 'month_to_end_contract'], axis = 1)\n",
    "run_models(X)"
   ]
  },
  {
   "cell_type": "markdown",
   "metadata": {},
   "source": [
    "- Логистическая регрессия в обоих случаях дает лучший результат\n",
    "- Повышение трешхолда позволяет добиться более высокой метрики precision, однако потеряли незначительно в accuracy\n",
    "- Лучшая модель - логистическая регрессия, custom прогноз\n",
    "- Однако при удалении скоррелированных признаков метрики немного ухудшились"
   ]
  },
  {
   "cell_type": "markdown",
   "metadata": {},
   "source": [
    "2.2 Уберем из каждой пары скореллированных признаков по одному - avg_class_frequency_total и contract_period"
   ]
  },
  {
   "cell_type": "code",
   "execution_count": 16,
   "metadata": {},
   "outputs": [
    {
     "name": "stdout",
     "output_type": "stream",
     "text": [
      "\u001b[1;30m                                       Автоматический прогноз                                       \n",
      "\u001b[0m\n",
      "Метрики для модели логистической регрессии:\n",
      "\tAccuracy: 0.905\n",
      "\tPrecision: 0.799\n",
      "\tRecall: 0.823\n",
      "Метрики для модели случайного леса:\n",
      "\tAccuracy: 0.906\n",
      "\tPrecision: 0.825\n",
      "\tRecall: 0.788\n",
      "\u001b[1;30m                                           Custom прогноз                                           \n",
      "\u001b[0m\n",
      "Метрики для модели логистической регрессии:\n",
      "\tAccuracy: 0.900\n",
      "\tPrecision: 0.873\n",
      "\tRecall: 0.697\n",
      "Метрики для модели случайного леса:\n",
      "\tAccuracy: 0.881\n",
      "\tPrecision: 0.860\n",
      "\tRecall: 0.621\n"
     ]
    }
   ],
   "source": [
    "X = data.drop(['churn', 'avg_class_frequency_total', 'contract_period'], axis = 1)\n",
    "run_models(X)"
   ]
  },
  {
   "cell_type": "markdown",
   "metadata": {},
   "source": [
    "- Логистическая регрессия в обоих случаях дает лучший результат\n",
    "- Повышение трешхолда позволяет добиться более высокой метрики precision, однако снова потеряли в accuracy\n",
    "- Лучшая модель - логистическая регрессия, custom прогноз\n",
    "- Вновь, метрики моделей со всеми признаками - лучше"
   ]
  },
  {
   "cell_type": "markdown",
   "metadata": {},
   "source": [
    "2.3 Уберем из каждой пары скореллированных признаков по одному - avg_class_frequency_current_month и month_to_end_contract"
   ]
  },
  {
   "cell_type": "code",
   "execution_count": 17,
   "metadata": {},
   "outputs": [
    {
     "name": "stdout",
     "output_type": "stream",
     "text": [
      "\u001b[1;30m                                       Автоматический прогноз                                       \n",
      "\u001b[0m\n",
      "Метрики для модели логистической регрессии:\n",
      "\tAccuracy: 0.899\n",
      "\tPrecision: 0.788\n",
      "\tRecall: 0.808\n",
      "Метрики для модели случайного леса:\n",
      "\tAccuracy: 0.890\n",
      "\tPrecision: 0.784\n",
      "\tRecall: 0.768\n",
      "\u001b[1;30m                                           Custom прогноз                                           \n",
      "\u001b[0m\n",
      "Метрики для модели логистической регрессии:\n",
      "\tAccuracy: 0.892\n",
      "\tPrecision: 0.864\n",
      "\tRecall: 0.672\n",
      "Метрики для модели случайного леса:\n",
      "\tAccuracy: 0.885\n",
      "\tPrecision: 0.873\n",
      "\tRecall: 0.626\n"
     ]
    }
   ],
   "source": [
    "X = data.drop(['churn', 'avg_class_frequency_current_month', 'month_to_end_contract'], axis = 1)\n",
    "run_models(X)"
   ]
  },
  {
   "cell_type": "markdown",
   "metadata": {},
   "source": [
    "- Логистическая регрессия в обоих случаях дает лучший результат\n",
    "- Повышение трешхолда позволяет добиться более высокой метрики precision, однако снова потеряли в accuracy\n",
    "- Лучшая модель - логистическая регрессия, custom прогноз\n",
    "- Вновь, метрики моделей со всеми признаками - лучше"
   ]
  },
  {
   "cell_type": "markdown",
   "metadata": {},
   "source": [
    "2.4 Уберем из каждой пары скореллированных признаков по одному - avg_class_frequency_current_month и contract_period"
   ]
  },
  {
   "cell_type": "code",
   "execution_count": 18,
   "metadata": {},
   "outputs": [
    {
     "name": "stdout",
     "output_type": "stream",
     "text": [
      "\u001b[1;30m                                       Автоматический прогноз                                       \n",
      "\u001b[0m\n",
      "Метрики для модели логистической регрессии:\n",
      "\tAccuracy: 0.897\n",
      "\tPrecision: 0.784\n",
      "\tRecall: 0.808\n",
      "Метрики для модели случайного леса:\n",
      "\tAccuracy: 0.896\n",
      "\tPrecision: 0.801\n",
      "\tRecall: 0.773\n",
      "\u001b[1;30m                                           Custom прогноз                                           \n",
      "\u001b[0m\n",
      "Метрики для модели логистической регрессии:\n",
      "\tAccuracy: 0.892\n",
      "\tPrecision: 0.873\n",
      "\tRecall: 0.662\n",
      "Метрики для модели случайного леса:\n",
      "\tAccuracy: 0.881\n",
      "\tPrecision: 0.860\n",
      "\tRecall: 0.621\n"
     ]
    }
   ],
   "source": [
    "X = data.drop(['churn', 'avg_class_frequency_current_month', 'contract_period'], axis = 1)\n",
    "run_models(X)"
   ]
  },
  {
   "cell_type": "markdown",
   "metadata": {},
   "source": [
    "- Логистическая регрессия в обоих случаях дает лучший результат\n",
    "- Повышение трешхолда позволяет добиться более высокой метрики precision, однако снова потеряли в accuracy\n",
    "- Лучшая модель - логистическая регрессия, custom прогноз\n",
    "- Вновь, метрики моделей со всеми признаками - лучше"
   ]
  },
  {
   "cell_type": "markdown",
   "metadata": {},
   "source": [
    "Вывод - лучшей моделью признаем модель со всеми признаками, построенную с помощью алгоритма логистической регрессии и кастомным трешхолдом в 0.7"
   ]
  },
  {
   "cell_type": "markdown",
   "metadata": {},
   "source": [
    "## Кластеризация пользователей <a name=\"cluster\"></a>"
   ]
  },
  {
   "cell_type": "code",
   "execution_count": 19,
   "metadata": {},
   "outputs": [],
   "source": [
    "X = data.drop('churn', axis = 1)\n",
    "\n",
    "# стандартизируем данные\n",
    "sc = StandardScaler()\n",
    "X_sc = sc.fit_transform(X)\n",
    "\n",
    "linked = linkage(X_sc, method = 'ward')"
   ]
  },
  {
   "cell_type": "code",
   "execution_count": 20,
   "metadata": {},
   "outputs": [
    {
     "data": {
      "image/png": "[encoded data removed]",
      "text/plain": [
       "<Figure size 1080x720 with 1 Axes>"
      ]
     },
     "metadata": {
      "needs_background": "light"
     },
     "output_type": "display_data"
    }
   ],
   "source": [
    "plt.figure(figsize=(15, 10))  \n",
    "dendrogram(linked, orientation='top')\n",
    "plt.axhline(y=50, c='grey', lw=1, linestyle='dashed')\n",
    "plt.title('Дендрограмма')\n",
    "plt.show()"
   ]
  },
  {
   "cell_type": "markdown",
   "metadata": {},
   "source": [
    "- Визуально можно разделить пользователей на 6 кластеров (если провести линию на уровне 50)\n",
    "- Однако, продолжим с 5 кластерами, как указано в задании"
   ]
  },
  {
   "cell_type": "code",
   "execution_count": 21,
   "metadata": {},
   "outputs": [
    {
     "data": {
      "text/html": [
       "<div>\n",
       "<style scoped>\n",
       "    .dataframe tbody tr th:only-of-type {\n",
       "        vertical-align: middle;\n",
       "    }\n",
       "\n",
       "    .dataframe tbody tr th {\n",
       "        vertical-align: top;\n",
       "    }\n",
       "\n",
       "    .dataframe thead th {\n",
       "        text-align: right;\n",
       "    }\n",
       "</style>\n",
       "<table border=\"1\" class=\"dataframe\">\n",
       "  <thead>\n",
       "    <tr style=\"text-align: right;\">\n",
       "      <th></th>\n",
       "      <th>gender</th>\n",
       "      <th>near_location</th>\n",
       "      <th>partner</th>\n",
       "      <th>promo_friends</th>\n",
       "      <th>phone</th>\n",
       "      <th>contract_period</th>\n",
       "      <th>group_visits</th>\n",
       "      <th>age</th>\n",
       "      <th>avg_additional_charges_total</th>\n",
       "      <th>month_to_end_contract</th>\n",
       "      <th>lifetime</th>\n",
       "      <th>avg_class_frequency_total</th>\n",
       "      <th>avg_class_frequency_current_month</th>\n",
       "      <th>churn</th>\n",
       "    </tr>\n",
       "    <tr>\n",
       "      <th>cluster_km</th>\n",
       "      <th></th>\n",
       "      <th></th>\n",
       "      <th></th>\n",
       "      <th></th>\n",
       "      <th></th>\n",
       "      <th></th>\n",
       "      <th></th>\n",
       "      <th></th>\n",
       "      <th></th>\n",
       "      <th></th>\n",
       "      <th></th>\n",
       "      <th></th>\n",
       "      <th></th>\n",
       "      <th></th>\n",
       "    </tr>\n",
       "  </thead>\n",
       "  <tbody>\n",
       "    <tr>\n",
       "      <th>0</th>\n",
       "      <td>0.50</td>\n",
       "      <td>0.96</td>\n",
       "      <td>0.78</td>\n",
       "      <td>0.57</td>\n",
       "      <td>1.00</td>\n",
       "      <td>10.89</td>\n",
       "      <td>0.54</td>\n",
       "      <td>29.98</td>\n",
       "      <td>160.76</td>\n",
       "      <td>9.95</td>\n",
       "      <td>4.74</td>\n",
       "      <td>1.98</td>\n",
       "      <td>1.97</td>\n",
       "      <td>0.03</td>\n",
       "    </tr>\n",
       "    <tr>\n",
       "      <th>1</th>\n",
       "      <td>0.52</td>\n",
       "      <td>0.86</td>\n",
       "      <td>0.47</td>\n",
       "      <td>0.31</td>\n",
       "      <td>0.00</td>\n",
       "      <td>4.79</td>\n",
       "      <td>0.43</td>\n",
       "      <td>29.30</td>\n",
       "      <td>143.96</td>\n",
       "      <td>4.48</td>\n",
       "      <td>3.92</td>\n",
       "      <td>1.85</td>\n",
       "      <td>1.72</td>\n",
       "      <td>0.27</td>\n",
       "    </tr>\n",
       "    <tr>\n",
       "      <th>2</th>\n",
       "      <td>0.50</td>\n",
       "      <td>0.00</td>\n",
       "      <td>0.46</td>\n",
       "      <td>0.08</td>\n",
       "      <td>1.00</td>\n",
       "      <td>2.35</td>\n",
       "      <td>0.22</td>\n",
       "      <td>28.48</td>\n",
       "      <td>135.46</td>\n",
       "      <td>2.20</td>\n",
       "      <td>2.81</td>\n",
       "      <td>1.66</td>\n",
       "      <td>1.48</td>\n",
       "      <td>0.44</td>\n",
       "    </tr>\n",
       "    <tr>\n",
       "      <th>3</th>\n",
       "      <td>0.49</td>\n",
       "      <td>1.00</td>\n",
       "      <td>0.35</td>\n",
       "      <td>0.24</td>\n",
       "      <td>1.00</td>\n",
       "      <td>1.95</td>\n",
       "      <td>0.34</td>\n",
       "      <td>28.17</td>\n",
       "      <td>131.62</td>\n",
       "      <td>1.86</td>\n",
       "      <td>2.44</td>\n",
       "      <td>1.25</td>\n",
       "      <td>1.01</td>\n",
       "      <td>0.51</td>\n",
       "    </tr>\n",
       "    <tr>\n",
       "      <th>4</th>\n",
       "      <td>0.56</td>\n",
       "      <td>0.98</td>\n",
       "      <td>0.36</td>\n",
       "      <td>0.23</td>\n",
       "      <td>1.00</td>\n",
       "      <td>2.67</td>\n",
       "      <td>0.47</td>\n",
       "      <td>30.13</td>\n",
       "      <td>161.66</td>\n",
       "      <td>2.46</td>\n",
       "      <td>4.90</td>\n",
       "      <td>2.85</td>\n",
       "      <td>2.85</td>\n",
       "      <td>0.07</td>\n",
       "    </tr>\n",
       "  </tbody>\n",
       "</table>\n",
       "</div>"
      ],
      "text/plain": [
       "            gender  near_location  partner  promo_friends  phone  \\\n",
       "cluster_km                                                         \n",
       "0             0.50           0.96     0.78           0.57   1.00   \n",
       "1             0.52           0.86     0.47           0.31   0.00   \n",
       "2             0.50           0.00     0.46           0.08   1.00   \n",
       "3             0.49           1.00     0.35           0.24   1.00   \n",
       "4             0.56           0.98     0.36           0.23   1.00   \n",
       "\n",
       "            contract_period  group_visits   age  avg_additional_charges_total  \\\n",
       "cluster_km                                                                      \n",
       "0                     10.89          0.54 29.98                        160.76   \n",
       "1                      4.79          0.43 29.30                        143.96   \n",
       "2                      2.35          0.22 28.48                        135.46   \n",
       "3                      1.95          0.34 28.17                        131.62   \n",
       "4                      2.67          0.47 30.13                        161.66   \n",
       "\n",
       "            month_to_end_contract  lifetime  avg_class_frequency_total  \\\n",
       "cluster_km                                                               \n",
       "0                            9.95      4.74                       1.98   \n",
       "1                            4.48      3.92                       1.85   \n",
       "2                            2.20      2.81                       1.66   \n",
       "3                            1.86      2.44                       1.25   \n",
       "4                            2.46      4.90                       2.85   \n",
       "\n",
       "            avg_class_frequency_current_month  churn  \n",
       "cluster_km                                            \n",
       "0                                        1.97   0.03  \n",
       "1                                        1.72   0.27  \n",
       "2                                        1.48   0.44  \n",
       "3                                        1.01   0.51  \n",
       "4                                        2.85   0.07  "
      ]
     },
     "execution_count": 21,
     "metadata": {},
     "output_type": "execute_result"
    }
   ],
   "source": [
    "# задаём модель k_means с числом кластеров 5 и фиксируем значение random_state\n",
    "km = KMeans(n_clusters=5, random_state=0)\n",
    "labels = km.fit_predict(X_sc)\n",
    "\n",
    "# сохраняем метки кластера в поле нашего датасета\n",
    "data['cluster_km'] = labels\n",
    "clusters = data.groupby(['cluster_km']).mean()\n",
    "clusters"
   ]
  },
  {
   "cell_type": "markdown",
   "metadata": {},
   "source": [
    "Соберем наблюдения в таблицу:\n",
    "\n",
    "| Столбец | Наблюдение | \n",
    "| :-----|:--------------------|\n",
    "| gender| Кластеры примерно похожы по соотношению мужчин и женщин, кроме кластера 4 с небольшим преимуществом одного из полов (если предполагаем, что 1 - женщины, то преваливует женский пол) |\n",
    "| near_location| Кластер 2 явно выделяется по удаленности от фитнес-центра|\n",
    "| partner| В кластере 0 больше клиентов из партнерских организаций| \n",
    "| promo_friends| В кластере 0 больше людей пришли по промо, в кластере 2 - очень мало таких клиентов | \n",
    "| phone| Кластер 1 не предоставляет номер телефона | \n",
    "| contract_period| Кластер 0 - закупает самые длинные контракты (можно предположить, что у партнерских организаций более выгодные предложения + при приглашении друга даются дополнительные скидки) | \n",
    "| group_visits| Практически во всех кластерах больше людей, не ходящих на групповые занятия (кроме 0, там их превалирование незначительно)| \n",
    "| age| По среднему возрасту все кластеры очень близки | \n",
    "| avg_additional_charges_total| Больше всего доп выручка от кластера 4 (женщин там немного больше, они охотнее пользуются услугами косметического салона) и 0 (скорее всего клиенты тратят там сохраненные деньги от более выгодных условий контракта) | \n",
    "| month_to_end_contract| Прямая связь со сроком контракта | \n",
    "| lifetime| Кластер 4 - пришли раньше всех| \n",
    "| avg_class_frequency_total| В среднем все кластеры посещают фитнес от 1 до 2 раз в неделю, кластер 4 немного выделяется | \n",
    "| avg_class_frequency_current_month| Аналогичная ситуация в текущем месяце| \n",
    "| churn| Меньше всего клиентов ушло в кластере 0 (практически никто), больше всего - в кластере 3, с самым коротким контрактом| "
   ]
  },
  {
   "cell_type": "code",
   "execution_count": 22,
   "metadata": {
    "scrolled": false
   },
   "outputs": [
    {
     "data": {
      "image/png": "[encoded data removed]",
      "text/plain": [
       "<Figure size 1080x3240 with 14 Axes>"
      ]
     },
     "metadata": {
      "needs_background": "light"
     },
     "output_type": "display_data"
    }
   ],
   "source": [
    "# посмотрим на распределение признаков по кластерам\n",
    "\n",
    "plt.figure(figsize=(15, 45))\n",
    "plt.subplots_adjust(hspace=0.5)\n",
    "plt.suptitle('Гистограммы распределения признаков', fontsize=16, y=0.9)\n",
    "\n",
    "for n, col in enumerate(data.drop('cluster_km', axis=1).columns):\n",
    "    ax = plt.subplot(7, 2, n + 1)\n",
    "    ax0 = data.query('cluster_km==0').plot(\n",
    "        kind='hist',\n",
    "        y=col,\n",
    "        bins=15,\n",
    "        label='cluster 0',\n",
    "        ax=ax\n",
    "    )\n",
    "    ax1 = data.query('cluster_km==1').plot(\n",
    "        kind='hist',\n",
    "        y=col,\n",
    "        bins=15,\n",
    "        label='cluster 1',\n",
    "        ax=ax0\n",
    "    )\n",
    "    ax2 = data.query('cluster_km==2').plot(\n",
    "        kind='hist',\n",
    "        y=col,\n",
    "        bins=15,\n",
    "        label='cluster 2',\n",
    "        ax=ax1\n",
    "    )\n",
    "    ax3 = data.query('cluster_km==3').plot(\n",
    "        kind='hist',\n",
    "        y=col,\n",
    "        bins=15,\n",
    "        label='cluster 3',\n",
    "        ax=ax2\n",
    "    )\n",
    "    data.query('cluster_km==4').plot(\n",
    "        kind='hist',\n",
    "        y=col,\n",
    "        bins=15,\n",
    "        label='cluster 4',\n",
    "        ax=ax3,\n",
    "    )\n",
    "    ax.set_title(col)\n",
    "    ax.set_ylabel('')"
   ]
  },
  {
   "cell_type": "markdown",
   "metadata": {},
   "source": [
    "- Есть небольшие отличия в распределении признаков по кластерам\n",
    "    - в глаза бросается удаленность средняя посещаемость - тип распределений для кластеров отличается, если у 4го более менее близок к нормальному, то у 3го явно скошен в сторону меньшей посещаемости"
   ]
  },
  {
   "cell_type": "code",
   "execution_count": 23,
   "metadata": {},
   "outputs": [
    {
     "name": "stdout",
     "output_type": "stream",
     "text": [
      "\u001b[1;30mДоля оттока по кластерам: \n",
      "\u001b[0m\n"
     ]
    },
    {
     "data": {
      "text/html": [
       "<style  type=\"text/css\" >\n",
       "</style><table id=\"T_3102e_\" ><thead>    <tr>        <th class=\"blank level0\" ></th>        <th class=\"col_heading level0 col0\" >clients_count</th>        <th class=\"col_heading level0 col1\" >churn=1</th>        <th class=\"col_heading level0 col2\" >churn_share</th>    </tr>    <tr>        <th class=\"index_name level0\" >cluster_km</th>        <th class=\"blank\" ></th>        <th class=\"blank\" ></th>        <th class=\"blank\" ></th>    </tr></thead><tbody>\n",
       "                <tr>\n",
       "                        <th id=\"T_3102e_level0_row0\" class=\"row_heading level0 row0\" >0</th>\n",
       "                        <td id=\"T_3102e_row0_col0\" class=\"data row0 col0\" >1010</td>\n",
       "                        <td id=\"T_3102e_row0_col1\" class=\"data row0 col1\" >28</td>\n",
       "                        <td id=\"T_3102e_row0_col2\" class=\"data row0 col2\" >2.77%</td>\n",
       "            </tr>\n",
       "            <tr>\n",
       "                        <th id=\"T_3102e_level0_row1\" class=\"row_heading level0 row1\" >1</th>\n",
       "                        <td id=\"T_3102e_row1_col0\" class=\"data row1 col0\" >385</td>\n",
       "                        <td id=\"T_3102e_row1_col1\" class=\"data row1 col1\" >103</td>\n",
       "                        <td id=\"T_3102e_row1_col2\" class=\"data row1 col2\" >26.75%</td>\n",
       "            </tr>\n",
       "            <tr>\n",
       "                        <th id=\"T_3102e_level0_row2\" class=\"row_heading level0 row2\" >2</th>\n",
       "                        <td id=\"T_3102e_row2_col0\" class=\"data row2 col0\" >505</td>\n",
       "                        <td id=\"T_3102e_row2_col1\" class=\"data row2 col1\" >224</td>\n",
       "                        <td id=\"T_3102e_row2_col2\" class=\"data row2 col2\" >44.36%</td>\n",
       "            </tr>\n",
       "            <tr>\n",
       "                        <th id=\"T_3102e_level0_row3\" class=\"row_heading level0 row3\" >3</th>\n",
       "                        <td id=\"T_3102e_row3_col0\" class=\"data row3 col0\" >1262</td>\n",
       "                        <td id=\"T_3102e_row3_col1\" class=\"data row3 col1\" >649</td>\n",
       "                        <td id=\"T_3102e_row3_col2\" class=\"data row3 col2\" >51.43%</td>\n",
       "            </tr>\n",
       "            <tr>\n",
       "                        <th id=\"T_3102e_level0_row4\" class=\"row_heading level0 row4\" >4</th>\n",
       "                        <td id=\"T_3102e_row4_col0\" class=\"data row4 col0\" >838</td>\n",
       "                        <td id=\"T_3102e_row4_col1\" class=\"data row4 col1\" >57</td>\n",
       "                        <td id=\"T_3102e_row4_col2\" class=\"data row4 col2\" >6.80%</td>\n",
       "            </tr>\n",
       "    </tbody></table>"
      ],
      "text/plain": [
       "<pandas.io.formats.style.Styler at 0x7f0f6a5628b0>"
      ]
     },
     "execution_count": 23,
     "metadata": {},
     "output_type": "execute_result"
    }
   ],
   "source": [
    "# посчитаем долю оттока по кластерам\n",
    "\n",
    "print(black(f'Доля оттока по кластерам: \\n','bold'))\n",
    "\n",
    "data1=data.groupby('cluster_km').count()\n",
    "data1=data1[['churn']]\n",
    "data2=data.query('churn==1').groupby('cluster_km').count()\n",
    "data2=data2[['churn']]\n",
    "data3=data1.merge(data2, on='cluster_km', how='left')\n",
    "data3.columns=['clients_count', 'churn=1']\n",
    "data3['churn_share'] = data3['churn=1']/data3['clients_count']\n",
    "data3.style.format({'churn_share': \"{:.2%}\"})"
   ]
  },
  {
   "cell_type": "markdown",
   "metadata": {},
   "source": [
    "- Наиболее подвержен оттоку кластер 3, самые лояльные клиенты находятся в кластере 0 и 4"
   ]
  },
  {
   "cell_type": "markdown",
   "metadata": {},
   "source": [
    "## Выводы и рекомендации <a name=\"results\"></a>"
   ]
  },
  {
   "cell_type": "markdown",
   "metadata": {},
   "source": [
    "- В ходе выполненного анализа была выбрана модель наиболее лучшим образом прогнозирующая отток клиентов фитнес-центра на уровне следующего месяца - модель со всеми имеющимися признаками, построенную с помощью алгоритма логистической регрессии и кастомным трешхолдом в 0.7\n",
    "- В ходе решения задачи кластеризации клиентов были выявлены 5 кластеров клиентов\n",
    "    - В кластере 0 клиенты в основном из партнерских организаций, приходят по промо \"приведи друга\", заключают долгосрочные контракты, меньше всего подвержены оттоку\n",
    "    - Явной чертой кластера 1 является тот факт, что они не предоставляют свой номер телефона\n",
    "    - Кластер 2 явно выделяется по удаленности от фитнес-центра\n",
    "    - Кластер 3 - самый многочисленный, имеет самые короткие контракты, находится ближе всего к фитнес-центрам, больше всего подвержены оттоку\n",
    "    - Кластер 4 - превалирует женский пол, чаще посещают фитнес-центр\n",
    "- Можно сделать заключение, что основным фактором, влияющим на отток, является длительность контракта - клиенты с более коротким контрактом изначально не настроены долго оставаться\n",
    "- Как шаги для сокращения оттока и улучшения качества взаимодействия с клиентами можно предложить следующее\n",
    "    - Пересмотреть условия контрактов - явно виден перекос в сторону выгодных условий для партнерских организаций, можно предложить систему скидок/бонусов на долгосрочные контракты \"простым\" клиентам\n",
    "    - За предоставление телефона можно давать бонусы, которые потом можно использовать в качестве оплаты доп услуг\n",
    "    - Ближе к окончанию контракта можно связаться с клиентом, и предложить более выгодные условия как уже постоянному клиенту\n",
    "    - Стоит пересмотреть предоставляемые групповые занятия - возможно предложение не сходится с запросами клиентов, поэтому они не пользуются такой большой популярностью - как вариант, короткий опрос при заключении контракта, где можно попросить клиента указать, какие групповые занятия ему интересны\n",
    "    - Нужно поддержать посещаемость клиентов - устроить соревнование между клиентами, кто чаще ходит, в качестве подарка дать бесплатные месяцы/возможность получения какой-то услуги бесплатно на короткий срок/ продление контракта, либо устроить бонусную систему, за каждое посещение давать баллы, в конце месяца их можно использовать в кафе фитнес-центра"
   ]
  }
 ],
 "metadata": {
  "ExecuteTimeLog": [
   {
    "duration": 671,
    "start_time": "2022-01-28T06:51:46.908Z"
   },
   {
    "duration": 582,
    "start_time": "2022-01-28T06:51:47.581Z"
   },
   {
    "duration": 19,
    "start_time": "2022-01-28T06:51:48.165Z"
   },
   {
    "duration": 88,
    "start_time": "2022-01-28T06:51:48.186Z"
   },
   {
    "duration": 223,
    "start_time": "2022-01-28T06:51:48.276Z"
   },
   {
    "duration": 233,
    "start_time": "2022-01-28T06:51:48.501Z"
   },
   {
    "duration": 68,
    "start_time": "2022-01-28T06:51:48.736Z"
   },
   {
    "duration": 79,
    "start_time": "2022-01-28T06:51:48.807Z"
   },
   {
    "duration": 168,
    "start_time": "2022-01-28T06:51:48.888Z"
   },
   {
    "duration": 6,
    "start_time": "2022-01-28T06:51:49.061Z"
   },
   {
    "duration": 13,
    "start_time": "2022-01-28T06:51:49.069Z"
   },
   {
    "duration": 10,
    "start_time": "2022-01-28T06:51:49.084Z"
   },
   {
    "duration": 10,
    "start_time": "2022-01-28T06:51:49.095Z"
   },
   {
    "duration": 6,
    "start_time": "2022-01-28T06:51:49.107Z"
   },
   {
    "duration": 11,
    "start_time": "2022-01-28T06:51:49.115Z"
   },
   {
    "duration": 32,
    "start_time": "2022-01-28T06:51:49.128Z"
   },
   {
    "duration": 10,
    "start_time": "2022-01-28T06:51:49.163Z"
   },
   {
    "duration": 523,
    "start_time": "2022-01-28T06:51:49.175Z"
   },
   {
    "duration": 26,
    "start_time": "2022-01-28T06:51:49.700Z"
   },
   {
    "duration": 55,
    "start_time": "2022-01-28T06:51:49.728Z"
   },
   {
    "duration": 4,
    "start_time": "2022-01-28T06:51:49.785Z"
   },
   {
    "duration": 41,
    "start_time": "2022-01-28T06:51:49.791Z"
   },
   {
    "duration": 51,
    "start_time": "2022-01-28T06:51:49.836Z"
   },
   {
    "duration": 26,
    "start_time": "2022-01-28T06:51:49.889Z"
   },
   {
    "duration": 14,
    "start_time": "2022-01-28T06:51:49.917Z"
   },
   {
    "duration": 7,
    "start_time": "2022-01-28T06:51:49.932Z"
   },
   {
    "duration": 77,
    "start_time": "2022-01-28T06:51:49.941Z"
   },
   {
    "duration": 2320,
    "start_time": "2022-01-28T06:51:50.020Z"
   },
   {
    "duration": 50,
    "start_time": "2022-01-28T06:51:52.341Z"
   },
   {
    "duration": 12,
    "start_time": "2022-01-28T06:51:52.393Z"
   },
   {
    "duration": 4,
    "start_time": "2022-01-28T06:51:52.407Z"
   },
   {
    "duration": 1940,
    "start_time": "2022-01-28T06:51:52.413Z"
   },
   {
    "duration": 2583,
    "start_time": "2022-01-28T06:51:54.355Z"
   },
   {
    "duration": 2137,
    "start_time": "2022-01-28T06:51:56.940Z"
   },
   {
    "duration": 1037,
    "start_time": "2022-01-28T06:51:59.079Z"
   },
   {
    "duration": 1094,
    "start_time": "2022-01-28T06:52:00.118Z"
   },
   {
    "duration": 1315,
    "start_time": "2022-01-28T06:52:01.214Z"
   },
   {
    "duration": 2053,
    "start_time": "2022-01-28T06:52:02.531Z"
   },
   {
    "duration": 2175,
    "start_time": "2022-01-28T06:52:04.586Z"
   },
   {
    "duration": 2483,
    "start_time": "2022-01-28T06:52:06.762Z"
   },
   {
    "duration": 45,
    "start_time": "2022-01-28T06:54:52.720Z"
   },
   {
    "duration": 23,
    "start_time": "2022-01-28T06:56:03.609Z"
   },
   {
    "duration": 17,
    "start_time": "2022-01-28T06:56:15.496Z"
   },
   {
    "duration": 13,
    "start_time": "2022-01-28T06:56:22.150Z"
   },
   {
    "duration": 336,
    "start_time": "2022-01-28T06:59:25.752Z"
   },
   {
    "duration": 5,
    "start_time": "2022-01-28T07:00:05.617Z"
   },
   {
    "duration": 125,
    "start_time": "2022-03-26T05:53:28.867Z"
   },
   {
    "duration": 4149,
    "start_time": "2022-03-26T06:09:29.906Z"
   },
   {
    "duration": 1684,
    "start_time": "2022-03-26T06:09:34.058Z"
   },
   {
    "duration": 129,
    "start_time": "2022-03-26T06:09:35.745Z"
   },
   {
    "duration": 5,
    "start_time": "2022-03-26T06:09:35.877Z"
   },
   {
    "duration": 6,
    "start_time": "2022-03-26T06:09:35.885Z"
   },
   {
    "duration": 128,
    "start_time": "2022-03-26T06:09:35.893Z"
   },
   {
    "duration": 11,
    "start_time": "2022-03-26T06:09:36.024Z"
   },
   {
    "duration": 48,
    "start_time": "2022-03-26T06:09:36.038Z"
   },
   {
    "duration": 13,
    "start_time": "2022-03-26T06:09:36.088Z"
   },
   {
    "duration": 12,
    "start_time": "2022-03-26T06:09:36.105Z"
   },
   {
    "duration": 18,
    "start_time": "2022-03-26T06:09:36.120Z"
   },
   {
    "duration": 32,
    "start_time": "2022-03-26T06:09:37.876Z"
   },
   {
    "duration": 6,
    "start_time": "2022-03-26T06:09:47.380Z"
   },
   {
    "duration": 162,
    "start_time": "2022-03-26T06:09:52.358Z"
   },
   {
    "duration": 27,
    "start_time": "2022-03-26T06:10:19.108Z"
   },
   {
    "duration": 329,
    "start_time": "2022-03-26T06:10:33.231Z"
   },
   {
    "duration": 409,
    "start_time": "2022-03-26T06:10:58.165Z"
   },
   {
    "duration": 393,
    "start_time": "2022-03-26T06:11:31.193Z"
   },
   {
    "duration": 475,
    "start_time": "2022-03-26T06:11:32.533Z"
   },
   {
    "duration": 349,
    "start_time": "2022-03-26T06:11:33.226Z"
   },
   {
    "duration": 475,
    "start_time": "2022-03-26T06:11:33.649Z"
   },
   {
    "duration": 357,
    "start_time": "2022-03-26T06:11:34.127Z"
   },
   {
    "duration": 447,
    "start_time": "2022-03-26T06:11:34.489Z"
   },
   {
    "duration": 14,
    "start_time": "2022-03-26T06:11:34.939Z"
   },
   {
    "duration": 227,
    "start_time": "2022-03-26T06:11:35.009Z"
   },
   {
    "duration": 9,
    "start_time": "2022-03-26T06:11:35.488Z"
   },
   {
    "duration": 236,
    "start_time": "2022-03-26T06:11:36.731Z"
   },
   {
    "duration": 5,
    "start_time": "2022-03-26T06:11:37.911Z"
   },
   {
    "duration": 17,
    "start_time": "2022-03-26T06:12:18.629Z"
   },
   {
    "duration": 10,
    "start_time": "2022-03-26T06:14:29.919Z"
   },
   {
    "duration": 5133,
    "start_time": "2022-03-26T06:14:32.680Z"
   },
   {
    "duration": 6,
    "start_time": "2022-03-26T06:14:37.816Z"
   },
   {
    "duration": 68,
    "start_time": "2022-03-26T06:14:37.824Z"
   },
   {
    "duration": 4,
    "start_time": "2022-03-26T06:14:37.895Z"
   },
   {
    "duration": 15,
    "start_time": "2022-03-26T06:14:37.901Z"
   },
   {
    "duration": 110,
    "start_time": "2022-03-26T06:14:37.919Z"
   },
   {
    "duration": 11,
    "start_time": "2022-03-26T06:14:38.032Z"
   },
   {
    "duration": 39,
    "start_time": "2022-03-26T06:14:38.045Z"
   },
   {
    "duration": 24,
    "start_time": "2022-03-26T06:14:38.087Z"
   },
   {
    "duration": 33,
    "start_time": "2022-03-26T06:14:38.115Z"
   },
   {
    "duration": 23,
    "start_time": "2022-03-26T06:14:38.151Z"
   },
   {
    "duration": 44,
    "start_time": "2022-03-26T06:14:38.186Z"
   },
   {
    "duration": 11,
    "start_time": "2022-03-26T06:14:41.608Z"
   },
   {
    "duration": 27,
    "start_time": "2022-03-26T06:14:54.883Z"
   },
   {
    "duration": 21,
    "start_time": "2022-03-26T06:14:58.744Z"
   },
   {
    "duration": 6,
    "start_time": "2022-03-26T06:15:02.227Z"
   },
   {
    "duration": 21,
    "start_time": "2022-03-26T06:15:04.419Z"
   },
   {
    "duration": 16,
    "start_time": "2022-03-26T06:15:28.571Z"
   },
   {
    "duration": 3980,
    "start_time": "2022-03-26T07:09:33.055Z"
   },
   {
    "duration": 6,
    "start_time": "2022-03-26T07:09:37.038Z"
   },
   {
    "duration": 88,
    "start_time": "2022-03-26T07:09:37.046Z"
   },
   {
    "duration": 4,
    "start_time": "2022-03-26T07:09:37.137Z"
   },
   {
    "duration": 12,
    "start_time": "2022-03-26T07:09:37.143Z"
   },
   {
    "duration": 85,
    "start_time": "2022-03-26T07:09:37.157Z"
   },
   {
    "duration": 41,
    "start_time": "2022-03-26T07:09:37.244Z"
   },
   {
    "duration": 8,
    "start_time": "2022-03-26T07:09:37.287Z"
   },
   {
    "duration": 12,
    "start_time": "2022-03-26T07:09:37.297Z"
   },
   {
    "duration": 13,
    "start_time": "2022-03-26T07:09:37.314Z"
   },
   {
    "duration": 55,
    "start_time": "2022-03-26T07:09:37.330Z"
   },
   {
    "duration": 33,
    "start_time": "2022-03-26T07:09:37.387Z"
   },
   {
    "duration": 6,
    "start_time": "2022-03-26T07:09:37.422Z"
   },
   {
    "duration": 52,
    "start_time": "2022-03-26T07:09:37.431Z"
   },
   {
    "duration": 423,
    "start_time": "2022-03-26T07:09:37.486Z"
   },
   {
    "duration": 341,
    "start_time": "2022-03-26T07:09:37.911Z"
   },
   {
    "duration": 433,
    "start_time": "2022-03-26T07:09:38.254Z"
   },
   {
    "duration": 434,
    "start_time": "2022-03-26T07:09:38.690Z"
   },
   {
    "duration": 334,
    "start_time": "2022-03-26T07:09:39.127Z"
   },
   {
    "duration": 554,
    "start_time": "2022-03-26T07:09:39.463Z"
   },
   {
    "duration": 15,
    "start_time": "2022-03-26T07:09:40.020Z"
   },
   {
    "duration": 247,
    "start_time": "2022-03-26T07:09:40.037Z"
   },
   {
    "duration": 6,
    "start_time": "2022-03-26T07:09:40.285Z"
   },
   {
    "duration": 222,
    "start_time": "2022-03-26T07:09:40.293Z"
   },
   {
    "duration": 6,
    "start_time": "2022-03-26T07:09:40.518Z"
   },
   {
    "duration": 262,
    "start_time": "2022-03-26T07:09:40.526Z"
   },
   {
    "duration": 33,
    "start_time": "2022-03-26T07:09:40.790Z"
   },
   {
    "duration": 16,
    "start_time": "2022-03-26T07:09:40.827Z"
   },
   {
    "duration": 43,
    "start_time": "2022-03-26T07:09:40.845Z"
   },
   {
    "duration": 11,
    "start_time": "2022-03-26T07:09:40.891Z"
   },
   {
    "duration": 33,
    "start_time": "2022-03-26T07:09:40.905Z"
   },
   {
    "duration": 45,
    "start_time": "2022-03-26T07:09:40.940Z"
   },
   {
    "duration": 26,
    "start_time": "2022-03-26T07:09:40.988Z"
   },
   {
    "duration": 20,
    "start_time": "2022-03-26T07:09:58.742Z"
   },
   {
    "duration": 3,
    "start_time": "2022-03-26T07:12:40.459Z"
   },
   {
    "duration": 19,
    "start_time": "2022-03-26T07:12:46.109Z"
   },
   {
    "duration": 399,
    "start_time": "2022-03-26T07:12:51.169Z"
   },
   {
    "duration": 17,
    "start_time": "2022-03-26T07:12:56.093Z"
   },
   {
    "duration": 3534,
    "start_time": "2022-03-26T07:14:43.073Z"
   },
   {
    "duration": 5,
    "start_time": "2022-03-26T07:14:46.612Z"
   },
   {
    "duration": 60,
    "start_time": "2022-03-26T07:14:46.619Z"
   },
   {
    "duration": 4,
    "start_time": "2022-03-26T07:14:46.681Z"
   },
   {
    "duration": 13,
    "start_time": "2022-03-26T07:14:46.688Z"
   },
   {
    "duration": 99,
    "start_time": "2022-03-26T07:14:46.703Z"
   },
   {
    "duration": 10,
    "start_time": "2022-03-26T07:14:46.804Z"
   },
   {
    "duration": 12,
    "start_time": "2022-03-26T07:14:46.816Z"
   },
   {
    "duration": 21,
    "start_time": "2022-03-26T07:14:46.831Z"
   },
   {
    "duration": 39,
    "start_time": "2022-03-26T07:14:46.854Z"
   },
   {
    "duration": 23,
    "start_time": "2022-03-26T07:14:46.896Z"
   },
   {
    "duration": 35,
    "start_time": "2022-03-26T07:14:46.921Z"
   },
   {
    "duration": 28,
    "start_time": "2022-03-26T07:14:46.958Z"
   },
   {
    "duration": 16,
    "start_time": "2022-03-26T07:25:47.569Z"
   },
   {
    "duration": 15,
    "start_time": "2022-03-26T07:25:57.120Z"
   },
   {
    "duration": 15,
    "start_time": "2022-03-26T07:26:15.295Z"
   },
   {
    "duration": 24,
    "start_time": "2022-03-26T07:27:25.586Z"
   },
   {
    "duration": 20,
    "start_time": "2022-03-26T07:31:38.179Z"
   },
   {
    "duration": 16,
    "start_time": "2022-03-26T07:39:03.649Z"
   },
   {
    "duration": 13,
    "start_time": "2022-03-26T07:39:05.871Z"
   },
   {
    "duration": 7,
    "start_time": "2022-03-26T07:41:23.599Z"
   },
   {
    "duration": 4079,
    "start_time": "2022-03-26T07:42:22.587Z"
   },
   {
    "duration": 6,
    "start_time": "2022-03-26T07:42:26.670Z"
   },
   {
    "duration": 79,
    "start_time": "2022-03-26T07:42:26.679Z"
   },
   {
    "duration": 4,
    "start_time": "2022-03-26T07:42:26.762Z"
   },
   {
    "duration": 15,
    "start_time": "2022-03-26T07:42:26.769Z"
   },
   {
    "duration": 117,
    "start_time": "2022-03-26T07:42:26.787Z"
   },
   {
    "duration": 13,
    "start_time": "2022-03-26T07:42:26.907Z"
   },
   {
    "duration": 24,
    "start_time": "2022-03-26T07:42:26.922Z"
   },
   {
    "duration": 36,
    "start_time": "2022-03-26T07:42:26.949Z"
   },
   {
    "duration": 27,
    "start_time": "2022-03-26T07:42:26.989Z"
   },
   {
    "duration": 42,
    "start_time": "2022-03-26T07:42:27.018Z"
   },
   {
    "duration": 60,
    "start_time": "2022-03-26T07:42:27.062Z"
   },
   {
    "duration": 7,
    "start_time": "2022-03-26T07:42:27.125Z"
   },
   {
    "duration": 11,
    "start_time": "2022-03-26T07:42:27.134Z"
   },
   {
    "duration": 398,
    "start_time": "2022-03-26T07:42:27.147Z"
   },
   {
    "duration": 356,
    "start_time": "2022-03-26T07:42:27.548Z"
   },
   {
    "duration": 335,
    "start_time": "2022-03-26T07:42:27.907Z"
   },
   {
    "duration": 496,
    "start_time": "2022-03-26T07:42:28.244Z"
   },
   {
    "duration": 376,
    "start_time": "2022-03-26T07:42:28.744Z"
   },
   {
    "duration": 429,
    "start_time": "2022-03-26T07:42:29.122Z"
   },
   {
    "duration": 13,
    "start_time": "2022-03-26T07:42:29.553Z"
   },
   {
    "duration": 215,
    "start_time": "2022-03-26T07:42:29.569Z"
   },
   {
    "duration": 6,
    "start_time": "2022-03-26T07:42:29.787Z"
   },
   {
    "duration": 336,
    "start_time": "2022-03-26T07:42:29.795Z"
   },
   {
    "duration": 7,
    "start_time": "2022-03-26T07:42:30.134Z"
   },
   {
    "duration": 294,
    "start_time": "2022-03-26T07:42:30.143Z"
   },
   {
    "duration": 45,
    "start_time": "2022-03-26T07:42:30.439Z"
   },
   {
    "duration": 17,
    "start_time": "2022-03-26T07:42:30.488Z"
   },
   {
    "duration": 22,
    "start_time": "2022-03-26T07:42:30.507Z"
   },
   {
    "duration": 12,
    "start_time": "2022-03-26T07:42:30.532Z"
   },
   {
    "duration": 55,
    "start_time": "2022-03-26T07:42:30.546Z"
   },
   {
    "duration": 21,
    "start_time": "2022-03-26T07:42:30.604Z"
   },
   {
    "duration": 22,
    "start_time": "2022-03-26T07:42:30.627Z"
   },
   {
    "duration": 3441,
    "start_time": "2022-03-26T07:48:26.649Z"
   },
   {
    "duration": 6,
    "start_time": "2022-03-26T07:48:30.093Z"
   },
   {
    "duration": 55,
    "start_time": "2022-03-26T07:48:30.101Z"
   },
   {
    "duration": 4,
    "start_time": "2022-03-26T07:48:30.159Z"
   },
   {
    "duration": 24,
    "start_time": "2022-03-26T07:48:30.165Z"
   },
   {
    "duration": 108,
    "start_time": "2022-03-26T07:48:30.192Z"
   },
   {
    "duration": 10,
    "start_time": "2022-03-26T07:48:30.303Z"
   },
   {
    "duration": 20,
    "start_time": "2022-03-26T07:48:30.316Z"
   },
   {
    "duration": 26,
    "start_time": "2022-03-26T07:48:30.338Z"
   },
   {
    "duration": 26,
    "start_time": "2022-03-26T07:48:30.368Z"
   },
   {
    "duration": 30,
    "start_time": "2022-03-26T07:48:30.396Z"
   },
   {
    "duration": 44,
    "start_time": "2022-03-26T07:48:30.428Z"
   },
   {
    "duration": 8,
    "start_time": "2022-03-26T07:48:30.485Z"
   },
   {
    "duration": 404,
    "start_time": "2022-03-26T07:48:30.496Z"
   },
   {
    "duration": 342,
    "start_time": "2022-03-26T07:48:30.902Z"
   },
   {
    "duration": 347,
    "start_time": "2022-03-26T07:48:31.246Z"
   },
   {
    "duration": 436,
    "start_time": "2022-03-26T07:48:31.595Z"
   },
   {
    "duration": 347,
    "start_time": "2022-03-26T07:48:32.034Z"
   },
   {
    "duration": 441,
    "start_time": "2022-03-26T07:48:32.384Z"
   },
   {
    "duration": 19,
    "start_time": "2022-03-26T07:48:32.828Z"
   },
   {
    "duration": 244,
    "start_time": "2022-03-26T07:48:32.850Z"
   },
   {
    "duration": 6,
    "start_time": "2022-03-26T07:48:33.097Z"
   },
   {
    "duration": 226,
    "start_time": "2022-03-26T07:48:33.105Z"
   },
   {
    "duration": 6,
    "start_time": "2022-03-26T07:48:33.333Z"
   },
   {
    "duration": 252,
    "start_time": "2022-03-26T07:48:33.342Z"
   },
   {
    "duration": 41,
    "start_time": "2022-03-26T07:48:33.596Z"
   },
   {
    "duration": 16,
    "start_time": "2022-03-26T07:48:33.639Z"
   },
   {
    "duration": 14,
    "start_time": "2022-03-26T07:48:33.684Z"
   },
   {
    "duration": 12,
    "start_time": "2022-03-26T07:48:33.700Z"
   },
   {
    "duration": 46,
    "start_time": "2022-03-26T07:48:33.714Z"
   },
   {
    "duration": 38,
    "start_time": "2022-03-26T07:48:33.763Z"
   },
   {
    "duration": 25,
    "start_time": "2022-03-26T07:48:33.803Z"
   },
   {
    "duration": 5,
    "start_time": "2022-04-23T17:05:41.314Z"
   },
   {
    "duration": 2036,
    "start_time": "2022-04-23T17:05:41.322Z"
   },
   {
    "duration": 0,
    "start_time": "2022-04-23T17:05:43.439Z"
   },
   {
    "duration": 0,
    "start_time": "2022-04-23T17:05:43.441Z"
   },
   {
    "duration": 0,
    "start_time": "2022-04-23T17:05:43.443Z"
   },
   {
    "duration": 0,
    "start_time": "2022-04-23T17:05:43.452Z"
   },
   {
    "duration": 0,
    "start_time": "2022-04-23T17:05:43.454Z"
   },
   {
    "duration": 0,
    "start_time": "2022-04-23T17:05:43.456Z"
   },
   {
    "duration": 0,
    "start_time": "2022-04-23T17:05:43.458Z"
   },
   {
    "duration": 0,
    "start_time": "2022-04-23T17:05:43.460Z"
   },
   {
    "duration": 0,
    "start_time": "2022-04-23T17:05:43.462Z"
   },
   {
    "duration": 0,
    "start_time": "2022-04-23T17:05:43.464Z"
   },
   {
    "duration": 0,
    "start_time": "2022-04-23T17:05:43.466Z"
   },
   {
    "duration": 1,
    "start_time": "2022-04-23T17:05:43.468Z"
   },
   {
    "duration": 0,
    "start_time": "2022-04-23T17:05:43.470Z"
   },
   {
    "duration": 0,
    "start_time": "2022-04-23T17:05:43.472Z"
   },
   {
    "duration": 0,
    "start_time": "2022-04-23T17:05:43.474Z"
   },
   {
    "duration": 0,
    "start_time": "2022-04-23T17:05:43.476Z"
   },
   {
    "duration": 0,
    "start_time": "2022-04-23T17:05:43.478Z"
   },
   {
    "duration": 0,
    "start_time": "2022-04-23T17:05:43.480Z"
   },
   {
    "duration": 0,
    "start_time": "2022-04-23T17:05:43.481Z"
   },
   {
    "duration": 0,
    "start_time": "2022-04-23T17:05:43.483Z"
   },
   {
    "duration": 0,
    "start_time": "2022-04-23T17:05:43.488Z"
   },
   {
    "duration": 0,
    "start_time": "2022-04-23T17:05:43.489Z"
   },
   {
    "duration": 0,
    "start_time": "2022-04-23T17:05:43.567Z"
   },
   {
    "duration": 0,
    "start_time": "2022-04-23T17:05:43.569Z"
   },
   {
    "duration": 0,
    "start_time": "2022-04-23T17:05:43.570Z"
   },
   {
    "duration": 334,
    "start_time": "2022-04-23T17:12:53.404Z"
   },
   {
    "duration": 308,
    "start_time": "2022-04-23T17:12:55.830Z"
   },
   {
    "duration": 4,
    "start_time": "2022-04-23T17:12:56.651Z"
   },
   {
    "duration": 20,
    "start_time": "2022-04-23T17:12:57.260Z"
   },
   {
    "duration": 34,
    "start_time": "2022-04-23T17:12:57.956Z"
   },
   {
    "duration": 12546,
    "start_time": "2022-04-23T17:13:15.202Z"
   },
   {
    "duration": 2260,
    "start_time": "2022-04-23T17:13:55.473Z"
   },
   {
    "duration": 200,
    "start_time": "2022-04-23T17:13:57.736Z"
   },
   {
    "duration": 4,
    "start_time": "2022-04-23T17:13:57.939Z"
   },
   {
    "duration": 12,
    "start_time": "2022-04-23T17:13:57.944Z"
   },
   {
    "duration": 170,
    "start_time": "2022-04-23T17:13:57.960Z"
   },
   {
    "duration": 4,
    "start_time": "2022-04-23T17:13:58.133Z"
   },
   {
    "duration": 168,
    "start_time": "2022-04-23T17:13:58.139Z"
   },
   {
    "duration": 240,
    "start_time": "2022-04-23T17:13:58.310Z"
   },
   {
    "duration": 201,
    "start_time": "2022-04-23T17:13:58.552Z"
   },
   {
    "duration": 26496,
    "start_time": "2022-04-23T17:13:58.756Z"
   },
   {
    "duration": 98,
    "start_time": "2022-04-23T17:14:25.255Z"
   },
   {
    "duration": 18,
    "start_time": "2022-04-23T17:14:25.355Z"
   },
   {
    "duration": 6,
    "start_time": "2022-04-23T17:14:25.376Z"
   },
   {
    "duration": 97,
    "start_time": "2022-04-23T17:14:25.386Z"
   },
   {
    "duration": 194,
    "start_time": "2022-04-23T17:14:25.485Z"
   },
   {
    "duration": 14,
    "start_time": "2022-04-23T17:14:25.682Z"
   },
   {
    "duration": 14,
    "start_time": "2022-04-23T17:14:25.753Z"
   },
   {
    "duration": 123,
    "start_time": "2022-04-23T17:14:25.769Z"
   },
   {
    "duration": 265,
    "start_time": "2022-04-23T17:14:25.895Z"
   },
   {
    "duration": 7,
    "start_time": "2022-04-23T17:14:26.163Z"
   },
   {
    "duration": 202,
    "start_time": "2022-04-23T17:14:26.173Z"
   },
   {
    "duration": 323,
    "start_time": "2022-04-23T17:14:26.378Z"
   },
   {
    "duration": 6,
    "start_time": "2022-04-23T17:14:26.704Z"
   },
   {
    "duration": 85,
    "start_time": "2022-04-23T17:14:26.712Z"
   },
   {
    "duration": 151,
    "start_time": "2022-04-23T17:14:26.800Z"
   },
   {
    "duration": 64,
    "start_time": "2022-04-23T17:14:26.954Z"
   },
   {
    "duration": 20,
    "start_time": "2022-04-23T17:20:57.280Z"
   },
   {
    "duration": 1339,
    "start_time": "2022-04-24T14:45:00.189Z"
   },
   {
    "duration": 0,
    "start_time": "2022-04-24T14:45:01.583Z"
   },
   {
    "duration": 0,
    "start_time": "2022-04-24T14:45:01.585Z"
   },
   {
    "duration": 0,
    "start_time": "2022-04-24T14:45:01.586Z"
   },
   {
    "duration": 0,
    "start_time": "2022-04-24T14:45:01.588Z"
   },
   {
    "duration": 0,
    "start_time": "2022-04-24T14:45:01.592Z"
   },
   {
    "duration": 0,
    "start_time": "2022-04-24T14:45:01.594Z"
   },
   {
    "duration": 0,
    "start_time": "2022-04-24T14:45:01.595Z"
   },
   {
    "duration": 0,
    "start_time": "2022-04-24T14:45:01.597Z"
   },
   {
    "duration": 0,
    "start_time": "2022-04-24T14:45:01.599Z"
   },
   {
    "duration": 0,
    "start_time": "2022-04-24T14:45:01.601Z"
   },
   {
    "duration": 0,
    "start_time": "2022-04-24T14:45:01.602Z"
   },
   {
    "duration": 0,
    "start_time": "2022-04-24T14:45:01.604Z"
   },
   {
    "duration": 0,
    "start_time": "2022-04-24T14:45:01.606Z"
   },
   {
    "duration": 0,
    "start_time": "2022-04-24T14:45:01.607Z"
   },
   {
    "duration": 0,
    "start_time": "2022-04-24T14:45:01.609Z"
   },
   {
    "duration": 0,
    "start_time": "2022-04-24T14:45:01.610Z"
   },
   {
    "duration": 0,
    "start_time": "2022-04-24T14:45:01.611Z"
   },
   {
    "duration": 0,
    "start_time": "2022-04-24T14:45:01.613Z"
   },
   {
    "duration": 0,
    "start_time": "2022-04-24T14:45:01.615Z"
   },
   {
    "duration": 0,
    "start_time": "2022-04-24T14:45:01.616Z"
   },
   {
    "duration": 0,
    "start_time": "2022-04-24T14:45:01.617Z"
   },
   {
    "duration": 0,
    "start_time": "2022-04-24T14:45:01.619Z"
   },
   {
    "duration": 0,
    "start_time": "2022-04-24T14:45:01.621Z"
   },
   {
    "duration": 0,
    "start_time": "2022-04-24T14:45:01.622Z"
   },
   {
    "duration": 0,
    "start_time": "2022-04-24T14:45:01.624Z"
   },
   {
    "duration": 0,
    "start_time": "2022-04-24T14:45:01.625Z"
   },
   {
    "duration": 0,
    "start_time": "2022-04-24T14:45:01.627Z"
   },
   {
    "duration": 8361,
    "start_time": "2022-04-24T14:45:13.855Z"
   },
   {
    "duration": 1231,
    "start_time": "2022-04-24T14:46:02.325Z"
   },
   {
    "duration": 151,
    "start_time": "2022-04-24T14:46:03.559Z"
   },
   {
    "duration": 3,
    "start_time": "2022-04-24T14:46:03.711Z"
   },
   {
    "duration": 16,
    "start_time": "2022-04-24T14:46:03.716Z"
   },
   {
    "duration": 121,
    "start_time": "2022-04-24T14:46:03.735Z"
   },
   {
    "duration": 4,
    "start_time": "2022-04-24T14:46:03.858Z"
   },
   {
    "duration": 106,
    "start_time": "2022-04-24T14:46:03.864Z"
   },
   {
    "duration": 110,
    "start_time": "2022-04-24T14:46:03.971Z"
   },
   {
    "duration": 131,
    "start_time": "2022-04-24T14:46:04.083Z"
   },
   {
    "duration": 14976,
    "start_time": "2022-04-24T14:46:04.217Z"
   },
   {
    "duration": 2,
    "start_time": "2022-04-24T14:46:19.195Z"
   },
   {
    "duration": 37,
    "start_time": "2022-04-24T14:46:19.199Z"
   },
   {
    "duration": 72,
    "start_time": "2022-04-24T14:46:19.238Z"
   },
   {
    "duration": 5,
    "start_time": "2022-04-24T14:46:19.313Z"
   },
   {
    "duration": 84,
    "start_time": "2022-04-24T14:46:19.319Z"
   },
   {
    "duration": 118,
    "start_time": "2022-04-24T14:46:19.404Z"
   },
   {
    "duration": 69,
    "start_time": "2022-04-24T14:46:19.524Z"
   },
   {
    "duration": 9,
    "start_time": "2022-04-24T14:46:19.595Z"
   },
   {
    "duration": 89,
    "start_time": "2022-04-24T14:46:19.606Z"
   },
   {
    "duration": 5,
    "start_time": "2022-04-24T14:46:19.697Z"
   },
   {
    "duration": 94,
    "start_time": "2022-04-24T14:46:19.703Z"
   },
   {
    "duration": 102,
    "start_time": "2022-04-24T14:46:19.799Z"
   },
   {
    "duration": 147,
    "start_time": "2022-04-24T14:46:19.903Z"
   },
   {
    "duration": 210,
    "start_time": "2022-04-24T14:46:20.052Z"
   },
   {
    "duration": 4,
    "start_time": "2022-04-24T14:46:20.264Z"
   },
   {
    "duration": 31,
    "start_time": "2022-04-24T14:46:20.269Z"
   },
   {
    "duration": 28,
    "start_time": "2022-04-24T14:46:20.301Z"
   },
   {
    "duration": 16,
    "start_time": "2022-04-24T14:46:20.331Z"
   },
   {
    "duration": 14,
    "start_time": "2022-04-24T14:47:31.726Z"
   },
   {
    "duration": 5903,
    "start_time": "2022-04-24T14:47:44.460Z"
   },
   {
    "duration": 26,
    "start_time": "2022-04-24T14:49:44.409Z"
   },
   {
    "duration": 159,
    "start_time": "2022-04-24T14:50:26.913Z"
   },
   {
    "duration": 15,
    "start_time": "2022-04-24T14:50:29.558Z"
   },
   {
    "duration": 40,
    "start_time": "2022-04-24T14:50:52.691Z"
   },
   {
    "duration": 6425,
    "start_time": "2022-04-24T14:51:51.137Z"
   },
   {
    "duration": 6319,
    "start_time": "2022-04-24T14:52:05.248Z"
   },
   {
    "duration": 1158,
    "start_time": "2022-04-24T14:53:12.913Z"
   },
   {
    "duration": 1553,
    "start_time": "2022-04-24T14:53:24.971Z"
   },
   {
    "duration": 1162,
    "start_time": "2022-04-24T14:53:30.659Z"
   },
   {
    "duration": 1140,
    "start_time": "2022-04-24T14:53:37.802Z"
   },
   {
    "duration": 1439,
    "start_time": "2022-04-24T14:53:42.294Z"
   },
   {
    "duration": 1437,
    "start_time": "2022-04-24T14:54:04.355Z"
   },
   {
    "duration": 6122,
    "start_time": "2022-04-24T14:54:42.684Z"
   },
   {
    "duration": 6646,
    "start_time": "2022-04-24T14:55:36.163Z"
   },
   {
    "duration": 4,
    "start_time": "2022-06-20T16:43:41.534Z"
   },
   {
    "duration": 934,
    "start_time": "2022-06-20T16:43:41.539Z"
   },
   {
    "duration": 0,
    "start_time": "2022-06-20T16:43:42.480Z"
   },
   {
    "duration": 0,
    "start_time": "2022-06-20T16:43:42.481Z"
   },
   {
    "duration": 1,
    "start_time": "2022-06-20T16:43:42.481Z"
   },
   {
    "duration": 0,
    "start_time": "2022-06-20T16:43:42.482Z"
   },
   {
    "duration": 0,
    "start_time": "2022-06-20T16:43:42.486Z"
   },
   {
    "duration": 0,
    "start_time": "2022-06-20T16:43:42.486Z"
   },
   {
    "duration": 0,
    "start_time": "2022-06-20T16:43:42.488Z"
   },
   {
    "duration": 0,
    "start_time": "2022-06-20T16:43:42.490Z"
   },
   {
    "duration": 0,
    "start_time": "2022-06-20T16:43:42.491Z"
   },
   {
    "duration": 0,
    "start_time": "2022-06-20T16:43:42.492Z"
   },
   {
    "duration": 0,
    "start_time": "2022-06-20T16:43:42.494Z"
   },
   {
    "duration": 0,
    "start_time": "2022-06-20T16:43:42.496Z"
   },
   {
    "duration": 1,
    "start_time": "2022-06-20T16:43:42.497Z"
   },
   {
    "duration": 0,
    "start_time": "2022-06-20T16:43:42.499Z"
   },
   {
    "duration": 0,
    "start_time": "2022-06-20T16:43:42.500Z"
   },
   {
    "duration": 0,
    "start_time": "2022-06-20T16:43:42.501Z"
   },
   {
    "duration": 0,
    "start_time": "2022-06-20T16:43:42.503Z"
   },
   {
    "duration": 0,
    "start_time": "2022-06-20T16:43:42.504Z"
   },
   {
    "duration": 0,
    "start_time": "2022-06-20T16:43:42.506Z"
   },
   {
    "duration": 0,
    "start_time": "2022-06-20T16:43:42.507Z"
   },
   {
    "duration": 0,
    "start_time": "2022-06-20T16:43:42.509Z"
   },
   {
    "duration": 3,
    "start_time": "2022-06-20T16:45:34.279Z"
   },
   {
    "duration": 733,
    "start_time": "2022-06-20T16:45:34.284Z"
   },
   {
    "duration": 0,
    "start_time": "2022-06-20T16:45:35.020Z"
   },
   {
    "duration": 0,
    "start_time": "2022-06-20T16:45:35.021Z"
   },
   {
    "duration": 0,
    "start_time": "2022-06-20T16:45:35.022Z"
   },
   {
    "duration": 0,
    "start_time": "2022-06-20T16:45:35.023Z"
   },
   {
    "duration": 0,
    "start_time": "2022-06-20T16:45:35.024Z"
   },
   {
    "duration": 0,
    "start_time": "2022-06-20T16:45:35.025Z"
   },
   {
    "duration": 0,
    "start_time": "2022-06-20T16:45:35.026Z"
   },
   {
    "duration": 0,
    "start_time": "2022-06-20T16:45:35.027Z"
   },
   {
    "duration": 0,
    "start_time": "2022-06-20T16:45:35.029Z"
   },
   {
    "duration": 0,
    "start_time": "2022-06-20T16:45:35.030Z"
   },
   {
    "duration": 0,
    "start_time": "2022-06-20T16:45:35.031Z"
   },
   {
    "duration": 0,
    "start_time": "2022-06-20T16:45:35.032Z"
   },
   {
    "duration": 0,
    "start_time": "2022-06-20T16:45:35.034Z"
   },
   {
    "duration": 0,
    "start_time": "2022-06-20T16:45:35.035Z"
   },
   {
    "duration": 0,
    "start_time": "2022-06-20T16:45:35.061Z"
   },
   {
    "duration": 0,
    "start_time": "2022-06-20T16:45:35.062Z"
   },
   {
    "duration": 0,
    "start_time": "2022-06-20T16:45:35.063Z"
   },
   {
    "duration": 0,
    "start_time": "2022-06-20T16:45:35.064Z"
   },
   {
    "duration": 0,
    "start_time": "2022-06-20T16:45:35.066Z"
   },
   {
    "duration": 0,
    "start_time": "2022-06-20T16:45:35.067Z"
   },
   {
    "duration": 0,
    "start_time": "2022-06-20T16:45:35.068Z"
   },
   {
    "duration": 3,
    "start_time": "2022-06-20T16:47:10.539Z"
   },
   {
    "duration": 1506,
    "start_time": "2022-06-20T16:47:10.544Z"
   },
   {
    "duration": 83,
    "start_time": "2022-06-20T16:47:12.052Z"
   },
   {
    "duration": 3,
    "start_time": "2022-06-20T16:47:12.137Z"
   },
   {
    "duration": 7,
    "start_time": "2022-06-20T16:47:12.142Z"
   },
   {
    "duration": 149,
    "start_time": "2022-06-20T16:47:12.151Z"
   },
   {
    "duration": 0,
    "start_time": "2022-06-20T16:47:12.304Z"
   },
   {
    "duration": 0,
    "start_time": "2022-06-20T16:47:12.305Z"
   },
   {
    "duration": 0,
    "start_time": "2022-06-20T16:47:12.306Z"
   },
   {
    "duration": 0,
    "start_time": "2022-06-20T16:47:12.308Z"
   },
   {
    "duration": 0,
    "start_time": "2022-06-20T16:47:12.309Z"
   },
   {
    "duration": 0,
    "start_time": "2022-06-20T16:47:12.310Z"
   },
   {
    "duration": 0,
    "start_time": "2022-06-20T16:47:12.312Z"
   },
   {
    "duration": 0,
    "start_time": "2022-06-20T16:47:12.312Z"
   },
   {
    "duration": 0,
    "start_time": "2022-06-20T16:47:12.314Z"
   },
   {
    "duration": 0,
    "start_time": "2022-06-20T16:47:12.314Z"
   },
   {
    "duration": 0,
    "start_time": "2022-06-20T16:47:12.316Z"
   },
   {
    "duration": 0,
    "start_time": "2022-06-20T16:47:12.317Z"
   },
   {
    "duration": 0,
    "start_time": "2022-06-20T16:47:12.318Z"
   },
   {
    "duration": 0,
    "start_time": "2022-06-20T16:47:12.319Z"
   },
   {
    "duration": 0,
    "start_time": "2022-06-20T16:47:12.320Z"
   },
   {
    "duration": 0,
    "start_time": "2022-06-20T16:47:12.321Z"
   },
   {
    "duration": 0,
    "start_time": "2022-06-20T16:47:12.322Z"
   },
   {
    "duration": 3228,
    "start_time": "2022-06-20T16:47:27.783Z"
   },
   {
    "duration": 1534,
    "start_time": "2022-06-20T16:47:31.014Z"
   },
   {
    "duration": 52,
    "start_time": "2022-06-20T16:47:32.550Z"
   },
   {
    "duration": 3,
    "start_time": "2022-06-20T16:47:32.605Z"
   },
   {
    "duration": 6,
    "start_time": "2022-06-20T16:47:32.610Z"
   },
   {
    "duration": 37,
    "start_time": "2022-06-20T16:47:32.617Z"
   },
   {
    "duration": 3,
    "start_time": "2022-06-20T16:47:32.656Z"
   },
   {
    "duration": 45,
    "start_time": "2022-06-20T16:47:32.660Z"
   },
   {
    "duration": 39,
    "start_time": "2022-06-20T16:47:32.707Z"
   },
   {
    "duration": 75,
    "start_time": "2022-06-20T16:47:32.750Z"
   },
   {
    "duration": 2966,
    "start_time": "2022-06-20T16:47:32.826Z"
   },
   {
    "duration": 1558,
    "start_time": "2022-06-20T16:47:35.795Z"
   },
   {
    "duration": 175,
    "start_time": "2022-06-20T16:47:37.355Z"
   },
   {
    "duration": 820,
    "start_time": "2022-06-20T16:47:37.532Z"
   },
   {
    "duration": 775,
    "start_time": "2022-06-20T16:47:38.354Z"
   },
   {
    "duration": 648,
    "start_time": "2022-06-20T16:47:39.131Z"
   },
   {
    "duration": 817,
    "start_time": "2022-06-20T16:47:39.780Z"
   },
   {
    "duration": 654,
    "start_time": "2022-06-20T16:47:40.599Z"
   },
   {
    "duration": 593,
    "start_time": "2022-06-20T16:47:41.259Z"
   },
   {
    "duration": 121574,
    "start_time": "2022-06-20T16:47:41.854Z"
   },
   {
    "duration": 1053,
    "start_time": "2022-06-20T16:49:43.430Z"
   },
   {
    "duration": 4940,
    "start_time": "2022-06-20T16:49:44.485Z"
   },
   {
    "duration": 19,
    "start_time": "2022-06-20T16:49:49.427Z"
   },
   {
    "duration": 2346,
    "start_time": "2022-06-20T16:50:34.525Z"
   },
   {
    "duration": 6003,
    "start_time": "2022-06-20T16:50:57.772Z"
   }
  ],
  "kernelspec": {
   "display_name": "Python 3",
   "language": "python",
   "name": "python3"
  },
  "language_info": {
   "codemirror_mode": {
    "name": "ipython",
    "version": 3
   },
   "file_extension": ".py",
   "mimetype": "text/x-python",
   "name": "python",
   "nbconvert_exporter": "python",
   "pygments_lexer": "ipython3",
   "version": "3.8.8"
  },
  "toc": {
   "base_numbering": 1,
   "nav_menu": {},
   "number_sections": true,
   "sideBar": true,
   "skip_h1_title": true,
   "title_cell": "Table of Contents",
   "title_sidebar": "Contents",
   "toc_cell": false,
   "toc_position": {},
   "toc_section_display": true,
   "toc_window_display": true
  }
 },
 "nbformat": 4,
 "nbformat_minor": 4
}
