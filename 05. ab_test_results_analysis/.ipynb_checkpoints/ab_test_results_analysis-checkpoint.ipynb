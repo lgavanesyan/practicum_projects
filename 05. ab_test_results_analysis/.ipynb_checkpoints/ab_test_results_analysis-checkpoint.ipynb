{
 "cells": [
  {
   "cell_type": "markdown",
   "metadata": {},
   "source": [
    "# Проект 7: приоритизация гипотез и анализ результатов А/В теста"
   ]
  },
  {
   "cell_type": "markdown",
   "metadata": {},
   "source": [
    "#### Описание данных\n",
    "Таблица hypothesis (информация о проверяемых гипотезах):\n",
    "\n",
    "    Hypothesis — краткое описание гипотезы\n",
    "    Reach — охват пользователей по 10-балльной шкале\n",
    "    Impact — влияние на пользователей по 10-балльной шкале\n",
    "    Confidence — уверенность в гипотезе по 10-балльной шкале\n",
    "    Efforts — затраты ресурсов на проверку гипотезы по 10-балльной шкале \n",
    "    (чем больше значение efforts, тем дороже проверка гипотезы)\n",
    "\n",
    "Таблица orders (информация о заказах):\n",
    "\n",
    "    transactionId — идентификатор заказа\n",
    "    visitorId — идентификатор пользователя, совершившего заказ\n",
    "    date — дата совершения заказа\n",
    "    revenue - выручка от заказа\n",
    "    group - группа А/В теста, в которую попал заказ\n",
    "\n",
    "Таблица visitors (информация о посетителях интернет-магазина):\n",
    "\n",
    "    date — дата\n",
    "    group — группа А/В теста\n",
    "    visitors — количество пользователей в указанную дату в указанной группе А/В теста\n",
    "    \n",
    "#### Задача\n",
    "- Провести приоритизацию гипотез по фремворкам ICE и RICE, зафиксировать отличия\n",
    "- Понять, успешен ли тест, проанализировав его результаты и проверив статистическую значимость различия конверсии и среднего чека в двух группах"
   ]
  },
  {
   "cell_type": "markdown",
   "metadata": {},
   "source": [
    "## Содержание\n",
    "1. [Изучение данных](#data)\n",
    "2. [Приоритизация гипотез](#hypothesis)\n",
    "3. [Анализ A/B-теста](#test)\n",
    "4. [Summary результатов](#results)"
   ]
  },
  {
   "cell_type": "markdown",
   "metadata": {},
   "source": [
    "## Изучение данных <a name=\"data\"></a>"
   ]
  },
  {
   "cell_type": "code",
   "execution_count": 1,
   "metadata": {},
   "outputs": [
    {
     "name": "stdout",
     "output_type": "stream",
     "text": [
      "Requirement already satisfied: simple-colors in /opt/anaconda3/lib/python3.8/site-packages (0.1.5)\n",
      "Note: you may need to restart the kernel to use updated packages.\n"
     ]
    }
   ],
   "source": [
    "pip install simple-colors"
   ]
  },
  {
   "cell_type": "code",
   "execution_count": 2,
   "metadata": {},
   "outputs": [],
   "source": [
    "import pandas as pd\n",
    "import numpy as np\n",
    "import scipy.stats as stats\n",
    "import matplotlib.pyplot as plt\n",
    "from datetime import datetime, timedelta\n",
    "from simple_colors import *\n",
    "\n",
    "import warnings\n",
    "warnings.filterwarnings('ignore')\n",
    "\n",
    "pd.options.display.max_colwidth = 100 "
   ]
  },
  {
   "cell_type": "code",
   "execution_count": 3,
   "metadata": {},
   "outputs": [],
   "source": [
    "# открываем файлы\n",
    "try:\n",
    "    hypothesis = pd.read_csv('/datasets/hypothesis.csv') # Yandex путь\n",
    "    orders = pd.read_csv('/datasets/orders.csv')\n",
    "    visitors = pd.read_csv('/datasets/visitors.csv')\n",
    "    \n",
    "except:\n",
    "    hypothesis = pd.read_csv('hypothesis.csv') # личный путь\n",
    "    orders = pd.read_csv('orders.csv')\n",
    "    visitors = pd.read_csv('visitors.csv')"
   ]
  },
  {
   "cell_type": "code",
   "execution_count": 4,
   "metadata": {},
   "outputs": [],
   "source": [
    "# зададим имена датафреймов\n",
    "hypothesis.name = 'hypothesis'\n",
    "orders.name = 'orders'\n",
    "visitors.name = 'visitors'"
   ]
  },
  {
   "cell_type": "code",
   "execution_count": 5,
   "metadata": {},
   "outputs": [],
   "source": [
    "# зададим функцию для изучения данных\n",
    "def prelim_analysis(df):\n",
    "    print(blue(f'Таблица {df.name}', ['bold', 'underlined']))\n",
    "    display(df.head())\n",
    "    print(f'\\nОбщая информация')\n",
    "    display(df.info())\n",
    "    print(f'Дубликаты: {df.duplicated().sum()}\\n')\n",
    "    print(f'Пропуски:\\n{df.isna().sum()}\\n')"
   ]
  },
  {
   "cell_type": "code",
   "execution_count": 6,
   "metadata": {
    "scrolled": false
   },
   "outputs": [
    {
     "name": "stdout",
     "output_type": "stream",
     "text": [
      "\u001b[1;4;34mТаблица hypothesis\u001b[0m\n"
     ]
    },
    {
     "data": {
      "text/html": [
       "<div>\n",
       "<style scoped>\n",
       "    .dataframe tbody tr th:only-of-type {\n",
       "        vertical-align: middle;\n",
       "    }\n",
       "\n",
       "    .dataframe tbody tr th {\n",
       "        vertical-align: top;\n",
       "    }\n",
       "\n",
       "    .dataframe thead th {\n",
       "        text-align: right;\n",
       "    }\n",
       "</style>\n",
       "<table border=\"1\" class=\"dataframe\">\n",
       "  <thead>\n",
       "    <tr style=\"text-align: right;\">\n",
       "      <th></th>\n",
       "      <th>Hypothesis</th>\n",
       "      <th>Reach</th>\n",
       "      <th>Impact</th>\n",
       "      <th>Confidence</th>\n",
       "      <th>Efforts</th>\n",
       "    </tr>\n",
       "  </thead>\n",
       "  <tbody>\n",
       "    <tr>\n",
       "      <th>0</th>\n",
       "      <td>Добавить два новых канала привлечения трафика, что позволит привлекать на 30% больше пользователей</td>\n",
       "      <td>3</td>\n",
       "      <td>10</td>\n",
       "      <td>8</td>\n",
       "      <td>6</td>\n",
       "    </tr>\n",
       "    <tr>\n",
       "      <th>1</th>\n",
       "      <td>Запустить собственную службу доставки, что сократит срок доставки заказов</td>\n",
       "      <td>2</td>\n",
       "      <td>5</td>\n",
       "      <td>4</td>\n",
       "      <td>10</td>\n",
       "    </tr>\n",
       "    <tr>\n",
       "      <th>2</th>\n",
       "      <td>Добавить блоки рекомендаций товаров на сайт интернет магазина, чтобы повысить конверсию и средни...</td>\n",
       "      <td>8</td>\n",
       "      <td>3</td>\n",
       "      <td>7</td>\n",
       "      <td>3</td>\n",
       "    </tr>\n",
       "    <tr>\n",
       "      <th>3</th>\n",
       "      <td>Изменить структура категорий, что увеличит конверсию, т.к. пользователи быстрее найдут нужный товар</td>\n",
       "      <td>8</td>\n",
       "      <td>3</td>\n",
       "      <td>3</td>\n",
       "      <td>8</td>\n",
       "    </tr>\n",
       "    <tr>\n",
       "      <th>4</th>\n",
       "      <td>Изменить цвет фона главной страницы, чтобы увеличить вовлеченность пользователей</td>\n",
       "      <td>3</td>\n",
       "      <td>1</td>\n",
       "      <td>1</td>\n",
       "      <td>1</td>\n",
       "    </tr>\n",
       "  </tbody>\n",
       "</table>\n",
       "</div>"
      ],
      "text/plain": [
       "                                                                                            Hypothesis  \\\n",
       "0   Добавить два новых канала привлечения трафика, что позволит привлекать на 30% больше пользователей   \n",
       "1                            Запустить собственную службу доставки, что сократит срок доставки заказов   \n",
       "2  Добавить блоки рекомендаций товаров на сайт интернет магазина, чтобы повысить конверсию и средни...   \n",
       "3  Изменить структура категорий, что увеличит конверсию, т.к. пользователи быстрее найдут нужный товар   \n",
       "4                     Изменить цвет фона главной страницы, чтобы увеличить вовлеченность пользователей   \n",
       "\n",
       "   Reach  Impact  Confidence  Efforts  \n",
       "0      3      10           8        6  \n",
       "1      2       5           4       10  \n",
       "2      8       3           7        3  \n",
       "3      8       3           3        8  \n",
       "4      3       1           1        1  "
      ]
     },
     "metadata": {},
     "output_type": "display_data"
    },
    {
     "name": "stdout",
     "output_type": "stream",
     "text": [
      "\n",
      "Общая информация\n",
      "<class 'pandas.core.frame.DataFrame'>\n",
      "RangeIndex: 9 entries, 0 to 8\n",
      "Data columns (total 5 columns):\n",
      " #   Column      Non-Null Count  Dtype \n",
      "---  ------      --------------  ----- \n",
      " 0   Hypothesis  9 non-null      object\n",
      " 1   Reach       9 non-null      int64 \n",
      " 2   Impact      9 non-null      int64 \n",
      " 3   Confidence  9 non-null      int64 \n",
      " 4   Efforts     9 non-null      int64 \n",
      "dtypes: int64(4), object(1)\n",
      "memory usage: 488.0+ bytes\n"
     ]
    },
    {
     "data": {
      "text/plain": [
       "None"
      ]
     },
     "metadata": {},
     "output_type": "display_data"
    },
    {
     "name": "stdout",
     "output_type": "stream",
     "text": [
      "Дубликаты: 0\n",
      "\n",
      "Пропуски:\n",
      "Hypothesis    0\n",
      "Reach         0\n",
      "Impact        0\n",
      "Confidence    0\n",
      "Efforts       0\n",
      "dtype: int64\n",
      "\n",
      "\u001b[1;4;34mТаблица orders\u001b[0m\n"
     ]
    },
    {
     "data": {
      "text/html": [
       "<div>\n",
       "<style scoped>\n",
       "    .dataframe tbody tr th:only-of-type {\n",
       "        vertical-align: middle;\n",
       "    }\n",
       "\n",
       "    .dataframe tbody tr th {\n",
       "        vertical-align: top;\n",
       "    }\n",
       "\n",
       "    .dataframe thead th {\n",
       "        text-align: right;\n",
       "    }\n",
       "</style>\n",
       "<table border=\"1\" class=\"dataframe\">\n",
       "  <thead>\n",
       "    <tr style=\"text-align: right;\">\n",
       "      <th></th>\n",
       "      <th>transactionId</th>\n",
       "      <th>visitorId</th>\n",
       "      <th>date</th>\n",
       "      <th>revenue</th>\n",
       "      <th>group</th>\n",
       "    </tr>\n",
       "  </thead>\n",
       "  <tbody>\n",
       "    <tr>\n",
       "      <th>0</th>\n",
       "      <td>3667963787</td>\n",
       "      <td>3312258926</td>\n",
       "      <td>2019-08-15</td>\n",
       "      <td>1650</td>\n",
       "      <td>B</td>\n",
       "    </tr>\n",
       "    <tr>\n",
       "      <th>1</th>\n",
       "      <td>2804400009</td>\n",
       "      <td>3642806036</td>\n",
       "      <td>2019-08-15</td>\n",
       "      <td>730</td>\n",
       "      <td>B</td>\n",
       "    </tr>\n",
       "    <tr>\n",
       "      <th>2</th>\n",
       "      <td>2961555356</td>\n",
       "      <td>4069496402</td>\n",
       "      <td>2019-08-15</td>\n",
       "      <td>400</td>\n",
       "      <td>A</td>\n",
       "    </tr>\n",
       "    <tr>\n",
       "      <th>3</th>\n",
       "      <td>3797467345</td>\n",
       "      <td>1196621759</td>\n",
       "      <td>2019-08-15</td>\n",
       "      <td>9759</td>\n",
       "      <td>B</td>\n",
       "    </tr>\n",
       "    <tr>\n",
       "      <th>4</th>\n",
       "      <td>2282983706</td>\n",
       "      <td>2322279887</td>\n",
       "      <td>2019-08-15</td>\n",
       "      <td>2308</td>\n",
       "      <td>B</td>\n",
       "    </tr>\n",
       "  </tbody>\n",
       "</table>\n",
       "</div>"
      ],
      "text/plain": [
       "   transactionId   visitorId        date  revenue group\n",
       "0     3667963787  3312258926  2019-08-15     1650     B\n",
       "1     2804400009  3642806036  2019-08-15      730     B\n",
       "2     2961555356  4069496402  2019-08-15      400     A\n",
       "3     3797467345  1196621759  2019-08-15     9759     B\n",
       "4     2282983706  2322279887  2019-08-15     2308     B"
      ]
     },
     "metadata": {},
     "output_type": "display_data"
    },
    {
     "name": "stdout",
     "output_type": "stream",
     "text": [
      "\n",
      "Общая информация\n",
      "<class 'pandas.core.frame.DataFrame'>\n",
      "RangeIndex: 1197 entries, 0 to 1196\n",
      "Data columns (total 5 columns):\n",
      " #   Column         Non-Null Count  Dtype \n",
      "---  ------         --------------  ----- \n",
      " 0   transactionId  1197 non-null   int64 \n",
      " 1   visitorId      1197 non-null   int64 \n",
      " 2   date           1197 non-null   object\n",
      " 3   revenue        1197 non-null   int64 \n",
      " 4   group          1197 non-null   object\n",
      "dtypes: int64(3), object(2)\n",
      "memory usage: 46.9+ KB\n"
     ]
    },
    {
     "data": {
      "text/plain": [
       "None"
      ]
     },
     "metadata": {},
     "output_type": "display_data"
    },
    {
     "name": "stdout",
     "output_type": "stream",
     "text": [
      "Дубликаты: 0\n",
      "\n",
      "Пропуски:\n",
      "transactionId    0\n",
      "visitorId        0\n",
      "date             0\n",
      "revenue          0\n",
      "group            0\n",
      "dtype: int64\n",
      "\n",
      "\u001b[1;4;34mТаблица visitors\u001b[0m\n"
     ]
    },
    {
     "data": {
      "text/html": [
       "<div>\n",
       "<style scoped>\n",
       "    .dataframe tbody tr th:only-of-type {\n",
       "        vertical-align: middle;\n",
       "    }\n",
       "\n",
       "    .dataframe tbody tr th {\n",
       "        vertical-align: top;\n",
       "    }\n",
       "\n",
       "    .dataframe thead th {\n",
       "        text-align: right;\n",
       "    }\n",
       "</style>\n",
       "<table border=\"1\" class=\"dataframe\">\n",
       "  <thead>\n",
       "    <tr style=\"text-align: right;\">\n",
       "      <th></th>\n",
       "      <th>date</th>\n",
       "      <th>group</th>\n",
       "      <th>visitors</th>\n",
       "    </tr>\n",
       "  </thead>\n",
       "  <tbody>\n",
       "    <tr>\n",
       "      <th>0</th>\n",
       "      <td>2019-08-01</td>\n",
       "      <td>A</td>\n",
       "      <td>719</td>\n",
       "    </tr>\n",
       "    <tr>\n",
       "      <th>1</th>\n",
       "      <td>2019-08-02</td>\n",
       "      <td>A</td>\n",
       "      <td>619</td>\n",
       "    </tr>\n",
       "    <tr>\n",
       "      <th>2</th>\n",
       "      <td>2019-08-03</td>\n",
       "      <td>A</td>\n",
       "      <td>507</td>\n",
       "    </tr>\n",
       "    <tr>\n",
       "      <th>3</th>\n",
       "      <td>2019-08-04</td>\n",
       "      <td>A</td>\n",
       "      <td>717</td>\n",
       "    </tr>\n",
       "    <tr>\n",
       "      <th>4</th>\n",
       "      <td>2019-08-05</td>\n",
       "      <td>A</td>\n",
       "      <td>756</td>\n",
       "    </tr>\n",
       "  </tbody>\n",
       "</table>\n",
       "</div>"
      ],
      "text/plain": [
       "         date group  visitors\n",
       "0  2019-08-01     A       719\n",
       "1  2019-08-02     A       619\n",
       "2  2019-08-03     A       507\n",
       "3  2019-08-04     A       717\n",
       "4  2019-08-05     A       756"
      ]
     },
     "metadata": {},
     "output_type": "display_data"
    },
    {
     "name": "stdout",
     "output_type": "stream",
     "text": [
      "\n",
      "Общая информация\n",
      "<class 'pandas.core.frame.DataFrame'>\n",
      "RangeIndex: 62 entries, 0 to 61\n",
      "Data columns (total 3 columns):\n",
      " #   Column    Non-Null Count  Dtype \n",
      "---  ------    --------------  ----- \n",
      " 0   date      62 non-null     object\n",
      " 1   group     62 non-null     object\n",
      " 2   visitors  62 non-null     int64 \n",
      "dtypes: int64(1), object(2)\n",
      "memory usage: 1.6+ KB\n"
     ]
    },
    {
     "data": {
      "text/plain": [
       "None"
      ]
     },
     "metadata": {},
     "output_type": "display_data"
    },
    {
     "name": "stdout",
     "output_type": "stream",
     "text": [
      "Дубликаты: 0\n",
      "\n",
      "Пропуски:\n",
      "date        0\n",
      "group       0\n",
      "visitors    0\n",
      "dtype: int64\n",
      "\n"
     ]
    }
   ],
   "source": [
    "# проведем предварительный анализ\n",
    "for df in [hypothesis,orders,visitors]:\n",
    "    prelim_analysis(df)"
   ]
  },
  {
   "cell_type": "markdown",
   "metadata": {},
   "source": [
    "- Данные собраны в 3 датафреймах, пропусков и дубликатов нет\n",
    "- Необходимо привести названия столбцов к единому виду\n",
    "- Необходимо заменить тип всех дат с object на datetime"
   ]
  },
  {
   "cell_type": "code",
   "execution_count": 7,
   "metadata": {},
   "outputs": [],
   "source": [
    "# делаем все названия столбцов строчными\n",
    "hypothesis.columns = hypothesis.columns.str.lower()\n",
    "\n",
    "# переименовываем столбцы\n",
    "orders = orders.rename(columns={'transactionId': 'transaction_id', 'visitorId': 'visitor_id'})\n",
    "\n",
    "# меняем формат даты\n",
    "orders['date'] = pd.to_datetime(orders['date'])\n",
    "visitors['date'] = pd.to_datetime(visitors['date'])"
   ]
  },
  {
   "cell_type": "markdown",
   "metadata": {},
   "source": [
    "## Приоритизация гипотез <a name=\"hypothesis\"></a>"
   ]
  },
  {
   "cell_type": "code",
   "execution_count": 8,
   "metadata": {},
   "outputs": [
    {
     "data": {
      "text/plain": [
       "array(['Добавить два новых канала привлечения трафика, что позволит привлекать на 30% больше пользователей',\n",
       "       'Запустить собственную службу доставки, что сократит срок доставки заказов',\n",
       "       'Добавить блоки рекомендаций товаров на сайт интернет магазина, чтобы повысить конверсию и средний чек заказа',\n",
       "       'Изменить структура категорий, что увеличит конверсию, т.к. пользователи быстрее найдут нужный товар',\n",
       "       'Изменить цвет фона главной страницы, чтобы увеличить вовлеченность пользователей',\n",
       "       'Добавить страницу отзывов клиентов о магазине, что позволит увеличить количество заказов',\n",
       "       'Показать на главной странице баннеры с актуальными акциями и распродажами, чтобы увеличить конверсию',\n",
       "       'Добавить форму подписки на все основные страницы, чтобы собрать базу клиентов для email-рассылок',\n",
       "       'Запустить акцию, дающую скидку на товар в день рождения'],\n",
       "      dtype=object)"
      ]
     },
     "execution_count": 8,
     "metadata": {},
     "output_type": "execute_result"
    }
   ],
   "source": [
    "# познакомимся с гипотезами\n",
    "hypothesis['hypothesis'].unique()"
   ]
  },
  {
   "cell_type": "code",
   "execution_count": 9,
   "metadata": {
    "scrolled": false
   },
   "outputs": [
    {
     "name": "stdout",
     "output_type": "stream",
     "text": [
      "                                                                                            hypothesis  \\\n",
      "8                                              Запустить акцию, дающую скидку на товар в день рождения   \n",
      "0   Добавить два новых канала привлечения трафика, что позволит привлекать на 30% больше пользователей   \n",
      "7     Добавить форму подписки на все основные страницы, чтобы собрать базу клиентов для email-рассылок   \n",
      "6  Показать на главной странице баннеры с актуальными акциями и распродажами, чтобы увеличить конве...   \n",
      "2  Добавить блоки рекомендаций товаров на сайт интернет магазина, чтобы повысить конверсию и средни...   \n",
      "1                            Запустить собственную службу доставки, что сократит срок доставки заказов   \n",
      "5             Добавить страницу отзывов клиентов о магазине, что позволит увеличить количество заказов   \n",
      "3  Изменить структура категорий, что увеличит конверсию, т.к. пользователи быстрее найдут нужный товар   \n",
      "4                     Изменить цвет фона главной страницы, чтобы увеличить вовлеченность пользователей   \n",
      "\n",
      "         ICE  \n",
      "8  16.200000  \n",
      "0  13.333333  \n",
      "7  11.200000  \n",
      "6   8.000000  \n",
      "2   7.000000  \n",
      "1   2.000000  \n",
      "5   1.333333  \n",
      "3   1.125000  \n",
      "4   1.000000  \n"
     ]
    }
   ],
   "source": [
    "# применим фреймворк ICE\n",
    "hypothesis['ICE'] = hypothesis['impact'] * hypothesis['confidence'] / hypothesis['efforts']\n",
    "print(hypothesis[['hypothesis', 'ICE']].sort_values(by='ICE', ascending=False))"
   ]
  },
  {
   "cell_type": "code",
   "execution_count": 10,
   "metadata": {
    "scrolled": true
   },
   "outputs": [
    {
     "name": "stdout",
     "output_type": "stream",
     "text": [
      "                                                                                            hypothesis  \\\n",
      "7     Добавить форму подписки на все основные страницы, чтобы собрать базу клиентов для email-рассылок   \n",
      "2  Добавить блоки рекомендаций товаров на сайт интернет магазина, чтобы повысить конверсию и средни...   \n",
      "0   Добавить два новых канала привлечения трафика, что позволит привлекать на 30% больше пользователей   \n",
      "6  Показать на главной странице баннеры с актуальными акциями и распродажами, чтобы увеличить конве...   \n",
      "8                                              Запустить акцию, дающую скидку на товар в день рождения   \n",
      "3  Изменить структура категорий, что увеличит конверсию, т.к. пользователи быстрее найдут нужный товар   \n",
      "1                            Запустить собственную службу доставки, что сократит срок доставки заказов   \n",
      "5             Добавить страницу отзывов клиентов о магазине, что позволит увеличить количество заказов   \n",
      "4                     Изменить цвет фона главной страницы, чтобы увеличить вовлеченность пользователей   \n",
      "\n",
      "    RICE  \n",
      "7  112.0  \n",
      "2   56.0  \n",
      "0   40.0  \n",
      "6   40.0  \n",
      "8   16.2  \n",
      "3    9.0  \n",
      "1    4.0  \n",
      "5    4.0  \n",
      "4    3.0  \n"
     ]
    }
   ],
   "source": [
    "# применим фреймворк RICE\n",
    "hypothesis['RICE'] = hypothesis['reach'] * hypothesis['impact'] * hypothesis['confidence'] / hypothesis['efforts']\n",
    "print(hypothesis[['hypothesis', 'RICE']].sort_values(by='RICE', ascending=False))"
   ]
  },
  {
   "cell_type": "code",
   "execution_count": 11,
   "metadata": {},
   "outputs": [
    {
     "data": {
      "text/html": [
       "<div>\n",
       "<style scoped>\n",
       "    .dataframe tbody tr th:only-of-type {\n",
       "        vertical-align: middle;\n",
       "    }\n",
       "\n",
       "    .dataframe tbody tr th {\n",
       "        vertical-align: top;\n",
       "    }\n",
       "\n",
       "    .dataframe thead th {\n",
       "        text-align: right;\n",
       "    }\n",
       "</style>\n",
       "<table border=\"1\" class=\"dataframe\">\n",
       "  <thead>\n",
       "    <tr style=\"text-align: right;\">\n",
       "      <th></th>\n",
       "      <th>hypothesis</th>\n",
       "      <th>reach</th>\n",
       "      <th>impact</th>\n",
       "      <th>confidence</th>\n",
       "      <th>efforts</th>\n",
       "      <th>ICE</th>\n",
       "      <th>RICE</th>\n",
       "    </tr>\n",
       "  </thead>\n",
       "  <tbody>\n",
       "    <tr>\n",
       "      <th>0</th>\n",
       "      <td>Добавить два новых канала привлечения трафика, что позволит привлекать на 30% больше пользователей</td>\n",
       "      <td>3</td>\n",
       "      <td>10</td>\n",
       "      <td>8</td>\n",
       "      <td>6</td>\n",
       "      <td>13.333333</td>\n",
       "      <td>40.0</td>\n",
       "    </tr>\n",
       "    <tr>\n",
       "      <th>1</th>\n",
       "      <td>Запустить собственную службу доставки, что сократит срок доставки заказов</td>\n",
       "      <td>2</td>\n",
       "      <td>5</td>\n",
       "      <td>4</td>\n",
       "      <td>10</td>\n",
       "      <td>2.000000</td>\n",
       "      <td>4.0</td>\n",
       "    </tr>\n",
       "    <tr>\n",
       "      <th>2</th>\n",
       "      <td>Добавить блоки рекомендаций товаров на сайт интернет магазина, чтобы повысить конверсию и средни...</td>\n",
       "      <td>8</td>\n",
       "      <td>3</td>\n",
       "      <td>7</td>\n",
       "      <td>3</td>\n",
       "      <td>7.000000</td>\n",
       "      <td>56.0</td>\n",
       "    </tr>\n",
       "    <tr>\n",
       "      <th>3</th>\n",
       "      <td>Изменить структура категорий, что увеличит конверсию, т.к. пользователи быстрее найдут нужный товар</td>\n",
       "      <td>8</td>\n",
       "      <td>3</td>\n",
       "      <td>3</td>\n",
       "      <td>8</td>\n",
       "      <td>1.125000</td>\n",
       "      <td>9.0</td>\n",
       "    </tr>\n",
       "    <tr>\n",
       "      <th>4</th>\n",
       "      <td>Изменить цвет фона главной страницы, чтобы увеличить вовлеченность пользователей</td>\n",
       "      <td>3</td>\n",
       "      <td>1</td>\n",
       "      <td>1</td>\n",
       "      <td>1</td>\n",
       "      <td>1.000000</td>\n",
       "      <td>3.0</td>\n",
       "    </tr>\n",
       "    <tr>\n",
       "      <th>5</th>\n",
       "      <td>Добавить страницу отзывов клиентов о магазине, что позволит увеличить количество заказов</td>\n",
       "      <td>3</td>\n",
       "      <td>2</td>\n",
       "      <td>2</td>\n",
       "      <td>3</td>\n",
       "      <td>1.333333</td>\n",
       "      <td>4.0</td>\n",
       "    </tr>\n",
       "    <tr>\n",
       "      <th>6</th>\n",
       "      <td>Показать на главной странице баннеры с актуальными акциями и распродажами, чтобы увеличить конве...</td>\n",
       "      <td>5</td>\n",
       "      <td>3</td>\n",
       "      <td>8</td>\n",
       "      <td>3</td>\n",
       "      <td>8.000000</td>\n",
       "      <td>40.0</td>\n",
       "    </tr>\n",
       "    <tr>\n",
       "      <th>7</th>\n",
       "      <td>Добавить форму подписки на все основные страницы, чтобы собрать базу клиентов для email-рассылок</td>\n",
       "      <td>10</td>\n",
       "      <td>7</td>\n",
       "      <td>8</td>\n",
       "      <td>5</td>\n",
       "      <td>11.200000</td>\n",
       "      <td>112.0</td>\n",
       "    </tr>\n",
       "    <tr>\n",
       "      <th>8</th>\n",
       "      <td>Запустить акцию, дающую скидку на товар в день рождения</td>\n",
       "      <td>1</td>\n",
       "      <td>9</td>\n",
       "      <td>9</td>\n",
       "      <td>5</td>\n",
       "      <td>16.200000</td>\n",
       "      <td>16.2</td>\n",
       "    </tr>\n",
       "  </tbody>\n",
       "</table>\n",
       "</div>"
      ],
      "text/plain": [
       "                                                                                            hypothesis  \\\n",
       "0   Добавить два новых канала привлечения трафика, что позволит привлекать на 30% больше пользователей   \n",
       "1                            Запустить собственную службу доставки, что сократит срок доставки заказов   \n",
       "2  Добавить блоки рекомендаций товаров на сайт интернет магазина, чтобы повысить конверсию и средни...   \n",
       "3  Изменить структура категорий, что увеличит конверсию, т.к. пользователи быстрее найдут нужный товар   \n",
       "4                     Изменить цвет фона главной страницы, чтобы увеличить вовлеченность пользователей   \n",
       "5             Добавить страницу отзывов клиентов о магазине, что позволит увеличить количество заказов   \n",
       "6  Показать на главной странице баннеры с актуальными акциями и распродажами, чтобы увеличить конве...   \n",
       "7     Добавить форму подписки на все основные страницы, чтобы собрать базу клиентов для email-рассылок   \n",
       "8                                              Запустить акцию, дающую скидку на товар в день рождения   \n",
       "\n",
       "   reach  impact  confidence  efforts        ICE   RICE  \n",
       "0      3      10           8        6  13.333333   40.0  \n",
       "1      2       5           4       10   2.000000    4.0  \n",
       "2      8       3           7        3   7.000000   56.0  \n",
       "3      8       3           3        8   1.125000    9.0  \n",
       "4      3       1           1        1   1.000000    3.0  \n",
       "5      3       2           2        3   1.333333    4.0  \n",
       "6      5       3           8        3   8.000000   40.0  \n",
       "7     10       7           8        5  11.200000  112.0  \n",
       "8      1       9           9        5  16.200000   16.2  "
      ]
     },
     "execution_count": 11,
     "metadata": {},
     "output_type": "execute_result"
    }
   ],
   "source": [
    "hypothesis"
   ]
  },
  {
   "cell_type": "markdown",
   "metadata": {},
   "source": [
    "- Приоритизация по RICE отличается от ICE так как первый учитывает дополнительный фактор - reach, который показывает охват пользователей для гипотезы\n",
    "- По ICE первой была гипотеза с индексом 8, однако у нее минимальный охват пользователей, поэтому по RICE гипотеза спустилась на 5 место, хоть и остальные параметры в числителе довольно  высоки \n",
    "- Гипотеза с индексом 0 на 2 месте по ICE и на 3 по RICE - пусть охват у нее небольшой, однако наибольший impact из всех, что означает что изменение, указанное в гипотезе сильнее всех повлияет на пользователей\n",
    "- Гипотеза с индексом 7 - 1я по RICE (у нее наибольший reach) и 3я по ICE\n",
    "- Гипотеза с индексом 4 осталась на своем месте из-за минимальных impact и confidence"
   ]
  },
  {
   "cell_type": "markdown",
   "metadata": {},
   "source": [
    "## Анализ A/B-теста <a name=\"test\"></a>"
   ]
  },
  {
   "cell_type": "code",
   "execution_count": 12,
   "metadata": {
    "scrolled": true
   },
   "outputs": [
    {
     "name": "stdout",
     "output_type": "stream",
     "text": [
      "Общее количество уникальных пользователей: 1031\n",
      "\n",
      "Количество пользователей по группам:\n"
     ]
    },
    {
     "data": {
      "text/html": [
       "<div>\n",
       "<style scoped>\n",
       "    .dataframe tbody tr th:only-of-type {\n",
       "        vertical-align: middle;\n",
       "    }\n",
       "\n",
       "    .dataframe tbody tr th {\n",
       "        vertical-align: top;\n",
       "    }\n",
       "\n",
       "    .dataframe thead th {\n",
       "        text-align: right;\n",
       "    }\n",
       "</style>\n",
       "<table border=\"1\" class=\"dataframe\">\n",
       "  <thead>\n",
       "    <tr style=\"text-align: right;\">\n",
       "      <th></th>\n",
       "      <th>visitor_id</th>\n",
       "    </tr>\n",
       "    <tr>\n",
       "      <th>group</th>\n",
       "      <th></th>\n",
       "    </tr>\n",
       "  </thead>\n",
       "  <tbody>\n",
       "    <tr>\n",
       "      <th>A</th>\n",
       "      <td>503</td>\n",
       "    </tr>\n",
       "    <tr>\n",
       "      <th>B</th>\n",
       "      <td>586</td>\n",
       "    </tr>\n",
       "  </tbody>\n",
       "</table>\n",
       "</div>"
      ],
      "text/plain": [
       "       visitor_id\n",
       "group            \n",
       "A             503\n",
       "B             586"
      ]
     },
     "metadata": {},
     "output_type": "display_data"
    },
    {
     "name": "stdout",
     "output_type": "stream",
     "text": [
      "\n",
      "Количество пользователей в обеих группах: 58\n"
     ]
    }
   ],
   "source": [
    "# проверим распределение пользователей по группам\n",
    "# выделим столбцы visitor_id и group в отдельный датафрейм\n",
    "# уберем дубликаты\n",
    "# посчитаем количество встречающихся групп на пользователя\n",
    "\n",
    "orders_cut=orders[['visitor_id','group']]\n",
    "orders_cut=orders_cut.drop_duplicates().reset_index(drop=True)\n",
    "orders_cut2=orders_cut.pivot_table(\n",
    "    index='visitor_id', \n",
    "    values='group', \n",
    "    aggfunc='count'\n",
    ").sort_values('group', ascending=False)\n",
    "\n",
    "duplicated_users=orders_cut2.query('group==2')\n",
    "\n",
    "orders_cut3=orders_cut.pivot_table(\n",
    "    index='group', \n",
    "    values='visitor_id', \n",
    "    aggfunc='count'\n",
    ")\n",
    "\n",
    "print(f'Общее количество уникальных пользователей: {orders_cut2.shape[0]}\\n')\n",
    "print(f'Количество пользователей по группам:')\n",
    "display(orders_cut3)\n",
    "print(f'\\nКоличество пользователей в обеих группах: {duplicated_users.shape[0]}')"
   ]
  },
  {
   "cell_type": "markdown",
   "metadata": {},
   "source": [
    "- В группе B на 83 пользователя больше, чем в группе A\n",
    "- При этом 58 пользователей попали в обе группы теста - это может исказить результаты - правильнее было бы исправить это до начала теста, но уже поздно, поэтому оставим их\n",
    "- Таблица visitors содержит эти 58 пользователей, однако мы не можем их никак вычленить из нее"
   ]
  },
  {
   "cell_type": "code",
   "execution_count": 13,
   "metadata": {},
   "outputs": [],
   "source": [
    "# удалим заказы дублирующихся пользователей \n",
    "l = duplicated_users.index\n",
    "orders_clean=orders[~orders['visitor_id'].isin(l)]\n",
    "orders_clean = orders # добавили эту строку, чтобы не переписывать весь код, пользователей не удаляем"
   ]
  },
  {
   "cell_type": "code",
   "execution_count": 14,
   "metadata": {},
   "outputs": [
    {
     "data": {
      "text/html": [
       "<div>\n",
       "<style scoped>\n",
       "    .dataframe tbody tr th:only-of-type {\n",
       "        vertical-align: middle;\n",
       "    }\n",
       "\n",
       "    .dataframe tbody tr th {\n",
       "        vertical-align: top;\n",
       "    }\n",
       "\n",
       "    .dataframe thead th {\n",
       "        text-align: right;\n",
       "    }\n",
       "</style>\n",
       "<table border=\"1\" class=\"dataframe\">\n",
       "  <thead>\n",
       "    <tr style=\"text-align: right;\">\n",
       "      <th></th>\n",
       "      <th>date</th>\n",
       "      <th>ordersPerDateA</th>\n",
       "      <th>revenuePerDateA</th>\n",
       "      <th>ordersPerDateB</th>\n",
       "      <th>revenuePerDateB</th>\n",
       "      <th>ordersCummulativeA</th>\n",
       "      <th>revenueCummulativeA</th>\n",
       "      <th>ordersCummulativeB</th>\n",
       "      <th>revenueCummulativeB</th>\n",
       "      <th>visitorsPerDateA</th>\n",
       "      <th>visitorsPerDateB</th>\n",
       "      <th>visitorsCummulativeA</th>\n",
       "      <th>visitorsCummulativeB</th>\n",
       "    </tr>\n",
       "  </thead>\n",
       "  <tbody>\n",
       "    <tr>\n",
       "      <th>0</th>\n",
       "      <td>2019-08-01</td>\n",
       "      <td>24</td>\n",
       "      <td>148579</td>\n",
       "      <td>21</td>\n",
       "      <td>101217</td>\n",
       "      <td>24</td>\n",
       "      <td>148579</td>\n",
       "      <td>21</td>\n",
       "      <td>101217</td>\n",
       "      <td>719</td>\n",
       "      <td>713</td>\n",
       "      <td>719</td>\n",
       "      <td>713</td>\n",
       "    </tr>\n",
       "    <tr>\n",
       "      <th>1</th>\n",
       "      <td>2019-08-02</td>\n",
       "      <td>20</td>\n",
       "      <td>93822</td>\n",
       "      <td>24</td>\n",
       "      <td>165531</td>\n",
       "      <td>44</td>\n",
       "      <td>242401</td>\n",
       "      <td>45</td>\n",
       "      <td>266748</td>\n",
       "      <td>619</td>\n",
       "      <td>581</td>\n",
       "      <td>1338</td>\n",
       "      <td>1294</td>\n",
       "    </tr>\n",
       "    <tr>\n",
       "      <th>2</th>\n",
       "      <td>2019-08-03</td>\n",
       "      <td>24</td>\n",
       "      <td>112473</td>\n",
       "      <td>16</td>\n",
       "      <td>114248</td>\n",
       "      <td>68</td>\n",
       "      <td>354874</td>\n",
       "      <td>61</td>\n",
       "      <td>380996</td>\n",
       "      <td>507</td>\n",
       "      <td>509</td>\n",
       "      <td>1845</td>\n",
       "      <td>1803</td>\n",
       "    </tr>\n",
       "    <tr>\n",
       "      <th>3</th>\n",
       "      <td>2019-08-04</td>\n",
       "      <td>16</td>\n",
       "      <td>70825</td>\n",
       "      <td>17</td>\n",
       "      <td>108571</td>\n",
       "      <td>84</td>\n",
       "      <td>425699</td>\n",
       "      <td>78</td>\n",
       "      <td>489567</td>\n",
       "      <td>717</td>\n",
       "      <td>770</td>\n",
       "      <td>2562</td>\n",
       "      <td>2573</td>\n",
       "    </tr>\n",
       "    <tr>\n",
       "      <th>4</th>\n",
       "      <td>2019-08-05</td>\n",
       "      <td>25</td>\n",
       "      <td>124218</td>\n",
       "      <td>23</td>\n",
       "      <td>92428</td>\n",
       "      <td>109</td>\n",
       "      <td>549917</td>\n",
       "      <td>101</td>\n",
       "      <td>581995</td>\n",
       "      <td>756</td>\n",
       "      <td>707</td>\n",
       "      <td>3318</td>\n",
       "      <td>3280</td>\n",
       "    </tr>\n",
       "  </tbody>\n",
       "</table>\n",
       "</div>"
      ],
      "text/plain": [
       "        date  ordersPerDateA  revenuePerDateA  ordersPerDateB  \\\n",
       "0 2019-08-01              24           148579              21   \n",
       "1 2019-08-02              20            93822              24   \n",
       "2 2019-08-03              24           112473              16   \n",
       "3 2019-08-04              16            70825              17   \n",
       "4 2019-08-05              25           124218              23   \n",
       "\n",
       "   revenuePerDateB  ordersCummulativeA  revenueCummulativeA  \\\n",
       "0           101217                  24               148579   \n",
       "1           165531                  44               242401   \n",
       "2           114248                  68               354874   \n",
       "3           108571                  84               425699   \n",
       "4            92428                 109               549917   \n",
       "\n",
       "   ordersCummulativeB  revenueCummulativeB  visitorsPerDateA  \\\n",
       "0                  21               101217               719   \n",
       "1                  45               266748               619   \n",
       "2                  61               380996               507   \n",
       "3                  78               489567               717   \n",
       "4                 101               581995               756   \n",
       "\n",
       "   visitorsPerDateB  visitorsCummulativeA  visitorsCummulativeB  \n",
       "0               713                   719                   713  \n",
       "1               581                  1338                  1294  \n",
       "2               509                  1845                  1803  \n",
       "3               770                  2562                  2573  \n",
       "4               707                  3318                  3280  "
      ]
     },
     "execution_count": 14,
     "metadata": {},
     "output_type": "execute_result"
    }
   ],
   "source": [
    "# соберем данные по группам в одну таблицу и посчитаем аггрегированные показатели по группам\n",
    "\n",
    "visitorsADaily = visitors[visitors['group'] == 'A'][['date', 'visitors']]\n",
    "visitorsADaily.columns = ['date', 'visitorsPerDateA']\n",
    "\n",
    "visitorsACummulative = visitorsADaily.apply(\n",
    "    lambda x: visitorsADaily[visitorsADaily['date'] <= x['date']].agg(\n",
    "        {'date': 'max', 'visitorsPerDateA': 'sum'}\n",
    "    ),\n",
    "    axis=1,\n",
    ")\n",
    "visitorsACummulative.columns = ['date', 'visitorsCummulativeA']\n",
    "\n",
    "visitorsBDaily = visitors[visitors['group'] == 'B'][['date', 'visitors']]\n",
    "visitorsBDaily.columns = ['date', 'visitorsPerDateB']\n",
    "\n",
    "visitorsBCummulative = visitorsBDaily.apply(\n",
    "    lambda x: visitorsBDaily[visitorsBDaily['date'] <= x['date']].agg(\n",
    "        {'date': 'max', 'visitorsPerDateB': 'sum'}\n",
    "    ),\n",
    "    axis=1,\n",
    ")\n",
    "visitorsBCummulative.columns = ['date', 'visitorsCummulativeB']\n",
    "\n",
    "ordersADaily = (\n",
    "    orders_clean[orders_clean['group'] == 'A'][['date', 'transaction_id', 'visitor_id', 'revenue']]\n",
    "    .groupby('date', as_index=False)\n",
    "    .agg({'transaction_id': pd.Series.nunique, 'revenue': 'sum'})\n",
    ")\n",
    "ordersADaily.columns = ['date', 'ordersPerDateA', 'revenuePerDateA']\n",
    "\n",
    "ordersACummulative = ordersADaily.apply(\n",
    "    lambda x: ordersADaily[ordersADaily['date'] <= x['date']].agg(\n",
    "        {'date': 'max', 'ordersPerDateA': 'sum', 'revenuePerDateA': 'sum'}\n",
    "    ),\n",
    "    axis=1,\n",
    ").sort_values(by=['date'])\n",
    "ordersACummulative.columns = [\n",
    "    'date',\n",
    "    'ordersCummulativeA',\n",
    "    'revenueCummulativeA',\n",
    "]\n",
    "\n",
    "ordersBDaily = (\n",
    "    orders_clean[orders_clean['group'] == 'B'][['date', 'transaction_id', 'visitor_id', 'revenue']]\n",
    "    .groupby('date', as_index=False)\n",
    "    .agg({'transaction_id': pd.Series.nunique, 'revenue': 'sum'})\n",
    ")\n",
    "ordersBDaily.columns = ['date', 'ordersPerDateB', 'revenuePerDateB']\n",
    "\n",
    "ordersBCummulative = ordersBDaily.apply(\n",
    "    lambda x: ordersBDaily[ordersBDaily['date'] <= x['date']].agg(\n",
    "        {'date': 'max', 'ordersPerDateB': 'sum', 'revenuePerDateB': 'sum'}\n",
    "    ),\n",
    "    axis=1,\n",
    ").sort_values(by=['date'])\n",
    "ordersBCummulative.columns = [\n",
    "    'date',\n",
    "    'ordersCummulativeB',\n",
    "    'revenueCummulativeB',\n",
    "]\n",
    "\n",
    "data = (\n",
    "    ordersADaily.merge(\n",
    "        ordersBDaily, left_on='date', right_on='date', how='left'\n",
    "    )\n",
    "    .merge(ordersACummulative, left_on='date', right_on='date', how='left')\n",
    "    .merge(ordersBCummulative, left_on='date', right_on='date', how='left')\n",
    "    .merge(visitorsADaily, left_on='date', right_on='date', how='left')\n",
    "    .merge(visitorsBDaily, left_on='date', right_on='date', how='left')\n",
    "    .merge(visitorsACummulative, left_on='date', right_on='date', how='left')\n",
    "    .merge(visitorsBCummulative, left_on='date', right_on='date', how='left')\n",
    ")\n",
    "\n",
    "data.head(5)"
   ]
  },
  {
   "cell_type": "markdown",
   "metadata": {},
   "source": [
    "Выше посчитали следующие показатели:\n",
    "- ordersPerDateA — количество заказов в выбранную дату в группе A;\n",
    "- revenuePerDateA — суммарная выручка в выбранную дату в группе A;\n",
    "- ordersPerDateB — количество заказов в выбранную дату в группе B;\n",
    "- revenuePerDateB — суммарная выручка в выбранную дату в группе B;\n",
    "- ordersCummulativeA — суммарное число заказов до выбранной даты включительно в группе A;\n",
    "- revenueCummulativeA — суммарная выручка до выбранной даты включительно в группе A;\n",
    "- ordersCummulativeB — суммарное количество заказов до выбранной даты включительно в группе B;\n",
    "- revenueCummulativeB — суммарная выручка до выбранной даты включительно в группе B;\n",
    "- visitorsPerDateA — количество пользователей в выбранную дату в группе A;\n",
    "- visitorsPerDateB — количество пользователей в выбранную дату в группе B;\n",
    "- visitorsCummulativeA — количество пользователей до выбранной даты включительно в группе A;\n",
    "- visitorsCummulativeB — количество пользователей до выбранной даты включительно в группе B."
   ]
  },
  {
   "cell_type": "code",
   "execution_count": 15,
   "metadata": {},
   "outputs": [
    {
     "data": {
      "text/plain": [
       "<matplotlib.legend.Legend at 0x7fc3c823aa60>"
      ]
     },
     "execution_count": 15,
     "metadata": {},
     "output_type": "execute_result"
    },
    {
     "data": {
      "image/png": "[encoded data removed]",
      "text/plain": [
       "<Figure size 936x360 with 1 Axes>"
      ]
     },
     "metadata": {
      "needs_background": "light"
     },
     "output_type": "display_data"
    }
   ],
   "source": [
    "# строим график кумулятивной выручки группы А\n",
    "plt.figure(figsize=(13, 5))\n",
    "plt.plot(data['date'], data['revenueCummulativeA'], label='A')\n",
    "\n",
    "# строим график кумулятивной выручки группы B\n",
    "plt.plot(data['date'], data['revenueCummulativeB'], label='B')\n",
    "\n",
    "plt.title(\"Кумулятивная выручка по группам\")\n",
    "plt.legend() "
   ]
  },
  {
   "cell_type": "markdown",
   "metadata": {},
   "source": [
    "- Выручка почти увеличивается в течение всего теста, что хорошо\n",
    "- Если у группы А выручка растет равномерно, у группы B есть резкий рост ближе к середине теста, либо был всплеск числа заказов, либо какой-то очень дорогой заказ"
   ]
  },
  {
   "cell_type": "code",
   "execution_count": 16,
   "metadata": {},
   "outputs": [
    {
     "data": {
      "text/plain": [
       "<matplotlib.legend.Legend at 0x7fc3f92d4e50>"
      ]
     },
     "execution_count": 16,
     "metadata": {},
     "output_type": "execute_result"
    },
    {
     "data": {
      "image/png": "[encoded data removed]",
      "text/plain": [
       "<Figure size 936x360 with 1 Axes>"
      ]
     },
     "metadata": {
      "needs_background": "light"
     },
     "output_type": "display_data"
    }
   ],
   "source": [
    "# строим график кумулятивного среднего чека группы А\n",
    "plt.figure(figsize=(13, 5))\n",
    "plt.plot(data['date'], data['revenueCummulativeA']/data['ordersCummulativeA'], label='A')\n",
    "\n",
    "# строим график кумулятивного среднего чека группы B\n",
    "plt.plot(data['date'], data['revenueCummulativeB']/data['ordersCummulativeB'], label='B')\n",
    "\n",
    "plt.title(\"Кумулятивный средний чек по группам\")\n",
    "plt.legend() "
   ]
  },
  {
   "cell_type": "markdown",
   "metadata": {},
   "source": [
    "- Средний чек становится равномерным ближе к концу теста: практически зафиксировался для группы A и слабо падает после резкого скачка для группы B \n",
    "- Возможно, в группу B во второй половине теста попали крупные заказы (резкий скачок на графике), для того, чтобы вернуться к реальному среднему чеку нужно больше времени и данных"
   ]
  },
  {
   "cell_type": "code",
   "execution_count": 17,
   "metadata": {},
   "outputs": [
    {
     "data": {
      "text/plain": [
       "Text(0.5, 1.0, 'Отношение средних чеков группы B к группе А')"
      ]
     },
     "execution_count": 17,
     "metadata": {},
     "output_type": "execute_result"
    },
    {
     "data": {
      "image/png": "[encoded data removed]",
      "text/plain": [
       "<Figure size 936x360 with 1 Axes>"
      ]
     },
     "metadata": {
      "needs_background": "light"
     },
     "output_type": "display_data"
    }
   ],
   "source": [
    "# cтроим отношение средних чеков группы B к группе А\n",
    "plt.figure(figsize=(13, 5))\n",
    "plt.plot(data['date'], (data['revenueCummulativeB']/data['ordersCummulativeB'])/(data['revenueCummulativeA']/data['ordersCummulativeA'])-1)\n",
    "\n",
    "# добавляем ось X\n",
    "plt.axhline(y=0, color='black', linestyle='--')\n",
    "plt.title(\"Отношение средних чеков группы B к группе А\")"
   ]
  },
  {
   "cell_type": "markdown",
   "metadata": {},
   "source": [
    "- Есть скачки, что потенциально обусловленно аномальными значениями "
   ]
  },
  {
   "cell_type": "code",
   "execution_count": 18,
   "metadata": {},
   "outputs": [
    {
     "data": {
      "text/plain": [
       "<matplotlib.legend.Legend at 0x7fc3f9335220>"
      ]
     },
     "execution_count": 18,
     "metadata": {},
     "output_type": "execute_result"
    },
    {
     "data": {
      "image/png": "[encoded data removed]",
      "text/plain": [
       "<Figure size 936x360 with 1 Axes>"
      ]
     },
     "metadata": {
      "needs_background": "light"
     },
     "output_type": "display_data"
    }
   ],
   "source": [
    "# считаем кумулятивную конверсию\n",
    "data['conversionA'] = data['ordersCummulativeA']/data['visitorsCummulativeA']\n",
    "data['conversionB'] = data['ordersCummulativeB']/data['visitorsCummulativeB']\n",
    "\n",
    "# строим графики\n",
    "plt.figure(figsize=(13, 5))\n",
    "plt.plot(data['date'], data['conversionA'], label='A')\n",
    "plt.plot(data['date'], data['conversionB'], label='B')\n",
    "plt.title(\"Кумулятивная конверсия по группам\")\n",
    "plt.legend()"
   ]
  },
  {
   "cell_type": "markdown",
   "metadata": {},
   "source": [
    "- Сначала конверсия в группе А была выше, затем после скачка в самом начале падала на протяжении всего теста\n",
    "- Конверсия в группе B вначале двигалась скачками, далее практически незаметно падала, в конце наблюдался небольшой рост"
   ]
  },
  {
   "cell_type": "code",
   "execution_count": 19,
   "metadata": {},
   "outputs": [
    {
     "data": {
      "text/plain": [
       "Text(0.5, 1.0, 'Относительное различие кумулятивных конверсий')"
      ]
     },
     "execution_count": 19,
     "metadata": {},
     "output_type": "execute_result"
    },
    {
     "data": {
      "image/png": "[encoded data removed]",
      "text/plain": [
       "<Figure size 936x360 with 1 Axes>"
      ]
     },
     "metadata": {
      "needs_background": "light"
     },
     "output_type": "display_data"
    }
   ],
   "source": [
    "# построим график относительного различия кумулятивных конверсий\n",
    "plt.figure(figsize=(13, 5))\n",
    "plt.plot(data['date'], data['conversionB']/data['conversionA']-1, label=\"Относительный прирост конверсии группы B относительно группы A\")\n",
    "plt.legend()\n",
    "\n",
    "plt.axhline(y=0, color='black', linestyle='--')\n",
    "plt.title(\"Относительное различие кумулятивных конверсий\")"
   ]
  },
  {
   "cell_type": "markdown",
   "metadata": {},
   "source": [
    "- В начале теста группа B проигрывала группе A, затем вырвалась вперёд"
   ]
  },
  {
   "cell_type": "code",
   "execution_count": 20,
   "metadata": {},
   "outputs": [
    {
     "name": "stdout",
     "output_type": "stream",
     "text": [
      "      visitor_id  orders\n",
      "1023  4256040402      11\n",
      "591   2458001652      11\n",
      "569   2378935119       9\n",
      "487   2038680547       8\n",
      "44     199603092       5\n",
      "744   3062433592       5\n",
      "55     237748145       5\n",
      "917   3803269165       5\n",
      "299   1230306981       5\n",
      "897   3717692402       5\n"
     ]
    }
   ],
   "source": [
    "# считаем количество заказов по пользователям\n",
    "\n",
    "ordersByUsers = (\n",
    "    orders_clean.groupby('visitor_id', as_index=False)\n",
    "    .agg({'transaction_id': 'nunique'})\n",
    ")\n",
    "\n",
    "ordersByUsers.columns = ['visitor_id', 'orders']\n",
    "\n",
    "print(ordersByUsers.sort_values(by='orders', ascending=False).head(10))"
   ]
  },
  {
   "cell_type": "code",
   "execution_count": 21,
   "metadata": {},
   "outputs": [
    {
     "data": {
      "text/plain": [
       "Text(0.5, 1.0, 'Количество заказов по пользователям')"
      ]
     },
     "execution_count": 21,
     "metadata": {},
     "output_type": "execute_result"
    },
    {
     "data": {
      "image/png": "[encoded data removed]",
      "text/plain": [
       "<Figure size 432x288 with 1 Axes>"
      ]
     },
     "metadata": {
      "needs_background": "light"
     },
     "output_type": "display_data"
    }
   ],
   "source": [
    "# строим точечный график количества заказов по пользователям\n",
    "x_values = pd.Series(range(0,len(ordersByUsers)))\n",
    "plt.scatter(x_values, ordersByUsers['orders'])\n",
    "plt.title(\"Количество заказов по пользователям\")"
   ]
  },
  {
   "cell_type": "markdown",
   "metadata": {},
   "source": [
    "- Пользователи делали от 1 до 11 заказов\n",
    "- Большое количество пользователей, сделавших 1 заказ, меньше пользователей - 2 и 3\n",
    "- Всего 3 пользователя с 11 заказами, и по одному с 9 и 8 заказами"
   ]
  },
  {
   "cell_type": "code",
   "execution_count": 22,
   "metadata": {},
   "outputs": [
    {
     "name": "stdout",
     "output_type": "stream",
     "text": [
      "95й и 99й перцентиль количества заказов на пользователя\n",
      "[2. 4.]\n"
     ]
    }
   ],
   "source": [
    "# считаем 95й и 99й перцентиль количества заказов на пользователя\n",
    "print(f'95й и 99й перцентиль количества заказов на пользователя')\n",
    "print(np.percentile(ordersByUsers['orders'], [95, 99]))"
   ]
  },
  {
   "cell_type": "markdown",
   "metadata": {},
   "source": [
    "- Не более 5% пользователей оформили больше, чем 2 заказа, и не более 1% - больше, чем 4\n",
    "- Можем считать аномальными всех пользователей, кто сделал более 2 заказов"
   ]
  },
  {
   "cell_type": "code",
   "execution_count": 23,
   "metadata": {},
   "outputs": [
    {
     "data": {
      "text/plain": [
       "Text(0.5, 1.0, 'Стоимость заказов')"
      ]
     },
     "execution_count": 23,
     "metadata": {},
     "output_type": "execute_result"
    },
    {
     "data": {
      "image/png": "[encoded data removed]",
      "text/plain": [
       "<Figure size 432x288 with 1 Axes>"
      ]
     },
     "metadata": {
      "needs_background": "light"
     },
     "output_type": "display_data"
    }
   ],
   "source": [
    "# строим точечный график стоимостей заказов\n",
    "x_values = pd.Series(range(0,len(orders_clean['revenue'])))\n",
    "plt.scatter(x_values, orders_clean['revenue'])\n",
    "plt.title(\"Стоимость заказов\")"
   ]
  },
  {
   "cell_type": "markdown",
   "metadata": {},
   "source": [
    "- Практически все заказы колеблются в промежутке до примерно 180,000 рублей\n",
    "- Явно видны 2 очень крупных заказа - более 1,200,000 рублей и около 200,000 рублей"
   ]
  },
  {
   "cell_type": "code",
   "execution_count": 24,
   "metadata": {},
   "outputs": [
    {
     "name": "stdout",
     "output_type": "stream",
     "text": [
      "95й и 99й перцентиль стоимости заказов\n",
      "[28000.  58233.2]\n"
     ]
    }
   ],
   "source": [
    "# считаем 95й и 99й перцентиль стоимости заказов\n",
    "print(f'95й и 99й перцентиль стоимости заказов')\n",
    "print(np.percentile(orders_clean['revenue'], [95, 99]))"
   ]
  },
  {
   "cell_type": "markdown",
   "metadata": {},
   "source": [
    "- Не более 5% заказов стоят больше 28,000 рублей\n",
    "- И не более 1% больше, чем 58,233 рублей\n",
    "- Будем считать аномальными заказы больше 28,000 рублей"
   ]
  },
  {
   "cell_type": "markdown",
   "metadata": {},
   "source": [
    "#### Посчитаем статистическую значимость различий в конверсии и среднем чеке между группами по «сырым» данным (без  удаления аномальных пользователей)\n",
    "- Нулевая гипотеза: различий между группами нет\n",
    "- Альтернативная: различия между группами есть"
   ]
  },
  {
   "cell_type": "code",
   "execution_count": 25,
   "metadata": {},
   "outputs": [],
   "source": [
    "# готовим сэмплы данных\n",
    "\n",
    "# считаем количество заказов для каждого пользователя из группы А\n",
    "ordersByUsersA = (\n",
    "    orders_clean[orders_clean['group'] == 'A']\n",
    "    .groupby('visitor_id', as_index=False)\n",
    "    .agg({'transaction_id': pd.Series.nunique})\n",
    ")\n",
    "ordersByUsersA.columns = ['visitor_id', 'orders']\n",
    "\n",
    "# считаем количество заказов для каждого пользователя из группы А\n",
    "ordersByUsersB = (\n",
    "    orders_clean[orders_clean['group'] == 'B']\n",
    "    .groupby('visitor_id', as_index=False)\n",
    "    .agg({'transaction_id': pd.Series.nunique})\n",
    ")\n",
    "ordersByUsersB.columns = ['visitor_id', 'orders']\n",
    "\n",
    "sampleA = pd.concat(\n",
    "    [\n",
    "        ordersByUsersA['orders'],\n",
    "        pd.Series(\n",
    "            0, \n",
    "            index=np.arange(data['visitorsPerDateA'].sum() - len(ordersByUsersA['orders'])), name='orders'\n",
    "        )\n",
    "    ],\n",
    "    axis=0\n",
    ")\n",
    "\n",
    "sampleB = pd.concat(\n",
    "    [\n",
    "        ordersByUsersB['orders'],\n",
    "        pd.Series(\n",
    "            0, \n",
    "            index=np.arange(data['visitorsPerDateB'].sum() - len(ordersByUsersB['orders'])), name='orders'\n",
    "        )\n",
    "    ],\n",
    "    axis=0\n",
    ")"
   ]
  },
  {
   "cell_type": "code",
   "execution_count": 26,
   "metadata": {},
   "outputs": [
    {
     "name": "stdout",
     "output_type": "stream",
     "text": [
      "p-value: 0.008\n",
      "Отвергаем нулевую гипотезу\n",
      "Относительный прирост конверсии группы B: 0.138\n"
     ]
    }
   ],
   "source": [
    "# проверим гипотезу для конверсий\n",
    "\n",
    "alpha = 0.05\n",
    "pvalue=stats.mannwhitneyu(sampleA, sampleB)[1]\n",
    "print('p-value: {0:.3f}'.format(pvalue))\n",
    "\n",
    "if pvalue < alpha:\n",
    "    print('Отвергаем нулевую гипотезу')\n",
    "else:\n",
    "    print('Не получилось отвергнуть нулевую гипотезу')\n",
    "\n",
    "print('Относительный прирост конверсии группы B: {0:.3f}'.format(sampleB.mean() / sampleA.mean() - 1))"
   ]
  },
  {
   "cell_type": "markdown",
   "metadata": {},
   "source": [
    "- По «сырым» данным различия в конверсии групп A и B статистически значимы\n",
    "- Прирост конверсии группы В составляет 13.8%"
   ]
  },
  {
   "cell_type": "code",
   "execution_count": 27,
   "metadata": {},
   "outputs": [
    {
     "name": "stdout",
     "output_type": "stream",
     "text": [
      "p-value: 0.365\n",
      "Не получилось отвергнуть нулевую гипотезу\n",
      "Относительное изменение в среднем чеке группы B: 0.259\n"
     ]
    }
   ],
   "source": [
    "# проверим гипотезу для среднего чека\n",
    "\n",
    "alpha = 0.05\n",
    "pvalue=stats.mannwhitneyu(\n",
    "    orders_clean[orders_clean['group']=='A']['revenue'], \n",
    "    orders_clean[orders_clean['group']=='B']['revenue']\n",
    ")[1]\n",
    "print('p-value: {0:.3f}'.format(pvalue))\n",
    "\n",
    "if pvalue < alpha:\n",
    "    print('Отвергаем нулевую гипотезу')\n",
    "else:\n",
    "    print('Не получилось отвергнуть нулевую гипотезу')\n",
    "\n",
    "\n",
    "print('Относительное изменение в среднем чеке группы B: {0:.3f}'.format(\n",
    "    orders_clean[orders_clean['group']=='B']['revenue'].mean()\n",
    "    /\n",
    "    orders_clean[orders_clean['group']=='A']['revenue'].mean()-1)\n",
    "     )"
   ]
  },
  {
   "cell_type": "markdown",
   "metadata": {},
   "source": [
    "- Несмотря на то, что средний чек группы B значительно выше среднего чека группы А, мы не можем считать, что различия статистически значимы"
   ]
  },
  {
   "cell_type": "markdown",
   "metadata": {},
   "source": [
    "#### Определим аномальных пользователей\n",
    "- Выше мы сказали, что аномальными пользователями можем считать пользователей, делавших более 2 заказов, и заказы со стоимостью выше 28,000 рублей\n",
    "- Так мы уберём 5% пользователей с наибольшим числом заказов и 5% пользователей с дорогими заказами"
   ]
  },
  {
   "cell_type": "code",
   "execution_count": 28,
   "metadata": {},
   "outputs": [
    {
     "name": "stdout",
     "output_type": "stream",
     "text": [
      "1099    148427295\n",
      "18      199603092\n",
      "928     204675465\n",
      "23      237748145\n",
      "37      249864742\n",
      "Name: visitor_id, dtype: int64\n",
      "(74,)\n"
     ]
    }
   ],
   "source": [
    "# соберем аномальных пользователей\n",
    "abnormal_rev = 28000\n",
    "abnormal_orders = 2\n",
    "\n",
    "usersWithManyOrders = pd.concat(\n",
    "    [\n",
    "        ordersByUsersA[ordersByUsersA['orders'] > abnormal_orders]['visitor_id'],\n",
    "        ordersByUsersB[ordersByUsersB['orders'] > abnormal_orders]['visitor_id'],\n",
    "    ],\n",
    "    axis=0,\n",
    ")\n",
    "usersWithExpensiveOrders = orders_clean[orders_clean['revenue'] > abnormal_rev]['visitor_id']\n",
    "abnormalUsers = (\n",
    "    pd.concat([usersWithManyOrders, usersWithExpensiveOrders], axis=0)\n",
    "    .drop_duplicates()\n",
    "    .sort_values()\n",
    ")\n",
    "print(abnormalUsers.head(5))\n",
    "print(abnormalUsers.shape)"
   ]
  },
  {
   "cell_type": "markdown",
   "metadata": {},
   "source": [
    "- Всего 74 аномальных пользователей (из 1031) - 7%, довольно много, возможно была какая-то акция, не имеющая отношения к тесту"
   ]
  },
  {
   "cell_type": "markdown",
   "metadata": {},
   "source": [
    "#### Посчитаем статистическую значимость различий в конверсии и среднем чеке между группами по «очищенным» данным (после удаления аномальных пользователей)\n",
    "- Нулевая гипотеза: различий между группами нет\n",
    "- Альтернативная: различия между группами есть"
   ]
  },
  {
   "cell_type": "code",
   "execution_count": 29,
   "metadata": {},
   "outputs": [],
   "source": [
    "# подготовим очищенные сэмплы групп\n",
    "sampleAfiltered = pd.concat(\n",
    "    [\n",
    "        ordersByUsersA[\n",
    "            np.logical_not(ordersByUsersA['visitor_id'].isin(abnormalUsers))\n",
    "        ]['orders'],\n",
    "        pd.Series(\n",
    "            0,\n",
    "            index=np.arange(\n",
    "                data['visitorsPerDateA'].sum() - len(ordersByUsersA['orders'])\n",
    "            ),\n",
    "            name='orders',\n",
    "        ),\n",
    "    ],\n",
    "    axis=0,\n",
    ")\n",
    "\n",
    "sampleBfiltered = pd.concat(\n",
    "    [\n",
    "        ordersByUsersB[\n",
    "            np.logical_not(ordersByUsersB['visitor_id'].isin(abnormalUsers))\n",
    "        ]['orders'],\n",
    "        pd.Series(\n",
    "            0,\n",
    "            index=np.arange(\n",
    "                data['visitorsPerDateB'].sum() - len(ordersByUsersB['orders'])\n",
    "            ),\n",
    "            name='orders',\n",
    "        ),\n",
    "    ],\n",
    "    axis=0,\n",
    ")"
   ]
  },
  {
   "cell_type": "code",
   "execution_count": 30,
   "metadata": {},
   "outputs": [
    {
     "name": "stdout",
     "output_type": "stream",
     "text": [
      "p-value: 0.007\n",
      "Отвергаем нулевую гипотезу\n",
      "Относительный прирост конверсии группы B: 0.173\n"
     ]
    }
   ],
   "source": [
    "# проверим гипотезу для конверсий\n",
    "\n",
    "alpha = 0.05\n",
    "pvalue=stats.mannwhitneyu(sampleAfiltered, sampleBfiltered)[1]\n",
    "print('p-value: {0:.3f}'.format(pvalue))\n",
    "\n",
    "if pvalue < alpha:\n",
    "    print('Отвергаем нулевую гипотезу')\n",
    "else:\n",
    "    print('Не получилось отвергнуть нулевую гипотезу')\n",
    "\n",
    "print('Относительный прирост конверсии группы B: {0:.3f}'.format(sampleBfiltered.mean() / sampleAfiltered.mean() - 1))\n"
   ]
  },
  {
   "cell_type": "markdown",
   "metadata": {},
   "source": [
    "- По «очищенным» данным различия в конверсии групп A и B также статистически значимы\n",
    "- Прирост конверсии группы В виден явнее, чем в случае с «сырыми» данными и составляет 17.3%"
   ]
  },
  {
   "cell_type": "code",
   "execution_count": 31,
   "metadata": {},
   "outputs": [
    {
     "name": "stdout",
     "output_type": "stream",
     "text": [
      "p-value: 0.369\n",
      "Не получилось отвергнуть нулевую гипотезу\n",
      "Относительное изменение в среднем чеке группы B: -0.020\n"
     ]
    }
   ],
   "source": [
    "# проверим гипотезу для среднего чека\n",
    "\n",
    "alpha = 0.05\n",
    "pvalue=stats.mannwhitneyu(\n",
    "            orders_clean[\n",
    "                np.logical_and(\n",
    "                    orders_clean['group'] == 'A',\n",
    "                    np.logical_not(orders_clean['visitor_id'].isin(abnormalUsers)),\n",
    "                )\n",
    "            ]['revenue'],\n",
    "            orders_clean[\n",
    "                np.logical_and(\n",
    "                    orders_clean['group'] == 'B',\n",
    "                    np.logical_not(orders_clean['visitor_id'].isin(abnormalUsers)),\n",
    "                )\n",
    "            ]['revenue'],\n",
    "        )[1]\n",
    "print('p-value: {0:.3f}'.format(pvalue))\n",
    "\n",
    "if pvalue < alpha:\n",
    "    print('Отвергаем нулевую гипотезу')\n",
    "else:\n",
    "    print('Не получилось отвергнуть нулевую гипотезу')\n",
    "\n",
    "\n",
    "print('Относительное изменение в среднем чеке группы B: {0:.3f}'.format(\n",
    "    orders_clean[\n",
    "            np.logical_and(\n",
    "                orders_clean['group'] == 'B',\n",
    "                np.logical_not(orders_clean['visitor_id'].isin(abnormalUsers)),\n",
    "            )\n",
    "        ]['revenue'].mean()\n",
    "    /\n",
    "    orders_clean[\n",
    "            np.logical_and(\n",
    "                orders_clean['group'] == 'A',\n",
    "                np.logical_not(orders_clean['visitor_id'].isin(abnormalUsers)),\n",
    "            )\n",
    "        ]['revenue'].mean()-1)\n",
    "     )"
   ]
  },
  {
   "cell_type": "markdown",
   "metadata": {},
   "source": [
    "- P-value очень незначительно уменьшился по сравнению с кейсом с «сырыми» данными\n",
    "- Средний чек «очищеных» данных группы B стал меньше среднего чека группы A на 2% (против +25.9% на сырых данных) - аномалии сильно повлияли на средний чек, возможно в группе В было больше аномальных пользователей"
   ]
  },
  {
   "cell_type": "code",
   "execution_count": 32,
   "metadata": {},
   "outputs": [
    {
     "data": {
      "text/html": [
       "<div>\n",
       "<style scoped>\n",
       "    .dataframe tbody tr th:only-of-type {\n",
       "        vertical-align: middle;\n",
       "    }\n",
       "\n",
       "    .dataframe tbody tr th {\n",
       "        vertical-align: top;\n",
       "    }\n",
       "\n",
       "    .dataframe thead th {\n",
       "        text-align: right;\n",
       "    }\n",
       "</style>\n",
       "<table border=\"1\" class=\"dataframe\">\n",
       "  <thead>\n",
       "    <tr style=\"text-align: right;\">\n",
       "      <th></th>\n",
       "      <th>visitor_id</th>\n",
       "    </tr>\n",
       "    <tr>\n",
       "      <th>group</th>\n",
       "      <th></th>\n",
       "    </tr>\n",
       "  </thead>\n",
       "  <tbody>\n",
       "    <tr>\n",
       "      <th>A</th>\n",
       "      <td>46</td>\n",
       "    </tr>\n",
       "    <tr>\n",
       "      <th>B</th>\n",
       "      <td>47</td>\n",
       "    </tr>\n",
       "  </tbody>\n",
       "</table>\n",
       "</div>"
      ],
      "text/plain": [
       "       visitor_id\n",
       "group            \n",
       "A              46\n",
       "B              47"
      ]
     },
     "execution_count": 32,
     "metadata": {},
     "output_type": "execute_result"
    }
   ],
   "source": [
    "# сопоставим аномальных пользователей с группой теста\n",
    "orders_clean1=orders_clean[orders_clean['visitor_id'].isin(abnormalUsers)]\n",
    "orders_clean2=orders_clean1[['visitor_id', 'group']].drop_duplicates()\n",
    "abnormalUsers_group=orders_clean2.pivot_table(\n",
    "    index='group', \n",
    "    values='visitor_id', \n",
    "    aggfunc='count'\n",
    ")\n",
    "abnormalUsers_group"
   ]
  },
  {
   "cell_type": "markdown",
   "metadata": {},
   "source": [
    "- Аномальных пользователей по группам примерно поровну, в группе В всего на 1 пользователя больше"
   ]
  },
  {
   "cell_type": "markdown",
   "metadata": {},
   "source": [
    "## Summary результатов <a name=\"results\"></a>"
   ]
  },
  {
   "cell_type": "markdown",
   "metadata": {},
   "source": [
    "- Cтатистически значимое различие по конверсии между группами есть и по «сырым», и по «очищенным» данным\n",
    "- Нет статистически значимого различия по среднему чеку между группами ни по «сырым», ни по «очищенным» данным\n",
    "- Результаты по конверсии группы B лучше группы A и наблюдается тенденция к улучшению\n",
    "- Средний чек группы B очень слабо ухудшаются день ото дня, а сейчас почти на 30% выше группы А\n",
    "- Исходя из обнаруженных фактов, тест можно остановить\n",
    "- Если забыть тот факт, что изначально 58 пользователей попали в обе группы (что не очень корректно с точки зрения подготовки к тесту), то можно зафиксировать победу группы B"
   ]
  }
 ],
 "metadata": {
  "ExecuteTimeLog": [
   {
    "duration": 671,
    "start_time": "2022-01-28T06:51:46.908Z"
   },
   {
    "duration": 582,
    "start_time": "2022-01-28T06:51:47.581Z"
   },
   {
    "duration": 19,
    "start_time": "2022-01-28T06:51:48.165Z"
   },
   {
    "duration": 88,
    "start_time": "2022-01-28T06:51:48.186Z"
   },
   {
    "duration": 223,
    "start_time": "2022-01-28T06:51:48.276Z"
   },
   {
    "duration": 233,
    "start_time": "2022-01-28T06:51:48.501Z"
   },
   {
    "duration": 68,
    "start_time": "2022-01-28T06:51:48.736Z"
   },
   {
    "duration": 79,
    "start_time": "2022-01-28T06:51:48.807Z"
   },
   {
    "duration": 168,
    "start_time": "2022-01-28T06:51:48.888Z"
   },
   {
    "duration": 6,
    "start_time": "2022-01-28T06:51:49.061Z"
   },
   {
    "duration": 13,
    "start_time": "2022-01-28T06:51:49.069Z"
   },
   {
    "duration": 10,
    "start_time": "2022-01-28T06:51:49.084Z"
   },
   {
    "duration": 10,
    "start_time": "2022-01-28T06:51:49.095Z"
   },
   {
    "duration": 6,
    "start_time": "2022-01-28T06:51:49.107Z"
   },
   {
    "duration": 11,
    "start_time": "2022-01-28T06:51:49.115Z"
   },
   {
    "duration": 32,
    "start_time": "2022-01-28T06:51:49.128Z"
   },
   {
    "duration": 10,
    "start_time": "2022-01-28T06:51:49.163Z"
   },
   {
    "duration": 523,
    "start_time": "2022-01-28T06:51:49.175Z"
   },
   {
    "duration": 26,
    "start_time": "2022-01-28T06:51:49.700Z"
   },
   {
    "duration": 55,
    "start_time": "2022-01-28T06:51:49.728Z"
   },
   {
    "duration": 4,
    "start_time": "2022-01-28T06:51:49.785Z"
   },
   {
    "duration": 41,
    "start_time": "2022-01-28T06:51:49.791Z"
   },
   {
    "duration": 51,
    "start_time": "2022-01-28T06:51:49.836Z"
   },
   {
    "duration": 26,
    "start_time": "2022-01-28T06:51:49.889Z"
   },
   {
    "duration": 14,
    "start_time": "2022-01-28T06:51:49.917Z"
   },
   {
    "duration": 7,
    "start_time": "2022-01-28T06:51:49.932Z"
   },
   {
    "duration": 77,
    "start_time": "2022-01-28T06:51:49.941Z"
   },
   {
    "duration": 2320,
    "start_time": "2022-01-28T06:51:50.020Z"
   },
   {
    "duration": 50,
    "start_time": "2022-01-28T06:51:52.341Z"
   },
   {
    "duration": 12,
    "start_time": "2022-01-28T06:51:52.393Z"
   },
   {
    "duration": 4,
    "start_time": "2022-01-28T06:51:52.407Z"
   },
   {
    "duration": 1940,
    "start_time": "2022-01-28T06:51:52.413Z"
   },
   {
    "duration": 2583,
    "start_time": "2022-01-28T06:51:54.355Z"
   },
   {
    "duration": 2137,
    "start_time": "2022-01-28T06:51:56.940Z"
   },
   {
    "duration": 1037,
    "start_time": "2022-01-28T06:51:59.079Z"
   },
   {
    "duration": 1094,
    "start_time": "2022-01-28T06:52:00.118Z"
   },
   {
    "duration": 1315,
    "start_time": "2022-01-28T06:52:01.214Z"
   },
   {
    "duration": 2053,
    "start_time": "2022-01-28T06:52:02.531Z"
   },
   {
    "duration": 2175,
    "start_time": "2022-01-28T06:52:04.586Z"
   },
   {
    "duration": 2483,
    "start_time": "2022-01-28T06:52:06.762Z"
   },
   {
    "duration": 45,
    "start_time": "2022-01-28T06:54:52.720Z"
   },
   {
    "duration": 23,
    "start_time": "2022-01-28T06:56:03.609Z"
   },
   {
    "duration": 17,
    "start_time": "2022-01-28T06:56:15.496Z"
   },
   {
    "duration": 13,
    "start_time": "2022-01-28T06:56:22.150Z"
   },
   {
    "duration": 336,
    "start_time": "2022-01-28T06:59:25.752Z"
   },
   {
    "duration": 5,
    "start_time": "2022-01-28T07:00:05.617Z"
   },
   {
    "duration": 125,
    "start_time": "2022-03-26T05:53:28.867Z"
   },
   {
    "duration": 4149,
    "start_time": "2022-03-26T06:09:29.906Z"
   },
   {
    "duration": 1684,
    "start_time": "2022-03-26T06:09:34.058Z"
   },
   {
    "duration": 129,
    "start_time": "2022-03-26T06:09:35.745Z"
   },
   {
    "duration": 5,
    "start_time": "2022-03-26T06:09:35.877Z"
   },
   {
    "duration": 6,
    "start_time": "2022-03-26T06:09:35.885Z"
   },
   {
    "duration": 128,
    "start_time": "2022-03-26T06:09:35.893Z"
   },
   {
    "duration": 11,
    "start_time": "2022-03-26T06:09:36.024Z"
   },
   {
    "duration": 48,
    "start_time": "2022-03-26T06:09:36.038Z"
   },
   {
    "duration": 13,
    "start_time": "2022-03-26T06:09:36.088Z"
   },
   {
    "duration": 12,
    "start_time": "2022-03-26T06:09:36.105Z"
   },
   {
    "duration": 18,
    "start_time": "2022-03-26T06:09:36.120Z"
   },
   {
    "duration": 32,
    "start_time": "2022-03-26T06:09:37.876Z"
   },
   {
    "duration": 6,
    "start_time": "2022-03-26T06:09:47.380Z"
   },
   {
    "duration": 162,
    "start_time": "2022-03-26T06:09:52.358Z"
   },
   {
    "duration": 27,
    "start_time": "2022-03-26T06:10:19.108Z"
   },
   {
    "duration": 329,
    "start_time": "2022-03-26T06:10:33.231Z"
   },
   {
    "duration": 409,
    "start_time": "2022-03-26T06:10:58.165Z"
   },
   {
    "duration": 393,
    "start_time": "2022-03-26T06:11:31.193Z"
   },
   {
    "duration": 475,
    "start_time": "2022-03-26T06:11:32.533Z"
   },
   {
    "duration": 349,
    "start_time": "2022-03-26T06:11:33.226Z"
   },
   {
    "duration": 475,
    "start_time": "2022-03-26T06:11:33.649Z"
   },
   {
    "duration": 357,
    "start_time": "2022-03-26T06:11:34.127Z"
   },
   {
    "duration": 447,
    "start_time": "2022-03-26T06:11:34.489Z"
   },
   {
    "duration": 14,
    "start_time": "2022-03-26T06:11:34.939Z"
   },
   {
    "duration": 227,
    "start_time": "2022-03-26T06:11:35.009Z"
   },
   {
    "duration": 9,
    "start_time": "2022-03-26T06:11:35.488Z"
   },
   {
    "duration": 236,
    "start_time": "2022-03-26T06:11:36.731Z"
   },
   {
    "duration": 5,
    "start_time": "2022-03-26T06:11:37.911Z"
   },
   {
    "duration": 17,
    "start_time": "2022-03-26T06:12:18.629Z"
   },
   {
    "duration": 10,
    "start_time": "2022-03-26T06:14:29.919Z"
   },
   {
    "duration": 5133,
    "start_time": "2022-03-26T06:14:32.680Z"
   },
   {
    "duration": 6,
    "start_time": "2022-03-26T06:14:37.816Z"
   },
   {
    "duration": 68,
    "start_time": "2022-03-26T06:14:37.824Z"
   },
   {
    "duration": 4,
    "start_time": "2022-03-26T06:14:37.895Z"
   },
   {
    "duration": 15,
    "start_time": "2022-03-26T06:14:37.901Z"
   },
   {
    "duration": 110,
    "start_time": "2022-03-26T06:14:37.919Z"
   },
   {
    "duration": 11,
    "start_time": "2022-03-26T06:14:38.032Z"
   },
   {
    "duration": 39,
    "start_time": "2022-03-26T06:14:38.045Z"
   },
   {
    "duration": 24,
    "start_time": "2022-03-26T06:14:38.087Z"
   },
   {
    "duration": 33,
    "start_time": "2022-03-26T06:14:38.115Z"
   },
   {
    "duration": 23,
    "start_time": "2022-03-26T06:14:38.151Z"
   },
   {
    "duration": 44,
    "start_time": "2022-03-26T06:14:38.186Z"
   },
   {
    "duration": 11,
    "start_time": "2022-03-26T06:14:41.608Z"
   },
   {
    "duration": 27,
    "start_time": "2022-03-26T06:14:54.883Z"
   },
   {
    "duration": 21,
    "start_time": "2022-03-26T06:14:58.744Z"
   },
   {
    "duration": 6,
    "start_time": "2022-03-26T06:15:02.227Z"
   },
   {
    "duration": 21,
    "start_time": "2022-03-26T06:15:04.419Z"
   },
   {
    "duration": 16,
    "start_time": "2022-03-26T06:15:28.571Z"
   },
   {
    "duration": 3980,
    "start_time": "2022-03-26T07:09:33.055Z"
   },
   {
    "duration": 6,
    "start_time": "2022-03-26T07:09:37.038Z"
   },
   {
    "duration": 88,
    "start_time": "2022-03-26T07:09:37.046Z"
   },
   {
    "duration": 4,
    "start_time": "2022-03-26T07:09:37.137Z"
   },
   {
    "duration": 12,
    "start_time": "2022-03-26T07:09:37.143Z"
   },
   {
    "duration": 85,
    "start_time": "2022-03-26T07:09:37.157Z"
   },
   {
    "duration": 41,
    "start_time": "2022-03-26T07:09:37.244Z"
   },
   {
    "duration": 8,
    "start_time": "2022-03-26T07:09:37.287Z"
   },
   {
    "duration": 12,
    "start_time": "2022-03-26T07:09:37.297Z"
   },
   {
    "duration": 13,
    "start_time": "2022-03-26T07:09:37.314Z"
   },
   {
    "duration": 55,
    "start_time": "2022-03-26T07:09:37.330Z"
   },
   {
    "duration": 33,
    "start_time": "2022-03-26T07:09:37.387Z"
   },
   {
    "duration": 6,
    "start_time": "2022-03-26T07:09:37.422Z"
   },
   {
    "duration": 52,
    "start_time": "2022-03-26T07:09:37.431Z"
   },
   {
    "duration": 423,
    "start_time": "2022-03-26T07:09:37.486Z"
   },
   {
    "duration": 341,
    "start_time": "2022-03-26T07:09:37.911Z"
   },
   {
    "duration": 433,
    "start_time": "2022-03-26T07:09:38.254Z"
   },
   {
    "duration": 434,
    "start_time": "2022-03-26T07:09:38.690Z"
   },
   {
    "duration": 334,
    "start_time": "2022-03-26T07:09:39.127Z"
   },
   {
    "duration": 554,
    "start_time": "2022-03-26T07:09:39.463Z"
   },
   {
    "duration": 15,
    "start_time": "2022-03-26T07:09:40.020Z"
   },
   {
    "duration": 247,
    "start_time": "2022-03-26T07:09:40.037Z"
   },
   {
    "duration": 6,
    "start_time": "2022-03-26T07:09:40.285Z"
   },
   {
    "duration": 222,
    "start_time": "2022-03-26T07:09:40.293Z"
   },
   {
    "duration": 6,
    "start_time": "2022-03-26T07:09:40.518Z"
   },
   {
    "duration": 262,
    "start_time": "2022-03-26T07:09:40.526Z"
   },
   {
    "duration": 33,
    "start_time": "2022-03-26T07:09:40.790Z"
   },
   {
    "duration": 16,
    "start_time": "2022-03-26T07:09:40.827Z"
   },
   {
    "duration": 43,
    "start_time": "2022-03-26T07:09:40.845Z"
   },
   {
    "duration": 11,
    "start_time": "2022-03-26T07:09:40.891Z"
   },
   {
    "duration": 33,
    "start_time": "2022-03-26T07:09:40.905Z"
   },
   {
    "duration": 45,
    "start_time": "2022-03-26T07:09:40.940Z"
   },
   {
    "duration": 26,
    "start_time": "2022-03-26T07:09:40.988Z"
   },
   {
    "duration": 20,
    "start_time": "2022-03-26T07:09:58.742Z"
   },
   {
    "duration": 3,
    "start_time": "2022-03-26T07:12:40.459Z"
   },
   {
    "duration": 19,
    "start_time": "2022-03-26T07:12:46.109Z"
   },
   {
    "duration": 399,
    "start_time": "2022-03-26T07:12:51.169Z"
   },
   {
    "duration": 17,
    "start_time": "2022-03-26T07:12:56.093Z"
   },
   {
    "duration": 3534,
    "start_time": "2022-03-26T07:14:43.073Z"
   },
   {
    "duration": 5,
    "start_time": "2022-03-26T07:14:46.612Z"
   },
   {
    "duration": 60,
    "start_time": "2022-03-26T07:14:46.619Z"
   },
   {
    "duration": 4,
    "start_time": "2022-03-26T07:14:46.681Z"
   },
   {
    "duration": 13,
    "start_time": "2022-03-26T07:14:46.688Z"
   },
   {
    "duration": 99,
    "start_time": "2022-03-26T07:14:46.703Z"
   },
   {
    "duration": 10,
    "start_time": "2022-03-26T07:14:46.804Z"
   },
   {
    "duration": 12,
    "start_time": "2022-03-26T07:14:46.816Z"
   },
   {
    "duration": 21,
    "start_time": "2022-03-26T07:14:46.831Z"
   },
   {
    "duration": 39,
    "start_time": "2022-03-26T07:14:46.854Z"
   },
   {
    "duration": 23,
    "start_time": "2022-03-26T07:14:46.896Z"
   },
   {
    "duration": 35,
    "start_time": "2022-03-26T07:14:46.921Z"
   },
   {
    "duration": 28,
    "start_time": "2022-03-26T07:14:46.958Z"
   },
   {
    "duration": 16,
    "start_time": "2022-03-26T07:25:47.569Z"
   },
   {
    "duration": 15,
    "start_time": "2022-03-26T07:25:57.120Z"
   },
   {
    "duration": 15,
    "start_time": "2022-03-26T07:26:15.295Z"
   },
   {
    "duration": 24,
    "start_time": "2022-03-26T07:27:25.586Z"
   },
   {
    "duration": 20,
    "start_time": "2022-03-26T07:31:38.179Z"
   },
   {
    "duration": 16,
    "start_time": "2022-03-26T07:39:03.649Z"
   },
   {
    "duration": 13,
    "start_time": "2022-03-26T07:39:05.871Z"
   },
   {
    "duration": 7,
    "start_time": "2022-03-26T07:41:23.599Z"
   },
   {
    "duration": 4079,
    "start_time": "2022-03-26T07:42:22.587Z"
   },
   {
    "duration": 6,
    "start_time": "2022-03-26T07:42:26.670Z"
   },
   {
    "duration": 79,
    "start_time": "2022-03-26T07:42:26.679Z"
   },
   {
    "duration": 4,
    "start_time": "2022-03-26T07:42:26.762Z"
   },
   {
    "duration": 15,
    "start_time": "2022-03-26T07:42:26.769Z"
   },
   {
    "duration": 117,
    "start_time": "2022-03-26T07:42:26.787Z"
   },
   {
    "duration": 13,
    "start_time": "2022-03-26T07:42:26.907Z"
   },
   {
    "duration": 24,
    "start_time": "2022-03-26T07:42:26.922Z"
   },
   {
    "duration": 36,
    "start_time": "2022-03-26T07:42:26.949Z"
   },
   {
    "duration": 27,
    "start_time": "2022-03-26T07:42:26.989Z"
   },
   {
    "duration": 42,
    "start_time": "2022-03-26T07:42:27.018Z"
   },
   {
    "duration": 60,
    "start_time": "2022-03-26T07:42:27.062Z"
   },
   {
    "duration": 7,
    "start_time": "2022-03-26T07:42:27.125Z"
   },
   {
    "duration": 11,
    "start_time": "2022-03-26T07:42:27.134Z"
   },
   {
    "duration": 398,
    "start_time": "2022-03-26T07:42:27.147Z"
   },
   {
    "duration": 356,
    "start_time": "2022-03-26T07:42:27.548Z"
   },
   {
    "duration": 335,
    "start_time": "2022-03-26T07:42:27.907Z"
   },
   {
    "duration": 496,
    "start_time": "2022-03-26T07:42:28.244Z"
   },
   {
    "duration": 376,
    "start_time": "2022-03-26T07:42:28.744Z"
   },
   {
    "duration": 429,
    "start_time": "2022-03-26T07:42:29.122Z"
   },
   {
    "duration": 13,
    "start_time": "2022-03-26T07:42:29.553Z"
   },
   {
    "duration": 215,
    "start_time": "2022-03-26T07:42:29.569Z"
   },
   {
    "duration": 6,
    "start_time": "2022-03-26T07:42:29.787Z"
   },
   {
    "duration": 336,
    "start_time": "2022-03-26T07:42:29.795Z"
   },
   {
    "duration": 7,
    "start_time": "2022-03-26T07:42:30.134Z"
   },
   {
    "duration": 294,
    "start_time": "2022-03-26T07:42:30.143Z"
   },
   {
    "duration": 45,
    "start_time": "2022-03-26T07:42:30.439Z"
   },
   {
    "duration": 17,
    "start_time": "2022-03-26T07:42:30.488Z"
   },
   {
    "duration": 22,
    "start_time": "2022-03-26T07:42:30.507Z"
   },
   {
    "duration": 12,
    "start_time": "2022-03-26T07:42:30.532Z"
   },
   {
    "duration": 55,
    "start_time": "2022-03-26T07:42:30.546Z"
   },
   {
    "duration": 21,
    "start_time": "2022-03-26T07:42:30.604Z"
   },
   {
    "duration": 22,
    "start_time": "2022-03-26T07:42:30.627Z"
   },
   {
    "duration": 3441,
    "start_time": "2022-03-26T07:48:26.649Z"
   },
   {
    "duration": 6,
    "start_time": "2022-03-26T07:48:30.093Z"
   },
   {
    "duration": 55,
    "start_time": "2022-03-26T07:48:30.101Z"
   },
   {
    "duration": 4,
    "start_time": "2022-03-26T07:48:30.159Z"
   },
   {
    "duration": 24,
    "start_time": "2022-03-26T07:48:30.165Z"
   },
   {
    "duration": 108,
    "start_time": "2022-03-26T07:48:30.192Z"
   },
   {
    "duration": 10,
    "start_time": "2022-03-26T07:48:30.303Z"
   },
   {
    "duration": 20,
    "start_time": "2022-03-26T07:48:30.316Z"
   },
   {
    "duration": 26,
    "start_time": "2022-03-26T07:48:30.338Z"
   },
   {
    "duration": 26,
    "start_time": "2022-03-26T07:48:30.368Z"
   },
   {
    "duration": 30,
    "start_time": "2022-03-26T07:48:30.396Z"
   },
   {
    "duration": 44,
    "start_time": "2022-03-26T07:48:30.428Z"
   },
   {
    "duration": 8,
    "start_time": "2022-03-26T07:48:30.485Z"
   },
   {
    "duration": 404,
    "start_time": "2022-03-26T07:48:30.496Z"
   },
   {
    "duration": 342,
    "start_time": "2022-03-26T07:48:30.902Z"
   },
   {
    "duration": 347,
    "start_time": "2022-03-26T07:48:31.246Z"
   },
   {
    "duration": 436,
    "start_time": "2022-03-26T07:48:31.595Z"
   },
   {
    "duration": 347,
    "start_time": "2022-03-26T07:48:32.034Z"
   },
   {
    "duration": 441,
    "start_time": "2022-03-26T07:48:32.384Z"
   },
   {
    "duration": 19,
    "start_time": "2022-03-26T07:48:32.828Z"
   },
   {
    "duration": 244,
    "start_time": "2022-03-26T07:48:32.850Z"
   },
   {
    "duration": 6,
    "start_time": "2022-03-26T07:48:33.097Z"
   },
   {
    "duration": 226,
    "start_time": "2022-03-26T07:48:33.105Z"
   },
   {
    "duration": 6,
    "start_time": "2022-03-26T07:48:33.333Z"
   },
   {
    "duration": 252,
    "start_time": "2022-03-26T07:48:33.342Z"
   },
   {
    "duration": 41,
    "start_time": "2022-03-26T07:48:33.596Z"
   },
   {
    "duration": 16,
    "start_time": "2022-03-26T07:48:33.639Z"
   },
   {
    "duration": 14,
    "start_time": "2022-03-26T07:48:33.684Z"
   },
   {
    "duration": 12,
    "start_time": "2022-03-26T07:48:33.700Z"
   },
   {
    "duration": 46,
    "start_time": "2022-03-26T07:48:33.714Z"
   },
   {
    "duration": 38,
    "start_time": "2022-03-26T07:48:33.763Z"
   },
   {
    "duration": 25,
    "start_time": "2022-03-26T07:48:33.803Z"
   }
  ],
  "kernelspec": {
   "display_name": "Python 3",
   "language": "python",
   "name": "python3"
  },
  "language_info": {
   "codemirror_mode": {
    "name": "ipython",
    "version": 3
   },
   "file_extension": ".py",
   "mimetype": "text/x-python",
   "name": "python",
   "nbconvert_exporter": "python",
   "pygments_lexer": "ipython3",
   "version": "3.8.8"
  },
  "toc": {
   "base_numbering": 1,
   "nav_menu": {},
   "number_sections": true,
   "sideBar": true,
   "skip_h1_title": true,
   "title_cell": "Table of Contents",
   "title_sidebar": "Contents",
   "toc_cell": false,
   "toc_position": {},
   "toc_section_display": true,
   "toc_window_display": true
  }
 },
 "nbformat": 4,
 "nbformat_minor": 4
}
