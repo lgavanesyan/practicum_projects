{
 "cells": [
  {
   "cell_type": "markdown",
   "metadata": {},
   "source": [
    "# Финальный проект: SQL"
   ]
  },
  {
   "cell_type": "markdown",
   "metadata": {},
   "source": [
    "Компания купила крупный сервис для чтения книг по подписке. "
   ]
  },
  {
   "cell_type": "markdown",
   "metadata": {},
   "source": [
    "### Цель исследования\n",
    "- Проанализировать базу данных, в которой содержится информация о книгах, издательствах, авторах, а также пользовательские обзоры книг, с целью формирования ценностного предложения для продукта \n",
    "\n",
    "### Описание данных\n",
    "\n",
    "**Таблица `books`**\n",
    "\n",
    "Содержит данные о книгах:\n",
    "\n",
    "- `book_id` — идентификатор книги;\n",
    "- `author_id` — идентификатор автора;\n",
    "- `title` — название книги;\n",
    "- `num_pages` — количество страниц;\n",
    "- `publication_date` — дата публикации книги;\n",
    "- `publisher_id` — идентификатор издателя.\n",
    "\n",
    "**Таблица `authors`**\n",
    "\n",
    "Содержит данные об авторах:\n",
    "\n",
    "- `author_id` — идентификатор автора;\n",
    "- `author` — имя автора.\n",
    "\n",
    "**Таблица `publishers`**\n",
    "\n",
    "Содержит данные об издательствах:\n",
    "\n",
    "- `publisher_id` — идентификатор издательства;\n",
    "- `publisher` — название издательства;\n",
    "\n",
    "**Таблица `ratings`**\n",
    "\n",
    "Содержит данные о пользовательских оценках книг:\n",
    "\n",
    "- `rating_id` — идентификатор оценки;\n",
    "- `book_id` — идентификатор книги;\n",
    "- `username` — имя пользователя, оставившего оценку;\n",
    "- `rating` — оценка книги.\n",
    "\n",
    "**Таблица `reviews`**\n",
    "\n",
    "Содержит данные о пользовательских обзорах на книги:\n",
    "\n",
    "- `review_id` — идентификатор обзора;\n",
    "- `book_id` — идентификатор книги;\n",
    "- `username` — имя пользователя, написавшего обзор;\n",
    "- `text` — текст обзора.\n",
    "\n",
    "### ER-диаграмма\n",
    "\n",
    "![DB map](https://concrete-web-bad.notion.site/image/https%3A%2F%2Fs3-us-west-2.amazonaws.com%2Fsecure.notion-static.com%2F069818d1-0e5c-4d87-a461-0de584ab9c33%2FUntitled_(33).png?table=block&id=bd53c8db-b4fd-49eb-8cc9-572ebb3c9163&spaceId=9e4bd47b-c6e6-4ca3-bcee-279794b47315&width=1640&userId=&cache=v2)"
   ]
  },
  {
   "cell_type": "code",
   "execution_count": 1,
   "metadata": {},
   "outputs": [],
   "source": [
    "# !pip install psycopg2-binary"
   ]
  },
  {
   "cell_type": "code",
   "execution_count": 2,
   "metadata": {},
   "outputs": [],
   "source": [
    "# импортируем библиотеки\n",
    "import pandas as pd\n",
    "from sqlalchemy import create_engine\n",
    "from psycopg2 import sql\n",
    "\n",
    "# устанавливаем параметры\n",
    "db_config = {'user': 'praktikum_student', # имя пользователя\n",
    "            'pwd': 'Sdf4$2;d-d30pp', # пароль\n",
    "            'host': 'rc1b-wcoijxj3yxfsf3fs.mdb.yandexcloud.net',\n",
    "            'port': 6432, # порт подключения\n",
    "            'db': 'data-analyst-final-project-db'} # название базы данных\n",
    "\n",
    "connection_string = 'postgresql://{}:{}@{}:{}/{}'.format(db_config['user'],\n",
    "                                                db_config['pwd'],\n",
    "                                                db_config['host'],\n",
    "                                                db_config['port'],\n",
    "                                                db_config['db'])\n",
    "# сохраняем коннектор\n",
    "engine = create_engine(connection_string, connect_args={'sslmode':'require'})\n"
   ]
  },
  {
   "cell_type": "markdown",
   "metadata": {},
   "source": [
    "#### Исследуем таблицы"
   ]
  },
  {
   "cell_type": "code",
   "execution_count": 3,
   "metadata": {
    "scrolled": false
   },
   "outputs": [
    {
     "data": {
      "text/html": [
       "<div>\n",
       "<style scoped>\n",
       "    .dataframe tbody tr th:only-of-type {\n",
       "        vertical-align: middle;\n",
       "    }\n",
       "\n",
       "    .dataframe tbody tr th {\n",
       "        vertical-align: top;\n",
       "    }\n",
       "\n",
       "    .dataframe thead th {\n",
       "        text-align: right;\n",
       "    }\n",
       "</style>\n",
       "<table border=\"1\" class=\"dataframe\">\n",
       "  <thead>\n",
       "    <tr style=\"text-align: right;\">\n",
       "      <th></th>\n",
       "      <th>book_id</th>\n",
       "      <th>author_id</th>\n",
       "      <th>title</th>\n",
       "      <th>num_pages</th>\n",
       "      <th>publication_date</th>\n",
       "      <th>publisher_id</th>\n",
       "    </tr>\n",
       "  </thead>\n",
       "  <tbody>\n",
       "    <tr>\n",
       "      <th>0</th>\n",
       "      <td>1</td>\n",
       "      <td>546</td>\n",
       "      <td>'Salem's Lot</td>\n",
       "      <td>594</td>\n",
       "      <td>2005-11-01</td>\n",
       "      <td>93</td>\n",
       "    </tr>\n",
       "    <tr>\n",
       "      <th>1</th>\n",
       "      <td>2</td>\n",
       "      <td>465</td>\n",
       "      <td>1 000 Places to See Before You Die</td>\n",
       "      <td>992</td>\n",
       "      <td>2003-05-22</td>\n",
       "      <td>336</td>\n",
       "    </tr>\n",
       "    <tr>\n",
       "      <th>2</th>\n",
       "      <td>3</td>\n",
       "      <td>407</td>\n",
       "      <td>13 Little Blue Envelopes (Little Blue Envelope...</td>\n",
       "      <td>322</td>\n",
       "      <td>2010-12-21</td>\n",
       "      <td>135</td>\n",
       "    </tr>\n",
       "    <tr>\n",
       "      <th>3</th>\n",
       "      <td>4</td>\n",
       "      <td>82</td>\n",
       "      <td>1491: New Revelations of the Americas Before C...</td>\n",
       "      <td>541</td>\n",
       "      <td>2006-10-10</td>\n",
       "      <td>309</td>\n",
       "    </tr>\n",
       "    <tr>\n",
       "      <th>4</th>\n",
       "      <td>5</td>\n",
       "      <td>125</td>\n",
       "      <td>1776</td>\n",
       "      <td>386</td>\n",
       "      <td>2006-07-04</td>\n",
       "      <td>268</td>\n",
       "    </tr>\n",
       "  </tbody>\n",
       "</table>\n",
       "</div>"
      ],
      "text/plain": [
       "   book_id  author_id                                              title  \\\n",
       "0        1        546                                       'Salem's Lot   \n",
       "1        2        465                 1 000 Places to See Before You Die   \n",
       "2        3        407  13 Little Blue Envelopes (Little Blue Envelope...   \n",
       "3        4         82  1491: New Revelations of the Americas Before C...   \n",
       "4        5        125                                               1776   \n",
       "\n",
       "   num_pages publication_date  publisher_id  \n",
       "0        594       2005-11-01            93  \n",
       "1        992       2003-05-22           336  \n",
       "2        322       2010-12-21           135  \n",
       "3        541       2006-10-10           309  \n",
       "4        386       2006-07-04           268  "
      ]
     },
     "metadata": {},
     "output_type": "display_data"
    },
    {
     "data": {
      "text/html": [
       "<div>\n",
       "<style scoped>\n",
       "    .dataframe tbody tr th:only-of-type {\n",
       "        vertical-align: middle;\n",
       "    }\n",
       "\n",
       "    .dataframe tbody tr th {\n",
       "        vertical-align: top;\n",
       "    }\n",
       "\n",
       "    .dataframe thead th {\n",
       "        text-align: right;\n",
       "    }\n",
       "</style>\n",
       "<table border=\"1\" class=\"dataframe\">\n",
       "  <thead>\n",
       "    <tr style=\"text-align: right;\">\n",
       "      <th></th>\n",
       "      <th>author_id</th>\n",
       "      <th>author</th>\n",
       "    </tr>\n",
       "  </thead>\n",
       "  <tbody>\n",
       "    <tr>\n",
       "      <th>0</th>\n",
       "      <td>1</td>\n",
       "      <td>A.S. Byatt</td>\n",
       "    </tr>\n",
       "    <tr>\n",
       "      <th>1</th>\n",
       "      <td>2</td>\n",
       "      <td>Aesop/Laura Harris/Laura Gibbs</td>\n",
       "    </tr>\n",
       "    <tr>\n",
       "      <th>2</th>\n",
       "      <td>3</td>\n",
       "      <td>Agatha Christie</td>\n",
       "    </tr>\n",
       "    <tr>\n",
       "      <th>3</th>\n",
       "      <td>4</td>\n",
       "      <td>Alan Brennert</td>\n",
       "    </tr>\n",
       "    <tr>\n",
       "      <th>4</th>\n",
       "      <td>5</td>\n",
       "      <td>Alan Moore/David   Lloyd</td>\n",
       "    </tr>\n",
       "  </tbody>\n",
       "</table>\n",
       "</div>"
      ],
      "text/plain": [
       "   author_id                          author\n",
       "0          1                      A.S. Byatt\n",
       "1          2  Aesop/Laura Harris/Laura Gibbs\n",
       "2          3                 Agatha Christie\n",
       "3          4                   Alan Brennert\n",
       "4          5        Alan Moore/David   Lloyd"
      ]
     },
     "metadata": {},
     "output_type": "display_data"
    },
    {
     "data": {
      "text/html": [
       "<div>\n",
       "<style scoped>\n",
       "    .dataframe tbody tr th:only-of-type {\n",
       "        vertical-align: middle;\n",
       "    }\n",
       "\n",
       "    .dataframe tbody tr th {\n",
       "        vertical-align: top;\n",
       "    }\n",
       "\n",
       "    .dataframe thead th {\n",
       "        text-align: right;\n",
       "    }\n",
       "</style>\n",
       "<table border=\"1\" class=\"dataframe\">\n",
       "  <thead>\n",
       "    <tr style=\"text-align: right;\">\n",
       "      <th></th>\n",
       "      <th>publisher_id</th>\n",
       "      <th>publisher</th>\n",
       "    </tr>\n",
       "  </thead>\n",
       "  <tbody>\n",
       "    <tr>\n",
       "      <th>0</th>\n",
       "      <td>1</td>\n",
       "      <td>Ace</td>\n",
       "    </tr>\n",
       "    <tr>\n",
       "      <th>1</th>\n",
       "      <td>2</td>\n",
       "      <td>Ace Book</td>\n",
       "    </tr>\n",
       "    <tr>\n",
       "      <th>2</th>\n",
       "      <td>3</td>\n",
       "      <td>Ace Books</td>\n",
       "    </tr>\n",
       "    <tr>\n",
       "      <th>3</th>\n",
       "      <td>4</td>\n",
       "      <td>Ace Hardcover</td>\n",
       "    </tr>\n",
       "    <tr>\n",
       "      <th>4</th>\n",
       "      <td>5</td>\n",
       "      <td>Addison Wesley Publishing Company</td>\n",
       "    </tr>\n",
       "  </tbody>\n",
       "</table>\n",
       "</div>"
      ],
      "text/plain": [
       "   publisher_id                          publisher\n",
       "0             1                                Ace\n",
       "1             2                           Ace Book\n",
       "2             3                          Ace Books\n",
       "3             4                      Ace Hardcover\n",
       "4             5  Addison Wesley Publishing Company"
      ]
     },
     "metadata": {},
     "output_type": "display_data"
    },
    {
     "data": {
      "text/html": [
       "<div>\n",
       "<style scoped>\n",
       "    .dataframe tbody tr th:only-of-type {\n",
       "        vertical-align: middle;\n",
       "    }\n",
       "\n",
       "    .dataframe tbody tr th {\n",
       "        vertical-align: top;\n",
       "    }\n",
       "\n",
       "    .dataframe thead th {\n",
       "        text-align: right;\n",
       "    }\n",
       "</style>\n",
       "<table border=\"1\" class=\"dataframe\">\n",
       "  <thead>\n",
       "    <tr style=\"text-align: right;\">\n",
       "      <th></th>\n",
       "      <th>rating_id</th>\n",
       "      <th>book_id</th>\n",
       "      <th>username</th>\n",
       "      <th>rating</th>\n",
       "    </tr>\n",
       "  </thead>\n",
       "  <tbody>\n",
       "    <tr>\n",
       "      <th>0</th>\n",
       "      <td>1</td>\n",
       "      <td>1</td>\n",
       "      <td>ryanfranco</td>\n",
       "      <td>4</td>\n",
       "    </tr>\n",
       "    <tr>\n",
       "      <th>1</th>\n",
       "      <td>2</td>\n",
       "      <td>1</td>\n",
       "      <td>grantpatricia</td>\n",
       "      <td>2</td>\n",
       "    </tr>\n",
       "    <tr>\n",
       "      <th>2</th>\n",
       "      <td>3</td>\n",
       "      <td>1</td>\n",
       "      <td>brandtandrea</td>\n",
       "      <td>5</td>\n",
       "    </tr>\n",
       "    <tr>\n",
       "      <th>3</th>\n",
       "      <td>4</td>\n",
       "      <td>2</td>\n",
       "      <td>lorichen</td>\n",
       "      <td>3</td>\n",
       "    </tr>\n",
       "    <tr>\n",
       "      <th>4</th>\n",
       "      <td>5</td>\n",
       "      <td>2</td>\n",
       "      <td>mariokeller</td>\n",
       "      <td>2</td>\n",
       "    </tr>\n",
       "  </tbody>\n",
       "</table>\n",
       "</div>"
      ],
      "text/plain": [
       "   rating_id  book_id       username  rating\n",
       "0          1        1     ryanfranco       4\n",
       "1          2        1  grantpatricia       2\n",
       "2          3        1   brandtandrea       5\n",
       "3          4        2       lorichen       3\n",
       "4          5        2    mariokeller       2"
      ]
     },
     "metadata": {},
     "output_type": "display_data"
    },
    {
     "data": {
      "text/html": [
       "<div>\n",
       "<style scoped>\n",
       "    .dataframe tbody tr th:only-of-type {\n",
       "        vertical-align: middle;\n",
       "    }\n",
       "\n",
       "    .dataframe tbody tr th {\n",
       "        vertical-align: top;\n",
       "    }\n",
       "\n",
       "    .dataframe thead th {\n",
       "        text-align: right;\n",
       "    }\n",
       "</style>\n",
       "<table border=\"1\" class=\"dataframe\">\n",
       "  <thead>\n",
       "    <tr style=\"text-align: right;\">\n",
       "      <th></th>\n",
       "      <th>review_id</th>\n",
       "      <th>book_id</th>\n",
       "      <th>username</th>\n",
       "      <th>text</th>\n",
       "    </tr>\n",
       "  </thead>\n",
       "  <tbody>\n",
       "    <tr>\n",
       "      <th>0</th>\n",
       "      <td>1</td>\n",
       "      <td>1</td>\n",
       "      <td>brandtandrea</td>\n",
       "      <td>Mention society tell send professor analysis. ...</td>\n",
       "    </tr>\n",
       "    <tr>\n",
       "      <th>1</th>\n",
       "      <td>2</td>\n",
       "      <td>1</td>\n",
       "      <td>ryanfranco</td>\n",
       "      <td>Foot glass pretty audience hit themselves. Amo...</td>\n",
       "    </tr>\n",
       "    <tr>\n",
       "      <th>2</th>\n",
       "      <td>3</td>\n",
       "      <td>2</td>\n",
       "      <td>lorichen</td>\n",
       "      <td>Listen treat keep worry. Miss husband tax but ...</td>\n",
       "    </tr>\n",
       "    <tr>\n",
       "      <th>3</th>\n",
       "      <td>4</td>\n",
       "      <td>3</td>\n",
       "      <td>johnsonamanda</td>\n",
       "      <td>Finally month interesting blue could nature cu...</td>\n",
       "    </tr>\n",
       "    <tr>\n",
       "      <th>4</th>\n",
       "      <td>5</td>\n",
       "      <td>3</td>\n",
       "      <td>scotttamara</td>\n",
       "      <td>Nation purpose heavy give wait song will. List...</td>\n",
       "    </tr>\n",
       "  </tbody>\n",
       "</table>\n",
       "</div>"
      ],
      "text/plain": [
       "   review_id  book_id       username  \\\n",
       "0          1        1   brandtandrea   \n",
       "1          2        1     ryanfranco   \n",
       "2          3        2       lorichen   \n",
       "3          4        3  johnsonamanda   \n",
       "4          5        3    scotttamara   \n",
       "\n",
       "                                                text  \n",
       "0  Mention society tell send professor analysis. ...  \n",
       "1  Foot glass pretty audience hit themselves. Amo...  \n",
       "2  Listen treat keep worry. Miss husband tax but ...  \n",
       "3  Finally month interesting blue could nature cu...  \n",
       "4  Nation purpose heavy give wait song will. List...  "
      ]
     },
     "metadata": {},
     "output_type": "display_data"
    }
   ],
   "source": [
    "# функция для вывода первых 5 строк\n",
    "\n",
    "def query_top5(table_name):\n",
    "    query = f'SELECT * FROM {table_name} LIMIT 5'\n",
    "    display(pd.io.sql.read_sql(query, con = engine))\n",
    "\n",
    "# выведем первые 5 строк таблиц\n",
    "for table in ['books', 'authors', 'publishers', 'ratings', 'reviews']:\n",
    "    query_top5(table)"
   ]
  },
  {
   "cell_type": "markdown",
   "metadata": {},
   "source": [
    "#### Задача 1\n",
    "Посчитайте, сколько книг вышло после 1 января 2000 года"
   ]
  },
  {
   "cell_type": "code",
   "execution_count": 5,
   "metadata": {},
   "outputs": [
    {
     "data": {
      "text/html": [
       "<div>\n",
       "<style scoped>\n",
       "    .dataframe tbody tr th:only-of-type {\n",
       "        vertical-align: middle;\n",
       "    }\n",
       "\n",
       "    .dataframe tbody tr th {\n",
       "        vertical-align: top;\n",
       "    }\n",
       "\n",
       "    .dataframe thead th {\n",
       "        text-align: right;\n",
       "    }\n",
       "</style>\n",
       "<table border=\"1\" class=\"dataframe\">\n",
       "  <thead>\n",
       "    <tr style=\"text-align: right;\">\n",
       "      <th></th>\n",
       "      <th>count</th>\n",
       "    </tr>\n",
       "  </thead>\n",
       "  <tbody>\n",
       "    <tr>\n",
       "      <th>0</th>\n",
       "      <td>819</td>\n",
       "    </tr>\n",
       "  </tbody>\n",
       "</table>\n",
       "</div>"
      ],
      "text/plain": [
       "   count\n",
       "0    819"
      ]
     },
     "execution_count": 5,
     "metadata": {},
     "output_type": "execute_result"
    }
   ],
   "source": [
    "query = '''SELECT COUNT(DISTINCT book_id)\n",
    "            FROM books \n",
    "            WHERE CAST(publication_date as date) > '2000-01-01'\n",
    "            '''\n",
    "pd.io.sql.read_sql(query, con = engine)"
   ]
  },
  {
   "cell_type": "markdown",
   "metadata": {},
   "source": [
    "- После 1 января 2000 года вышло 819 книг"
   ]
  },
  {
   "cell_type": "markdown",
   "metadata": {},
   "source": [
    "#### Задача 2\n",
    "Для каждой книги посчитайте количество обзоров и среднюю оценку"
   ]
  },
  {
   "cell_type": "code",
   "execution_count": 6,
   "metadata": {},
   "outputs": [
    {
     "data": {
      "text/html": [
       "<div>\n",
       "<style scoped>\n",
       "    .dataframe tbody tr th:only-of-type {\n",
       "        vertical-align: middle;\n",
       "    }\n",
       "\n",
       "    .dataframe tbody tr th {\n",
       "        vertical-align: top;\n",
       "    }\n",
       "\n",
       "    .dataframe thead th {\n",
       "        text-align: right;\n",
       "    }\n",
       "</style>\n",
       "<table border=\"1\" class=\"dataframe\">\n",
       "  <thead>\n",
       "    <tr style=\"text-align: right;\">\n",
       "      <th></th>\n",
       "      <th>book_id</th>\n",
       "      <th>reviews_count</th>\n",
       "      <th>avg_rating</th>\n",
       "    </tr>\n",
       "  </thead>\n",
       "  <tbody>\n",
       "    <tr>\n",
       "      <th>0</th>\n",
       "      <td>1</td>\n",
       "      <td>2.0</td>\n",
       "      <td>3.67</td>\n",
       "    </tr>\n",
       "    <tr>\n",
       "      <th>1</th>\n",
       "      <td>2</td>\n",
       "      <td>1.0</td>\n",
       "      <td>2.50</td>\n",
       "    </tr>\n",
       "    <tr>\n",
       "      <th>2</th>\n",
       "      <td>3</td>\n",
       "      <td>3.0</td>\n",
       "      <td>4.67</td>\n",
       "    </tr>\n",
       "    <tr>\n",
       "      <th>3</th>\n",
       "      <td>4</td>\n",
       "      <td>2.0</td>\n",
       "      <td>4.50</td>\n",
       "    </tr>\n",
       "    <tr>\n",
       "      <th>4</th>\n",
       "      <td>5</td>\n",
       "      <td>4.0</td>\n",
       "      <td>4.00</td>\n",
       "    </tr>\n",
       "    <tr>\n",
       "      <th>...</th>\n",
       "      <td>...</td>\n",
       "      <td>...</td>\n",
       "      <td>...</td>\n",
       "    </tr>\n",
       "    <tr>\n",
       "      <th>995</th>\n",
       "      <td>996</td>\n",
       "      <td>3.0</td>\n",
       "      <td>3.67</td>\n",
       "    </tr>\n",
       "    <tr>\n",
       "      <th>996</th>\n",
       "      <td>997</td>\n",
       "      <td>3.0</td>\n",
       "      <td>3.40</td>\n",
       "    </tr>\n",
       "    <tr>\n",
       "      <th>997</th>\n",
       "      <td>998</td>\n",
       "      <td>4.0</td>\n",
       "      <td>3.20</td>\n",
       "    </tr>\n",
       "    <tr>\n",
       "      <th>998</th>\n",
       "      <td>999</td>\n",
       "      <td>2.0</td>\n",
       "      <td>4.50</td>\n",
       "    </tr>\n",
       "    <tr>\n",
       "      <th>999</th>\n",
       "      <td>1000</td>\n",
       "      <td>4.0</td>\n",
       "      <td>3.83</td>\n",
       "    </tr>\n",
       "  </tbody>\n",
       "</table>\n",
       "<p>1000 rows × 3 columns</p>\n",
       "</div>"
      ],
      "text/plain": [
       "     book_id  reviews_count  avg_rating\n",
       "0          1            2.0        3.67\n",
       "1          2            1.0        2.50\n",
       "2          3            3.0        4.67\n",
       "3          4            2.0        4.50\n",
       "4          5            4.0        4.00\n",
       "..       ...            ...         ...\n",
       "995      996            3.0        3.67\n",
       "996      997            3.0        3.40\n",
       "997      998            4.0        3.20\n",
       "998      999            2.0        4.50\n",
       "999     1000            4.0        3.83\n",
       "\n",
       "[1000 rows x 3 columns]"
      ]
     },
     "execution_count": 6,
     "metadata": {},
     "output_type": "execute_result"
    }
   ],
   "source": [
    "query = '''WITH\n",
    "        a AS (SELECT book_id,\n",
    "                    COUNT(review_id) AS reviews_count\n",
    "            FROM reviews\n",
    "            GROUP BY book_id),\n",
    "        b AS (SELECT book_id,\n",
    "                    AVG(rating) AS avg_rating\n",
    "            FROM ratings\n",
    "            GROUP BY book_id)\n",
    "        \n",
    "        SELECT b.book_id,\n",
    "                a.reviews_count,\n",
    "                ROUND(b.avg_rating,2) as avg_rating\n",
    "        FROM a\n",
    "        FULL JOIN b ON a.book_id=b.book_id\n",
    "        ORDER BY book_id\n",
    "            '''\n",
    "pd.io.sql.read_sql(query, con = engine)\n"
   ]
  },
  {
   "cell_type": "markdown",
   "metadata": {},
   "source": [
    "#### Задача 3\n",
    "Определите издательство, которое выпустило наибольшее число книг толще 50 страниц — так вы исключите из анализа брошюры"
   ]
  },
  {
   "cell_type": "code",
   "execution_count": 7,
   "metadata": {},
   "outputs": [
    {
     "data": {
      "text/html": [
       "<div>\n",
       "<style scoped>\n",
       "    .dataframe tbody tr th:only-of-type {\n",
       "        vertical-align: middle;\n",
       "    }\n",
       "\n",
       "    .dataframe tbody tr th {\n",
       "        vertical-align: top;\n",
       "    }\n",
       "\n",
       "    .dataframe thead th {\n",
       "        text-align: right;\n",
       "    }\n",
       "</style>\n",
       "<table border=\"1\" class=\"dataframe\">\n",
       "  <thead>\n",
       "    <tr style=\"text-align: right;\">\n",
       "      <th></th>\n",
       "      <th>publisher_id</th>\n",
       "      <th>publisher</th>\n",
       "      <th>books_over_50_count</th>\n",
       "    </tr>\n",
       "  </thead>\n",
       "  <tbody>\n",
       "    <tr>\n",
       "      <th>0</th>\n",
       "      <td>212</td>\n",
       "      <td>Penguin Books</td>\n",
       "      <td>42</td>\n",
       "    </tr>\n",
       "  </tbody>\n",
       "</table>\n",
       "</div>"
      ],
      "text/plain": [
       "   publisher_id      publisher  books_over_50_count\n",
       "0           212  Penguin Books                   42"
      ]
     },
     "execution_count": 7,
     "metadata": {},
     "output_type": "execute_result"
    }
   ],
   "source": [
    "query = '''WITH \n",
    "        a AS (SELECT publisher_id,\n",
    "                COUNT(num_pages) as books_over_50_count\n",
    "            FROM books\n",
    "            WHERE num_pages > 50\n",
    "            GROUP BY publisher_id\n",
    "            ORDER BY books_over_50_count DESC\n",
    "            LIMIT 1)\n",
    "        SELECT a.publisher_id,\n",
    "                publishers.publisher,\n",
    "                a.books_over_50_count\n",
    "        FROM a\n",
    "        LEFT JOIN publishers on a.publisher_id=publishers.publisher_id\n",
    "            '''\n",
    "pd.io.sql.read_sql(query, con = engine)"
   ]
  },
  {
   "cell_type": "markdown",
   "metadata": {},
   "source": [
    "- Издательство Penguin Books выпустило 42 книги толще 50 страниц"
   ]
  },
  {
   "cell_type": "markdown",
   "metadata": {},
   "source": [
    "#### Задача 4\n",
    "Определите автора с самой высокой средней оценкой книг — учитывайте только книги с 50 и более оценками"
   ]
  },
  {
   "cell_type": "code",
   "execution_count": 24,
   "metadata": {},
   "outputs": [
    {
     "data": {
      "text/html": [
       "<div>\n",
       "<style scoped>\n",
       "    .dataframe tbody tr th:only-of-type {\n",
       "        vertical-align: middle;\n",
       "    }\n",
       "\n",
       "    .dataframe tbody tr th {\n",
       "        vertical-align: top;\n",
       "    }\n",
       "\n",
       "    .dataframe thead th {\n",
       "        text-align: right;\n",
       "    }\n",
       "</style>\n",
       "<table border=\"1\" class=\"dataframe\">\n",
       "  <thead>\n",
       "    <tr style=\"text-align: right;\">\n",
       "      <th></th>\n",
       "      <th>author_id</th>\n",
       "      <th>author</th>\n",
       "      <th>avg_rating</th>\n",
       "    </tr>\n",
       "  </thead>\n",
       "  <tbody>\n",
       "    <tr>\n",
       "      <th>0</th>\n",
       "      <td>236</td>\n",
       "      <td>J.K. Rowling/Mary GrandPré</td>\n",
       "      <td>4.29</td>\n",
       "    </tr>\n",
       "  </tbody>\n",
       "</table>\n",
       "</div>"
      ],
      "text/plain": [
       "   author_id                      author  avg_rating\n",
       "0        236  J.K. Rowling/Mary GrandPré        4.29"
      ]
     },
     "execution_count": 24,
     "metadata": {},
     "output_type": "execute_result"
    }
   ],
   "source": [
    "query='''\n",
    "WITH \n",
    "a AS (SELECT book_id,\n",
    "        COUNT(rating) AS rating_count\n",
    "    FROM ratings\n",
    "    GROUP BY book_id\n",
    "    HAVING COUNT(rating)>=50),\n",
    "b AS (SELECT books.author_id as author_id,\n",
    "            AVG(rating) AS avg_rating\n",
    "      FROM a\n",
    "      INNER JOIN books on a.book_id=books.book_id\n",
    "      LEFT JOIN ratings on a.book_id=ratings.book_id\n",
    "      GROUP BY author_id\n",
    "      ORDER BY avg_rating DESC\n",
    "      LIMIT 1)\n",
    "      \n",
    "SELECT b.author_id,\n",
    "        authors.author,\n",
    "        ROUND(b.avg_rating,2) AS avg_rating\n",
    "FROM b\n",
    "LEFT JOIN authors on b.author_id=authors.author_id\n",
    "      \n",
    "'''\n",
    "pd.io.sql.read_sql(query, con = engine)\n",
    "\n"
   ]
  },
  {
   "cell_type": "markdown",
   "metadata": {},
   "source": [
    "- Автором с самой высокой средней оценкой книг (среди книг с более 50 оценками) является J.K. Rowling/Mary GrandPré - и средняя оценка автора составляет 4.29"
   ]
  },
  {
   "cell_type": "markdown",
   "metadata": {},
   "source": [
    "#### Задача 5\n",
    "Посчитайте среднее количество обзоров от пользователей, которые поставили больше 50 оценок"
   ]
  },
  {
   "cell_type": "code",
   "execution_count": null,
   "metadata": {},
   "outputs": [],
   "source": [
    "query = '''WITH\n",
    "            a AS (SELECT username,\n",
    "                        COUNT(rating) AS rating_count\n",
    "                    FROM ratings\n",
    "                    GROUP BY username\n",
    "                    HAVING COUNT(rating)>50),\n",
    "            b AS (SELECT username,\n",
    "                        COUNT(review_id) AS reviews_count\n",
    "                FROM reviews\n",
    "                GROUP BY username)\n",
    "            \n",
    "            SELECT ROUND(AVG(b.reviews_count),1)\n",
    "            FROM a\n",
    "            LEFT JOIN b on a.username=b.username\n",
    "            '''\n",
    "pd.io.sql.read_sql(query, con = engine)"
   ]
  },
  {
   "cell_type": "markdown",
   "metadata": {},
   "source": [
    "- Среднее количество обзоров от пользователей, которые поставили больше 50 оценок, составляет 24.3"
   ]
  }
 ],
 "metadata": {
  "ExecuteTimeLog": [
   {
    "duration": 671,
    "start_time": "2022-01-28T06:51:46.908Z"
   },
   {
    "duration": 582,
    "start_time": "2022-01-28T06:51:47.581Z"
   },
   {
    "duration": 19,
    "start_time": "2022-01-28T06:51:48.165Z"
   },
   {
    "duration": 88,
    "start_time": "2022-01-28T06:51:48.186Z"
   },
   {
    "duration": 223,
    "start_time": "2022-01-28T06:51:48.276Z"
   },
   {
    "duration": 233,
    "start_time": "2022-01-28T06:51:48.501Z"
   },
   {
    "duration": 68,
    "start_time": "2022-01-28T06:51:48.736Z"
   },
   {
    "duration": 79,
    "start_time": "2022-01-28T06:51:48.807Z"
   },
   {
    "duration": 168,
    "start_time": "2022-01-28T06:51:48.888Z"
   },
   {
    "duration": 6,
    "start_time": "2022-01-28T06:51:49.061Z"
   },
   {
    "duration": 13,
    "start_time": "2022-01-28T06:51:49.069Z"
   },
   {
    "duration": 10,
    "start_time": "2022-01-28T06:51:49.084Z"
   },
   {
    "duration": 10,
    "start_time": "2022-01-28T06:51:49.095Z"
   },
   {
    "duration": 6,
    "start_time": "2022-01-28T06:51:49.107Z"
   },
   {
    "duration": 11,
    "start_time": "2022-01-28T06:51:49.115Z"
   },
   {
    "duration": 32,
    "start_time": "2022-01-28T06:51:49.128Z"
   },
   {
    "duration": 10,
    "start_time": "2022-01-28T06:51:49.163Z"
   },
   {
    "duration": 523,
    "start_time": "2022-01-28T06:51:49.175Z"
   },
   {
    "duration": 26,
    "start_time": "2022-01-28T06:51:49.700Z"
   },
   {
    "duration": 55,
    "start_time": "2022-01-28T06:51:49.728Z"
   },
   {
    "duration": 4,
    "start_time": "2022-01-28T06:51:49.785Z"
   },
   {
    "duration": 41,
    "start_time": "2022-01-28T06:51:49.791Z"
   },
   {
    "duration": 51,
    "start_time": "2022-01-28T06:51:49.836Z"
   },
   {
    "duration": 26,
    "start_time": "2022-01-28T06:51:49.889Z"
   },
   {
    "duration": 14,
    "start_time": "2022-01-28T06:51:49.917Z"
   },
   {
    "duration": 7,
    "start_time": "2022-01-28T06:51:49.932Z"
   },
   {
    "duration": 77,
    "start_time": "2022-01-28T06:51:49.941Z"
   },
   {
    "duration": 2320,
    "start_time": "2022-01-28T06:51:50.020Z"
   },
   {
    "duration": 50,
    "start_time": "2022-01-28T06:51:52.341Z"
   },
   {
    "duration": 12,
    "start_time": "2022-01-28T06:51:52.393Z"
   },
   {
    "duration": 4,
    "start_time": "2022-01-28T06:51:52.407Z"
   },
   {
    "duration": 1940,
    "start_time": "2022-01-28T06:51:52.413Z"
   },
   {
    "duration": 2583,
    "start_time": "2022-01-28T06:51:54.355Z"
   },
   {
    "duration": 2137,
    "start_time": "2022-01-28T06:51:56.940Z"
   },
   {
    "duration": 1037,
    "start_time": "2022-01-28T06:51:59.079Z"
   },
   {
    "duration": 1094,
    "start_time": "2022-01-28T06:52:00.118Z"
   },
   {
    "duration": 1315,
    "start_time": "2022-01-28T06:52:01.214Z"
   },
   {
    "duration": 2053,
    "start_time": "2022-01-28T06:52:02.531Z"
   },
   {
    "duration": 2175,
    "start_time": "2022-01-28T06:52:04.586Z"
   },
   {
    "duration": 2483,
    "start_time": "2022-01-28T06:52:06.762Z"
   },
   {
    "duration": 45,
    "start_time": "2022-01-28T06:54:52.720Z"
   },
   {
    "duration": 23,
    "start_time": "2022-01-28T06:56:03.609Z"
   },
   {
    "duration": 17,
    "start_time": "2022-01-28T06:56:15.496Z"
   },
   {
    "duration": 13,
    "start_time": "2022-01-28T06:56:22.150Z"
   },
   {
    "duration": 336,
    "start_time": "2022-01-28T06:59:25.752Z"
   },
   {
    "duration": 5,
    "start_time": "2022-01-28T07:00:05.617Z"
   },
   {
    "duration": 125,
    "start_time": "2022-03-26T05:53:28.867Z"
   },
   {
    "duration": 4149,
    "start_time": "2022-03-26T06:09:29.906Z"
   },
   {
    "duration": 1684,
    "start_time": "2022-03-26T06:09:34.058Z"
   },
   {
    "duration": 129,
    "start_time": "2022-03-26T06:09:35.745Z"
   },
   {
    "duration": 5,
    "start_time": "2022-03-26T06:09:35.877Z"
   },
   {
    "duration": 6,
    "start_time": "2022-03-26T06:09:35.885Z"
   },
   {
    "duration": 128,
    "start_time": "2022-03-26T06:09:35.893Z"
   },
   {
    "duration": 11,
    "start_time": "2022-03-26T06:09:36.024Z"
   },
   {
    "duration": 48,
    "start_time": "2022-03-26T06:09:36.038Z"
   },
   {
    "duration": 13,
    "start_time": "2022-03-26T06:09:36.088Z"
   },
   {
    "duration": 12,
    "start_time": "2022-03-26T06:09:36.105Z"
   },
   {
    "duration": 18,
    "start_time": "2022-03-26T06:09:36.120Z"
   },
   {
    "duration": 32,
    "start_time": "2022-03-26T06:09:37.876Z"
   },
   {
    "duration": 6,
    "start_time": "2022-03-26T06:09:47.380Z"
   },
   {
    "duration": 162,
    "start_time": "2022-03-26T06:09:52.358Z"
   },
   {
    "duration": 27,
    "start_time": "2022-03-26T06:10:19.108Z"
   },
   {
    "duration": 329,
    "start_time": "2022-03-26T06:10:33.231Z"
   },
   {
    "duration": 409,
    "start_time": "2022-03-26T06:10:58.165Z"
   },
   {
    "duration": 393,
    "start_time": "2022-03-26T06:11:31.193Z"
   },
   {
    "duration": 475,
    "start_time": "2022-03-26T06:11:32.533Z"
   },
   {
    "duration": 349,
    "start_time": "2022-03-26T06:11:33.226Z"
   },
   {
    "duration": 475,
    "start_time": "2022-03-26T06:11:33.649Z"
   },
   {
    "duration": 357,
    "start_time": "2022-03-26T06:11:34.127Z"
   },
   {
    "duration": 447,
    "start_time": "2022-03-26T06:11:34.489Z"
   },
   {
    "duration": 14,
    "start_time": "2022-03-26T06:11:34.939Z"
   },
   {
    "duration": 227,
    "start_time": "2022-03-26T06:11:35.009Z"
   },
   {
    "duration": 9,
    "start_time": "2022-03-26T06:11:35.488Z"
   },
   {
    "duration": 236,
    "start_time": "2022-03-26T06:11:36.731Z"
   },
   {
    "duration": 5,
    "start_time": "2022-03-26T06:11:37.911Z"
   },
   {
    "duration": 17,
    "start_time": "2022-03-26T06:12:18.629Z"
   },
   {
    "duration": 10,
    "start_time": "2022-03-26T06:14:29.919Z"
   },
   {
    "duration": 5133,
    "start_time": "2022-03-26T06:14:32.680Z"
   },
   {
    "duration": 6,
    "start_time": "2022-03-26T06:14:37.816Z"
   },
   {
    "duration": 68,
    "start_time": "2022-03-26T06:14:37.824Z"
   },
   {
    "duration": 4,
    "start_time": "2022-03-26T06:14:37.895Z"
   },
   {
    "duration": 15,
    "start_time": "2022-03-26T06:14:37.901Z"
   },
   {
    "duration": 110,
    "start_time": "2022-03-26T06:14:37.919Z"
   },
   {
    "duration": 11,
    "start_time": "2022-03-26T06:14:38.032Z"
   },
   {
    "duration": 39,
    "start_time": "2022-03-26T06:14:38.045Z"
   },
   {
    "duration": 24,
    "start_time": "2022-03-26T06:14:38.087Z"
   },
   {
    "duration": 33,
    "start_time": "2022-03-26T06:14:38.115Z"
   },
   {
    "duration": 23,
    "start_time": "2022-03-26T06:14:38.151Z"
   },
   {
    "duration": 44,
    "start_time": "2022-03-26T06:14:38.186Z"
   },
   {
    "duration": 11,
    "start_time": "2022-03-26T06:14:41.608Z"
   },
   {
    "duration": 27,
    "start_time": "2022-03-26T06:14:54.883Z"
   },
   {
    "duration": 21,
    "start_time": "2022-03-26T06:14:58.744Z"
   },
   {
    "duration": 6,
    "start_time": "2022-03-26T06:15:02.227Z"
   },
   {
    "duration": 21,
    "start_time": "2022-03-26T06:15:04.419Z"
   },
   {
    "duration": 16,
    "start_time": "2022-03-26T06:15:28.571Z"
   },
   {
    "duration": 3980,
    "start_time": "2022-03-26T07:09:33.055Z"
   },
   {
    "duration": 6,
    "start_time": "2022-03-26T07:09:37.038Z"
   },
   {
    "duration": 88,
    "start_time": "2022-03-26T07:09:37.046Z"
   },
   {
    "duration": 4,
    "start_time": "2022-03-26T07:09:37.137Z"
   },
   {
    "duration": 12,
    "start_time": "2022-03-26T07:09:37.143Z"
   },
   {
    "duration": 85,
    "start_time": "2022-03-26T07:09:37.157Z"
   },
   {
    "duration": 41,
    "start_time": "2022-03-26T07:09:37.244Z"
   },
   {
    "duration": 8,
    "start_time": "2022-03-26T07:09:37.287Z"
   },
   {
    "duration": 12,
    "start_time": "2022-03-26T07:09:37.297Z"
   },
   {
    "duration": 13,
    "start_time": "2022-03-26T07:09:37.314Z"
   },
   {
    "duration": 55,
    "start_time": "2022-03-26T07:09:37.330Z"
   },
   {
    "duration": 33,
    "start_time": "2022-03-26T07:09:37.387Z"
   },
   {
    "duration": 6,
    "start_time": "2022-03-26T07:09:37.422Z"
   },
   {
    "duration": 52,
    "start_time": "2022-03-26T07:09:37.431Z"
   },
   {
    "duration": 423,
    "start_time": "2022-03-26T07:09:37.486Z"
   },
   {
    "duration": 341,
    "start_time": "2022-03-26T07:09:37.911Z"
   },
   {
    "duration": 433,
    "start_time": "2022-03-26T07:09:38.254Z"
   },
   {
    "duration": 434,
    "start_time": "2022-03-26T07:09:38.690Z"
   },
   {
    "duration": 334,
    "start_time": "2022-03-26T07:09:39.127Z"
   },
   {
    "duration": 554,
    "start_time": "2022-03-26T07:09:39.463Z"
   },
   {
    "duration": 15,
    "start_time": "2022-03-26T07:09:40.020Z"
   },
   {
    "duration": 247,
    "start_time": "2022-03-26T07:09:40.037Z"
   },
   {
    "duration": 6,
    "start_time": "2022-03-26T07:09:40.285Z"
   },
   {
    "duration": 222,
    "start_time": "2022-03-26T07:09:40.293Z"
   },
   {
    "duration": 6,
    "start_time": "2022-03-26T07:09:40.518Z"
   },
   {
    "duration": 262,
    "start_time": "2022-03-26T07:09:40.526Z"
   },
   {
    "duration": 33,
    "start_time": "2022-03-26T07:09:40.790Z"
   },
   {
    "duration": 16,
    "start_time": "2022-03-26T07:09:40.827Z"
   },
   {
    "duration": 43,
    "start_time": "2022-03-26T07:09:40.845Z"
   },
   {
    "duration": 11,
    "start_time": "2022-03-26T07:09:40.891Z"
   },
   {
    "duration": 33,
    "start_time": "2022-03-26T07:09:40.905Z"
   },
   {
    "duration": 45,
    "start_time": "2022-03-26T07:09:40.940Z"
   },
   {
    "duration": 26,
    "start_time": "2022-03-26T07:09:40.988Z"
   },
   {
    "duration": 20,
    "start_time": "2022-03-26T07:09:58.742Z"
   },
   {
    "duration": 3,
    "start_time": "2022-03-26T07:12:40.459Z"
   },
   {
    "duration": 19,
    "start_time": "2022-03-26T07:12:46.109Z"
   },
   {
    "duration": 399,
    "start_time": "2022-03-26T07:12:51.169Z"
   },
   {
    "duration": 17,
    "start_time": "2022-03-26T07:12:56.093Z"
   },
   {
    "duration": 3534,
    "start_time": "2022-03-26T07:14:43.073Z"
   },
   {
    "duration": 5,
    "start_time": "2022-03-26T07:14:46.612Z"
   },
   {
    "duration": 60,
    "start_time": "2022-03-26T07:14:46.619Z"
   },
   {
    "duration": 4,
    "start_time": "2022-03-26T07:14:46.681Z"
   },
   {
    "duration": 13,
    "start_time": "2022-03-26T07:14:46.688Z"
   },
   {
    "duration": 99,
    "start_time": "2022-03-26T07:14:46.703Z"
   },
   {
    "duration": 10,
    "start_time": "2022-03-26T07:14:46.804Z"
   },
   {
    "duration": 12,
    "start_time": "2022-03-26T07:14:46.816Z"
   },
   {
    "duration": 21,
    "start_time": "2022-03-26T07:14:46.831Z"
   },
   {
    "duration": 39,
    "start_time": "2022-03-26T07:14:46.854Z"
   },
   {
    "duration": 23,
    "start_time": "2022-03-26T07:14:46.896Z"
   },
   {
    "duration": 35,
    "start_time": "2022-03-26T07:14:46.921Z"
   },
   {
    "duration": 28,
    "start_time": "2022-03-26T07:14:46.958Z"
   },
   {
    "duration": 16,
    "start_time": "2022-03-26T07:25:47.569Z"
   },
   {
    "duration": 15,
    "start_time": "2022-03-26T07:25:57.120Z"
   },
   {
    "duration": 15,
    "start_time": "2022-03-26T07:26:15.295Z"
   },
   {
    "duration": 24,
    "start_time": "2022-03-26T07:27:25.586Z"
   },
   {
    "duration": 20,
    "start_time": "2022-03-26T07:31:38.179Z"
   },
   {
    "duration": 16,
    "start_time": "2022-03-26T07:39:03.649Z"
   },
   {
    "duration": 13,
    "start_time": "2022-03-26T07:39:05.871Z"
   },
   {
    "duration": 7,
    "start_time": "2022-03-26T07:41:23.599Z"
   },
   {
    "duration": 4079,
    "start_time": "2022-03-26T07:42:22.587Z"
   },
   {
    "duration": 6,
    "start_time": "2022-03-26T07:42:26.670Z"
   },
   {
    "duration": 79,
    "start_time": "2022-03-26T07:42:26.679Z"
   },
   {
    "duration": 4,
    "start_time": "2022-03-26T07:42:26.762Z"
   },
   {
    "duration": 15,
    "start_time": "2022-03-26T07:42:26.769Z"
   },
   {
    "duration": 117,
    "start_time": "2022-03-26T07:42:26.787Z"
   },
   {
    "duration": 13,
    "start_time": "2022-03-26T07:42:26.907Z"
   },
   {
    "duration": 24,
    "start_time": "2022-03-26T07:42:26.922Z"
   },
   {
    "duration": 36,
    "start_time": "2022-03-26T07:42:26.949Z"
   },
   {
    "duration": 27,
    "start_time": "2022-03-26T07:42:26.989Z"
   },
   {
    "duration": 42,
    "start_time": "2022-03-26T07:42:27.018Z"
   },
   {
    "duration": 60,
    "start_time": "2022-03-26T07:42:27.062Z"
   },
   {
    "duration": 7,
    "start_time": "2022-03-26T07:42:27.125Z"
   },
   {
    "duration": 11,
    "start_time": "2022-03-26T07:42:27.134Z"
   },
   {
    "duration": 398,
    "start_time": "2022-03-26T07:42:27.147Z"
   },
   {
    "duration": 356,
    "start_time": "2022-03-26T07:42:27.548Z"
   },
   {
    "duration": 335,
    "start_time": "2022-03-26T07:42:27.907Z"
   },
   {
    "duration": 496,
    "start_time": "2022-03-26T07:42:28.244Z"
   },
   {
    "duration": 376,
    "start_time": "2022-03-26T07:42:28.744Z"
   },
   {
    "duration": 429,
    "start_time": "2022-03-26T07:42:29.122Z"
   },
   {
    "duration": 13,
    "start_time": "2022-03-26T07:42:29.553Z"
   },
   {
    "duration": 215,
    "start_time": "2022-03-26T07:42:29.569Z"
   },
   {
    "duration": 6,
    "start_time": "2022-03-26T07:42:29.787Z"
   },
   {
    "duration": 336,
    "start_time": "2022-03-26T07:42:29.795Z"
   },
   {
    "duration": 7,
    "start_time": "2022-03-26T07:42:30.134Z"
   },
   {
    "duration": 294,
    "start_time": "2022-03-26T07:42:30.143Z"
   },
   {
    "duration": 45,
    "start_time": "2022-03-26T07:42:30.439Z"
   },
   {
    "duration": 17,
    "start_time": "2022-03-26T07:42:30.488Z"
   },
   {
    "duration": 22,
    "start_time": "2022-03-26T07:42:30.507Z"
   },
   {
    "duration": 12,
    "start_time": "2022-03-26T07:42:30.532Z"
   },
   {
    "duration": 55,
    "start_time": "2022-03-26T07:42:30.546Z"
   },
   {
    "duration": 21,
    "start_time": "2022-03-26T07:42:30.604Z"
   },
   {
    "duration": 22,
    "start_time": "2022-03-26T07:42:30.627Z"
   },
   {
    "duration": 3441,
    "start_time": "2022-03-26T07:48:26.649Z"
   },
   {
    "duration": 6,
    "start_time": "2022-03-26T07:48:30.093Z"
   },
   {
    "duration": 55,
    "start_time": "2022-03-26T07:48:30.101Z"
   },
   {
    "duration": 4,
    "start_time": "2022-03-26T07:48:30.159Z"
   },
   {
    "duration": 24,
    "start_time": "2022-03-26T07:48:30.165Z"
   },
   {
    "duration": 108,
    "start_time": "2022-03-26T07:48:30.192Z"
   },
   {
    "duration": 10,
    "start_time": "2022-03-26T07:48:30.303Z"
   },
   {
    "duration": 20,
    "start_time": "2022-03-26T07:48:30.316Z"
   },
   {
    "duration": 26,
    "start_time": "2022-03-26T07:48:30.338Z"
   },
   {
    "duration": 26,
    "start_time": "2022-03-26T07:48:30.368Z"
   },
   {
    "duration": 30,
    "start_time": "2022-03-26T07:48:30.396Z"
   },
   {
    "duration": 44,
    "start_time": "2022-03-26T07:48:30.428Z"
   },
   {
    "duration": 8,
    "start_time": "2022-03-26T07:48:30.485Z"
   },
   {
    "duration": 404,
    "start_time": "2022-03-26T07:48:30.496Z"
   },
   {
    "duration": 342,
    "start_time": "2022-03-26T07:48:30.902Z"
   },
   {
    "duration": 347,
    "start_time": "2022-03-26T07:48:31.246Z"
   },
   {
    "duration": 436,
    "start_time": "2022-03-26T07:48:31.595Z"
   },
   {
    "duration": 347,
    "start_time": "2022-03-26T07:48:32.034Z"
   },
   {
    "duration": 441,
    "start_time": "2022-03-26T07:48:32.384Z"
   },
   {
    "duration": 19,
    "start_time": "2022-03-26T07:48:32.828Z"
   },
   {
    "duration": 244,
    "start_time": "2022-03-26T07:48:32.850Z"
   },
   {
    "duration": 6,
    "start_time": "2022-03-26T07:48:33.097Z"
   },
   {
    "duration": 226,
    "start_time": "2022-03-26T07:48:33.105Z"
   },
   {
    "duration": 6,
    "start_time": "2022-03-26T07:48:33.333Z"
   },
   {
    "duration": 252,
    "start_time": "2022-03-26T07:48:33.342Z"
   },
   {
    "duration": 41,
    "start_time": "2022-03-26T07:48:33.596Z"
   },
   {
    "duration": 16,
    "start_time": "2022-03-26T07:48:33.639Z"
   },
   {
    "duration": 14,
    "start_time": "2022-03-26T07:48:33.684Z"
   },
   {
    "duration": 12,
    "start_time": "2022-03-26T07:48:33.700Z"
   },
   {
    "duration": 46,
    "start_time": "2022-03-26T07:48:33.714Z"
   },
   {
    "duration": 38,
    "start_time": "2022-03-26T07:48:33.763Z"
   },
   {
    "duration": 25,
    "start_time": "2022-03-26T07:48:33.803Z"
   },
   {
    "duration": 5,
    "start_time": "2022-04-23T17:05:41.314Z"
   },
   {
    "duration": 2036,
    "start_time": "2022-04-23T17:05:41.322Z"
   },
   {
    "duration": 0,
    "start_time": "2022-04-23T17:05:43.439Z"
   },
   {
    "duration": 0,
    "start_time": "2022-04-23T17:05:43.441Z"
   },
   {
    "duration": 0,
    "start_time": "2022-04-23T17:05:43.443Z"
   },
   {
    "duration": 0,
    "start_time": "2022-04-23T17:05:43.452Z"
   },
   {
    "duration": 0,
    "start_time": "2022-04-23T17:05:43.454Z"
   },
   {
    "duration": 0,
    "start_time": "2022-04-23T17:05:43.456Z"
   },
   {
    "duration": 0,
    "start_time": "2022-04-23T17:05:43.458Z"
   },
   {
    "duration": 0,
    "start_time": "2022-04-23T17:05:43.460Z"
   },
   {
    "duration": 0,
    "start_time": "2022-04-23T17:05:43.462Z"
   },
   {
    "duration": 0,
    "start_time": "2022-04-23T17:05:43.464Z"
   },
   {
    "duration": 0,
    "start_time": "2022-04-23T17:05:43.466Z"
   },
   {
    "duration": 1,
    "start_time": "2022-04-23T17:05:43.468Z"
   },
   {
    "duration": 0,
    "start_time": "2022-04-23T17:05:43.470Z"
   },
   {
    "duration": 0,
    "start_time": "2022-04-23T17:05:43.472Z"
   },
   {
    "duration": 0,
    "start_time": "2022-04-23T17:05:43.474Z"
   },
   {
    "duration": 0,
    "start_time": "2022-04-23T17:05:43.476Z"
   },
   {
    "duration": 0,
    "start_time": "2022-04-23T17:05:43.478Z"
   },
   {
    "duration": 0,
    "start_time": "2022-04-23T17:05:43.480Z"
   },
   {
    "duration": 0,
    "start_time": "2022-04-23T17:05:43.481Z"
   },
   {
    "duration": 0,
    "start_time": "2022-04-23T17:05:43.483Z"
   },
   {
    "duration": 0,
    "start_time": "2022-04-23T17:05:43.488Z"
   },
   {
    "duration": 0,
    "start_time": "2022-04-23T17:05:43.489Z"
   },
   {
    "duration": 0,
    "start_time": "2022-04-23T17:05:43.567Z"
   },
   {
    "duration": 0,
    "start_time": "2022-04-23T17:05:43.569Z"
   },
   {
    "duration": 0,
    "start_time": "2022-04-23T17:05:43.570Z"
   },
   {
    "duration": 334,
    "start_time": "2022-04-23T17:12:53.404Z"
   },
   {
    "duration": 308,
    "start_time": "2022-04-23T17:12:55.830Z"
   },
   {
    "duration": 4,
    "start_time": "2022-04-23T17:12:56.651Z"
   },
   {
    "duration": 20,
    "start_time": "2022-04-23T17:12:57.260Z"
   },
   {
    "duration": 34,
    "start_time": "2022-04-23T17:12:57.956Z"
   },
   {
    "duration": 12546,
    "start_time": "2022-04-23T17:13:15.202Z"
   },
   {
    "duration": 2260,
    "start_time": "2022-04-23T17:13:55.473Z"
   },
   {
    "duration": 200,
    "start_time": "2022-04-23T17:13:57.736Z"
   },
   {
    "duration": 4,
    "start_time": "2022-04-23T17:13:57.939Z"
   },
   {
    "duration": 12,
    "start_time": "2022-04-23T17:13:57.944Z"
   },
   {
    "duration": 170,
    "start_time": "2022-04-23T17:13:57.960Z"
   },
   {
    "duration": 4,
    "start_time": "2022-04-23T17:13:58.133Z"
   },
   {
    "duration": 168,
    "start_time": "2022-04-23T17:13:58.139Z"
   },
   {
    "duration": 240,
    "start_time": "2022-04-23T17:13:58.310Z"
   },
   {
    "duration": 201,
    "start_time": "2022-04-23T17:13:58.552Z"
   },
   {
    "duration": 26496,
    "start_time": "2022-04-23T17:13:58.756Z"
   },
   {
    "duration": 98,
    "start_time": "2022-04-23T17:14:25.255Z"
   },
   {
    "duration": 18,
    "start_time": "2022-04-23T17:14:25.355Z"
   },
   {
    "duration": 6,
    "start_time": "2022-04-23T17:14:25.376Z"
   },
   {
    "duration": 97,
    "start_time": "2022-04-23T17:14:25.386Z"
   },
   {
    "duration": 194,
    "start_time": "2022-04-23T17:14:25.485Z"
   },
   {
    "duration": 14,
    "start_time": "2022-04-23T17:14:25.682Z"
   },
   {
    "duration": 14,
    "start_time": "2022-04-23T17:14:25.753Z"
   },
   {
    "duration": 123,
    "start_time": "2022-04-23T17:14:25.769Z"
   },
   {
    "duration": 265,
    "start_time": "2022-04-23T17:14:25.895Z"
   },
   {
    "duration": 7,
    "start_time": "2022-04-23T17:14:26.163Z"
   },
   {
    "duration": 202,
    "start_time": "2022-04-23T17:14:26.173Z"
   },
   {
    "duration": 323,
    "start_time": "2022-04-23T17:14:26.378Z"
   },
   {
    "duration": 6,
    "start_time": "2022-04-23T17:14:26.704Z"
   },
   {
    "duration": 85,
    "start_time": "2022-04-23T17:14:26.712Z"
   },
   {
    "duration": 151,
    "start_time": "2022-04-23T17:14:26.800Z"
   },
   {
    "duration": 64,
    "start_time": "2022-04-23T17:14:26.954Z"
   },
   {
    "duration": 20,
    "start_time": "2022-04-23T17:20:57.280Z"
   },
   {
    "duration": 1339,
    "start_time": "2022-04-24T14:45:00.189Z"
   },
   {
    "duration": 0,
    "start_time": "2022-04-24T14:45:01.583Z"
   },
   {
    "duration": 0,
    "start_time": "2022-04-24T14:45:01.585Z"
   },
   {
    "duration": 0,
    "start_time": "2022-04-24T14:45:01.586Z"
   },
   {
    "duration": 0,
    "start_time": "2022-04-24T14:45:01.588Z"
   },
   {
    "duration": 0,
    "start_time": "2022-04-24T14:45:01.592Z"
   },
   {
    "duration": 0,
    "start_time": "2022-04-24T14:45:01.594Z"
   },
   {
    "duration": 0,
    "start_time": "2022-04-24T14:45:01.595Z"
   },
   {
    "duration": 0,
    "start_time": "2022-04-24T14:45:01.597Z"
   },
   {
    "duration": 0,
    "start_time": "2022-04-24T14:45:01.599Z"
   },
   {
    "duration": 0,
    "start_time": "2022-04-24T14:45:01.601Z"
   },
   {
    "duration": 0,
    "start_time": "2022-04-24T14:45:01.602Z"
   },
   {
    "duration": 0,
    "start_time": "2022-04-24T14:45:01.604Z"
   },
   {
    "duration": 0,
    "start_time": "2022-04-24T14:45:01.606Z"
   },
   {
    "duration": 0,
    "start_time": "2022-04-24T14:45:01.607Z"
   },
   {
    "duration": 0,
    "start_time": "2022-04-24T14:45:01.609Z"
   },
   {
    "duration": 0,
    "start_time": "2022-04-24T14:45:01.610Z"
   },
   {
    "duration": 0,
    "start_time": "2022-04-24T14:45:01.611Z"
   },
   {
    "duration": 0,
    "start_time": "2022-04-24T14:45:01.613Z"
   },
   {
    "duration": 0,
    "start_time": "2022-04-24T14:45:01.615Z"
   },
   {
    "duration": 0,
    "start_time": "2022-04-24T14:45:01.616Z"
   },
   {
    "duration": 0,
    "start_time": "2022-04-24T14:45:01.617Z"
   },
   {
    "duration": 0,
    "start_time": "2022-04-24T14:45:01.619Z"
   },
   {
    "duration": 0,
    "start_time": "2022-04-24T14:45:01.621Z"
   },
   {
    "duration": 0,
    "start_time": "2022-04-24T14:45:01.622Z"
   },
   {
    "duration": 0,
    "start_time": "2022-04-24T14:45:01.624Z"
   },
   {
    "duration": 0,
    "start_time": "2022-04-24T14:45:01.625Z"
   },
   {
    "duration": 0,
    "start_time": "2022-04-24T14:45:01.627Z"
   },
   {
    "duration": 8361,
    "start_time": "2022-04-24T14:45:13.855Z"
   },
   {
    "duration": 1231,
    "start_time": "2022-04-24T14:46:02.325Z"
   },
   {
    "duration": 151,
    "start_time": "2022-04-24T14:46:03.559Z"
   },
   {
    "duration": 3,
    "start_time": "2022-04-24T14:46:03.711Z"
   },
   {
    "duration": 16,
    "start_time": "2022-04-24T14:46:03.716Z"
   },
   {
    "duration": 121,
    "start_time": "2022-04-24T14:46:03.735Z"
   },
   {
    "duration": 4,
    "start_time": "2022-04-24T14:46:03.858Z"
   },
   {
    "duration": 106,
    "start_time": "2022-04-24T14:46:03.864Z"
   },
   {
    "duration": 110,
    "start_time": "2022-04-24T14:46:03.971Z"
   },
   {
    "duration": 131,
    "start_time": "2022-04-24T14:46:04.083Z"
   },
   {
    "duration": 14976,
    "start_time": "2022-04-24T14:46:04.217Z"
   },
   {
    "duration": 2,
    "start_time": "2022-04-24T14:46:19.195Z"
   },
   {
    "duration": 37,
    "start_time": "2022-04-24T14:46:19.199Z"
   },
   {
    "duration": 72,
    "start_time": "2022-04-24T14:46:19.238Z"
   },
   {
    "duration": 5,
    "start_time": "2022-04-24T14:46:19.313Z"
   },
   {
    "duration": 84,
    "start_time": "2022-04-24T14:46:19.319Z"
   },
   {
    "duration": 118,
    "start_time": "2022-04-24T14:46:19.404Z"
   },
   {
    "duration": 69,
    "start_time": "2022-04-24T14:46:19.524Z"
   },
   {
    "duration": 9,
    "start_time": "2022-04-24T14:46:19.595Z"
   },
   {
    "duration": 89,
    "start_time": "2022-04-24T14:46:19.606Z"
   },
   {
    "duration": 5,
    "start_time": "2022-04-24T14:46:19.697Z"
   },
   {
    "duration": 94,
    "start_time": "2022-04-24T14:46:19.703Z"
   },
   {
    "duration": 102,
    "start_time": "2022-04-24T14:46:19.799Z"
   },
   {
    "duration": 147,
    "start_time": "2022-04-24T14:46:19.903Z"
   },
   {
    "duration": 210,
    "start_time": "2022-04-24T14:46:20.052Z"
   },
   {
    "duration": 4,
    "start_time": "2022-04-24T14:46:20.264Z"
   },
   {
    "duration": 31,
    "start_time": "2022-04-24T14:46:20.269Z"
   },
   {
    "duration": 28,
    "start_time": "2022-04-24T14:46:20.301Z"
   },
   {
    "duration": 16,
    "start_time": "2022-04-24T14:46:20.331Z"
   },
   {
    "duration": 14,
    "start_time": "2022-04-24T14:47:31.726Z"
   },
   {
    "duration": 5903,
    "start_time": "2022-04-24T14:47:44.460Z"
   },
   {
    "duration": 26,
    "start_time": "2022-04-24T14:49:44.409Z"
   },
   {
    "duration": 159,
    "start_time": "2022-04-24T14:50:26.913Z"
   },
   {
    "duration": 15,
    "start_time": "2022-04-24T14:50:29.558Z"
   },
   {
    "duration": 40,
    "start_time": "2022-04-24T14:50:52.691Z"
   },
   {
    "duration": 6425,
    "start_time": "2022-04-24T14:51:51.137Z"
   },
   {
    "duration": 6319,
    "start_time": "2022-04-24T14:52:05.248Z"
   },
   {
    "duration": 1158,
    "start_time": "2022-04-24T14:53:12.913Z"
   },
   {
    "duration": 1553,
    "start_time": "2022-04-24T14:53:24.971Z"
   },
   {
    "duration": 1162,
    "start_time": "2022-04-24T14:53:30.659Z"
   },
   {
    "duration": 1140,
    "start_time": "2022-04-24T14:53:37.802Z"
   },
   {
    "duration": 1439,
    "start_time": "2022-04-24T14:53:42.294Z"
   },
   {
    "duration": 1437,
    "start_time": "2022-04-24T14:54:04.355Z"
   },
   {
    "duration": 6122,
    "start_time": "2022-04-24T14:54:42.684Z"
   },
   {
    "duration": 6646,
    "start_time": "2022-04-24T14:55:36.163Z"
   },
   {
    "duration": 79,
    "start_time": "2022-07-11T16:35:43.409Z"
   },
   {
    "duration": 4,
    "start_time": "2022-07-11T16:35:48.895Z"
   },
   {
    "duration": 10195,
    "start_time": "2022-07-11T16:35:48.901Z"
   },
   {
    "duration": 629,
    "start_time": "2022-07-11T16:35:59.101Z"
   },
   {
    "duration": 38,
    "start_time": "2022-07-11T16:36:23.191Z"
   },
   {
    "duration": 92,
    "start_time": "2022-07-11T16:36:45.172Z"
   },
   {
    "duration": 163,
    "start_time": "2022-07-11T16:37:45.398Z"
   },
   {
    "duration": 199,
    "start_time": "2022-07-11T16:39:10.598Z"
   },
   {
    "duration": 173,
    "start_time": "2022-07-11T16:39:26.384Z"
   },
   {
    "duration": 188,
    "start_time": "2022-07-11T16:39:55.115Z"
   },
   {
    "duration": 233,
    "start_time": "2022-07-11T16:40:03.165Z"
   },
   {
    "duration": 131,
    "start_time": "2022-07-11T16:46:52.961Z"
   },
   {
    "duration": 1131,
    "start_time": "2022-07-11T16:49:40.123Z"
   },
   {
    "duration": 105,
    "start_time": "2022-07-11T16:51:09.636Z"
   },
   {
    "duration": 11,
    "start_time": "2022-07-11T17:01:49.816Z"
   },
   {
    "duration": 103,
    "start_time": "2022-07-11T17:01:59.684Z"
   }
  ],
  "kernelspec": {
   "display_name": "Python 3",
   "language": "python",
   "name": "python3"
  },
  "language_info": {
   "codemirror_mode": {
    "name": "ipython",
    "version": 3
   },
   "file_extension": ".py",
   "mimetype": "text/x-python",
   "name": "python",
   "nbconvert_exporter": "python",
   "pygments_lexer": "ipython3",
   "version": "3.8.8"
  },
  "toc": {
   "base_numbering": 1,
   "nav_menu": {},
   "number_sections": true,
   "sideBar": true,
   "skip_h1_title": true,
   "title_cell": "Table of Contents",
   "title_sidebar": "Contents",
   "toc_cell": false,
   "toc_position": {},
   "toc_section_display": true,
   "toc_window_display": true
  }
 },
 "nbformat": 4,
 "nbformat_minor": 4
}
