{
 "cells": [
  {
   "cell_type": "markdown",
   "metadata": {},
   "source": [
    "# Сборный проект 2: "
   ]
  },
  {
   "cell_type": "markdown",
   "metadata": {},
   "source": [
    "#### Предыстория\n",
    "Cтартап, который продаёт продукты питания. Нужно разобраться, как ведут себя пользователи мобильного приложения.\n",
    "Дизайнеры захотели поменять шрифты во всём приложении - был проведен A/A/B-эксперимент\n",
    "\n",
    "#### Описание данных\n",
    "Таблица logs_exp:\n",
    "    \n",
    "    EventName — название события\n",
    "    DeviceIDHash — уникальный идентификатор пользователя\n",
    "    EventTimestamp — время события\n",
    "    ExpId — номер эксперимента: 246 и 247 — контрольные группы, 248 — экспериментальная\n",
    "\n",
    "\n",
    "#### Задача\n",
    "- Провести событийный анализ, изучить воронку продаж, исследовать результаты A/A/B-эксперимента"
   ]
  },
  {
   "cell_type": "markdown",
   "metadata": {},
   "source": [
    "## Содержание\n",
    "1. [Подготовка данных](#data1)\n",
    "2. [Изучение данных](#data2)\n",
    "3. [Воронка событий](#funnel)\n",
    "4. [Анализ результатов эксперимента](#tests)\n",
    "5. [Summary результатов](#results)\n"
   ]
  },
  {
   "cell_type": "markdown",
   "metadata": {},
   "source": [
    "## Подготовка данных <a name=\"data1\"></a>"
   ]
  },
  {
   "cell_type": "raw",
   "metadata": {},
   "source": [
    "!pip install simple-colors\n",
    "!pip install plotly\n",
    "!pip install statannot"
   ]
  },
  {
   "cell_type": "code",
   "execution_count": 1,
   "metadata": {},
   "outputs": [],
   "source": [
    "import pandas as pd\n",
    "import numpy as np\n",
    "import math as mth\n",
    "import scipy.stats as stats\n",
    "import matplotlib.pyplot as plt\n",
    "from datetime import datetime, timedelta\n",
    "from simple_colors import *\n",
    "import plotly.express as px\n",
    "from plotly import graph_objects as go\n",
    "import seaborn as sns\n",
    "from statannot import add_stat_annotation\n",
    "\n",
    "pd.set_option('display.float_format', '{:,.3f}'.format)\n",
    "\n",
    "import warnings\n",
    "warnings.filterwarnings('ignore')\n",
    "\n",
    "pd.options.display.max_colwidth = 100 "
   ]
  },
  {
   "cell_type": "code",
   "execution_count": 2,
   "metadata": {},
   "outputs": [
    {
     "ename": "FileNotFoundError",
     "evalue": "[Errno 2] No such file or directory: 'logs_exp.csv'",
     "output_type": "error",
     "traceback": [
      "\u001b[0;31m---------------------------------------------------------------------------\u001b[0m",
      "\u001b[0;31mFileNotFoundError\u001b[0m                         Traceback (most recent call last)",
      "\u001b[0;32m<ipython-input-2-eedca945efd1>\u001b[0m in \u001b[0;36m<module>\u001b[0;34m\u001b[0m\n\u001b[1;32m      2\u001b[0m \u001b[0;32mtry\u001b[0m\u001b[0;34m:\u001b[0m\u001b[0;34m\u001b[0m\u001b[0;34m\u001b[0m\u001b[0m\n\u001b[0;32m----> 3\u001b[0;31m     \u001b[0mdata\u001b[0m \u001b[0;34m=\u001b[0m \u001b[0mpd\u001b[0m\u001b[0;34m.\u001b[0m\u001b[0mread_csv\u001b[0m\u001b[0;34m(\u001b[0m\u001b[0;34m'/datasets/logs_exp.csv'\u001b[0m\u001b[0;34m,\u001b[0m \u001b[0msep\u001b[0m\u001b[0;34m=\u001b[0m\u001b[0;34m'\\t'\u001b[0m\u001b[0;34m)\u001b[0m \u001b[0;31m# Yandex путь\u001b[0m\u001b[0;34m\u001b[0m\u001b[0;34m\u001b[0m\u001b[0m\n\u001b[0m\u001b[1;32m      4\u001b[0m \u001b[0;34m\u001b[0m\u001b[0m\n",
      "\u001b[0;32m/opt/anaconda3/lib/python3.8/site-packages/pandas/io/parsers.py\u001b[0m in \u001b[0;36mread_csv\u001b[0;34m(filepath_or_buffer, sep, delimiter, header, names, index_col, usecols, squeeze, prefix, mangle_dupe_cols, dtype, engine, converters, true_values, false_values, skipinitialspace, skiprows, skipfooter, nrows, na_values, keep_default_na, na_filter, verbose, skip_blank_lines, parse_dates, infer_datetime_format, keep_date_col, date_parser, dayfirst, cache_dates, iterator, chunksize, compression, thousands, decimal, lineterminator, quotechar, quoting, doublequote, escapechar, comment, encoding, dialect, error_bad_lines, warn_bad_lines, delim_whitespace, low_memory, memory_map, float_precision, storage_options)\u001b[0m\n\u001b[1;32m    609\u001b[0m \u001b[0;34m\u001b[0m\u001b[0m\n\u001b[0;32m--> 610\u001b[0;31m     \u001b[0;32mreturn\u001b[0m \u001b[0m_read\u001b[0m\u001b[0;34m(\u001b[0m\u001b[0mfilepath_or_buffer\u001b[0m\u001b[0;34m,\u001b[0m \u001b[0mkwds\u001b[0m\u001b[0;34m)\u001b[0m\u001b[0;34m\u001b[0m\u001b[0;34m\u001b[0m\u001b[0m\n\u001b[0m\u001b[1;32m    611\u001b[0m \u001b[0;34m\u001b[0m\u001b[0m\n",
      "\u001b[0;32m/opt/anaconda3/lib/python3.8/site-packages/pandas/io/parsers.py\u001b[0m in \u001b[0;36m_read\u001b[0;34m(filepath_or_buffer, kwds)\u001b[0m\n\u001b[1;32m    461\u001b[0m     \u001b[0;31m# Create the parser.\u001b[0m\u001b[0;34m\u001b[0m\u001b[0;34m\u001b[0m\u001b[0;34m\u001b[0m\u001b[0m\n\u001b[0;32m--> 462\u001b[0;31m     \u001b[0mparser\u001b[0m \u001b[0;34m=\u001b[0m \u001b[0mTextFileReader\u001b[0m\u001b[0;34m(\u001b[0m\u001b[0mfilepath_or_buffer\u001b[0m\u001b[0;34m,\u001b[0m \u001b[0;34m**\u001b[0m\u001b[0mkwds\u001b[0m\u001b[0;34m)\u001b[0m\u001b[0;34m\u001b[0m\u001b[0;34m\u001b[0m\u001b[0m\n\u001b[0m\u001b[1;32m    463\u001b[0m \u001b[0;34m\u001b[0m\u001b[0m\n",
      "\u001b[0;32m/opt/anaconda3/lib/python3.8/site-packages/pandas/io/parsers.py\u001b[0m in \u001b[0;36m__init__\u001b[0;34m(self, f, engine, **kwds)\u001b[0m\n\u001b[1;32m    818\u001b[0m \u001b[0;34m\u001b[0m\u001b[0m\n\u001b[0;32m--> 819\u001b[0;31m         \u001b[0mself\u001b[0m\u001b[0;34m.\u001b[0m\u001b[0m_engine\u001b[0m \u001b[0;34m=\u001b[0m \u001b[0mself\u001b[0m\u001b[0;34m.\u001b[0m\u001b[0m_make_engine\u001b[0m\u001b[0;34m(\u001b[0m\u001b[0mself\u001b[0m\u001b[0;34m.\u001b[0m\u001b[0mengine\u001b[0m\u001b[0;34m)\u001b[0m\u001b[0;34m\u001b[0m\u001b[0;34m\u001b[0m\u001b[0m\n\u001b[0m\u001b[1;32m    820\u001b[0m \u001b[0;34m\u001b[0m\u001b[0m\n",
      "\u001b[0;32m/opt/anaconda3/lib/python3.8/site-packages/pandas/io/parsers.py\u001b[0m in \u001b[0;36m_make_engine\u001b[0;34m(self, engine)\u001b[0m\n\u001b[1;32m   1049\u001b[0m         \u001b[0;31m# error: Too many arguments for \"ParserBase\"\u001b[0m\u001b[0;34m\u001b[0m\u001b[0;34m\u001b[0m\u001b[0;34m\u001b[0m\u001b[0m\n\u001b[0;32m-> 1050\u001b[0;31m         \u001b[0;32mreturn\u001b[0m \u001b[0mmapping\u001b[0m\u001b[0;34m[\u001b[0m\u001b[0mengine\u001b[0m\u001b[0;34m]\u001b[0m\u001b[0;34m(\u001b[0m\u001b[0mself\u001b[0m\u001b[0;34m.\u001b[0m\u001b[0mf\u001b[0m\u001b[0;34m,\u001b[0m \u001b[0;34m**\u001b[0m\u001b[0mself\u001b[0m\u001b[0;34m.\u001b[0m\u001b[0moptions\u001b[0m\u001b[0;34m)\u001b[0m  \u001b[0;31m# type: ignore[call-arg]\u001b[0m\u001b[0;34m\u001b[0m\u001b[0;34m\u001b[0m\u001b[0m\n\u001b[0m\u001b[1;32m   1051\u001b[0m \u001b[0;34m\u001b[0m\u001b[0m\n",
      "\u001b[0;32m/opt/anaconda3/lib/python3.8/site-packages/pandas/io/parsers.py\u001b[0m in \u001b[0;36m__init__\u001b[0;34m(self, src, **kwds)\u001b[0m\n\u001b[1;32m   1866\u001b[0m         \u001b[0;31m# open handles\u001b[0m\u001b[0;34m\u001b[0m\u001b[0;34m\u001b[0m\u001b[0;34m\u001b[0m\u001b[0m\n\u001b[0;32m-> 1867\u001b[0;31m         \u001b[0mself\u001b[0m\u001b[0;34m.\u001b[0m\u001b[0m_open_handles\u001b[0m\u001b[0;34m(\u001b[0m\u001b[0msrc\u001b[0m\u001b[0;34m,\u001b[0m \u001b[0mkwds\u001b[0m\u001b[0;34m)\u001b[0m\u001b[0;34m\u001b[0m\u001b[0;34m\u001b[0m\u001b[0m\n\u001b[0m\u001b[1;32m   1868\u001b[0m         \u001b[0;32massert\u001b[0m \u001b[0mself\u001b[0m\u001b[0;34m.\u001b[0m\u001b[0mhandles\u001b[0m \u001b[0;32mis\u001b[0m \u001b[0;32mnot\u001b[0m \u001b[0;32mNone\u001b[0m\u001b[0;34m\u001b[0m\u001b[0;34m\u001b[0m\u001b[0m\n",
      "\u001b[0;32m/opt/anaconda3/lib/python3.8/site-packages/pandas/io/parsers.py\u001b[0m in \u001b[0;36m_open_handles\u001b[0;34m(self, src, kwds)\u001b[0m\n\u001b[1;32m   1361\u001b[0m         \"\"\"\n\u001b[0;32m-> 1362\u001b[0;31m         self.handles = get_handle(\n\u001b[0m\u001b[1;32m   1363\u001b[0m             \u001b[0msrc\u001b[0m\u001b[0;34m,\u001b[0m\u001b[0;34m\u001b[0m\u001b[0;34m\u001b[0m\u001b[0m\n",
      "\u001b[0;32m/opt/anaconda3/lib/python3.8/site-packages/pandas/io/common.py\u001b[0m in \u001b[0;36mget_handle\u001b[0;34m(path_or_buf, mode, encoding, compression, memory_map, is_text, errors, storage_options)\u001b[0m\n\u001b[1;32m    641\u001b[0m             \u001b[0;31m# Encoding\u001b[0m\u001b[0;34m\u001b[0m\u001b[0;34m\u001b[0m\u001b[0;34m\u001b[0m\u001b[0m\n\u001b[0;32m--> 642\u001b[0;31m             handle = open(\n\u001b[0m\u001b[1;32m    643\u001b[0m                 \u001b[0mhandle\u001b[0m\u001b[0;34m,\u001b[0m\u001b[0;34m\u001b[0m\u001b[0;34m\u001b[0m\u001b[0m\n",
      "\u001b[0;31mFileNotFoundError\u001b[0m: [Errno 2] No such file or directory: '/datasets/logs_exp.csv'",
      "\nDuring handling of the above exception, another exception occurred:\n",
      "\u001b[0;31mFileNotFoundError\u001b[0m                         Traceback (most recent call last)",
      "\u001b[0;32m<ipython-input-2-eedca945efd1>\u001b[0m in \u001b[0;36m<module>\u001b[0;34m\u001b[0m\n\u001b[1;32m      4\u001b[0m \u001b[0;34m\u001b[0m\u001b[0m\n\u001b[1;32m      5\u001b[0m \u001b[0;32mexcept\u001b[0m\u001b[0;34m:\u001b[0m\u001b[0;34m\u001b[0m\u001b[0;34m\u001b[0m\u001b[0m\n\u001b[0;32m----> 6\u001b[0;31m     \u001b[0mdata\u001b[0m \u001b[0;34m=\u001b[0m \u001b[0mpd\u001b[0m\u001b[0;34m.\u001b[0m\u001b[0mread_csv\u001b[0m\u001b[0;34m(\u001b[0m\u001b[0;34m'logs_exp.csv'\u001b[0m\u001b[0;34m,\u001b[0m \u001b[0msep\u001b[0m\u001b[0;34m=\u001b[0m\u001b[0;34m'\\t'\u001b[0m\u001b[0;34m)\u001b[0m \u001b[0;31m# личный путь\u001b[0m\u001b[0;34m\u001b[0m\u001b[0;34m\u001b[0m\u001b[0m\n\u001b[0m",
      "\u001b[0;32m/opt/anaconda3/lib/python3.8/site-packages/pandas/io/parsers.py\u001b[0m in \u001b[0;36mread_csv\u001b[0;34m(filepath_or_buffer, sep, delimiter, header, names, index_col, usecols, squeeze, prefix, mangle_dupe_cols, dtype, engine, converters, true_values, false_values, skipinitialspace, skiprows, skipfooter, nrows, na_values, keep_default_na, na_filter, verbose, skip_blank_lines, parse_dates, infer_datetime_format, keep_date_col, date_parser, dayfirst, cache_dates, iterator, chunksize, compression, thousands, decimal, lineterminator, quotechar, quoting, doublequote, escapechar, comment, encoding, dialect, error_bad_lines, warn_bad_lines, delim_whitespace, low_memory, memory_map, float_precision, storage_options)\u001b[0m\n\u001b[1;32m    608\u001b[0m     \u001b[0mkwds\u001b[0m\u001b[0;34m.\u001b[0m\u001b[0mupdate\u001b[0m\u001b[0;34m(\u001b[0m\u001b[0mkwds_defaults\u001b[0m\u001b[0;34m)\u001b[0m\u001b[0;34m\u001b[0m\u001b[0;34m\u001b[0m\u001b[0m\n\u001b[1;32m    609\u001b[0m \u001b[0;34m\u001b[0m\u001b[0m\n\u001b[0;32m--> 610\u001b[0;31m     \u001b[0;32mreturn\u001b[0m \u001b[0m_read\u001b[0m\u001b[0;34m(\u001b[0m\u001b[0mfilepath_or_buffer\u001b[0m\u001b[0;34m,\u001b[0m \u001b[0mkwds\u001b[0m\u001b[0;34m)\u001b[0m\u001b[0;34m\u001b[0m\u001b[0;34m\u001b[0m\u001b[0m\n\u001b[0m\u001b[1;32m    611\u001b[0m \u001b[0;34m\u001b[0m\u001b[0m\n\u001b[1;32m    612\u001b[0m \u001b[0;34m\u001b[0m\u001b[0m\n",
      "\u001b[0;32m/opt/anaconda3/lib/python3.8/site-packages/pandas/io/parsers.py\u001b[0m in \u001b[0;36m_read\u001b[0;34m(filepath_or_buffer, kwds)\u001b[0m\n\u001b[1;32m    460\u001b[0m \u001b[0;34m\u001b[0m\u001b[0m\n\u001b[1;32m    461\u001b[0m     \u001b[0;31m# Create the parser.\u001b[0m\u001b[0;34m\u001b[0m\u001b[0;34m\u001b[0m\u001b[0;34m\u001b[0m\u001b[0m\n\u001b[0;32m--> 462\u001b[0;31m     \u001b[0mparser\u001b[0m \u001b[0;34m=\u001b[0m \u001b[0mTextFileReader\u001b[0m\u001b[0;34m(\u001b[0m\u001b[0mfilepath_or_buffer\u001b[0m\u001b[0;34m,\u001b[0m \u001b[0;34m**\u001b[0m\u001b[0mkwds\u001b[0m\u001b[0;34m)\u001b[0m\u001b[0;34m\u001b[0m\u001b[0;34m\u001b[0m\u001b[0m\n\u001b[0m\u001b[1;32m    463\u001b[0m \u001b[0;34m\u001b[0m\u001b[0m\n\u001b[1;32m    464\u001b[0m     \u001b[0;32mif\u001b[0m \u001b[0mchunksize\u001b[0m \u001b[0;32mor\u001b[0m \u001b[0miterator\u001b[0m\u001b[0;34m:\u001b[0m\u001b[0;34m\u001b[0m\u001b[0;34m\u001b[0m\u001b[0m\n",
      "\u001b[0;32m/opt/anaconda3/lib/python3.8/site-packages/pandas/io/parsers.py\u001b[0m in \u001b[0;36m__init__\u001b[0;34m(self, f, engine, **kwds)\u001b[0m\n\u001b[1;32m    817\u001b[0m             \u001b[0mself\u001b[0m\u001b[0;34m.\u001b[0m\u001b[0moptions\u001b[0m\u001b[0;34m[\u001b[0m\u001b[0;34m\"has_index_names\"\u001b[0m\u001b[0;34m]\u001b[0m \u001b[0;34m=\u001b[0m \u001b[0mkwds\u001b[0m\u001b[0;34m[\u001b[0m\u001b[0;34m\"has_index_names\"\u001b[0m\u001b[0;34m]\u001b[0m\u001b[0;34m\u001b[0m\u001b[0;34m\u001b[0m\u001b[0m\n\u001b[1;32m    818\u001b[0m \u001b[0;34m\u001b[0m\u001b[0m\n\u001b[0;32m--> 819\u001b[0;31m         \u001b[0mself\u001b[0m\u001b[0;34m.\u001b[0m\u001b[0m_engine\u001b[0m \u001b[0;34m=\u001b[0m \u001b[0mself\u001b[0m\u001b[0;34m.\u001b[0m\u001b[0m_make_engine\u001b[0m\u001b[0;34m(\u001b[0m\u001b[0mself\u001b[0m\u001b[0;34m.\u001b[0m\u001b[0mengine\u001b[0m\u001b[0;34m)\u001b[0m\u001b[0;34m\u001b[0m\u001b[0;34m\u001b[0m\u001b[0m\n\u001b[0m\u001b[1;32m    820\u001b[0m \u001b[0;34m\u001b[0m\u001b[0m\n\u001b[1;32m    821\u001b[0m     \u001b[0;32mdef\u001b[0m \u001b[0mclose\u001b[0m\u001b[0;34m(\u001b[0m\u001b[0mself\u001b[0m\u001b[0;34m)\u001b[0m\u001b[0;34m:\u001b[0m\u001b[0;34m\u001b[0m\u001b[0;34m\u001b[0m\u001b[0m\n",
      "\u001b[0;32m/opt/anaconda3/lib/python3.8/site-packages/pandas/io/parsers.py\u001b[0m in \u001b[0;36m_make_engine\u001b[0;34m(self, engine)\u001b[0m\n\u001b[1;32m   1048\u001b[0m             )\n\u001b[1;32m   1049\u001b[0m         \u001b[0;31m# error: Too many arguments for \"ParserBase\"\u001b[0m\u001b[0;34m\u001b[0m\u001b[0;34m\u001b[0m\u001b[0;34m\u001b[0m\u001b[0m\n\u001b[0;32m-> 1050\u001b[0;31m         \u001b[0;32mreturn\u001b[0m \u001b[0mmapping\u001b[0m\u001b[0;34m[\u001b[0m\u001b[0mengine\u001b[0m\u001b[0;34m]\u001b[0m\u001b[0;34m(\u001b[0m\u001b[0mself\u001b[0m\u001b[0;34m.\u001b[0m\u001b[0mf\u001b[0m\u001b[0;34m,\u001b[0m \u001b[0;34m**\u001b[0m\u001b[0mself\u001b[0m\u001b[0;34m.\u001b[0m\u001b[0moptions\u001b[0m\u001b[0;34m)\u001b[0m  \u001b[0;31m# type: ignore[call-arg]\u001b[0m\u001b[0;34m\u001b[0m\u001b[0;34m\u001b[0m\u001b[0m\n\u001b[0m\u001b[1;32m   1051\u001b[0m \u001b[0;34m\u001b[0m\u001b[0m\n\u001b[1;32m   1052\u001b[0m     \u001b[0;32mdef\u001b[0m \u001b[0m_failover_to_python\u001b[0m\u001b[0;34m(\u001b[0m\u001b[0mself\u001b[0m\u001b[0;34m)\u001b[0m\u001b[0;34m:\u001b[0m\u001b[0;34m\u001b[0m\u001b[0;34m\u001b[0m\u001b[0m\n",
      "\u001b[0;32m/opt/anaconda3/lib/python3.8/site-packages/pandas/io/parsers.py\u001b[0m in \u001b[0;36m__init__\u001b[0;34m(self, src, **kwds)\u001b[0m\n\u001b[1;32m   1865\u001b[0m \u001b[0;34m\u001b[0m\u001b[0m\n\u001b[1;32m   1866\u001b[0m         \u001b[0;31m# open handles\u001b[0m\u001b[0;34m\u001b[0m\u001b[0;34m\u001b[0m\u001b[0;34m\u001b[0m\u001b[0m\n\u001b[0;32m-> 1867\u001b[0;31m         \u001b[0mself\u001b[0m\u001b[0;34m.\u001b[0m\u001b[0m_open_handles\u001b[0m\u001b[0;34m(\u001b[0m\u001b[0msrc\u001b[0m\u001b[0;34m,\u001b[0m \u001b[0mkwds\u001b[0m\u001b[0;34m)\u001b[0m\u001b[0;34m\u001b[0m\u001b[0;34m\u001b[0m\u001b[0m\n\u001b[0m\u001b[1;32m   1868\u001b[0m         \u001b[0;32massert\u001b[0m \u001b[0mself\u001b[0m\u001b[0;34m.\u001b[0m\u001b[0mhandles\u001b[0m \u001b[0;32mis\u001b[0m \u001b[0;32mnot\u001b[0m \u001b[0;32mNone\u001b[0m\u001b[0;34m\u001b[0m\u001b[0;34m\u001b[0m\u001b[0m\n\u001b[1;32m   1869\u001b[0m         \u001b[0;32mfor\u001b[0m \u001b[0mkey\u001b[0m \u001b[0;32min\u001b[0m \u001b[0;34m(\u001b[0m\u001b[0;34m\"storage_options\"\u001b[0m\u001b[0;34m,\u001b[0m \u001b[0;34m\"encoding\"\u001b[0m\u001b[0;34m,\u001b[0m \u001b[0;34m\"memory_map\"\u001b[0m\u001b[0;34m,\u001b[0m \u001b[0;34m\"compression\"\u001b[0m\u001b[0;34m)\u001b[0m\u001b[0;34m:\u001b[0m\u001b[0;34m\u001b[0m\u001b[0;34m\u001b[0m\u001b[0m\n",
      "\u001b[0;32m/opt/anaconda3/lib/python3.8/site-packages/pandas/io/parsers.py\u001b[0m in \u001b[0;36m_open_handles\u001b[0;34m(self, src, kwds)\u001b[0m\n\u001b[1;32m   1360\u001b[0m         \u001b[0mLet\u001b[0m \u001b[0mthe\u001b[0m \u001b[0mreaders\u001b[0m \u001b[0mopen\u001b[0m \u001b[0mIOHanldes\u001b[0m \u001b[0mafter\u001b[0m \u001b[0mthey\u001b[0m \u001b[0mare\u001b[0m \u001b[0mdone\u001b[0m \u001b[0;32mwith\u001b[0m \u001b[0mtheir\u001b[0m \u001b[0mpotential\u001b[0m \u001b[0mraises\u001b[0m\u001b[0;34m.\u001b[0m\u001b[0;34m\u001b[0m\u001b[0;34m\u001b[0m\u001b[0m\n\u001b[1;32m   1361\u001b[0m         \"\"\"\n\u001b[0;32m-> 1362\u001b[0;31m         self.handles = get_handle(\n\u001b[0m\u001b[1;32m   1363\u001b[0m             \u001b[0msrc\u001b[0m\u001b[0;34m,\u001b[0m\u001b[0;34m\u001b[0m\u001b[0;34m\u001b[0m\u001b[0m\n\u001b[1;32m   1364\u001b[0m             \u001b[0;34m\"r\"\u001b[0m\u001b[0;34m,\u001b[0m\u001b[0;34m\u001b[0m\u001b[0;34m\u001b[0m\u001b[0m\n",
      "\u001b[0;32m/opt/anaconda3/lib/python3.8/site-packages/pandas/io/common.py\u001b[0m in \u001b[0;36mget_handle\u001b[0;34m(path_or_buf, mode, encoding, compression, memory_map, is_text, errors, storage_options)\u001b[0m\n\u001b[1;32m    640\u001b[0m                 \u001b[0merrors\u001b[0m \u001b[0;34m=\u001b[0m \u001b[0;34m\"replace\"\u001b[0m\u001b[0;34m\u001b[0m\u001b[0;34m\u001b[0m\u001b[0m\n\u001b[1;32m    641\u001b[0m             \u001b[0;31m# Encoding\u001b[0m\u001b[0;34m\u001b[0m\u001b[0;34m\u001b[0m\u001b[0;34m\u001b[0m\u001b[0m\n\u001b[0;32m--> 642\u001b[0;31m             handle = open(\n\u001b[0m\u001b[1;32m    643\u001b[0m                 \u001b[0mhandle\u001b[0m\u001b[0;34m,\u001b[0m\u001b[0;34m\u001b[0m\u001b[0;34m\u001b[0m\u001b[0m\n\u001b[1;32m    644\u001b[0m                 \u001b[0mioargs\u001b[0m\u001b[0;34m.\u001b[0m\u001b[0mmode\u001b[0m\u001b[0;34m,\u001b[0m\u001b[0;34m\u001b[0m\u001b[0;34m\u001b[0m\u001b[0m\n",
      "\u001b[0;31mFileNotFoundError\u001b[0m: [Errno 2] No such file or directory: 'logs_exp.csv'"
     ]
    }
   ],
   "source": [
    "# открываем файл\n",
    "try:\n",
    "    data = pd.read_csv('/datasets/logs_exp.csv', sep='\\t') # Yandex путь\n",
    "    \n",
    "except:\n",
    "    data = pd.read_csv('logs_exp.csv', sep='\\t') # личный путь\n"
   ]
  },
  {
   "cell_type": "code",
   "execution_count": null,
   "metadata": {},
   "outputs": [],
   "source": [
    "# зададим имя датафрейма\n",
    "data.name = 'data'"
   ]
  },
  {
   "cell_type": "code",
   "execution_count": null,
   "metadata": {},
   "outputs": [],
   "source": [
    "# зададим функцию для изучения данных\n",
    "def prelim_analysis(df):\n",
    "    print(blue(f'Таблица {df.name}', ['bold', 'underlined']))\n",
    "    display(df.head())\n",
    "    print(f'\\nОбщая информация')\n",
    "    display(df.info())\n",
    "    print(f'Явные дубликаты: {df.duplicated().sum()}\\n')\n",
    "    print(f'Пропуски:\\n{df.isna().sum()}\\n')"
   ]
  },
  {
   "cell_type": "code",
   "execution_count": null,
   "metadata": {
    "scrolled": false
   },
   "outputs": [],
   "source": [
    "# проведем предварительный анализ\n",
    "prelim_analysis(data)"
   ]
  },
  {
   "cell_type": "markdown",
   "metadata": {},
   "source": [
    "- Поменяем названия столбцов\n",
    "- Переведем тип данных в столбце EventTimestamp формат даты и времени \n",
    "- Уберем явные дубликаты\n",
    "- Пропусков в данных нет"
   ]
  },
  {
   "cell_type": "code",
   "execution_count": null,
   "metadata": {},
   "outputs": [],
   "source": [
    "# изменим названия столбцов\n",
    "data.columns = ['event_name', 'user_id', 'event_time', 'exp_id']"
   ]
  },
  {
   "cell_type": "code",
   "execution_count": null,
   "metadata": {},
   "outputs": [],
   "source": [
    "# изменим формат для столбца event_time\n",
    "data['event_time'] = pd.to_datetime(data['event_time'], unit='s')\n",
    "\n",
    "# добавим новый столбец только с датой\n",
    "data['event_date'] = data['event_time'].dt.date\n",
    "\n",
    "data.head()"
   ]
  },
  {
   "cell_type": "code",
   "execution_count": null,
   "metadata": {},
   "outputs": [],
   "source": [
    "# удалим дублирующиеся строчки\n",
    "data=data.drop_duplicates()"
   ]
  },
  {
   "cell_type": "markdown",
   "metadata": {},
   "source": [
    "- Изучение и подготовку данных закончили, теперь можно переходить к анализу данных"
   ]
  },
  {
   "cell_type": "markdown",
   "metadata": {},
   "source": [
    "## Изучение данных <a name=\"data2\"></a>"
   ]
  },
  {
   "cell_type": "code",
   "execution_count": null,
   "metadata": {},
   "outputs": [],
   "source": [
    "# соберем основную информацию\n",
    "print(black(f'Общая информация по данным\\n', ['bold', 'underlined']))\n",
    "print(f'Уникальные типы событий: {data.event_name.nunique()}')\n",
    "print(f'Всего событий: {data.shape[0]:,.0f}')\n",
    "print(f'Всего пользователей: {data.user_id.nunique()}') \n",
    "print(f'Среднее количество событий на пользователя: {(data.shape[0] /data.user_id.nunique()):.0f}')\n",
    "print(f'Период данных: {min(data.event_date)} - {max(data.event_date)}')"
   ]
  },
  {
   "cell_type": "code",
   "execution_count": null,
   "metadata": {
    "scrolled": false
   },
   "outputs": [],
   "source": [
    "# построим гистограмму по дате и времени\n",
    "\n",
    "fig = px.histogram(data['event_time'], x='event_time', nbins=50, title='События по дате и времени')\n",
    "fig.update_xaxes(tickangle=20)\n",
    "fig.show()"
   ]
  },
  {
   "cell_type": "markdown",
   "metadata": {},
   "source": [
    "- Из гистограммы видно, что мало данных до 1го августа - уберем их, чтобы не мешали анализу\n",
    "- По факту у нас данные за период 2019-08-01 - 2019-08-07"
   ]
  },
  {
   "cell_type": "code",
   "execution_count": null,
   "metadata": {},
   "outputs": [],
   "source": [
    "# отбросим данные \n",
    "date_limit=pd.datetime(2019, 8, 1)\n",
    "data_new=data.query('event_time > @date_limit')\n",
    "data_new.head()"
   ]
  },
  {
   "cell_type": "code",
   "execution_count": null,
   "metadata": {},
   "outputs": [],
   "source": [
    "# проверим, сколько пользователей и событий потеряли после отсечки\n",
    "delta_events=(data.shape[0]-data_new.shape[0])/data.shape[0]\n",
    "delta_users=(data.user_id.nunique()-data_new.user_id.nunique())/data.user_id.nunique()\n",
    "\n",
    "print(f'Всего событий после отсечки: {data_new.shape[0]:,.0f}; потерянных событий: {delta_events:,.1%}')\n",
    "print(f'Всего пользователей: {data_new.user_id.nunique()}; потерянных пользователей: {delta_users:,.1%}') "
   ]
  },
  {
   "cell_type": "code",
   "execution_count": null,
   "metadata": {},
   "outputs": [],
   "source": [
    "# проверим, что у нас пользователи из всех экспериментальных групп\n",
    "print(f'Экспериментальные группы после отсечки: {data_new.exp_id.unique()}')"
   ]
  },
  {
   "cell_type": "markdown",
   "metadata": {},
   "source": [
    "- После отсечки мы убрали незначительную долю событий и пользователей, все экспериментальные группы на месте"
   ]
  },
  {
   "cell_type": "markdown",
   "metadata": {},
   "source": [
    "## Воронка событий <a name=\"funnel\"></a>"
   ]
  },
  {
   "cell_type": "code",
   "execution_count": null,
   "metadata": {},
   "outputs": [],
   "source": [
    "# посмотрим какие события есть в логах и как часто они встречаются\n",
    "df = data_new.groupby('event_name').agg({'event_time':'count'}).sort_values('event_time', \n",
    "                                                                            ascending=False).reset_index()\n",
    "df.columns=['event', 'count_in_log']\n",
    "print(black(f'Частота событий по типу', ['bold', 'underlined']))\n",
    "df"
   ]
  },
  {
   "cell_type": "code",
   "execution_count": null,
   "metadata": {},
   "outputs": [],
   "source": [
    "# посчитаем сколько пользователей совершали каждое из событий\n",
    "df2 = data_new.groupby('event_name').agg({'user_id':'nunique'}).sort_values('user_id', \n",
    "                                                                            ascending=False).reset_index()\n",
    "df2.columns=['event', 'count_unique_users']\n",
    "df2['conv_from_all_users']=df2['count_unique_users']/data_new['user_id'].nunique()\n",
    "\n",
    "print(black(f'Количество уникальных пользователей совершивших то или иное событие, доля от всех пользователей', \n",
    "            ['bold', 'underlined']))\n",
    "df2"
   ]
  },
  {
   "cell_type": "markdown",
   "metadata": {},
   "source": [
    "- Пункт tutorial выбивается из логики последовательности событий, ибо пользователь может захотеть вызвать tutorial на любом этапе пользования приложением - можем убрать это событие из воронки\n",
    "- Итоговая последовательность действий:\n",
    "    - Пользователь зашел на главный экран (MainScreenAppear)\n",
    "    - Увидел экран с предложениями (OffersScreenAppear)\n",
    "    - Увидел экран с корзиной (CartScreenAppear)\n",
    "    - Увидел экран с потверждением успешной оплаты (PaymentScreenSuccessful)"
   ]
  },
  {
   "cell_type": "code",
   "execution_count": null,
   "metadata": {},
   "outputs": [],
   "source": [
    "# построим воронку событий\n",
    "\n",
    "df2=df2.head(4)\n",
    "fig = go.Figure(\n",
    "    go.Funnel(\n",
    "        y=df2['event'],\n",
    "        x=df2['count_unique_users'],\n",
    "    )\n",
    ")\n",
    "fig.show() "
   ]
  },
  {
   "cell_type": "code",
   "execution_count": null,
   "metadata": {},
   "outputs": [],
   "source": [
    "# посчитаем конверсию от шага к шагу\n",
    "df2['conv_steps']=df2['count_unique_users']/df2['count_unique_users'].shift()\n",
    "print(black(f'Конверсия от шага к шагу воронки', \n",
    "            ['bold', 'underlined']))\n",
    "df2"
   ]
  },
  {
   "cell_type": "markdown",
   "metadata": {},
   "source": [
    "- Наибольшее количество пользователей теряются на переходе с первого шага на второй, почти 40%\n",
    "- Как видно из воронки, до оплаты доходит всего 47.7% пользователей, увидевших главный экран"
   ]
  },
  {
   "cell_type": "markdown",
   "metadata": {},
   "source": [
    "## Анализ результатов эксперимента <a name=\"tests\"></a>"
   ]
  },
  {
   "cell_type": "code",
   "execution_count": null,
   "metadata": {},
   "outputs": [],
   "source": [
    "# посчитаем количество пользователей по группам\n",
    "trials=data_new.groupby('exp_id').agg({'user_id':'nunique'}).sort_values('user_id', ascending=False)\n",
    "trials.columns=['count_unique_users']\n",
    "trials"
   ]
  },
  {
   "cell_type": "code",
   "execution_count": null,
   "metadata": {},
   "outputs": [],
   "source": [
    "# проверим различие между количеством пользователей в группах\n",
    "trials['count_unique_users'][247]/trials['count_unique_users'][246]-1"
   ]
  },
  {
   "cell_type": "code",
   "execution_count": null,
   "metadata": {},
   "outputs": [],
   "source": [
    "# убедимся, что каждый пользователь попал только в одну группу\n",
    "df3=data_new.groupby('user_id').agg({'exp_id':'nunique'}).sort_values('exp_id', ascending=False)\n",
    "\n",
    "df3.head()"
   ]
  },
  {
   "cell_type": "code",
   "execution_count": null,
   "metadata": {},
   "outputs": [],
   "source": [
    "# добавим объединенную контрольную группу\n",
    "combined = data_new.query('exp_id in [246,247]')\n",
    "combined['exp_id']='246+247'\n",
    "data_new=data_new.append(combined)"
   ]
  },
  {
   "cell_type": "code",
   "execution_count": null,
   "metadata": {},
   "outputs": [],
   "source": [
    "# пересчитаем количество пользователей по группам\n",
    "trials=data_new.groupby('exp_id').agg({'user_id':'nunique'}).sort_values('user_id', ascending=False)\n",
    "trials.columns=['count_unique_users']\n",
    "trials"
   ]
  },
  {
   "cell_type": "code",
   "execution_count": null,
   "metadata": {},
   "outputs": [],
   "source": [
    "funnel_per_group = data_new.pivot_table(index='event_name', \n",
    "                              columns='exp_id', \n",
    "                              values='user_id', \n",
    "                              aggfunc='nunique'\n",
    "                             ).sort_values(246, ascending=False)\n",
    "funnel_per_group = funnel_per_group.head(4)\n",
    "funnel_per_group"
   ]
  },
  {
   "cell_type": "markdown",
   "metadata": {},
   "source": [
    "- Различие в количестве пользователей примерно 1%, все пользователи оставались только в своей группе, для обеих групп фиксировались все события\n",
    "- Перейдем к проверке гипотез равенства конверсий для событий в обеих группах:\n",
    "    - Мы проверяем разницу между пропорциями, наблюдаемыми на выборках из одной генеральной совокупности\n",
    "    - H0 - пропорции равны (в нашем случае пропорцией выступает конверсия для события)\n",
    "    - H1 - пропорции не равны\n",
    "    - Проверять гипотезы будем с помощью z-теста\n",
    "    - Уровень статистической значимости - 5%, однако из-за того, что мы проводим эксперимент между 4мя группами для 4х событий (16 раз в общем, множественный тест), увеличивается вероятность ложнопозитивного результата, поэтому применим поправку Бонферрони, разделив уровень значимости на количество экспериментов "
   ]
  },
  {
   "cell_type": "code",
   "execution_count": null,
   "metadata": {},
   "outputs": [],
   "source": [
    "# зададим функцию для проверки гипотез равенства конверсий для событий\n",
    "def hypothesis(successes1,successes2, trials1, trials2):\n",
    "    p1 = successes1/trials1\n",
    "    p2 = successes2/trials2\n",
    "    p_combined = (successes1 + successes2) / (trials1 + trials2)\n",
    "    difference = p1-p2\n",
    "    z_value = difference / mth.sqrt(p_combined * (1 - p_combined) * (1 / trials1 + 1 / trials2))\n",
    "    distr = stats.norm(0,1)\n",
    "    p_value = (1 - distr.cdf(abs(z_value))) * 2\n",
    "    return p_value, p1, p2"
   ]
  },
  {
   "cell_type": "code",
   "execution_count": null,
   "metadata": {},
   "outputs": [],
   "source": [
    "# проверим гипотезу равенства конверсий для событий в контрольных группах\n",
    "groups=[246,247]\n",
    "\n",
    "\n",
    "def p_values_cycle(groups):\n",
    "    p_values=[]\n",
    "    for event in funnel_per_group.index:\n",
    "        p=hypothesis(funnel_per_group.loc[event, groups[0]],\n",
    "                 funnel_per_group.loc[event,groups[1]], \n",
    "                 trials.loc[groups[0]].values[0], \n",
    "                 trials.loc[groups[1]].values[0])\n",
    "        p_values+=[[groups[0], groups[1],event,p[1], p[2], p[0]]]\n",
    "    p_values=pd.DataFrame(p_values, columns=['group1', 'group2', 'event_name','conv_group1', 'conv_group2', 'p-value'])\n",
    "    alpha=0.05\n",
    "    alpha = alpha / 16 # делаем поправку Бонферонни на количество экспериментов \n",
    "    # учитываем все пары групп - по 4 эксперимента для 4 пар - 16 экспериментов в общем\n",
    "    p_values['rejectH0'] = p_values['p-value'] < alpha\n",
    "    print(black(f'Результаты сравнения между группами {groups[0]} и {groups[1]}', ['bold', 'underlined']))\n",
    "    display(p_values)\n",
    "\n",
    "p_values_cycle(groups)  \n"
   ]
  },
  {
   "cell_type": "markdown",
   "metadata": {},
   "source": [
    "- Для всех событий мы не можем говорить о статистической значимости разницы конверсий в контрольных группах\n",
    "- А/А тест проводится для дальнейшего корректного проведением A/B-теста, с его помощью мы видим, что разбиение на группы работает корректно"
   ]
  },
  {
   "cell_type": "code",
   "execution_count": null,
   "metadata": {},
   "outputs": [],
   "source": [
    "# проверим гипотезу равенства конверсий для событий между контрольными и экспериментальной группой\n",
    "group_list=[[246,248],[247,248]]\n",
    "\n",
    "for groups in group_list:\n",
    "    p_values_cycle(groups)"
   ]
  },
  {
   "cell_type": "markdown",
   "metadata": {},
   "source": [
    "- Для всех событий мы не можем говорить о статистической значимости разницы конверсий между контрольными и экспериментальной группами"
   ]
  },
  {
   "cell_type": "code",
   "execution_count": null,
   "metadata": {},
   "outputs": [],
   "source": [
    "# проверим гипотезу равенства конверсий для событий между контрольными и экспериментальной группой\n",
    "groups=['246+247',248]\n",
    "\n",
    "p_values_cycle(groups)"
   ]
  },
  {
   "cell_type": "markdown",
   "metadata": {},
   "source": [
    "- Аналогично результатам других пар, мы не можем говорить о статистической значимости разницы конверсий для всех событий между объединенной контрольной и экспериментальной группами"
   ]
  },
  {
   "cell_type": "markdown",
   "metadata": {},
   "source": [
    "## Summary результатов <a name=\"results\"></a>"
   ]
  },
  {
   "cell_type": "markdown",
   "metadata": {},
   "source": [
    "- Наибольшее количество пользователей теряются на переходе с первого шага на второй (главный экран-экран предложений), почти 40%\n",
    "- До оплаты доходит всего 47.7% пользователей, увидевших главный экран\n",
    "- Результаты А/A/B теста не показали статистической значимости между разницей в конверсии в контрольных и экспериментальной группе - шрифты в приложении можно менять, это никак не влияет на конверсию пользователей, ни в худшую, ни в лучшую сторону"
   ]
  }
 ],
 "metadata": {
  "ExecuteTimeLog": [
   {
    "duration": 671,
    "start_time": "2022-01-28T06:51:46.908Z"
   },
   {
    "duration": 582,
    "start_time": "2022-01-28T06:51:47.581Z"
   },
   {
    "duration": 19,
    "start_time": "2022-01-28T06:51:48.165Z"
   },
   {
    "duration": 88,
    "start_time": "2022-01-28T06:51:48.186Z"
   },
   {
    "duration": 223,
    "start_time": "2022-01-28T06:51:48.276Z"
   },
   {
    "duration": 233,
    "start_time": "2022-01-28T06:51:48.501Z"
   },
   {
    "duration": 68,
    "start_time": "2022-01-28T06:51:48.736Z"
   },
   {
    "duration": 79,
    "start_time": "2022-01-28T06:51:48.807Z"
   },
   {
    "duration": 168,
    "start_time": "2022-01-28T06:51:48.888Z"
   },
   {
    "duration": 6,
    "start_time": "2022-01-28T06:51:49.061Z"
   },
   {
    "duration": 13,
    "start_time": "2022-01-28T06:51:49.069Z"
   },
   {
    "duration": 10,
    "start_time": "2022-01-28T06:51:49.084Z"
   },
   {
    "duration": 10,
    "start_time": "2022-01-28T06:51:49.095Z"
   },
   {
    "duration": 6,
    "start_time": "2022-01-28T06:51:49.107Z"
   },
   {
    "duration": 11,
    "start_time": "2022-01-28T06:51:49.115Z"
   },
   {
    "duration": 32,
    "start_time": "2022-01-28T06:51:49.128Z"
   },
   {
    "duration": 10,
    "start_time": "2022-01-28T06:51:49.163Z"
   },
   {
    "duration": 523,
    "start_time": "2022-01-28T06:51:49.175Z"
   },
   {
    "duration": 26,
    "start_time": "2022-01-28T06:51:49.700Z"
   },
   {
    "duration": 55,
    "start_time": "2022-01-28T06:51:49.728Z"
   },
   {
    "duration": 4,
    "start_time": "2022-01-28T06:51:49.785Z"
   },
   {
    "duration": 41,
    "start_time": "2022-01-28T06:51:49.791Z"
   },
   {
    "duration": 51,
    "start_time": "2022-01-28T06:51:49.836Z"
   },
   {
    "duration": 26,
    "start_time": "2022-01-28T06:51:49.889Z"
   },
   {
    "duration": 14,
    "start_time": "2022-01-28T06:51:49.917Z"
   },
   {
    "duration": 7,
    "start_time": "2022-01-28T06:51:49.932Z"
   },
   {
    "duration": 77,
    "start_time": "2022-01-28T06:51:49.941Z"
   },
   {
    "duration": 2320,
    "start_time": "2022-01-28T06:51:50.020Z"
   },
   {
    "duration": 50,
    "start_time": "2022-01-28T06:51:52.341Z"
   },
   {
    "duration": 12,
    "start_time": "2022-01-28T06:51:52.393Z"
   },
   {
    "duration": 4,
    "start_time": "2022-01-28T06:51:52.407Z"
   },
   {
    "duration": 1940,
    "start_time": "2022-01-28T06:51:52.413Z"
   },
   {
    "duration": 2583,
    "start_time": "2022-01-28T06:51:54.355Z"
   },
   {
    "duration": 2137,
    "start_time": "2022-01-28T06:51:56.940Z"
   },
   {
    "duration": 1037,
    "start_time": "2022-01-28T06:51:59.079Z"
   },
   {
    "duration": 1094,
    "start_time": "2022-01-28T06:52:00.118Z"
   },
   {
    "duration": 1315,
    "start_time": "2022-01-28T06:52:01.214Z"
   },
   {
    "duration": 2053,
    "start_time": "2022-01-28T06:52:02.531Z"
   },
   {
    "duration": 2175,
    "start_time": "2022-01-28T06:52:04.586Z"
   },
   {
    "duration": 2483,
    "start_time": "2022-01-28T06:52:06.762Z"
   },
   {
    "duration": 45,
    "start_time": "2022-01-28T06:54:52.720Z"
   },
   {
    "duration": 23,
    "start_time": "2022-01-28T06:56:03.609Z"
   },
   {
    "duration": 17,
    "start_time": "2022-01-28T06:56:15.496Z"
   },
   {
    "duration": 13,
    "start_time": "2022-01-28T06:56:22.150Z"
   },
   {
    "duration": 336,
    "start_time": "2022-01-28T06:59:25.752Z"
   },
   {
    "duration": 5,
    "start_time": "2022-01-28T07:00:05.617Z"
   },
   {
    "duration": 125,
    "start_time": "2022-03-26T05:53:28.867Z"
   },
   {
    "duration": 4149,
    "start_time": "2022-03-26T06:09:29.906Z"
   },
   {
    "duration": 1684,
    "start_time": "2022-03-26T06:09:34.058Z"
   },
   {
    "duration": 129,
    "start_time": "2022-03-26T06:09:35.745Z"
   },
   {
    "duration": 5,
    "start_time": "2022-03-26T06:09:35.877Z"
   },
   {
    "duration": 6,
    "start_time": "2022-03-26T06:09:35.885Z"
   },
   {
    "duration": 128,
    "start_time": "2022-03-26T06:09:35.893Z"
   },
   {
    "duration": 11,
    "start_time": "2022-03-26T06:09:36.024Z"
   },
   {
    "duration": 48,
    "start_time": "2022-03-26T06:09:36.038Z"
   },
   {
    "duration": 13,
    "start_time": "2022-03-26T06:09:36.088Z"
   },
   {
    "duration": 12,
    "start_time": "2022-03-26T06:09:36.105Z"
   },
   {
    "duration": 18,
    "start_time": "2022-03-26T06:09:36.120Z"
   },
   {
    "duration": 32,
    "start_time": "2022-03-26T06:09:37.876Z"
   },
   {
    "duration": 6,
    "start_time": "2022-03-26T06:09:47.380Z"
   },
   {
    "duration": 162,
    "start_time": "2022-03-26T06:09:52.358Z"
   },
   {
    "duration": 27,
    "start_time": "2022-03-26T06:10:19.108Z"
   },
   {
    "duration": 329,
    "start_time": "2022-03-26T06:10:33.231Z"
   },
   {
    "duration": 409,
    "start_time": "2022-03-26T06:10:58.165Z"
   },
   {
    "duration": 393,
    "start_time": "2022-03-26T06:11:31.193Z"
   },
   {
    "duration": 475,
    "start_time": "2022-03-26T06:11:32.533Z"
   },
   {
    "duration": 349,
    "start_time": "2022-03-26T06:11:33.226Z"
   },
   {
    "duration": 475,
    "start_time": "2022-03-26T06:11:33.649Z"
   },
   {
    "duration": 357,
    "start_time": "2022-03-26T06:11:34.127Z"
   },
   {
    "duration": 447,
    "start_time": "2022-03-26T06:11:34.489Z"
   },
   {
    "duration": 14,
    "start_time": "2022-03-26T06:11:34.939Z"
   },
   {
    "duration": 227,
    "start_time": "2022-03-26T06:11:35.009Z"
   },
   {
    "duration": 9,
    "start_time": "2022-03-26T06:11:35.488Z"
   },
   {
    "duration": 236,
    "start_time": "2022-03-26T06:11:36.731Z"
   },
   {
    "duration": 5,
    "start_time": "2022-03-26T06:11:37.911Z"
   },
   {
    "duration": 17,
    "start_time": "2022-03-26T06:12:18.629Z"
   },
   {
    "duration": 10,
    "start_time": "2022-03-26T06:14:29.919Z"
   },
   {
    "duration": 5133,
    "start_time": "2022-03-26T06:14:32.680Z"
   },
   {
    "duration": 6,
    "start_time": "2022-03-26T06:14:37.816Z"
   },
   {
    "duration": 68,
    "start_time": "2022-03-26T06:14:37.824Z"
   },
   {
    "duration": 4,
    "start_time": "2022-03-26T06:14:37.895Z"
   },
   {
    "duration": 15,
    "start_time": "2022-03-26T06:14:37.901Z"
   },
   {
    "duration": 110,
    "start_time": "2022-03-26T06:14:37.919Z"
   },
   {
    "duration": 11,
    "start_time": "2022-03-26T06:14:38.032Z"
   },
   {
    "duration": 39,
    "start_time": "2022-03-26T06:14:38.045Z"
   },
   {
    "duration": 24,
    "start_time": "2022-03-26T06:14:38.087Z"
   },
   {
    "duration": 33,
    "start_time": "2022-03-26T06:14:38.115Z"
   },
   {
    "duration": 23,
    "start_time": "2022-03-26T06:14:38.151Z"
   },
   {
    "duration": 44,
    "start_time": "2022-03-26T06:14:38.186Z"
   },
   {
    "duration": 11,
    "start_time": "2022-03-26T06:14:41.608Z"
   },
   {
    "duration": 27,
    "start_time": "2022-03-26T06:14:54.883Z"
   },
   {
    "duration": 21,
    "start_time": "2022-03-26T06:14:58.744Z"
   },
   {
    "duration": 6,
    "start_time": "2022-03-26T06:15:02.227Z"
   },
   {
    "duration": 21,
    "start_time": "2022-03-26T06:15:04.419Z"
   },
   {
    "duration": 16,
    "start_time": "2022-03-26T06:15:28.571Z"
   },
   {
    "duration": 3980,
    "start_time": "2022-03-26T07:09:33.055Z"
   },
   {
    "duration": 6,
    "start_time": "2022-03-26T07:09:37.038Z"
   },
   {
    "duration": 88,
    "start_time": "2022-03-26T07:09:37.046Z"
   },
   {
    "duration": 4,
    "start_time": "2022-03-26T07:09:37.137Z"
   },
   {
    "duration": 12,
    "start_time": "2022-03-26T07:09:37.143Z"
   },
   {
    "duration": 85,
    "start_time": "2022-03-26T07:09:37.157Z"
   },
   {
    "duration": 41,
    "start_time": "2022-03-26T07:09:37.244Z"
   },
   {
    "duration": 8,
    "start_time": "2022-03-26T07:09:37.287Z"
   },
   {
    "duration": 12,
    "start_time": "2022-03-26T07:09:37.297Z"
   },
   {
    "duration": 13,
    "start_time": "2022-03-26T07:09:37.314Z"
   },
   {
    "duration": 55,
    "start_time": "2022-03-26T07:09:37.330Z"
   },
   {
    "duration": 33,
    "start_time": "2022-03-26T07:09:37.387Z"
   },
   {
    "duration": 6,
    "start_time": "2022-03-26T07:09:37.422Z"
   },
   {
    "duration": 52,
    "start_time": "2022-03-26T07:09:37.431Z"
   },
   {
    "duration": 423,
    "start_time": "2022-03-26T07:09:37.486Z"
   },
   {
    "duration": 341,
    "start_time": "2022-03-26T07:09:37.911Z"
   },
   {
    "duration": 433,
    "start_time": "2022-03-26T07:09:38.254Z"
   },
   {
    "duration": 434,
    "start_time": "2022-03-26T07:09:38.690Z"
   },
   {
    "duration": 334,
    "start_time": "2022-03-26T07:09:39.127Z"
   },
   {
    "duration": 554,
    "start_time": "2022-03-26T07:09:39.463Z"
   },
   {
    "duration": 15,
    "start_time": "2022-03-26T07:09:40.020Z"
   },
   {
    "duration": 247,
    "start_time": "2022-03-26T07:09:40.037Z"
   },
   {
    "duration": 6,
    "start_time": "2022-03-26T07:09:40.285Z"
   },
   {
    "duration": 222,
    "start_time": "2022-03-26T07:09:40.293Z"
   },
   {
    "duration": 6,
    "start_time": "2022-03-26T07:09:40.518Z"
   },
   {
    "duration": 262,
    "start_time": "2022-03-26T07:09:40.526Z"
   },
   {
    "duration": 33,
    "start_time": "2022-03-26T07:09:40.790Z"
   },
   {
    "duration": 16,
    "start_time": "2022-03-26T07:09:40.827Z"
   },
   {
    "duration": 43,
    "start_time": "2022-03-26T07:09:40.845Z"
   },
   {
    "duration": 11,
    "start_time": "2022-03-26T07:09:40.891Z"
   },
   {
    "duration": 33,
    "start_time": "2022-03-26T07:09:40.905Z"
   },
   {
    "duration": 45,
    "start_time": "2022-03-26T07:09:40.940Z"
   },
   {
    "duration": 26,
    "start_time": "2022-03-26T07:09:40.988Z"
   },
   {
    "duration": 20,
    "start_time": "2022-03-26T07:09:58.742Z"
   },
   {
    "duration": 3,
    "start_time": "2022-03-26T07:12:40.459Z"
   },
   {
    "duration": 19,
    "start_time": "2022-03-26T07:12:46.109Z"
   },
   {
    "duration": 399,
    "start_time": "2022-03-26T07:12:51.169Z"
   },
   {
    "duration": 17,
    "start_time": "2022-03-26T07:12:56.093Z"
   },
   {
    "duration": 3534,
    "start_time": "2022-03-26T07:14:43.073Z"
   },
   {
    "duration": 5,
    "start_time": "2022-03-26T07:14:46.612Z"
   },
   {
    "duration": 60,
    "start_time": "2022-03-26T07:14:46.619Z"
   },
   {
    "duration": 4,
    "start_time": "2022-03-26T07:14:46.681Z"
   },
   {
    "duration": 13,
    "start_time": "2022-03-26T07:14:46.688Z"
   },
   {
    "duration": 99,
    "start_time": "2022-03-26T07:14:46.703Z"
   },
   {
    "duration": 10,
    "start_time": "2022-03-26T07:14:46.804Z"
   },
   {
    "duration": 12,
    "start_time": "2022-03-26T07:14:46.816Z"
   },
   {
    "duration": 21,
    "start_time": "2022-03-26T07:14:46.831Z"
   },
   {
    "duration": 39,
    "start_time": "2022-03-26T07:14:46.854Z"
   },
   {
    "duration": 23,
    "start_time": "2022-03-26T07:14:46.896Z"
   },
   {
    "duration": 35,
    "start_time": "2022-03-26T07:14:46.921Z"
   },
   {
    "duration": 28,
    "start_time": "2022-03-26T07:14:46.958Z"
   },
   {
    "duration": 16,
    "start_time": "2022-03-26T07:25:47.569Z"
   },
   {
    "duration": 15,
    "start_time": "2022-03-26T07:25:57.120Z"
   },
   {
    "duration": 15,
    "start_time": "2022-03-26T07:26:15.295Z"
   },
   {
    "duration": 24,
    "start_time": "2022-03-26T07:27:25.586Z"
   },
   {
    "duration": 20,
    "start_time": "2022-03-26T07:31:38.179Z"
   },
   {
    "duration": 16,
    "start_time": "2022-03-26T07:39:03.649Z"
   },
   {
    "duration": 13,
    "start_time": "2022-03-26T07:39:05.871Z"
   },
   {
    "duration": 7,
    "start_time": "2022-03-26T07:41:23.599Z"
   },
   {
    "duration": 4079,
    "start_time": "2022-03-26T07:42:22.587Z"
   },
   {
    "duration": 6,
    "start_time": "2022-03-26T07:42:26.670Z"
   },
   {
    "duration": 79,
    "start_time": "2022-03-26T07:42:26.679Z"
   },
   {
    "duration": 4,
    "start_time": "2022-03-26T07:42:26.762Z"
   },
   {
    "duration": 15,
    "start_time": "2022-03-26T07:42:26.769Z"
   },
   {
    "duration": 117,
    "start_time": "2022-03-26T07:42:26.787Z"
   },
   {
    "duration": 13,
    "start_time": "2022-03-26T07:42:26.907Z"
   },
   {
    "duration": 24,
    "start_time": "2022-03-26T07:42:26.922Z"
   },
   {
    "duration": 36,
    "start_time": "2022-03-26T07:42:26.949Z"
   },
   {
    "duration": 27,
    "start_time": "2022-03-26T07:42:26.989Z"
   },
   {
    "duration": 42,
    "start_time": "2022-03-26T07:42:27.018Z"
   },
   {
    "duration": 60,
    "start_time": "2022-03-26T07:42:27.062Z"
   },
   {
    "duration": 7,
    "start_time": "2022-03-26T07:42:27.125Z"
   },
   {
    "duration": 11,
    "start_time": "2022-03-26T07:42:27.134Z"
   },
   {
    "duration": 398,
    "start_time": "2022-03-26T07:42:27.147Z"
   },
   {
    "duration": 356,
    "start_time": "2022-03-26T07:42:27.548Z"
   },
   {
    "duration": 335,
    "start_time": "2022-03-26T07:42:27.907Z"
   },
   {
    "duration": 496,
    "start_time": "2022-03-26T07:42:28.244Z"
   },
   {
    "duration": 376,
    "start_time": "2022-03-26T07:42:28.744Z"
   },
   {
    "duration": 429,
    "start_time": "2022-03-26T07:42:29.122Z"
   },
   {
    "duration": 13,
    "start_time": "2022-03-26T07:42:29.553Z"
   },
   {
    "duration": 215,
    "start_time": "2022-03-26T07:42:29.569Z"
   },
   {
    "duration": 6,
    "start_time": "2022-03-26T07:42:29.787Z"
   },
   {
    "duration": 336,
    "start_time": "2022-03-26T07:42:29.795Z"
   },
   {
    "duration": 7,
    "start_time": "2022-03-26T07:42:30.134Z"
   },
   {
    "duration": 294,
    "start_time": "2022-03-26T07:42:30.143Z"
   },
   {
    "duration": 45,
    "start_time": "2022-03-26T07:42:30.439Z"
   },
   {
    "duration": 17,
    "start_time": "2022-03-26T07:42:30.488Z"
   },
   {
    "duration": 22,
    "start_time": "2022-03-26T07:42:30.507Z"
   },
   {
    "duration": 12,
    "start_time": "2022-03-26T07:42:30.532Z"
   },
   {
    "duration": 55,
    "start_time": "2022-03-26T07:42:30.546Z"
   },
   {
    "duration": 21,
    "start_time": "2022-03-26T07:42:30.604Z"
   },
   {
    "duration": 22,
    "start_time": "2022-03-26T07:42:30.627Z"
   },
   {
    "duration": 3441,
    "start_time": "2022-03-26T07:48:26.649Z"
   },
   {
    "duration": 6,
    "start_time": "2022-03-26T07:48:30.093Z"
   },
   {
    "duration": 55,
    "start_time": "2022-03-26T07:48:30.101Z"
   },
   {
    "duration": 4,
    "start_time": "2022-03-26T07:48:30.159Z"
   },
   {
    "duration": 24,
    "start_time": "2022-03-26T07:48:30.165Z"
   },
   {
    "duration": 108,
    "start_time": "2022-03-26T07:48:30.192Z"
   },
   {
    "duration": 10,
    "start_time": "2022-03-26T07:48:30.303Z"
   },
   {
    "duration": 20,
    "start_time": "2022-03-26T07:48:30.316Z"
   },
   {
    "duration": 26,
    "start_time": "2022-03-26T07:48:30.338Z"
   },
   {
    "duration": 26,
    "start_time": "2022-03-26T07:48:30.368Z"
   },
   {
    "duration": 30,
    "start_time": "2022-03-26T07:48:30.396Z"
   },
   {
    "duration": 44,
    "start_time": "2022-03-26T07:48:30.428Z"
   },
   {
    "duration": 8,
    "start_time": "2022-03-26T07:48:30.485Z"
   },
   {
    "duration": 404,
    "start_time": "2022-03-26T07:48:30.496Z"
   },
   {
    "duration": 342,
    "start_time": "2022-03-26T07:48:30.902Z"
   },
   {
    "duration": 347,
    "start_time": "2022-03-26T07:48:31.246Z"
   },
   {
    "duration": 436,
    "start_time": "2022-03-26T07:48:31.595Z"
   },
   {
    "duration": 347,
    "start_time": "2022-03-26T07:48:32.034Z"
   },
   {
    "duration": 441,
    "start_time": "2022-03-26T07:48:32.384Z"
   },
   {
    "duration": 19,
    "start_time": "2022-03-26T07:48:32.828Z"
   },
   {
    "duration": 244,
    "start_time": "2022-03-26T07:48:32.850Z"
   },
   {
    "duration": 6,
    "start_time": "2022-03-26T07:48:33.097Z"
   },
   {
    "duration": 226,
    "start_time": "2022-03-26T07:48:33.105Z"
   },
   {
    "duration": 6,
    "start_time": "2022-03-26T07:48:33.333Z"
   },
   {
    "duration": 252,
    "start_time": "2022-03-26T07:48:33.342Z"
   },
   {
    "duration": 41,
    "start_time": "2022-03-26T07:48:33.596Z"
   },
   {
    "duration": 16,
    "start_time": "2022-03-26T07:48:33.639Z"
   },
   {
    "duration": 14,
    "start_time": "2022-03-26T07:48:33.684Z"
   },
   {
    "duration": 12,
    "start_time": "2022-03-26T07:48:33.700Z"
   },
   {
    "duration": 46,
    "start_time": "2022-03-26T07:48:33.714Z"
   },
   {
    "duration": 38,
    "start_time": "2022-03-26T07:48:33.763Z"
   },
   {
    "duration": 25,
    "start_time": "2022-03-26T07:48:33.803Z"
   },
   {
    "duration": 5,
    "start_time": "2022-04-23T17:05:41.314Z"
   },
   {
    "duration": 2036,
    "start_time": "2022-04-23T17:05:41.322Z"
   },
   {
    "duration": 0,
    "start_time": "2022-04-23T17:05:43.439Z"
   },
   {
    "duration": 0,
    "start_time": "2022-04-23T17:05:43.441Z"
   },
   {
    "duration": 0,
    "start_time": "2022-04-23T17:05:43.443Z"
   },
   {
    "duration": 0,
    "start_time": "2022-04-23T17:05:43.452Z"
   },
   {
    "duration": 0,
    "start_time": "2022-04-23T17:05:43.454Z"
   },
   {
    "duration": 0,
    "start_time": "2022-04-23T17:05:43.456Z"
   },
   {
    "duration": 0,
    "start_time": "2022-04-23T17:05:43.458Z"
   },
   {
    "duration": 0,
    "start_time": "2022-04-23T17:05:43.460Z"
   },
   {
    "duration": 0,
    "start_time": "2022-04-23T17:05:43.462Z"
   },
   {
    "duration": 0,
    "start_time": "2022-04-23T17:05:43.464Z"
   },
   {
    "duration": 0,
    "start_time": "2022-04-23T17:05:43.466Z"
   },
   {
    "duration": 1,
    "start_time": "2022-04-23T17:05:43.468Z"
   },
   {
    "duration": 0,
    "start_time": "2022-04-23T17:05:43.470Z"
   },
   {
    "duration": 0,
    "start_time": "2022-04-23T17:05:43.472Z"
   },
   {
    "duration": 0,
    "start_time": "2022-04-23T17:05:43.474Z"
   },
   {
    "duration": 0,
    "start_time": "2022-04-23T17:05:43.476Z"
   },
   {
    "duration": 0,
    "start_time": "2022-04-23T17:05:43.478Z"
   },
   {
    "duration": 0,
    "start_time": "2022-04-23T17:05:43.480Z"
   },
   {
    "duration": 0,
    "start_time": "2022-04-23T17:05:43.481Z"
   },
   {
    "duration": 0,
    "start_time": "2022-04-23T17:05:43.483Z"
   },
   {
    "duration": 0,
    "start_time": "2022-04-23T17:05:43.488Z"
   },
   {
    "duration": 0,
    "start_time": "2022-04-23T17:05:43.489Z"
   },
   {
    "duration": 0,
    "start_time": "2022-04-23T17:05:43.567Z"
   },
   {
    "duration": 0,
    "start_time": "2022-04-23T17:05:43.569Z"
   },
   {
    "duration": 0,
    "start_time": "2022-04-23T17:05:43.570Z"
   },
   {
    "duration": 334,
    "start_time": "2022-04-23T17:12:53.404Z"
   },
   {
    "duration": 308,
    "start_time": "2022-04-23T17:12:55.830Z"
   },
   {
    "duration": 4,
    "start_time": "2022-04-23T17:12:56.651Z"
   },
   {
    "duration": 20,
    "start_time": "2022-04-23T17:12:57.260Z"
   },
   {
    "duration": 34,
    "start_time": "2022-04-23T17:12:57.956Z"
   },
   {
    "duration": 12546,
    "start_time": "2022-04-23T17:13:15.202Z"
   },
   {
    "duration": 2260,
    "start_time": "2022-04-23T17:13:55.473Z"
   },
   {
    "duration": 200,
    "start_time": "2022-04-23T17:13:57.736Z"
   },
   {
    "duration": 4,
    "start_time": "2022-04-23T17:13:57.939Z"
   },
   {
    "duration": 12,
    "start_time": "2022-04-23T17:13:57.944Z"
   },
   {
    "duration": 170,
    "start_time": "2022-04-23T17:13:57.960Z"
   },
   {
    "duration": 4,
    "start_time": "2022-04-23T17:13:58.133Z"
   },
   {
    "duration": 168,
    "start_time": "2022-04-23T17:13:58.139Z"
   },
   {
    "duration": 240,
    "start_time": "2022-04-23T17:13:58.310Z"
   },
   {
    "duration": 201,
    "start_time": "2022-04-23T17:13:58.552Z"
   },
   {
    "duration": 26496,
    "start_time": "2022-04-23T17:13:58.756Z"
   },
   {
    "duration": 98,
    "start_time": "2022-04-23T17:14:25.255Z"
   },
   {
    "duration": 18,
    "start_time": "2022-04-23T17:14:25.355Z"
   },
   {
    "duration": 6,
    "start_time": "2022-04-23T17:14:25.376Z"
   },
   {
    "duration": 97,
    "start_time": "2022-04-23T17:14:25.386Z"
   },
   {
    "duration": 194,
    "start_time": "2022-04-23T17:14:25.485Z"
   },
   {
    "duration": 14,
    "start_time": "2022-04-23T17:14:25.682Z"
   },
   {
    "duration": 14,
    "start_time": "2022-04-23T17:14:25.753Z"
   },
   {
    "duration": 123,
    "start_time": "2022-04-23T17:14:25.769Z"
   },
   {
    "duration": 265,
    "start_time": "2022-04-23T17:14:25.895Z"
   },
   {
    "duration": 7,
    "start_time": "2022-04-23T17:14:26.163Z"
   },
   {
    "duration": 202,
    "start_time": "2022-04-23T17:14:26.173Z"
   },
   {
    "duration": 323,
    "start_time": "2022-04-23T17:14:26.378Z"
   },
   {
    "duration": 6,
    "start_time": "2022-04-23T17:14:26.704Z"
   },
   {
    "duration": 85,
    "start_time": "2022-04-23T17:14:26.712Z"
   },
   {
    "duration": 151,
    "start_time": "2022-04-23T17:14:26.800Z"
   },
   {
    "duration": 64,
    "start_time": "2022-04-23T17:14:26.954Z"
   },
   {
    "duration": 20,
    "start_time": "2022-04-23T17:20:57.280Z"
   },
   {
    "duration": 1339,
    "start_time": "2022-04-24T14:45:00.189Z"
   },
   {
    "duration": 0,
    "start_time": "2022-04-24T14:45:01.583Z"
   },
   {
    "duration": 0,
    "start_time": "2022-04-24T14:45:01.585Z"
   },
   {
    "duration": 0,
    "start_time": "2022-04-24T14:45:01.586Z"
   },
   {
    "duration": 0,
    "start_time": "2022-04-24T14:45:01.588Z"
   },
   {
    "duration": 0,
    "start_time": "2022-04-24T14:45:01.592Z"
   },
   {
    "duration": 0,
    "start_time": "2022-04-24T14:45:01.594Z"
   },
   {
    "duration": 0,
    "start_time": "2022-04-24T14:45:01.595Z"
   },
   {
    "duration": 0,
    "start_time": "2022-04-24T14:45:01.597Z"
   },
   {
    "duration": 0,
    "start_time": "2022-04-24T14:45:01.599Z"
   },
   {
    "duration": 0,
    "start_time": "2022-04-24T14:45:01.601Z"
   },
   {
    "duration": 0,
    "start_time": "2022-04-24T14:45:01.602Z"
   },
   {
    "duration": 0,
    "start_time": "2022-04-24T14:45:01.604Z"
   },
   {
    "duration": 0,
    "start_time": "2022-04-24T14:45:01.606Z"
   },
   {
    "duration": 0,
    "start_time": "2022-04-24T14:45:01.607Z"
   },
   {
    "duration": 0,
    "start_time": "2022-04-24T14:45:01.609Z"
   },
   {
    "duration": 0,
    "start_time": "2022-04-24T14:45:01.610Z"
   },
   {
    "duration": 0,
    "start_time": "2022-04-24T14:45:01.611Z"
   },
   {
    "duration": 0,
    "start_time": "2022-04-24T14:45:01.613Z"
   },
   {
    "duration": 0,
    "start_time": "2022-04-24T14:45:01.615Z"
   },
   {
    "duration": 0,
    "start_time": "2022-04-24T14:45:01.616Z"
   },
   {
    "duration": 0,
    "start_time": "2022-04-24T14:45:01.617Z"
   },
   {
    "duration": 0,
    "start_time": "2022-04-24T14:45:01.619Z"
   },
   {
    "duration": 0,
    "start_time": "2022-04-24T14:45:01.621Z"
   },
   {
    "duration": 0,
    "start_time": "2022-04-24T14:45:01.622Z"
   },
   {
    "duration": 0,
    "start_time": "2022-04-24T14:45:01.624Z"
   },
   {
    "duration": 0,
    "start_time": "2022-04-24T14:45:01.625Z"
   },
   {
    "duration": 0,
    "start_time": "2022-04-24T14:45:01.627Z"
   },
   {
    "duration": 8361,
    "start_time": "2022-04-24T14:45:13.855Z"
   },
   {
    "duration": 1231,
    "start_time": "2022-04-24T14:46:02.325Z"
   },
   {
    "duration": 151,
    "start_time": "2022-04-24T14:46:03.559Z"
   },
   {
    "duration": 3,
    "start_time": "2022-04-24T14:46:03.711Z"
   },
   {
    "duration": 16,
    "start_time": "2022-04-24T14:46:03.716Z"
   },
   {
    "duration": 121,
    "start_time": "2022-04-24T14:46:03.735Z"
   },
   {
    "duration": 4,
    "start_time": "2022-04-24T14:46:03.858Z"
   },
   {
    "duration": 106,
    "start_time": "2022-04-24T14:46:03.864Z"
   },
   {
    "duration": 110,
    "start_time": "2022-04-24T14:46:03.971Z"
   },
   {
    "duration": 131,
    "start_time": "2022-04-24T14:46:04.083Z"
   },
   {
    "duration": 14976,
    "start_time": "2022-04-24T14:46:04.217Z"
   },
   {
    "duration": 2,
    "start_time": "2022-04-24T14:46:19.195Z"
   },
   {
    "duration": 37,
    "start_time": "2022-04-24T14:46:19.199Z"
   },
   {
    "duration": 72,
    "start_time": "2022-04-24T14:46:19.238Z"
   },
   {
    "duration": 5,
    "start_time": "2022-04-24T14:46:19.313Z"
   },
   {
    "duration": 84,
    "start_time": "2022-04-24T14:46:19.319Z"
   },
   {
    "duration": 118,
    "start_time": "2022-04-24T14:46:19.404Z"
   },
   {
    "duration": 69,
    "start_time": "2022-04-24T14:46:19.524Z"
   },
   {
    "duration": 9,
    "start_time": "2022-04-24T14:46:19.595Z"
   },
   {
    "duration": 89,
    "start_time": "2022-04-24T14:46:19.606Z"
   },
   {
    "duration": 5,
    "start_time": "2022-04-24T14:46:19.697Z"
   },
   {
    "duration": 94,
    "start_time": "2022-04-24T14:46:19.703Z"
   },
   {
    "duration": 102,
    "start_time": "2022-04-24T14:46:19.799Z"
   },
   {
    "duration": 147,
    "start_time": "2022-04-24T14:46:19.903Z"
   },
   {
    "duration": 210,
    "start_time": "2022-04-24T14:46:20.052Z"
   },
   {
    "duration": 4,
    "start_time": "2022-04-24T14:46:20.264Z"
   },
   {
    "duration": 31,
    "start_time": "2022-04-24T14:46:20.269Z"
   },
   {
    "duration": 28,
    "start_time": "2022-04-24T14:46:20.301Z"
   },
   {
    "duration": 16,
    "start_time": "2022-04-24T14:46:20.331Z"
   },
   {
    "duration": 14,
    "start_time": "2022-04-24T14:47:31.726Z"
   },
   {
    "duration": 5903,
    "start_time": "2022-04-24T14:47:44.460Z"
   },
   {
    "duration": 26,
    "start_time": "2022-04-24T14:49:44.409Z"
   },
   {
    "duration": 159,
    "start_time": "2022-04-24T14:50:26.913Z"
   },
   {
    "duration": 15,
    "start_time": "2022-04-24T14:50:29.558Z"
   },
   {
    "duration": 40,
    "start_time": "2022-04-24T14:50:52.691Z"
   },
   {
    "duration": 6425,
    "start_time": "2022-04-24T14:51:51.137Z"
   },
   {
    "duration": 6319,
    "start_time": "2022-04-24T14:52:05.248Z"
   },
   {
    "duration": 1158,
    "start_time": "2022-04-24T14:53:12.913Z"
   },
   {
    "duration": 1553,
    "start_time": "2022-04-24T14:53:24.971Z"
   },
   {
    "duration": 1162,
    "start_time": "2022-04-24T14:53:30.659Z"
   },
   {
    "duration": 1140,
    "start_time": "2022-04-24T14:53:37.802Z"
   },
   {
    "duration": 1439,
    "start_time": "2022-04-24T14:53:42.294Z"
   },
   {
    "duration": 1437,
    "start_time": "2022-04-24T14:54:04.355Z"
   },
   {
    "duration": 6122,
    "start_time": "2022-04-24T14:54:42.684Z"
   },
   {
    "duration": 6646,
    "start_time": "2022-04-24T14:55:36.163Z"
   }
  ],
  "kernelspec": {
   "display_name": "Python 3",
   "language": "python",
   "name": "python3"
  },
  "language_info": {
   "codemirror_mode": {
    "name": "ipython",
    "version": 3
   },
   "file_extension": ".py",
   "mimetype": "text/x-python",
   "name": "python",
   "nbconvert_exporter": "python",
   "pygments_lexer": "ipython3",
   "version": "3.8.8"
  },
  "toc": {
   "base_numbering": 1,
   "nav_menu": {},
   "number_sections": true,
   "sideBar": true,
   "skip_h1_title": true,
   "title_cell": "Table of Contents",
   "title_sidebar": "Contents",
   "toc_cell": false,
   "toc_position": {},
   "toc_section_display": true,
   "toc_window_display": true
  }
 },
 "nbformat": 4,
 "nbformat_minor": 4
}
