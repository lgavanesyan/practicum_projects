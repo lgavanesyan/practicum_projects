{
 "cells": [
  {
   "cell_type": "markdown",
   "metadata": {},
   "source": [
    "# Исследование тарифных планов\n",
    "\n",
    "«Мегалайн» — федеральный оператор сотовой связи. Клиентам предлагают два тарифных плана: «Смарт» и «Ультра». Чтобы скорректировать рекламный бюджет, коммерческий департамент хочет понять, какой тариф приносит больше денег.\n",
    "\n",
    "В распоряжении данные 500 пользователей «Мегалайна»: кто они, откуда, каким тарифом пользуются, сколько звонков и сообщений каждый отправил за 2018 год. Нужно проанализировать поведение клиентов и сделать вывод — какой тариф лучше."
   ]
  },
  {
   "cell_type": "markdown",
   "metadata": {},
   "source": [
    "### Описание тарифов\n",
    "| Тариф             | Смарт               | Ультра  |\n",
    "| :-----------------|:--------------------| :-------|\n",
    "| Ежемесячная плата| 550 р. | 1950 р. |\n",
    "| План     | 500 мин, 50 смс, 15 Гб      |   3000 мин, 1000 смс, 30 ГБ   |\n",
    "| Стоимость услуг сверх плана* | мин - 3 р.; смс - 3 р.; 1 ГБ - 200 р. | мин - 1 р.; смс - 1 р.; 1 ГБ - 150 р.|\n",
    "\n",
    "*«Мегалайн» всегда округляет вверх значения минут и мегабайтов. Если пользователь проговорил всего 1 секунду, в тарифе засчитывается целая минута. Для веб-трафика отдельные сессии не считаются. Вместо этого общая сумма за месяц округляется в бо́льшую сторону. Если абонент использует 1025 мегабайт в этом месяце, с него возьмут плату за 2 гигабайта."
   ]
  },
  {
   "cell_type": "markdown",
   "metadata": {},
   "source": [
    "## Содержание\n",
    "1. [Изучение данных](#data1)\n",
    "2. [Подготовка данных к анализу](#data2)\n",
    "3. [Анализ данных](#analysis)\n",
    "4. [Проверка гипотез](#hypotheses)\n",
    "5. [Общий вывод](#results)"
   ]
  },
  {
   "cell_type": "markdown",
   "metadata": {},
   "source": [
    "## Изучение данных <a name=\"data1\"></a>"
   ]
  },
  {
   "cell_type": "code",
   "execution_count": 1,
   "metadata": {},
   "outputs": [],
   "source": [
    "import pandas as pd\n",
    "import matplotlib.pyplot as plt\n",
    "import numpy as np\n",
    "from scipy import stats as st\n",
    "\n",
    "import warnings\n",
    "warnings.filterwarnings('ignore')"
   ]
  },
  {
   "cell_type": "code",
   "execution_count": 2,
   "metadata": {},
   "outputs": [
    {
     "name": "stdout",
     "output_type": "stream",
     "text": [
      "<class 'pandas.core.frame.DataFrame'>\n",
      "RangeIndex: 202607 entries, 0 to 202606\n",
      "Data columns (total 4 columns):\n",
      " #   Column     Non-Null Count   Dtype  \n",
      "---  ------     --------------   -----  \n",
      " 0   id         202607 non-null  object \n",
      " 1   call_date  202607 non-null  object \n",
      " 2   duration   202607 non-null  float64\n",
      " 3   user_id    202607 non-null  int64  \n",
      "dtypes: float64(1), int64(1), object(2)\n",
      "memory usage: 6.2+ MB\n"
     ]
    },
    {
     "data": {
      "text/plain": [
       "None"
      ]
     },
     "metadata": {},
     "output_type": "display_data"
    },
    {
     "data": {
      "text/html": [
       "<div>\n",
       "<style scoped>\n",
       "    .dataframe tbody tr th:only-of-type {\n",
       "        vertical-align: middle;\n",
       "    }\n",
       "\n",
       "    .dataframe tbody tr th {\n",
       "        vertical-align: top;\n",
       "    }\n",
       "\n",
       "    .dataframe thead th {\n",
       "        text-align: right;\n",
       "    }\n",
       "</style>\n",
       "<table border=\"1\" class=\"dataframe\">\n",
       "  <thead>\n",
       "    <tr style=\"text-align: right;\">\n",
       "      <th></th>\n",
       "      <th>id</th>\n",
       "      <th>call_date</th>\n",
       "      <th>duration</th>\n",
       "      <th>user_id</th>\n",
       "    </tr>\n",
       "  </thead>\n",
       "  <tbody>\n",
       "    <tr>\n",
       "      <th>0</th>\n",
       "      <td>1000_0</td>\n",
       "      <td>2018-07-25</td>\n",
       "      <td>0.00</td>\n",
       "      <td>1000</td>\n",
       "    </tr>\n",
       "    <tr>\n",
       "      <th>1</th>\n",
       "      <td>1000_1</td>\n",
       "      <td>2018-08-17</td>\n",
       "      <td>0.00</td>\n",
       "      <td>1000</td>\n",
       "    </tr>\n",
       "    <tr>\n",
       "      <th>2</th>\n",
       "      <td>1000_2</td>\n",
       "      <td>2018-06-11</td>\n",
       "      <td>2.85</td>\n",
       "      <td>1000</td>\n",
       "    </tr>\n",
       "    <tr>\n",
       "      <th>3</th>\n",
       "      <td>1000_3</td>\n",
       "      <td>2018-09-21</td>\n",
       "      <td>13.80</td>\n",
       "      <td>1000</td>\n",
       "    </tr>\n",
       "    <tr>\n",
       "      <th>4</th>\n",
       "      <td>1000_4</td>\n",
       "      <td>2018-12-15</td>\n",
       "      <td>5.18</td>\n",
       "      <td>1000</td>\n",
       "    </tr>\n",
       "  </tbody>\n",
       "</table>\n",
       "</div>"
      ],
      "text/plain": [
       "       id   call_date  duration  user_id\n",
       "0  1000_0  2018-07-25      0.00     1000\n",
       "1  1000_1  2018-08-17      0.00     1000\n",
       "2  1000_2  2018-06-11      2.85     1000\n",
       "3  1000_3  2018-09-21     13.80     1000\n",
       "4  1000_4  2018-12-15      5.18     1000"
      ]
     },
     "metadata": {},
     "output_type": "display_data"
    },
    {
     "data": {
      "text/plain": [
       "0"
      ]
     },
     "execution_count": 2,
     "metadata": {},
     "output_type": "execute_result"
    }
   ],
   "source": [
    "# opening file calls\n",
    "try:\n",
    "    df_calls = pd.read_csv('/datasets/calls.csv') # Yandex path\n",
    "except:\n",
    "    df_calls = pd.read_csv('calls.csv') # personal path\n",
    "\n",
    "display(df_calls.info())\n",
    "display(df_calls.head())\n",
    "\n",
    "# checking for duplicates\n",
    "df_calls.duplicated().sum()"
   ]
  },
  {
   "cell_type": "code",
   "execution_count": 3,
   "metadata": {
    "scrolled": true
   },
   "outputs": [
    {
     "name": "stdout",
     "output_type": "stream",
     "text": [
      "<class 'pandas.core.frame.DataFrame'>\n",
      "RangeIndex: 149396 entries, 0 to 149395\n",
      "Data columns (total 5 columns):\n",
      " #   Column        Non-Null Count   Dtype  \n",
      "---  ------        --------------   -----  \n",
      " 0   Unnamed: 0    149396 non-null  int64  \n",
      " 1   id            149396 non-null  object \n",
      " 2   mb_used       149396 non-null  float64\n",
      " 3   session_date  149396 non-null  object \n",
      " 4   user_id       149396 non-null  int64  \n",
      "dtypes: float64(1), int64(2), object(2)\n",
      "memory usage: 5.7+ MB\n"
     ]
    },
    {
     "data": {
      "text/plain": [
       "None"
      ]
     },
     "metadata": {},
     "output_type": "display_data"
    },
    {
     "data": {
      "text/html": [
       "<div>\n",
       "<style scoped>\n",
       "    .dataframe tbody tr th:only-of-type {\n",
       "        vertical-align: middle;\n",
       "    }\n",
       "\n",
       "    .dataframe tbody tr th {\n",
       "        vertical-align: top;\n",
       "    }\n",
       "\n",
       "    .dataframe thead th {\n",
       "        text-align: right;\n",
       "    }\n",
       "</style>\n",
       "<table border=\"1\" class=\"dataframe\">\n",
       "  <thead>\n",
       "    <tr style=\"text-align: right;\">\n",
       "      <th></th>\n",
       "      <th>Unnamed: 0</th>\n",
       "      <th>id</th>\n",
       "      <th>mb_used</th>\n",
       "      <th>session_date</th>\n",
       "      <th>user_id</th>\n",
       "    </tr>\n",
       "  </thead>\n",
       "  <tbody>\n",
       "    <tr>\n",
       "      <th>0</th>\n",
       "      <td>0</td>\n",
       "      <td>1000_0</td>\n",
       "      <td>112.95</td>\n",
       "      <td>2018-11-25</td>\n",
       "      <td>1000</td>\n",
       "    </tr>\n",
       "    <tr>\n",
       "      <th>1</th>\n",
       "      <td>1</td>\n",
       "      <td>1000_1</td>\n",
       "      <td>1052.81</td>\n",
       "      <td>2018-09-07</td>\n",
       "      <td>1000</td>\n",
       "    </tr>\n",
       "    <tr>\n",
       "      <th>2</th>\n",
       "      <td>2</td>\n",
       "      <td>1000_2</td>\n",
       "      <td>1197.26</td>\n",
       "      <td>2018-06-25</td>\n",
       "      <td>1000</td>\n",
       "    </tr>\n",
       "    <tr>\n",
       "      <th>3</th>\n",
       "      <td>3</td>\n",
       "      <td>1000_3</td>\n",
       "      <td>550.27</td>\n",
       "      <td>2018-08-22</td>\n",
       "      <td>1000</td>\n",
       "    </tr>\n",
       "    <tr>\n",
       "      <th>4</th>\n",
       "      <td>4</td>\n",
       "      <td>1000_4</td>\n",
       "      <td>302.56</td>\n",
       "      <td>2018-09-24</td>\n",
       "      <td>1000</td>\n",
       "    </tr>\n",
       "  </tbody>\n",
       "</table>\n",
       "</div>"
      ],
      "text/plain": [
       "   Unnamed: 0      id  mb_used session_date  user_id\n",
       "0           0  1000_0   112.95   2018-11-25     1000\n",
       "1           1  1000_1  1052.81   2018-09-07     1000\n",
       "2           2  1000_2  1197.26   2018-06-25     1000\n",
       "3           3  1000_3   550.27   2018-08-22     1000\n",
       "4           4  1000_4   302.56   2018-09-24     1000"
      ]
     },
     "metadata": {},
     "output_type": "display_data"
    },
    {
     "data": {
      "text/plain": [
       "0"
      ]
     },
     "execution_count": 3,
     "metadata": {},
     "output_type": "execute_result"
    }
   ],
   "source": [
    "# opening file internet\n",
    "try:\n",
    "    df_internet = pd.read_csv('/datasets/internet.csv') # Yandex path\n",
    "except:\n",
    "    df_internet = pd.read_csv('internet.csv') # personal path\n",
    "\n",
    "display(df_internet.info())\n",
    "display(df_internet.head())\n",
    "\n",
    "# checking for duplicates\n",
    "df_internet.duplicated().sum()"
   ]
  },
  {
   "cell_type": "code",
   "execution_count": 4,
   "metadata": {},
   "outputs": [
    {
     "name": "stdout",
     "output_type": "stream",
     "text": [
      "<class 'pandas.core.frame.DataFrame'>\n",
      "RangeIndex: 123036 entries, 0 to 123035\n",
      "Data columns (total 3 columns):\n",
      " #   Column        Non-Null Count   Dtype \n",
      "---  ------        --------------   ----- \n",
      " 0   id            123036 non-null  object\n",
      " 1   message_date  123036 non-null  object\n",
      " 2   user_id       123036 non-null  int64 \n",
      "dtypes: int64(1), object(2)\n",
      "memory usage: 2.8+ MB\n"
     ]
    },
    {
     "data": {
      "text/plain": [
       "None"
      ]
     },
     "metadata": {},
     "output_type": "display_data"
    },
    {
     "data": {
      "text/html": [
       "<div>\n",
       "<style scoped>\n",
       "    .dataframe tbody tr th:only-of-type {\n",
       "        vertical-align: middle;\n",
       "    }\n",
       "\n",
       "    .dataframe tbody tr th {\n",
       "        vertical-align: top;\n",
       "    }\n",
       "\n",
       "    .dataframe thead th {\n",
       "        text-align: right;\n",
       "    }\n",
       "</style>\n",
       "<table border=\"1\" class=\"dataframe\">\n",
       "  <thead>\n",
       "    <tr style=\"text-align: right;\">\n",
       "      <th></th>\n",
       "      <th>id</th>\n",
       "      <th>message_date</th>\n",
       "      <th>user_id</th>\n",
       "    </tr>\n",
       "  </thead>\n",
       "  <tbody>\n",
       "    <tr>\n",
       "      <th>0</th>\n",
       "      <td>1000_0</td>\n",
       "      <td>2018-06-27</td>\n",
       "      <td>1000</td>\n",
       "    </tr>\n",
       "    <tr>\n",
       "      <th>1</th>\n",
       "      <td>1000_1</td>\n",
       "      <td>2018-10-08</td>\n",
       "      <td>1000</td>\n",
       "    </tr>\n",
       "    <tr>\n",
       "      <th>2</th>\n",
       "      <td>1000_2</td>\n",
       "      <td>2018-08-04</td>\n",
       "      <td>1000</td>\n",
       "    </tr>\n",
       "    <tr>\n",
       "      <th>3</th>\n",
       "      <td>1000_3</td>\n",
       "      <td>2018-06-16</td>\n",
       "      <td>1000</td>\n",
       "    </tr>\n",
       "    <tr>\n",
       "      <th>4</th>\n",
       "      <td>1000_4</td>\n",
       "      <td>2018-12-05</td>\n",
       "      <td>1000</td>\n",
       "    </tr>\n",
       "  </tbody>\n",
       "</table>\n",
       "</div>"
      ],
      "text/plain": [
       "       id message_date  user_id\n",
       "0  1000_0   2018-06-27     1000\n",
       "1  1000_1   2018-10-08     1000\n",
       "2  1000_2   2018-08-04     1000\n",
       "3  1000_3   2018-06-16     1000\n",
       "4  1000_4   2018-12-05     1000"
      ]
     },
     "metadata": {},
     "output_type": "display_data"
    },
    {
     "data": {
      "text/plain": [
       "0"
      ]
     },
     "execution_count": 4,
     "metadata": {},
     "output_type": "execute_result"
    }
   ],
   "source": [
    "# opening file messages\n",
    "try:\n",
    "    df_messages = pd.read_csv('/datasets/messages.csv') # Yandex path\n",
    "except:\n",
    "    df_messages = pd.read_csv('messages.csv') # personal path\n",
    "\n",
    "display(df_messages.info())\n",
    "display(df_messages.head())\n",
    "\n",
    "# checking for duplicates\n",
    "df_messages.duplicated().sum()"
   ]
  },
  {
   "cell_type": "code",
   "execution_count": 5,
   "metadata": {
    "scrolled": true
   },
   "outputs": [
    {
     "name": "stdout",
     "output_type": "stream",
     "text": [
      "<class 'pandas.core.frame.DataFrame'>\n",
      "RangeIndex: 2 entries, 0 to 1\n",
      "Data columns (total 8 columns):\n",
      " #   Column                 Non-Null Count  Dtype \n",
      "---  ------                 --------------  ----- \n",
      " 0   messages_included      2 non-null      int64 \n",
      " 1   mb_per_month_included  2 non-null      int64 \n",
      " 2   minutes_included       2 non-null      int64 \n",
      " 3   rub_monthly_fee        2 non-null      int64 \n",
      " 4   rub_per_gb             2 non-null      int64 \n",
      " 5   rub_per_message        2 non-null      int64 \n",
      " 6   rub_per_minute         2 non-null      int64 \n",
      " 7   tariff_name            2 non-null      object\n",
      "dtypes: int64(7), object(1)\n",
      "memory usage: 256.0+ bytes\n"
     ]
    },
    {
     "data": {
      "text/plain": [
       "None"
      ]
     },
     "metadata": {},
     "output_type": "display_data"
    },
    {
     "data": {
      "text/html": [
       "<div>\n",
       "<style scoped>\n",
       "    .dataframe tbody tr th:only-of-type {\n",
       "        vertical-align: middle;\n",
       "    }\n",
       "\n",
       "    .dataframe tbody tr th {\n",
       "        vertical-align: top;\n",
       "    }\n",
       "\n",
       "    .dataframe thead th {\n",
       "        text-align: right;\n",
       "    }\n",
       "</style>\n",
       "<table border=\"1\" class=\"dataframe\">\n",
       "  <thead>\n",
       "    <tr style=\"text-align: right;\">\n",
       "      <th></th>\n",
       "      <th>messages_included</th>\n",
       "      <th>mb_per_month_included</th>\n",
       "      <th>minutes_included</th>\n",
       "      <th>rub_monthly_fee</th>\n",
       "      <th>rub_per_gb</th>\n",
       "      <th>rub_per_message</th>\n",
       "      <th>rub_per_minute</th>\n",
       "      <th>tariff_name</th>\n",
       "    </tr>\n",
       "  </thead>\n",
       "  <tbody>\n",
       "    <tr>\n",
       "      <th>0</th>\n",
       "      <td>50</td>\n",
       "      <td>15360</td>\n",
       "      <td>500</td>\n",
       "      <td>550</td>\n",
       "      <td>200</td>\n",
       "      <td>3</td>\n",
       "      <td>3</td>\n",
       "      <td>smart</td>\n",
       "    </tr>\n",
       "    <tr>\n",
       "      <th>1</th>\n",
       "      <td>1000</td>\n",
       "      <td>30720</td>\n",
       "      <td>3000</td>\n",
       "      <td>1950</td>\n",
       "      <td>150</td>\n",
       "      <td>1</td>\n",
       "      <td>1</td>\n",
       "      <td>ultra</td>\n",
       "    </tr>\n",
       "  </tbody>\n",
       "</table>\n",
       "</div>"
      ],
      "text/plain": [
       "   messages_included  mb_per_month_included  minutes_included  \\\n",
       "0                 50                  15360               500   \n",
       "1               1000                  30720              3000   \n",
       "\n",
       "   rub_monthly_fee  rub_per_gb  rub_per_message  rub_per_minute tariff_name  \n",
       "0              550         200                3               3       smart  \n",
       "1             1950         150                1               1       ultra  "
      ]
     },
     "execution_count": 5,
     "metadata": {},
     "output_type": "execute_result"
    }
   ],
   "source": [
    "# opening file tariffs\n",
    "try:\n",
    "    df_tariffs = pd.read_csv('/datasets/tariffs.csv') # Yandex path\n",
    "except:\n",
    "    df_tariffs = pd.read_csv('tariffs.csv') # personal path\n",
    "\n",
    "display(df_tariffs.info())\n",
    "df_tariffs.head()"
   ]
  },
  {
   "cell_type": "code",
   "execution_count": 6,
   "metadata": {},
   "outputs": [
    {
     "name": "stdout",
     "output_type": "stream",
     "text": [
      "<class 'pandas.core.frame.DataFrame'>\n",
      "RangeIndex: 500 entries, 0 to 499\n",
      "Data columns (total 8 columns):\n",
      " #   Column      Non-Null Count  Dtype \n",
      "---  ------      --------------  ----- \n",
      " 0   user_id     500 non-null    int64 \n",
      " 1   age         500 non-null    int64 \n",
      " 2   churn_date  38 non-null     object\n",
      " 3   city        500 non-null    object\n",
      " 4   first_name  500 non-null    object\n",
      " 5   last_name   500 non-null    object\n",
      " 6   reg_date    500 non-null    object\n",
      " 7   tariff      500 non-null    object\n",
      "dtypes: int64(2), object(6)\n",
      "memory usage: 31.4+ KB\n"
     ]
    },
    {
     "data": {
      "text/plain": [
       "None"
      ]
     },
     "metadata": {},
     "output_type": "display_data"
    },
    {
     "data": {
      "text/html": [
       "<div>\n",
       "<style scoped>\n",
       "    .dataframe tbody tr th:only-of-type {\n",
       "        vertical-align: middle;\n",
       "    }\n",
       "\n",
       "    .dataframe tbody tr th {\n",
       "        vertical-align: top;\n",
       "    }\n",
       "\n",
       "    .dataframe thead th {\n",
       "        text-align: right;\n",
       "    }\n",
       "</style>\n",
       "<table border=\"1\" class=\"dataframe\">\n",
       "  <thead>\n",
       "    <tr style=\"text-align: right;\">\n",
       "      <th></th>\n",
       "      <th>user_id</th>\n",
       "      <th>age</th>\n",
       "      <th>churn_date</th>\n",
       "      <th>city</th>\n",
       "      <th>first_name</th>\n",
       "      <th>last_name</th>\n",
       "      <th>reg_date</th>\n",
       "      <th>tariff</th>\n",
       "    </tr>\n",
       "  </thead>\n",
       "  <tbody>\n",
       "    <tr>\n",
       "      <th>0</th>\n",
       "      <td>1000</td>\n",
       "      <td>52</td>\n",
       "      <td>NaN</td>\n",
       "      <td>Краснодар</td>\n",
       "      <td>Рафаил</td>\n",
       "      <td>Верещагин</td>\n",
       "      <td>2018-05-25</td>\n",
       "      <td>ultra</td>\n",
       "    </tr>\n",
       "    <tr>\n",
       "      <th>1</th>\n",
       "      <td>1001</td>\n",
       "      <td>41</td>\n",
       "      <td>NaN</td>\n",
       "      <td>Москва</td>\n",
       "      <td>Иван</td>\n",
       "      <td>Ежов</td>\n",
       "      <td>2018-11-01</td>\n",
       "      <td>smart</td>\n",
       "    </tr>\n",
       "    <tr>\n",
       "      <th>2</th>\n",
       "      <td>1002</td>\n",
       "      <td>59</td>\n",
       "      <td>NaN</td>\n",
       "      <td>Стерлитамак</td>\n",
       "      <td>Евгений</td>\n",
       "      <td>Абрамович</td>\n",
       "      <td>2018-06-17</td>\n",
       "      <td>smart</td>\n",
       "    </tr>\n",
       "    <tr>\n",
       "      <th>3</th>\n",
       "      <td>1003</td>\n",
       "      <td>23</td>\n",
       "      <td>NaN</td>\n",
       "      <td>Москва</td>\n",
       "      <td>Белла</td>\n",
       "      <td>Белякова</td>\n",
       "      <td>2018-08-17</td>\n",
       "      <td>ultra</td>\n",
       "    </tr>\n",
       "    <tr>\n",
       "      <th>4</th>\n",
       "      <td>1004</td>\n",
       "      <td>68</td>\n",
       "      <td>NaN</td>\n",
       "      <td>Новокузнецк</td>\n",
       "      <td>Татьяна</td>\n",
       "      <td>Авдеенко</td>\n",
       "      <td>2018-05-14</td>\n",
       "      <td>ultra</td>\n",
       "    </tr>\n",
       "  </tbody>\n",
       "</table>\n",
       "</div>"
      ],
      "text/plain": [
       "   user_id  age churn_date         city first_name  last_name    reg_date  \\\n",
       "0     1000   52        NaN    Краснодар     Рафаил  Верещагин  2018-05-25   \n",
       "1     1001   41        NaN       Москва       Иван       Ежов  2018-11-01   \n",
       "2     1002   59        NaN  Стерлитамак    Евгений  Абрамович  2018-06-17   \n",
       "3     1003   23        NaN       Москва      Белла   Белякова  2018-08-17   \n",
       "4     1004   68        NaN  Новокузнецк    Татьяна   Авдеенко  2018-05-14   \n",
       "\n",
       "  tariff  \n",
       "0  ultra  \n",
       "1  smart  \n",
       "2  smart  \n",
       "3  ultra  \n",
       "4  ultra  "
      ]
     },
     "metadata": {},
     "output_type": "display_data"
    },
    {
     "data": {
      "text/plain": [
       "0"
      ]
     },
     "execution_count": 6,
     "metadata": {},
     "output_type": "execute_result"
    }
   ],
   "source": [
    "# opening file users\n",
    "try:\n",
    "    df_users = pd.read_csv('/datasets/users.csv') # Yandex path\n",
    "except:\n",
    "    df_users = pd.read_csv('users.csv') # personal path\n",
    "\n",
    "display(df_users.info())\n",
    "display(df_users.head())\n",
    "\n",
    "# checking for duplicates\n",
    "df_users.duplicated().sum()"
   ]
  },
  {
   "cell_type": "markdown",
   "metadata": {},
   "source": [
    "#### Вывод "
   ]
  },
  {
   "cell_type": "markdown",
   "metadata": {},
   "source": [
    "- Данные для анализа собраны в 5 разных датафреймах, для дальнейшей обработки необходимо будет собрать все данные в один датафрейм\n",
    "- Первоначальная обработка обобщена в таблице ниже:\n",
    "\n",
    "| Датафрейм | Необходимая обработка |\n",
    "| :-----------------|:--------------------|\n",
    "| df_calls| отформатировать даты в call_date и создать отдельный столбец с месяцами| \n",
    "| df_internet| отформатировать даты в session_date и создать отдельный столбец с месяцами| \n",
    "| df_internet| удалить столбец Unnamed: 0| \n",
    "| df_messages| отформатировать даты в message_date и создать отдельный столбец с месяцами| \n",
    "| df_tariffs| без изменений | \n",
    "| df_users| отформатировать даты в churn_date, пропуски оставляем как есть, ибо они не влияют на анализ| "
   ]
  },
  {
   "cell_type": "markdown",
   "metadata": {},
   "source": [
    "## Подготовка данных к анализу <a name=\"data2\"></a>"
   ]
  },
  {
   "cell_type": "markdown",
   "metadata": {},
   "source": [
    "#### Предобработка данных"
   ]
  },
  {
   "cell_type": "code",
   "execution_count": 7,
   "metadata": {},
   "outputs": [],
   "source": [
    "# changing dates format\n",
    "df_calls['call_date'] = pd.to_datetime(df_calls['call_date'], format='%Y-%m-%d')\n",
    "df_internet['session_date'] = pd.to_datetime(df_internet['session_date'], format='%Y-%m-%d')\n",
    "df_messages['message_date'] = pd.to_datetime(df_messages['message_date'], format='%Y-%m-%d')\n",
    "df_users['churn_date'] = pd.to_datetime(df_users['churn_date'], format='%Y-%m-%d')"
   ]
  },
  {
   "cell_type": "code",
   "execution_count": 8,
   "metadata": {},
   "outputs": [],
   "source": [
    "# replacing dates to months in df_calls, df_internet, df_messages\n",
    "df_calls['month'] = pd.DatetimeIndex(df_calls['call_date']).month\n",
    "df_internet['month'] = pd.DatetimeIndex(df_internet['session_date']).month\n",
    "df_messages['month'] = pd.DatetimeIndex(df_messages['message_date']).month"
   ]
  },
  {
   "cell_type": "code",
   "execution_count": 9,
   "metadata": {},
   "outputs": [],
   "source": [
    "# deleting column in df_internet\n",
    "df_internet.drop('Unnamed: 0', axis=1, inplace=True)"
   ]
  },
  {
   "cell_type": "markdown",
   "metadata": {},
   "source": [
    "Предварительная предобработка данных завершена, можно переходить к созданию единого датафрейма"
   ]
  },
  {
   "cell_type": "markdown",
   "metadata": {},
   "source": [
    "#### Создание единого датафрейма"
   ]
  },
  {
   "cell_type": "code",
   "execution_count": 10,
   "metadata": {},
   "outputs": [],
   "source": [
    "# rounding up calls duration upwards\n",
    "df_calls['duration_billed']= df_calls['duration'].apply(np.ceil)\n",
    "\n",
    "# grouping df_calls by user_id and month\n",
    "df_calls_grouped = df_calls.groupby(['user_id','month']).agg(\n",
    "    {'duration':'sum', 'duration_billed':'sum', 'id':'count'}\n",
    ").reset_index()\n",
    "df_calls_grouped = df_calls_grouped.rename(columns={'id': 'calls_number', 'duration':'duration_fact'})"
   ]
  },
  {
   "cell_type": "code",
   "execution_count": 11,
   "metadata": {},
   "outputs": [],
   "source": [
    "# grouping df_messages by user_id and month\n",
    "df_messages_grouped = df_messages.groupby(['user_id','month']).agg({'id':'count'}).reset_index()\n",
    "df_messages_grouped = df_messages_grouped.rename(columns={'id': 'messages_number'})"
   ]
  },
  {
   "cell_type": "code",
   "execution_count": 12,
   "metadata": {},
   "outputs": [],
   "source": [
    "# grouping df_internet by user_id and month\n",
    "df_internet_grouped = df_internet.groupby(['user_id','month']).agg({'mb_used':'sum'}).reset_index()"
   ]
  },
  {
   "cell_type": "code",
   "execution_count": 13,
   "metadata": {},
   "outputs": [
    {
     "name": "stdout",
     "output_type": "stream",
     "text": [
      "<class 'pandas.core.frame.DataFrame'>\n",
      "Int64Index: 3216 entries, 0 to 3215\n",
      "Data columns (total 21 columns):\n",
      " #   Column                 Non-Null Count  Dtype         \n",
      "---  ------                 --------------  -----         \n",
      " 0   user_id                3216 non-null   int64         \n",
      " 1   age                    3216 non-null   int64         \n",
      " 2   churn_date             189 non-null    datetime64[ns]\n",
      " 3   city                   3216 non-null   object        \n",
      " 4   first_name             3216 non-null   object        \n",
      " 5   last_name              3216 non-null   object        \n",
      " 6   reg_date               3216 non-null   object        \n",
      " 7   tariff                 3216 non-null   object        \n",
      " 8   messages_included      3216 non-null   int64         \n",
      " 9   mb_per_month_included  3216 non-null   int64         \n",
      " 10  minutes_included       3216 non-null   int64         \n",
      " 11  rub_monthly_fee        3216 non-null   int64         \n",
      " 12  rub_per_gb             3216 non-null   int64         \n",
      " 13  rub_per_message        3216 non-null   int64         \n",
      " 14  rub_per_minute         3216 non-null   int64         \n",
      " 15  month                  3214 non-null   float64       \n",
      " 16  mb_used                3203 non-null   float64       \n",
      " 17  duration_fact          3174 non-null   float64       \n",
      " 18  duration_billed        3174 non-null   float64       \n",
      " 19  calls_number           3174 non-null   float64       \n",
      " 20  messages_number        2717 non-null   float64       \n",
      "dtypes: datetime64[ns](1), float64(6), int64(9), object(5)\n",
      "memory usage: 552.8+ KB\n"
     ]
    },
    {
     "data": {
      "text/plain": [
       "user_id                     0\n",
       "age                         0\n",
       "churn_date               3027\n",
       "city                        0\n",
       "first_name                  0\n",
       "last_name                   0\n",
       "reg_date                    0\n",
       "tariff                      0\n",
       "messages_included           0\n",
       "mb_per_month_included       0\n",
       "minutes_included            0\n",
       "rub_monthly_fee             0\n",
       "rub_per_gb                  0\n",
       "rub_per_message             0\n",
       "rub_per_minute              0\n",
       "month                       2\n",
       "mb_used                    13\n",
       "duration_fact              42\n",
       "duration_billed            42\n",
       "calls_number               42\n",
       "messages_number           499\n",
       "dtype: int64"
      ]
     },
     "metadata": {},
     "output_type": "display_data"
    }
   ],
   "source": [
    "# merging tables to get unified dataframe\n",
    "# merging df_users and df_tariffs\n",
    "df_tariffs = df_tariffs.rename(columns={'tariff_name': 'tariff'})\n",
    "df_user_tariff = df_users.merge(df_tariffs, on='tariff', how='left')\n",
    "\n",
    "# merging df_user_tariff with df_calls_grouped, df_internet_grouped, df_messages_grouped\n",
    "df_user_stats = df_internet_grouped.merge(df_calls_grouped, on=['user_id', 'month'], how='outer')\n",
    "df_user_stats = df_user_stats.merge(df_messages_grouped, on=['user_id', 'month'], how='outer')\n",
    "df_full = df_user_tariff.merge(df_user_stats, on='user_id', how='outer')\n",
    "df_full.reset_index()\n",
    "df_full.info()\n",
    "display(df_full.isna().sum())"
   ]
  },
  {
   "cell_type": "markdown",
   "metadata": {},
   "source": [
    "Есть пропуски в значениях для некоторых пользователей - это означает, что пользователи не пользовались данной услугой --> заменим пропуски в столбцах mb_used, duration_fact, duration_billed, calls_number, messages_number на 0 для дальнейших подсчетов выручки. Отдельно проверим 3 строки, где отсутсвует месяц"
   ]
  },
  {
   "cell_type": "code",
   "execution_count": 14,
   "metadata": {},
   "outputs": [],
   "source": [
    "# replacing NaNs\n",
    "columns_to_replace = [\n",
    "    'mb_used',\n",
    "    'duration_fact',\n",
    "    'duration_billed',\n",
    "    'calls_number',  \n",
    "    'messages_number', \n",
    "]\n",
    "    \n",
    "for column in columns_to_replace:\n",
    "    df_full[column] = df_full[column].fillna(0)"
   ]
  },
  {
   "cell_type": "code",
   "execution_count": 15,
   "metadata": {},
   "outputs": [
    {
     "data": {
      "text/html": [
       "<div>\n",
       "<style scoped>\n",
       "    .dataframe tbody tr th:only-of-type {\n",
       "        vertical-align: middle;\n",
       "    }\n",
       "\n",
       "    .dataframe tbody tr th {\n",
       "        vertical-align: top;\n",
       "    }\n",
       "\n",
       "    .dataframe thead th {\n",
       "        text-align: right;\n",
       "    }\n",
       "</style>\n",
       "<table border=\"1\" class=\"dataframe\">\n",
       "  <thead>\n",
       "    <tr style=\"text-align: right;\">\n",
       "      <th></th>\n",
       "      <th>user_id</th>\n",
       "      <th>age</th>\n",
       "      <th>churn_date</th>\n",
       "      <th>city</th>\n",
       "      <th>first_name</th>\n",
       "      <th>last_name</th>\n",
       "      <th>reg_date</th>\n",
       "      <th>tariff</th>\n",
       "      <th>messages_included</th>\n",
       "      <th>mb_per_month_included</th>\n",
       "      <th>...</th>\n",
       "      <th>rub_monthly_fee</th>\n",
       "      <th>rub_per_gb</th>\n",
       "      <th>rub_per_message</th>\n",
       "      <th>rub_per_minute</th>\n",
       "      <th>month</th>\n",
       "      <th>mb_used</th>\n",
       "      <th>duration_fact</th>\n",
       "      <th>duration_billed</th>\n",
       "      <th>calls_number</th>\n",
       "      <th>messages_number</th>\n",
       "    </tr>\n",
       "  </thead>\n",
       "  <tbody>\n",
       "    <tr>\n",
       "      <th>827</th>\n",
       "      <td>1128</td>\n",
       "      <td>51</td>\n",
       "      <td>2018-12-23</td>\n",
       "      <td>Волжский</td>\n",
       "      <td>Ксения</td>\n",
       "      <td>Агаева</td>\n",
       "      <td>2018-12-15</td>\n",
       "      <td>ultra</td>\n",
       "      <td>1000</td>\n",
       "      <td>30720</td>\n",
       "      <td>...</td>\n",
       "      <td>1950</td>\n",
       "      <td>150</td>\n",
       "      <td>1</td>\n",
       "      <td>1</td>\n",
       "      <td>NaN</td>\n",
       "      <td>0.0</td>\n",
       "      <td>0.0</td>\n",
       "      <td>0.0</td>\n",
       "      <td>0.0</td>\n",
       "      <td>0.0</td>\n",
       "    </tr>\n",
       "    <tr>\n",
       "      <th>2335</th>\n",
       "      <td>1371</td>\n",
       "      <td>50</td>\n",
       "      <td>2018-12-30</td>\n",
       "      <td>Омск</td>\n",
       "      <td>Ириней</td>\n",
       "      <td>Трофимов</td>\n",
       "      <td>2018-12-25</td>\n",
       "      <td>smart</td>\n",
       "      <td>50</td>\n",
       "      <td>15360</td>\n",
       "      <td>...</td>\n",
       "      <td>550</td>\n",
       "      <td>200</td>\n",
       "      <td>3</td>\n",
       "      <td>3</td>\n",
       "      <td>NaN</td>\n",
       "      <td>0.0</td>\n",
       "      <td>0.0</td>\n",
       "      <td>0.0</td>\n",
       "      <td>0.0</td>\n",
       "      <td>0.0</td>\n",
       "    </tr>\n",
       "  </tbody>\n",
       "</table>\n",
       "<p>2 rows × 21 columns</p>\n",
       "</div>"
      ],
      "text/plain": [
       "      user_id  age churn_date      city first_name last_name    reg_date  \\\n",
       "827      1128   51 2018-12-23  Волжский     Ксения    Агаева  2018-12-15   \n",
       "2335     1371   50 2018-12-30      Омск     Ириней  Трофимов  2018-12-25   \n",
       "\n",
       "     tariff  messages_included  mb_per_month_included  ...  rub_monthly_fee  \\\n",
       "827   ultra               1000                  30720  ...             1950   \n",
       "2335  smart                 50                  15360  ...              550   \n",
       "\n",
       "      rub_per_gb  rub_per_message  rub_per_minute  month  mb_used  \\\n",
       "827          150                1               1    NaN      0.0   \n",
       "2335         200                3               3    NaN      0.0   \n",
       "\n",
       "      duration_fact  duration_billed  calls_number  messages_number  \n",
       "827             0.0              0.0           0.0              0.0  \n",
       "2335            0.0              0.0           0.0              0.0  \n",
       "\n",
       "[2 rows x 21 columns]"
      ]
     },
     "execution_count": 15,
     "metadata": {},
     "output_type": "execute_result"
    }
   ],
   "source": [
    "# checking rows with no month\n",
    "\n",
    "df_full_filtered = df_full[(df_full['month'].isna())]   \n",
    "df_full_filtered"
   ]
  },
  {
   "cell_type": "markdown",
   "metadata": {},
   "source": [
    "2 пользователя (user_id 1128 и 1371) прекратили пользоваться тарифом в том же месяце, что и подключили, эти 2 строки можно убрать из анализа, ибо услуги не использовались, и выручка не генерировалась."
   ]
  },
  {
   "cell_type": "code",
   "execution_count": 16,
   "metadata": {},
   "outputs": [],
   "source": [
    "# droping 2 rows\n",
    "df_full = df_full.dropna(subset=['month'])"
   ]
  },
  {
   "cell_type": "markdown",
   "metadata": {},
   "source": [
    "Получена таблица с помесячной статистикой на каждого клиента, которая позволит высчитать выручку на клиента"
   ]
  },
  {
   "cell_type": "markdown",
   "metadata": {},
   "source": [
    "#### Расчет выручки"
   ]
  },
  {
   "cell_type": "code",
   "execution_count": 17,
   "metadata": {},
   "outputs": [],
   "source": [
    "# calcultaing 'extra' columns\n",
    "df_full['extra_calls'] = df_full['duration_billed'] - df_full['minutes_included']\n",
    "df_full['extra_calls'] = [0 if i < 0 else i for i in df_full['extra_calls']]\n",
    "\n",
    "df_full['extra_messages'] = df_full['messages_number'] - df_full['messages_included']\n",
    "df_full['extra_messages'] = [0 if i < 0 else i for i in df_full['extra_messages']]\n",
    "\n",
    "df_full['extra_traffic'] = df_full['mb_used'] - df_full['mb_per_month_included']\n",
    "df_full['extra_traffic'] = [0 if i < 0 else i for i in df_full['extra_traffic']]\n",
    "\n",
    "# calculating revenue\n",
    "df_full['revenue'] = (df_full['rub_monthly_fee'] \n",
    "                      + df_full['extra_calls'] * df_full['rub_per_minute'] \n",
    "                      + df_full['extra_messages'] * df_full['rub_per_message'] \n",
    "                      + np.ceil(df_full['extra_traffic']/1024) * df_full['rub_per_gb'])"
   ]
  },
  {
   "cell_type": "markdown",
   "metadata": {},
   "source": [
    "#### Подготовка финальной таблицы для анализа\n",
    "Для дальнейшего анализа данных нам больше не нужны вспомогательные столбцы, которые были использованы для расчета выручки, а также не нужны описательные столбцы по содержимому тарифов и именам клиентов"
   ]
  },
  {
   "cell_type": "code",
   "execution_count": 18,
   "metadata": {},
   "outputs": [],
   "source": [
    "# droping columns\n",
    "columns_to_delete = [\n",
    "    'first_name',\n",
    "    'last_name',\n",
    "    'messages_included',\n",
    "    'mb_per_month_included',\n",
    "    'minutes_included',\n",
    "    'rub_monthly_fee',\n",
    "    'rub_per_gb',\n",
    "    'rub_per_message',\n",
    "    'rub_per_minute',\n",
    "    'duration_billed',\n",
    "    'extra_calls',\n",
    "    'extra_messages',\n",
    "    'extra_traffic'\n",
    " ]\n",
    "\n",
    "for column in columns_to_delete:\n",
    "    df_full.drop(column, axis=1, inplace=True)"
   ]
  },
  {
   "cell_type": "code",
   "execution_count": 19,
   "metadata": {},
   "outputs": [
    {
     "data": {
      "text/html": [
       "<div>\n",
       "<style scoped>\n",
       "    .dataframe tbody tr th:only-of-type {\n",
       "        vertical-align: middle;\n",
       "    }\n",
       "\n",
       "    .dataframe tbody tr th {\n",
       "        vertical-align: top;\n",
       "    }\n",
       "\n",
       "    .dataframe thead th {\n",
       "        text-align: right;\n",
       "    }\n",
       "</style>\n",
       "<table border=\"1\" class=\"dataframe\">\n",
       "  <thead>\n",
       "    <tr style=\"text-align: right;\">\n",
       "      <th></th>\n",
       "      <th>user_id</th>\n",
       "    </tr>\n",
       "    <tr>\n",
       "      <th>tariff</th>\n",
       "      <th></th>\n",
       "    </tr>\n",
       "  </thead>\n",
       "  <tbody>\n",
       "    <tr>\n",
       "      <th>smart</th>\n",
       "      <td>2229</td>\n",
       "    </tr>\n",
       "    <tr>\n",
       "      <th>ultra</th>\n",
       "      <td>985</td>\n",
       "    </tr>\n",
       "  </tbody>\n",
       "</table>\n",
       "</div>"
      ],
      "text/plain": [
       "        user_id\n",
       "tariff         \n",
       "smart      2229\n",
       "ultra       985"
      ]
     },
     "metadata": {},
     "output_type": "display_data"
    }
   ],
   "source": [
    "display(df_full.pivot_table(index='tariff', values='user_id', aggfunc='count'))"
   ]
  },
  {
   "cell_type": "markdown",
   "metadata": {},
   "source": [
    "#### Вывод "
   ]
  },
  {
   "cell_type": "markdown",
   "metadata": {},
   "source": [
    "- Таблица готова для анализа, содержит 985 строк по тарифу ultra и 2229 строк по тарифу smart"
   ]
  },
  {
   "cell_type": "markdown",
   "metadata": {},
   "source": [
    "## Анализ данных <a name=\"analysis\"></a>"
   ]
  },
  {
   "cell_type": "markdown",
   "metadata": {},
   "source": [
    "Разобьем данные на 2 выборки по тарифу и проанализируем по отдельности"
   ]
  },
  {
   "cell_type": "code",
   "execution_count": 20,
   "metadata": {},
   "outputs": [
    {
     "data": {
      "text/html": [
       "<div>\n",
       "<style scoped>\n",
       "    .dataframe tbody tr th:only-of-type {\n",
       "        vertical-align: middle;\n",
       "    }\n",
       "\n",
       "    .dataframe tbody tr th {\n",
       "        vertical-align: top;\n",
       "    }\n",
       "\n",
       "    .dataframe thead th {\n",
       "        text-align: right;\n",
       "    }\n",
       "</style>\n",
       "<table border=\"1\" class=\"dataframe\">\n",
       "  <thead>\n",
       "    <tr style=\"text-align: right;\">\n",
       "      <th></th>\n",
       "      <th>duration_fact</th>\n",
       "      <th>messages_number</th>\n",
       "      <th>mb_used</th>\n",
       "      <th>revenue</th>\n",
       "    </tr>\n",
       "  </thead>\n",
       "  <tbody>\n",
       "    <tr>\n",
       "      <th>count</th>\n",
       "      <td>985.000000</td>\n",
       "      <td>985.000000</td>\n",
       "      <td>985.000000</td>\n",
       "      <td>985.000000</td>\n",
       "    </tr>\n",
       "    <tr>\n",
       "      <th>mean</th>\n",
       "      <td>497.068223</td>\n",
       "      <td>49.363452</td>\n",
       "      <td>19468.805208</td>\n",
       "      <td>2070.152284</td>\n",
       "    </tr>\n",
       "    <tr>\n",
       "      <th>std</th>\n",
       "      <td>299.904152</td>\n",
       "      <td>47.804457</td>\n",
       "      <td>10087.170752</td>\n",
       "      <td>376.187114</td>\n",
       "    </tr>\n",
       "    <tr>\n",
       "      <th>min</th>\n",
       "      <td>0.000000</td>\n",
       "      <td>0.000000</td>\n",
       "      <td>0.000000</td>\n",
       "      <td>1950.000000</td>\n",
       "    </tr>\n",
       "    <tr>\n",
       "      <th>25%</th>\n",
       "      <td>267.750000</td>\n",
       "      <td>6.000000</td>\n",
       "      <td>11770.260000</td>\n",
       "      <td>1950.000000</td>\n",
       "    </tr>\n",
       "    <tr>\n",
       "      <th>50%</th>\n",
       "      <td>488.100000</td>\n",
       "      <td>38.000000</td>\n",
       "      <td>19308.010000</td>\n",
       "      <td>1950.000000</td>\n",
       "    </tr>\n",
       "    <tr>\n",
       "      <th>75%</th>\n",
       "      <td>711.470000</td>\n",
       "      <td>79.000000</td>\n",
       "      <td>26837.690000</td>\n",
       "      <td>1950.000000</td>\n",
       "    </tr>\n",
       "    <tr>\n",
       "      <th>max</th>\n",
       "      <td>1578.060000</td>\n",
       "      <td>224.000000</td>\n",
       "      <td>49745.690000</td>\n",
       "      <td>4800.000000</td>\n",
       "    </tr>\n",
       "  </tbody>\n",
       "</table>\n",
       "</div>"
      ],
      "text/plain": [
       "       duration_fact  messages_number       mb_used      revenue\n",
       "count     985.000000       985.000000    985.000000   985.000000\n",
       "mean      497.068223        49.363452  19468.805208  2070.152284\n",
       "std       299.904152        47.804457  10087.170752   376.187114\n",
       "min         0.000000         0.000000      0.000000  1950.000000\n",
       "25%       267.750000         6.000000  11770.260000  1950.000000\n",
       "50%       488.100000        38.000000  19308.010000  1950.000000\n",
       "75%       711.470000        79.000000  26837.690000  1950.000000\n",
       "max      1578.060000       224.000000  49745.690000  4800.000000"
      ]
     },
     "metadata": {},
     "output_type": "display_data"
    },
    {
     "data": {
      "text/html": [
       "<div>\n",
       "<style scoped>\n",
       "    .dataframe tbody tr th:only-of-type {\n",
       "        vertical-align: middle;\n",
       "    }\n",
       "\n",
       "    .dataframe tbody tr th {\n",
       "        vertical-align: top;\n",
       "    }\n",
       "\n",
       "    .dataframe thead th {\n",
       "        text-align: right;\n",
       "    }\n",
       "</style>\n",
       "<table border=\"1\" class=\"dataframe\">\n",
       "  <thead>\n",
       "    <tr style=\"text-align: right;\">\n",
       "      <th></th>\n",
       "      <th>duration_fact</th>\n",
       "      <th>messages_number</th>\n",
       "      <th>mb_used</th>\n",
       "      <th>revenue</th>\n",
       "    </tr>\n",
       "  </thead>\n",
       "  <tbody>\n",
       "    <tr>\n",
       "      <th>count</th>\n",
       "      <td>2229.000000</td>\n",
       "      <td>2229.000000</td>\n",
       "      <td>2229.000000</td>\n",
       "      <td>2229.000000</td>\n",
       "    </tr>\n",
       "    <tr>\n",
       "      <th>mean</th>\n",
       "      <td>394.427026</td>\n",
       "      <td>33.384029</td>\n",
       "      <td>16208.386990</td>\n",
       "      <td>1289.973531</td>\n",
       "    </tr>\n",
       "    <tr>\n",
       "      <th>std</th>\n",
       "      <td>179.962207</td>\n",
       "      <td>28.227876</td>\n",
       "      <td>5870.476681</td>\n",
       "      <td>818.404367</td>\n",
       "    </tr>\n",
       "    <tr>\n",
       "      <th>min</th>\n",
       "      <td>0.000000</td>\n",
       "      <td>0.000000</td>\n",
       "      <td>0.000000</td>\n",
       "      <td>550.000000</td>\n",
       "    </tr>\n",
       "    <tr>\n",
       "      <th>25%</th>\n",
       "      <td>267.230000</td>\n",
       "      <td>10.000000</td>\n",
       "      <td>12643.010000</td>\n",
       "      <td>550.000000</td>\n",
       "    </tr>\n",
       "    <tr>\n",
       "      <th>50%</th>\n",
       "      <td>397.980000</td>\n",
       "      <td>28.000000</td>\n",
       "      <td>16506.840000</td>\n",
       "      <td>1023.000000</td>\n",
       "    </tr>\n",
       "    <tr>\n",
       "      <th>75%</th>\n",
       "      <td>515.070000</td>\n",
       "      <td>51.000000</td>\n",
       "      <td>20042.930000</td>\n",
       "      <td>1750.000000</td>\n",
       "    </tr>\n",
       "    <tr>\n",
       "      <th>max</th>\n",
       "      <td>1354.220000</td>\n",
       "      <td>143.000000</td>\n",
       "      <td>38552.450000</td>\n",
       "      <td>6770.000000</td>\n",
       "    </tr>\n",
       "  </tbody>\n",
       "</table>\n",
       "</div>"
      ],
      "text/plain": [
       "       duration_fact  messages_number       mb_used      revenue\n",
       "count    2229.000000      2229.000000   2229.000000  2229.000000\n",
       "mean      394.427026        33.384029  16208.386990  1289.973531\n",
       "std       179.962207        28.227876   5870.476681   818.404367\n",
       "min         0.000000         0.000000      0.000000   550.000000\n",
       "25%       267.230000        10.000000  12643.010000   550.000000\n",
       "50%       397.980000        28.000000  16506.840000  1023.000000\n",
       "75%       515.070000        51.000000  20042.930000  1750.000000\n",
       "max      1354.220000       143.000000  38552.450000  6770.000000"
      ]
     },
     "execution_count": 20,
     "metadata": {},
     "output_type": "execute_result"
    }
   ],
   "source": [
    "# creating subsets\n",
    "columns_list = ['duration_fact', 'messages_number', 'mb_used', 'revenue']\n",
    "\n",
    "df_full_ultra = df_full.query('tariff == \"ultra\"')\n",
    "df_full_smart = df_full.query('tariff == \"smart\"')\n",
    "\n",
    "display(df_full_ultra[columns_list].describe())\n",
    "df_full_smart[columns_list].describe()"
   ]
  },
  {
   "cell_type": "code",
   "execution_count": 21,
   "metadata": {},
   "outputs": [
    {
     "name": "stdout",
     "output_type": "stream",
     "text": [
      "Среднее количество минут разговора тарифа ultra 497.07\n",
      "Среднее количество минут разговора тарифа smart 394.43\n",
      "\n",
      "Дисперсия минут разговора тарифа ultra 89942.5\n",
      "Дисперсия минут разговора тарифа smart 32386.4\n",
      "\n",
      "Стандартное отклонение минут разговора тарифа ultra 299.9\n",
      "Стандартное отклонение минут разговора тарифа smart 179.96\n",
      "---------\n",
      "\n",
      "Среднее количество сообщений тарифа ultra 49.36\n",
      "Среднее количество сообщений тарифа smart 33.38\n",
      "\n",
      "Дисперсия сообщений тарифа ultra 2285.27\n",
      "Дисперсия сообщений тарифа smart 796.81\n",
      "\n",
      "Стандартное отклонение сообщений тарифа ultra 47.8\n",
      "Стандартное отклонение сообщений тарифа smart 28.23\n",
      "---------\n",
      "\n",
      "Средний интернет трафик тарифа ultra 19468.81\n",
      "Средний интернет трафик тарифа smart 16208.39\n",
      "\n",
      "Дисперсия интернет трафика тарифа ultra 101751013.78\n",
      "Дисперсия интернет трафика тарифа smart 34462496.46\n",
      "\n",
      "Стандартное отклонение интернет трафика тарифа ultra 10087.17\n",
      "Стандартное отклонение интернет трафика тарифа smart 5870.48\n",
      "---------\n",
      "\n",
      "Средняя выручка тарифа ultra 2070.15\n",
      "Средняя выручка тарифа smart 1289.97\n",
      "\n",
      "Дисперсия выручки тарифа ultra 141516.75\n",
      "Дисперсия выручки тарифа smart 669785.71\n",
      "\n",
      "Стандартное отклонение выручки тарифа ultra 376.19\n",
      "Стандартное отклонение выручки тарифа smart 818.4\n"
     ]
    }
   ],
   "source": [
    "# calculating mean, var and std for duration_fact, messages_number, mb_used and revenue\n",
    "print('Среднее количество минут разговора тарифа ultra', round(df_full_ultra['duration_fact'].mean(),2))\n",
    "print('Среднее количество минут разговора тарифа smart', round(df_full_smart['duration_fact'].mean(),2))\n",
    "print()\n",
    "print('Дисперсия минут разговора тарифа ultra', round(np.var(df_full_ultra['duration_fact'], ddof=1),2))\n",
    "print('Дисперсия минут разговора тарифа smart', round(np.var(df_full_smart['duration_fact'], ddof=1),2))\n",
    "print()\n",
    "print('Стандартное отклонение минут разговора тарифа ultra', round(np.std(df_full_ultra['duration_fact'], ddof=1),2))\n",
    "print('Стандартное отклонение минут разговора тарифа smart', round(np.std(df_full_smart['duration_fact'], ddof=1),2))\n",
    "print('---------')\n",
    "print()\n",
    "\n",
    "print('Среднее количество сообщений тарифа ultra', round(df_full_ultra['messages_number'].mean(),2))\n",
    "print('Среднее количество сообщений тарифа smart', round(df_full_smart['messages_number'].mean(),2))\n",
    "print()\n",
    "print('Дисперсия сообщений тарифа ultra', round(np.var(df_full_ultra['messages_number'], ddof=1),2))\n",
    "print('Дисперсия сообщений тарифа smart', round(np.var(df_full_smart['messages_number'], ddof=1),2))\n",
    "print()\n",
    "print('Стандартное отклонение сообщений тарифа ultra', round(np.std(df_full_ultra['messages_number'], ddof=1),2))\n",
    "print('Стандартное отклонение сообщений тарифа smart', round(np.std(df_full_smart['messages_number'], ddof=1),2))\n",
    "print('---------')\n",
    "print()\n",
    "\n",
    "print('Средний интернет трафик тарифа ultra', round(df_full_ultra['mb_used'].mean(),2))\n",
    "print('Средний интернет трафик тарифа smart', round(df_full_smart['mb_used'].mean(),2))\n",
    "print()\n",
    "print('Дисперсия интернет трафика тарифа ultra', round(np.var(df_full_ultra['mb_used'], ddof=1),2))\n",
    "print('Дисперсия интернет трафика тарифа smart', round(np.var(df_full_smart['mb_used'], ddof=1),2))\n",
    "print()\n",
    "print('Стандартное отклонение интернет трафика тарифа ultra', round(np.std(df_full_ultra['mb_used'], ddof=1),2))\n",
    "print('Стандартное отклонение интернет трафика тарифа smart', round(np.std(df_full_smart['mb_used'], ddof=1),2))\n",
    "print('---------')\n",
    "print()\n",
    "\n",
    "print('Средняя выручка тарифа ultra', round(df_full_ultra['revenue'].mean(),2))\n",
    "print('Средняя выручка тарифа smart', round(df_full_smart['revenue'].mean(),2))\n",
    "print()\n",
    "print('Дисперсия выручки тарифа ultra', round(np.var(df_full_ultra['revenue'], ddof=1),2))\n",
    "print('Дисперсия выручки тарифа smart', round(np.var(df_full_smart['revenue'], ddof=1),2))\n",
    "print()\n",
    "print('Стандартное отклонение выручки тарифа ultra', round(np.std(df_full_ultra['revenue'], ddof=1),2))\n",
    "print('Стандартное отклонение выручки тарифа smart', round(np.std(df_full_smart['revenue'], ddof=1),2))"
   ]
  },
  {
   "cell_type": "code",
   "execution_count": 22,
   "metadata": {
    "scrolled": false
   },
   "outputs": [
    {
     "data": {
      "text/plain": [
       "<AxesSubplot:title={'center':'Распределение выручки по тарифам'}, ylabel='Frequency'>"
      ]
     },
     "execution_count": 22,
     "metadata": {},
     "output_type": "execute_result"
    },
    {
     "data": {
      "image/png": "[encoded data removed]",
      "text/plain": [
       "<Figure size 432x288 with 1 Axes>"
      ]
     },
     "metadata": {
      "needs_background": "light"
     },
     "output_type": "display_data"
    },
    {
     "data": {
      "image/png": "[encoded data removed]",
      "text/plain": [
       "<Figure size 432x288 with 1 Axes>"
      ]
     },
     "metadata": {
      "needs_background": "light"
     },
     "output_type": "display_data"
    },
    {
     "data": {
      "image/png": "[encoded data removed]",
      "text/plain": [
       "<Figure size 432x288 with 1 Axes>"
      ]
     },
     "metadata": {
      "needs_background": "light"
     },
     "output_type": "display_data"
    },
    {
     "data": {
      "image/png": "[encoded data removed]",
      "text/plain": [
       "<Figure size 432x288 with 1 Axes>"
      ]
     },
     "metadata": {
      "needs_background": "light"
     },
     "output_type": "display_data"
    }
   ],
   "source": [
    "# histograms \n",
    "\n",
    "ax = df_full_smart.plot(\n",
    "    kind='hist',\n",
    "    y='duration_fact',\n",
    "    bins=40,\n",
    "    label='smart'\n",
    ")\n",
    "\n",
    "df_full_ultra.plot(\n",
    "    kind='hist',\n",
    "    y='duration_fact',\n",
    "    bins=40,\n",
    "    label='ultra',\n",
    "    ax=ax,\n",
    "    legend=True,\n",
    "    title=\"Распределение продолжительности звонков по тарифам\"\n",
    ")\n",
    "\n",
    "ax2 = df_full_smart.plot(\n",
    "    kind='hist',\n",
    "    y='messages_number',\n",
    "    bins=25,\n",
    "    label='smart'\n",
    ")\n",
    "\n",
    "df_full_ultra.plot(\n",
    "    kind='hist',\n",
    "    y='messages_number',\n",
    "    bins=25,\n",
    "    label='ultra',\n",
    "    ax=ax2,\n",
    "    legend=True,\n",
    "    title=\"Распределение количества сообщений по тарифам\"\n",
    ")\n",
    "\n",
    "ax3 = df_full_smart.plot(\n",
    "    kind='hist',\n",
    "    y='mb_used',\n",
    "    bins=30,\n",
    "    label='smart'\n",
    ")\n",
    "\n",
    "df_full_ultra.plot(\n",
    "    kind='hist',\n",
    "    y='mb_used',\n",
    "    bins=30,\n",
    "    label='ultra',\n",
    "    ax=ax3,\n",
    "    legend=True,\n",
    "    title=\"Распределение интернет трафика по тарифам\"\n",
    ")\n",
    "\n",
    "ax4 = df_full_smart.plot(\n",
    "    kind='hist',\n",
    "    y='revenue',\n",
    "    bins=30,\n",
    "    label='smart'\n",
    ")\n",
    "\n",
    "df_full_ultra.plot(\n",
    "    kind='hist',\n",
    "    y='revenue',\n",
    "    bins=30,\n",
    "    label='ultra',\n",
    "    ax=ax4,\n",
    "    legend=True,\n",
    "    title=\"Распределение выручки по тарифам\"\n",
    ")"
   ]
  },
  {
   "cell_type": "code",
   "execution_count": 23,
   "metadata": {},
   "outputs": [
    {
     "name": "stdout",
     "output_type": "stream",
     "text": [
      "Диаграммы размаха для тарифа smart\n"
     ]
    },
    {
     "data": {
      "image/png": "[encoded data removed]",
      "text/plain": [
       "<Figure size 432x288 with 1 Axes>"
      ]
     },
     "metadata": {
      "needs_background": "light"
     },
     "output_type": "display_data"
    },
    {
     "data": {
      "image/png": "[encoded data removed]",
      "text/plain": [
       "<Figure size 432x288 with 1 Axes>"
      ]
     },
     "metadata": {
      "needs_background": "light"
     },
     "output_type": "display_data"
    },
    {
     "data": {
      "image/png": "[encoded data removed]",
      "text/plain": [
       "<Figure size 432x288 with 1 Axes>"
      ]
     },
     "metadata": {
      "needs_background": "light"
     },
     "output_type": "display_data"
    },
    {
     "data": {
      "image/png": "[encoded data removed]",
      "text/plain": [
       "<Figure size 432x288 with 1 Axes>"
      ]
     },
     "metadata": {
      "needs_background": "light"
     },
     "output_type": "display_data"
    },
    {
     "name": "stdout",
     "output_type": "stream",
     "text": [
      "Диаграммы размаха для тарифа ultra\n"
     ]
    },
    {
     "data": {
      "image/png": "[encoded data removed]",
      "text/plain": [
       "<Figure size 432x288 with 1 Axes>"
      ]
     },
     "metadata": {
      "needs_background": "light"
     },
     "output_type": "display_data"
    },
    {
     "data": {
      "image/png": "[encoded data removed]",
      "text/plain": [
       "<Figure size 432x288 with 1 Axes>"
      ]
     },
     "metadata": {
      "needs_background": "light"
     },
     "output_type": "display_data"
    },
    {
     "data": {
      "image/png": "[encoded data removed]",
      "text/plain": [
       "<Figure size 432x288 with 1 Axes>"
      ]
     },
     "metadata": {
      "needs_background": "light"
     },
     "output_type": "display_data"
    },
    {
     "data": {
      "image/png": "[encoded data removed]",
      "text/plain": [
       "<Figure size 432x288 with 1 Axes>"
      ]
     },
     "metadata": {
      "needs_background": "light"
     },
     "output_type": "display_data"
    }
   ],
   "source": [
    "# boxplots\n",
    "print('Диаграммы размаха для тарифа smart')\n",
    "for column in columns_list:\n",
    "    df_full_smart.boxplot(column, vert=False)\n",
    "    plt.show() \n",
    "    \n",
    "print('Диаграммы размаха для тарифа ultra')\n",
    "for column in columns_list:\n",
    "    df_full_ultra.boxplot(column, vert=False)\n",
    "    plt.show()\n",
    "\n",
    "   "
   ]
  },
  {
   "cell_type": "markdown",
   "metadata": {},
   "source": [
    "#### Вывод\n",
    "- Клиенты тарифа ultra потребляют больше минут, сообщений и интернета, если сравнивать по средней \n",
    "- Ввиду более высокой абонентской платы, средняя выручка в месяц с клиента по тарифу ultra выше\n",
    "- Интересно то, что значительно большая часть клиентов тарифа ultra умещается в услугах, предоставленных планом - 75% данных по выручке соответствуют значению месячной абонентской платы (1950 рублей). Медианное значение выручки для клиентов тарифа smart почти в два раза превышает абонентскую плату (1023 рублей vs 550 рублей). \n",
    "- Распределение продолжительности звонков для тарифа smart похоже на нормальное распределение\n",
    "- Распределение продолжительности звонков для тарифа ultra немного скошено вправо\n",
    "- Распределение количества сообщений для обоих тарифов скошено вправо\n",
    "- Распределение интернет трафика для обоих тарифов похоже на нормальное распределение\n",
    "- Распределение выручки для обоих тарифов очень сильно скошено вправо"
   ]
  },
  {
   "cell_type": "markdown",
   "metadata": {},
   "source": [
    "## Проверка гипотез <a name=\"hypotheses\"></a>"
   ]
  },
  {
   "cell_type": "markdown",
   "metadata": {},
   "source": [
    "#### Гипотеза 1: средняя выручка тарифов ultra и smart различаются:\n",
    " - H0 = средняя выручка тарифа ultra равна средней выручке тарифа smart\n",
    " - H1 = средние выручки не равны\n",
    "\n",
    "Выборки из одной и той же генеральной совокупности, поэтому оценивать дисперсию будем по объединенному датасету\n",
    "\n",
    "Проверяем гипотезу о равенстве, поэтому будем делать двусторонний тест"
   ]
  },
  {
   "cell_type": "code",
   "execution_count": 24,
   "metadata": {},
   "outputs": [
    {
     "name": "stdout",
     "output_type": "stream",
     "text": [
      "p-value: 1.4229814360764067e-160\n",
      "Отвергаем нулевую гипотезу\n"
     ]
    }
   ],
   "source": [
    "# checking hypothesis 1\n",
    "\n",
    "array_ultra = df_full_ultra['revenue']\n",
    "array_smart = df_full_smart['revenue']\n",
    "\n",
    "alpha = 0.05\n",
    "\n",
    "results = st.ttest_ind(array_ultra, array_smart, equal_var = True) \n",
    "\n",
    "print('p-value:', results.pvalue)\n",
    "\n",
    "if results.pvalue < alpha:\n",
    "    print(\"Отвергаем нулевую гипотезу\")\n",
    "else:\n",
    "    print(\"Не получилось отвергнуть нулевую гипотезу\")"
   ]
  },
  {
   "cell_type": "markdown",
   "metadata": {},
   "source": [
    "В результате теста мы отвергаем нулевую гипотезу, то есть средние выручки отличаются. Действительно, выше мы получили следующие средние значения выручки:\n",
    "- smart - 1290 рублей\n",
    "- ultra - 2070 рубль"
   ]
  },
  {
   "cell_type": "markdown",
   "metadata": {},
   "source": [
    "#### Гипотеза 2: средняя выручка в Москве отличается от выручки в регионах:\n",
    " - H0 = средняя выручка в Москве равна средней выручке в регионах\n",
    " - H1 = средние выручки не равны\n",
    "\n",
    "Аналогично предыдущей гипотезе, выборки из одной и той же генеральной совокупности, поэтому оценивать дисперсию будем по объединенному датасету, и будем делать двусторонний тест"
   ]
  },
  {
   "cell_type": "code",
   "execution_count": 25,
   "metadata": {},
   "outputs": [
    {
     "name": "stdout",
     "output_type": "stream",
     "text": [
      "p-value: 0.5440152911670224\n",
      "Не получилось отвергнуть нулевую гипотезу\n",
      "\n",
      "Средняя выручка в Москве 1546.71\n",
      "Средняя выручка в регионах 1524.94\n"
     ]
    }
   ],
   "source": [
    "# checking hypothesis 2\n",
    "\n",
    "df_full_moscow = df_full.query('city == \"Москва\"')\n",
    "df_full_regions = df_full.query('city != \"Москва\"')\n",
    "\n",
    "array_moscow = df_full_moscow['revenue']\n",
    "array_regions = df_full_regions['revenue']\n",
    "\n",
    "alpha2 = 0.05\n",
    "\n",
    "results2 = st.ttest_ind(array_moscow, array_regions, equal_var = True) \n",
    "\n",
    "print('p-value:', results2.pvalue)\n",
    "\n",
    "if results2.pvalue < alpha2:\n",
    "    print(\"Отвергаем нулевую гипотезу\")\n",
    "else:\n",
    "    print(\"Не получилось отвергнуть нулевую гипотезу\")\n",
    "\n",
    "print()    \n",
    "print('Средняя выручка в Москве', round(df_full_moscow['revenue'].mean(),2))\n",
    "print('Средняя выручка в регионах', round(df_full_regions['revenue'].mean(),2))"
   ]
  },
  {
   "cell_type": "markdown",
   "metadata": {},
   "source": [
    "В результате теста мы не отвергаем нулевую гипотезу, значения средних также говорят в пользу возможного равенства средних выручек в Москве и регионах"
   ]
  },
  {
   "cell_type": "markdown",
   "metadata": {},
   "source": [
    "#### Гипотеза 3: средняя выручка тарифа ultra выше средней выручки тарифа smart\n",
    "Принимая во внимание задачу исследования (какой тариф приносит больше выручки), проверим еще одну гипотезу\n",
    "\n",
    " - H0 = средняя выручка тарифа ultra равна средней выручке тарифа smart\n",
    " - H1 = средняя выручка тарифа ultra больше средней выручки тарифа smart\n",
    "\n",
    "Аналогично предыдущим гипотезам, выборки из одной и той же генеральной совокупности, поэтому оценивать дисперсию будем по объединенному датасету, но в этот раз будем делать односторонний тест"
   ]
  },
  {
   "cell_type": "code",
   "execution_count": 26,
   "metadata": {},
   "outputs": [
    {
     "name": "stdout",
     "output_type": "stream",
     "text": [
      "p-value: 7.114907180382033e-161\n",
      "Отвергаем нулевую гипотезу\n"
     ]
    }
   ],
   "source": [
    "results3 = st.ttest_ind(array_ultra, array_smart, equal_var = True) \n",
    "\n",
    "print('p-value:', results3.pvalue/2)\n",
    "\n",
    "if results3.pvalue/2 < alpha:\n",
    "    print(\"Отвергаем нулевую гипотезу\")\n",
    "else:\n",
    "    print(\"Не получилось отвергнуть нулевую гипотезу\")"
   ]
  },
  {
   "cell_type": "markdown",
   "metadata": {},
   "source": [
    "В результате теста мы отвергаем нулевую гипотезу, еще раз подтверждая что средние выручки не равны, при этом в этот раз альтернативная гипотеза гласила, что средняя выручка тарифа ultra больше средней выручки тарифа smart. Мы можем сказать, что это вполне возможно\n",
    "\n"
   ]
  },
  {
   "cell_type": "markdown",
   "metadata": {},
   "source": [
    "## Общий вывод <a name=\"results\"></a>"
   ]
  },
  {
   "cell_type": "markdown",
   "metadata": {},
   "source": [
    "- Ввиду более высокой абонентской платы, средняя выручка в месяц с клиента по тарифу ultra выше. Статистический анализ этого не отвергает, можно сказать, что с точки зрения генерирующейся выручки тариф ultra для компании лучше тарифа smart\n",
    "- Клиенты тарифа ultra потребляют больше минут, сообщений и интернета, если сравнивать по средней \n",
    "- Интересно то, что значительно большая часть клиентов тарифа ultra умещается в услугах, предоставленных планом - при этом половина пользователей тарифа smart переплачивает почти в 2 раза больше, чем месячная плата, что говорит о том, что им не хватает предложенного плана"
   ]
  }
 ],
 "metadata": {
  "ExecuteTimeLog": [
   {
    "duration": 56,
    "start_time": "2021-11-16T12:32:14.833Z"
   },
   {
    "duration": 1434,
    "start_time": "2021-12-05T06:00:30.714Z"
   },
   {
    "duration": 260,
    "start_time": "2021-12-05T06:00:33.493Z"
   },
   {
    "duration": 215,
    "start_time": "2021-12-05T06:00:33.756Z"
   },
   {
    "duration": 153,
    "start_time": "2021-12-05T06:00:33.974Z"
   },
   {
    "duration": 35,
    "start_time": "2021-12-05T06:00:34.520Z"
   },
   {
    "duration": 46,
    "start_time": "2021-12-05T06:00:35.120Z"
   },
   {
    "duration": 170,
    "start_time": "2021-12-05T06:00:37.850Z"
   },
   {
    "duration": 18,
    "start_time": "2021-12-05T06:00:52.274Z"
   },
   {
    "duration": 35,
    "start_time": "2021-12-05T06:01:21.809Z"
   },
   {
    "duration": 48,
    "start_time": "2021-12-05T06:05:09.875Z"
   },
   {
    "duration": 18,
    "start_time": "2021-12-05T06:05:16.691Z"
   },
   {
    "duration": 25,
    "start_time": "2021-12-05T06:08:43.989Z"
   },
   {
    "duration": 23,
    "start_time": "2021-12-05T06:08:44.232Z"
   },
   {
    "duration": 44,
    "start_time": "2021-12-05T06:08:44.461Z"
   },
   {
    "duration": 8,
    "start_time": "2021-12-05T06:08:45.716Z"
   },
   {
    "duration": 30,
    "start_time": "2021-12-05T06:08:46.036Z"
   },
   {
    "duration": 8,
    "start_time": "2021-12-05T06:08:48.540Z"
   },
   {
    "duration": 24,
    "start_time": "2021-12-05T06:08:49.892Z"
   },
   {
    "duration": 41,
    "start_time": "2021-12-05T06:08:58.404Z"
   },
   {
    "duration": 23,
    "start_time": "2021-12-05T06:09:36.894Z"
   },
   {
    "duration": 17,
    "start_time": "2021-12-05T06:09:39.303Z"
   },
   {
    "duration": 69,
    "start_time": "2021-12-05T06:09:45.457Z"
   },
   {
    "duration": 41,
    "start_time": "2021-12-05T06:09:46.390Z"
   },
   {
    "duration": 2303,
    "start_time": "2021-12-05T06:09:48.037Z"
   },
   {
    "duration": 1869,
    "start_time": "2021-12-05T06:09:50.343Z"
   },
   {
    "duration": 124,
    "start_time": "2021-12-05T06:11:21.418Z"
   },
   {
    "duration": 232,
    "start_time": "2021-12-05T09:40:56.525Z"
   }
  ],
  "kernelspec": {
   "display_name": "Python 3",
   "language": "python",
   "name": "python3"
  },
  "language_info": {
   "codemirror_mode": {
    "name": "ipython",
    "version": 3
   },
   "file_extension": ".py",
   "mimetype": "text/x-python",
   "name": "python",
   "nbconvert_exporter": "python",
   "pygments_lexer": "ipython3",
   "version": "3.8.8"
  },
  "toc": {
   "base_numbering": 1,
   "nav_menu": {},
   "number_sections": true,
   "sideBar": true,
   "skip_h1_title": true,
   "title_cell": "Содержание",
   "title_sidebar": "Contents",
   "toc_cell": true,
   "toc_position": {},
   "toc_section_display": true,
   "toc_window_display": true
  }
 },
 "nbformat": 4,
 "nbformat_minor": 2
}
